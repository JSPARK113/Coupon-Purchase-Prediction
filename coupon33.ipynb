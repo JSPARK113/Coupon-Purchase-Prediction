{
 "cells": [
  {
   "cell_type": "code",
   "execution_count": 1,
   "metadata": {},
   "outputs": [],
   "source": [
    "import numpy as np\n",
    "import scipy as sp\n",
    "import pandas as pd\n",
    "import statsmodels.api as sm\n",
    "import statsmodels.formula.api as smf\n",
    "import statsmodels.stats.api as sms\n",
    "import sklearn as sk\n",
    "import datetime as dt\n",
    "\n",
    "import warnings\n",
    "\n",
    "warnings.filterwarnings('ignore')"
   ]
  },
  {
   "cell_type": "code",
   "execution_count": 2,
   "metadata": {},
   "outputs": [],
   "source": [
    "from sklearn.tree import DecisionTreeClassifier\n",
    "from sklearn.metrics import confusion_matrix\n",
    "from sklearn.metrics import classification_report\n",
    "from sklearn.ensemble import RandomForestClassifier, ExtraTreesClassifier\n",
    "from sklearn.tree import DecisionTreeClassifier\n",
    "import xgboost"
   ]
  },
  {
   "cell_type": "code",
   "execution_count": 3,
   "metadata": {},
   "outputs": [],
   "source": [
    "# 테이블 현황 파악을 위한 함수 \n",
    "def summary_table(table):\n",
    "    df = pd.DataFrame()\n",
    "    for i in table.columns:\n",
    "        name = i\n",
    "        dtype = table[i].dtype.name\n",
    "        null = table[i].isnull().sum()\n",
    "        act = table.shape[0] - null\n",
    "        unique = len(table[i].unique())\n",
    "        data = {'name': name, 'dtype': dtype, 'null': null, 'act': act, 'unique': unique}\n",
    "        df = df.append(data, ignore_index=True)\n",
    "    return df"
   ]
  },
  {
   "cell_type": "markdown",
   "metadata": {},
   "source": [
    "### 데이터 불러오기: 일본어는 영어로 번역, 지역에 Prefecture가 붙은 지명은 Prefecture 제외"
   ]
  },
  {
   "cell_type": "code",
   "execution_count": 4,
   "metadata": {},
   "outputs": [],
   "source": [
    "# train \n",
    "detail_train = pd.read_csv('coupon_data_project2/coupon_detail_train_translated_en.csv', parse_dates=['I_DATE'])\n",
    "visit_train = pd.read_csv('coupon_data_project2/coupon_visit_train.csv', parse_dates=['I_DATE'])\n",
    "\n",
    "area_train = pd.read_csv('coupon_data_project2/coupon_area_train_translated_en.csv')\n",
    "coupon_list_train = pd.read_csv('coupon_data_project2/coupon_list_train_translated_en.csv', parse_dates=['DISPFROM', 'DISPEND', 'VALIDFROM', 'VALIDEND'])\n",
    "\n",
    "# base data\n",
    "location = pd.read_csv('coupon_data_project2/train_location.csv')\n",
    "area_test = pd.read_csv('coupon_data_project2/test_location.csv')\n",
    "user_list = pd.read_csv('coupon_data_project2/user_list_translated_en.csv', parse_dates=['WITHDRAW_DATE', 'REG_DATE'])\n",
    "\n",
    "# test data\n",
    "# area_test = pd.read_csv('coupon_data_project2/coupon_area_test_translated_en.csv')\n",
    "coupon_list_test = pd.read_csv('coupon_data_project2/coupon_list_test_translated_en.csv', parse_dates=['DISPFROM', 'DISPEND', 'VALIDFROM', 'VALIDEND'])\n",
    "\n",
    "# submisiion\n",
    "submission = pd.read_csv('coupon_data_project2/sample_submission.csv')"
   ]
  },
  {
   "cell_type": "code",
   "execution_count": 5,
   "metadata": {},
   "outputs": [],
   "source": [
    "proba_location = pd.read_csv('coupon_data_project2/proba_location.csv')\n",
    "proba_genre = pd.read_csv('coupon_data_project2/proba_genre.csv')\n",
    "proba_case = pd.read_csv('coupon_data_project2/proba_case.csv')"
   ]
  },
  {
   "cell_type": "code",
   "execution_count": 6,
   "metadata": {},
   "outputs": [],
   "source": [
    "visit_proba_location = pd.read_csv('coupon_data_project2/visit_proba_location.csv')\n",
    "visit_proba_genre = pd.read_csv('coupon_data_project2/visit_proba_genre.csv')\n",
    "visit_proba_case = pd.read_csv('coupon_data_project2/visit_proba_case.csv')"
   ]
  },
  {
   "cell_type": "markdown",
   "metadata": {},
   "source": [
    "## A. Preprocessing"
   ]
  },
  {
   "cell_type": "markdown",
   "metadata": {},
   "source": [
    "### A-1. detail_train"
   ]
  },
  {
   "cell_type": "markdown",
   "metadata": {},
   "source": [
    "#### 1) 신규 columns 생성\n",
    "\n",
    "1-1) merge 후 구매 구분을 위한 PURCHASE_FLG"
   ]
  },
  {
   "cell_type": "code",
   "execution_count": 7,
   "metadata": {},
   "outputs": [],
   "source": [
    "detail_train['PURCHASE_FLG'] = 1"
   ]
  },
  {
   "cell_type": "markdown",
   "metadata": {},
   "source": [
    "#### 2) column명 변경\n",
    "\n",
    "2-1) I_DATE -> purchase_date: 구매 일자 구분\n",
    "\n",
    "2-2) SMALL_AREA_NAME: coupon list의 지역(판매 spot)과 구분하기 위함"
   ]
  },
  {
   "cell_type": "code",
   "execution_count": 8,
   "metadata": {},
   "outputs": [],
   "source": [
    "detail_train.rename(columns = {'I_DATE': 'purchase_date'}, inplace=True)\n",
    "detail_train.rename(columns = {'SMALL_AREA_NAME': 'resid_small'}, inplace=True)"
   ]
  },
  {
   "cell_type": "markdown",
   "metadata": {},
   "source": [
    "#### 3) drop: ITEM_COUNT는 활요여부 판단후 처리"
   ]
  },
  {
   "cell_type": "code",
   "execution_count": null,
   "metadata": {},
   "outputs": [],
   "source": [
    "# detail_train.drop(labels = ['ITEM_COUNT'], axis=1, inplace=True)\n",
    "# detail_train.drop(labels = ['PURCHASEID_hash'], axis=1, inplace=True)\n",
    "# detail_train.drop(labels = ['resid_small'], axis=1, inplace=True)\n",
    "# detail_train.drop(labels = ['purchase_date'], axis=1, inplace=True)"
   ]
  },
  {
   "cell_type": "code",
   "execution_count": null,
   "metadata": {},
   "outputs": [],
   "source": []
  },
  {
   "cell_type": "markdown",
   "metadata": {},
   "source": [
    "### A-2. visit_train"
   ]
  },
  {
   "cell_type": "markdown",
   "metadata": {},
   "source": [
    "#### 1) 신규 column 생성"
   ]
  },
  {
   "cell_type": "code",
   "execution_count": null,
   "metadata": {},
   "outputs": [],
   "source": [
    "visit_train['VIEW'] = 1"
   ]
  },
  {
   "cell_type": "markdown",
   "metadata": {},
   "source": [
    "#### 2) column명 변경"
   ]
  },
  {
   "cell_type": "code",
   "execution_count": null,
   "metadata": {},
   "outputs": [],
   "source": [
    "visit_train.rename(columns = {'I_DATE': 'VIEW_DATE'}, inplace=True)\n",
    "visit_train.rename(columns = {'VIEW_COUPON_ID_hash': 'COUPON_ID_hash'}, inplace=True)"
   ]
  },
  {
   "cell_type": "markdown",
   "metadata": {},
   "source": [
    "#### 3) drop"
   ]
  },
  {
   "cell_type": "code",
   "execution_count": null,
   "metadata": {},
   "outputs": [],
   "source": [
    "visit_train.drop(labels = ['PAGE_SERIAL'], axis=1, inplace=True)\n",
    "visit_train.drop(labels = ['REFERRER_hash'], axis=1, inplace=True)\n",
    "visit_train.drop(labels = ['SESSION_ID_hash'], axis=1, inplace=True)\n",
    "visit_train.drop(labels = ['PURCHASEID_hash'], axis=1, inplace=True)"
   ]
  },
  {
   "cell_type": "code",
   "execution_count": null,
   "metadata": {},
   "outputs": [],
   "source": [
    "visit_train[:2]"
   ]
  },
  {
   "cell_type": "code",
   "execution_count": null,
   "metadata": {},
   "outputs": [],
   "source": []
  },
  {
   "cell_type": "markdown",
   "metadata": {},
   "source": [
    "### A-3. Coupon_list"
   ]
  },
  {
   "cell_type": "markdown",
   "metadata": {},
   "source": [
    "#### 1) 전처리 일관성을 유지를 위한 coupon_list merge(311~ train임)"
   ]
  },
  {
   "cell_type": "code",
   "execution_count": null,
   "metadata": {},
   "outputs": [],
   "source": [
    "coupon_list = pd.merge(coupon_list_test, coupon_list_train, how='outer')"
   ]
  },
  {
   "cell_type": "code",
   "execution_count": null,
   "metadata": {},
   "outputs": [],
   "source": [
    "coupon_list_test.shape, coupon_list_train.shape, coupon_list.shape"
   ]
  },
  {
   "cell_type": "markdown",
   "metadata": {},
   "source": [
    "#### 2) 신규 columns 생성"
   ]
  },
  {
   "cell_type": "code",
   "execution_count": null,
   "metadata": {},
   "outputs": [],
   "source": [
    "# 캡슐과 장르 통합 및 명칭 변경\n",
    "coupon_list['Case'] = coupon_list['CAPSULE_TEXT'] + coupon_list['GENRE_NAME']\n",
    "coupon_list['Case'] = coupon_list['Case'].apply(lambda x: \"HOTEL\" if x == 'Guest houseHotel and Japanese hotel' \n",
    "                          or x == 'HotelHotel and Japanese hotel'\n",
    "                          or x == 'Japanese hotelHotel and Japanese hotel'\n",
    "                          or x == 'Japanse guest houseHotel and Japanese hotel'\n",
    "                          or x == 'LodgeHotel and Japanese hotel'\n",
    "                          or x == 'Public hotelHotel and Japanese hotel'\n",
    "                          or x == 'Resort innHotel and Japanese hotel'\n",
    "                          or x == 'Vacation rentalHotel and Japanese hotel'\n",
    "                          else \"NAIL\" if x == 'Nail and eye salonNail and eye salon'\n",
    "                          else \"HAIR\" if x == 'Hair salonHair salon'\n",
    "                          else \"FOOD\" if x == 'FoodFood'\n",
    "                          else \"SPA\" if x == 'SpaSpa'\n",
    "                          else \"BEAUTY\" if x == 'BeautyBeauty'\n",
    "                          else \"CLASS\" if x == 'ClassLesson'\n",
    "                          else \"CORRESPONDENCE\" if x == 'Correspondence courseLessonClassLesson'\n",
    "                          else \"DELIVERY\" if x == 'Delivery serviceDelivery service'\n",
    "                          else \"EVENT\" if x == 'EventOther coupon'\n",
    "                          else \"GIFT\" if x == 'Gift cardGift card'\n",
    "                          else \"HEALTH\" if x == 'Health and medicalHealth and medical'\n",
    "                          else \"LEISURE\" if x == 'LeisureLeisure'\n",
    "                          else \"LESSON\" if x == 'LessonLesson'\n",
    "                          else \"OTHER\" if x == 'OtherOther coupon'\n",
    "                          else \"RELAXATION\" if x == 'RelaxationRelaxation'\n",
    "                          else \"WEB\" if x == 'Web serviceOther coupon'\n",
    "                          else 'OTHER'\n",
    "                          )"
   ]
  },
  {
   "cell_type": "code",
   "execution_count": null,
   "metadata": {},
   "outputs": [],
   "source": [
    "# 실판매가 게산\n",
    "coupon_list['Price'] = coupon_list['CATALOG_PRICE'] - coupon_list['DISCOUNT_PRICE']"
   ]
  },
  {
   "cell_type": "code",
   "execution_count": null,
   "metadata": {},
   "outputs": [],
   "source": [
    "# 실판매가 정규화\n",
    "coupon_list[\"lnDPRICE\"] = np.log1p(coupon_list[\"Price\"])\n",
    "coupon_list[\"mDPRICE\"] = coupon_list.groupby(\"Case\")[\"lnDPRICE\"].transform(np.mean)\n",
    "coupon_list[\"sDPRICE\"] = coupon_list.groupby(\"Case\")[\"lnDPRICE\"].transform(np.std)\n",
    "coupon_list[\"zprice\"] = (coupon_list[\"lnDPRICE\"] - coupon_list[\"mDPRICE\"]) / coupon_list[\"sDPRICE\"]"
   ]
  },
  {
   "cell_type": "markdown",
   "metadata": {},
   "source": [
    "#### 3) column명 변경"
   ]
  },
  {
   "cell_type": "code",
   "execution_count": null,
   "metadata": {},
   "outputs": [],
   "source": [
    "# 지역명 변경\n",
    "coupon_list.rename(columns = {\"LARGE_AREA_NAME\": \"spot_large\", \n",
    "                              \"ken_name\": \"spot_pref\", \n",
    "                              \"SMALL_AREA_NAME\": \"spot_small\"}, inplace=True)"
   ]
  },
  {
   "cell_type": "markdown",
   "metadata": {},
   "source": [
    "#### 4) Null 값 및 오류 처리"
   ]
  },
  {
   "cell_type": "code",
   "execution_count": null,
   "metadata": {},
   "outputs": [],
   "source": [
    "# usable: nan -> 1, 2 -> 0\n",
    "coupon_list['USABLE_DATE_MON'].replace([0,2,1,np.nan],[0,0,1,1], inplace=True)\n",
    "coupon_list['USABLE_DATE_TUE'].replace([0,2,1,np.nan],[0,0,1,1], inplace=True)\n",
    "coupon_list['USABLE_DATE_WED'].replace([0,2,1,np.nan],[0,0,1,1], inplace=True)\n",
    "coupon_list['USABLE_DATE_THU'].replace([0,2,1,np.nan],[0,0,1,1], inplace=True)\n",
    "coupon_list['USABLE_DATE_FRI'].replace([0,2,1,np.nan],[0,0,1,1], inplace=True)\n",
    "coupon_list['USABLE_DATE_SAT'].replace([0,2,1,np.nan],[0,0,1,1], inplace=True)\n",
    "coupon_list['USABLE_DATE_SUN'].replace([0,2,1,np.nan],[0,0,1,1], inplace=True)\n",
    "coupon_list['USABLE_DATE_HOLIDAY'].replace([0,2,1,np.nan],[0,0,1,1], inplace=True)\n",
    "coupon_list['USABLE_DATE_BEFORE_HOLIDAY'].replace([0,2,1,np.nan],[0,0,1,1], inplace=True)"
   ]
  },
  {
   "cell_type": "markdown",
   "metadata": {},
   "source": [
    "#### 5) drop"
   ]
  },
  {
   "cell_type": "code",
   "execution_count": null,
   "metadata": {},
   "outputs": [],
   "source": [
    "# coupon_list.drop(labels = ['CAPSULE_TEXT'], axis=1, inplace=True )\n",
    "# coupon_list.drop(labels = ['GENRE_NAME'], axis=1, inplace=True )\n",
    "# coupon_list.drop(labels = ['CATALOG_PRICE'], axis=1, inplace=True )\n",
    "# coupon_list.drop(labels = ['DISCOUNT_PRICE'], axis=1, inplace=True )\n",
    "# coupon_list.drop(labels = ['DISPFROM'], axis=1, inplace=True )\n",
    "# coupon_list.drop(labels = ['DISPEND'], axis=1, inplace=True )\n",
    "# coupon_list.drop(labels = ['VALIDFROM'], axis=1, inplace=True )\n",
    "# coupon_list.drop(labels = ['VALIDEND'], axis=1, inplace=True )\n",
    "# coupon_list.drop(labels = ['lnDPRICE'], axis=1, inplace=True )\n",
    "# coupon_list.drop(labels = ['mDPRICE'], axis=1, inplace=True )\n",
    "# coupon_list.drop(labels = ['sDPRICE'], axis=1, inplace=True )\n",
    "\n"
   ]
  },
  {
   "cell_type": "markdown",
   "metadata": {},
   "source": [
    "#### 6) train & test set 분리"
   ]
  },
  {
   "cell_type": "code",
   "execution_count": null,
   "metadata": {},
   "outputs": [],
   "source": [
    "# train set과 test set을 다시 분리\n",
    "coupon_list_train = coupon_list[311:]\n",
    "coupon_list_test = coupon_list[:310]"
   ]
  },
  {
   "cell_type": "code",
   "execution_count": null,
   "metadata": {},
   "outputs": [],
   "source": [
    "coupon_list_test.columns"
   ]
  },
  {
   "cell_type": "markdown",
   "metadata": {},
   "source": [
    "### A4. User_list"
   ]
  },
  {
   "cell_type": "markdown",
   "metadata": {},
   "source": [
    "#### 1) column명 변경"
   ]
  },
  {
   "cell_type": "code",
   "execution_count": null,
   "metadata": {},
   "outputs": [],
   "source": [
    "user_list.rename(columns = {'PREF_NAME': 'user_pref'}, inplace=True)"
   ]
  },
  {
   "cell_type": "markdown",
   "metadata": {},
   "source": [
    "#### 2) SEX_ID 0,1 로 변경(f: 0, m: 1)"
   ]
  },
  {
   "cell_type": "code",
   "execution_count": null,
   "metadata": {},
   "outputs": [],
   "source": [
    "# SEX_ID: f는 0으로 M은 1로\n",
    "user_list['SEX_ID'] = user_list['SEX_ID'].apply(lambda x: 0 if x == 'f' else 1) "
   ]
  },
  {
   "cell_type": "markdown",
   "metadata": {},
   "source": [
    "#### 3) drop"
   ]
  },
  {
   "cell_type": "code",
   "execution_count": null,
   "metadata": {},
   "outputs": [],
   "source": [
    "# REG_DATE , WITHDRAW_DATE 삭제\n",
    "user_list.drop(labels = ['REG_DATE'], axis=1, inplace=True)\n",
    "user_list.drop(labels = ['WITHDRAW_DATE'], axis=1, inplace=True)\n"
   ]
  },
  {
   "cell_type": "code",
   "execution_count": null,
   "metadata": {},
   "outputs": [],
   "source": [
    "user_list[:2]"
   ]
  },
  {
   "cell_type": "code",
   "execution_count": null,
   "metadata": {},
   "outputs": [],
   "source": []
  },
  {
   "cell_type": "markdown",
   "metadata": {},
   "source": [
    "### A5. train set 구성"
   ]
  },
  {
   "cell_type": "markdown",
   "metadata": {},
   "source": [
    "#### 1) visit_train & detail_train -> train"
   ]
  },
  {
   "cell_type": "code",
   "execution_count": null,
   "metadata": {},
   "outputs": [],
   "source": [
    "train= pd.merge(visit_train, detail_train, how='outer')"
   ]
  },
  {
   "cell_type": "code",
   "execution_count": null,
   "metadata": {},
   "outputs": [],
   "source": [
    "train.shape"
   ]
  },
  {
   "cell_type": "markdown",
   "metadata": {},
   "source": [
    "#### 2) train & coupon_list"
   ]
  },
  {
   "cell_type": "code",
   "execution_count": null,
   "metadata": {},
   "outputs": [],
   "source": [
    "train = pd.merge(train, coupon_list, how='left', on='COUPON_ID_hash')"
   ]
  },
  {
   "cell_type": "code",
   "execution_count": null,
   "metadata": {},
   "outputs": [],
   "source": [
    "train.shape # 315,029 개의 sell은 기초정보에 존재 하지 않던 쿠폰리스트임"
   ]
  },
  {
   "cell_type": "markdown",
   "metadata": {},
   "source": [
    "#### 3) train & user_list"
   ]
  },
  {
   "cell_type": "code",
   "execution_count": null,
   "metadata": {},
   "outputs": [],
   "source": [
    "train = pd.merge(train, user_list, how='left', on='USER_ID_hash')"
   ]
  },
  {
   "cell_type": "code",
   "execution_count": null,
   "metadata": {},
   "outputs": [],
   "source": [
    "train.shape"
   ]
  },
  {
   "cell_type": "markdown",
   "metadata": {},
   "source": [
    "#### 4) train & location"
   ]
  },
  {
   "cell_type": "code",
   "execution_count": null,
   "metadata": {},
   "outputs": [],
   "source": [
    "train['key'] = train['COUPON_ID_hash']+ train['USER_ID_hash']"
   ]
  },
  {
   "cell_type": "code",
   "execution_count": null,
   "metadata": {},
   "outputs": [],
   "source": [
    "location['key'] = location['COUPON_ID_hash'] + location['USER_ID_hash'] \n",
    "location.drop_duplicates(['key'], inplace=True)"
   ]
  },
  {
   "cell_type": "code",
   "execution_count": null,
   "metadata": {},
   "outputs": [],
   "source": [
    "train.insert(2, 'distance', train['key'].map(location.set_index('key')['distance']))\n",
    "train.insert(2, 'PREF_in', train['key'].map(location.set_index('key')['PREF_in']))"
   ]
  },
  {
   "cell_type": "code",
   "execution_count": null,
   "metadata": {},
   "outputs": [],
   "source": [
    "train.drop(labels=['key'], axis=1, inplace=True)"
   ]
  },
  {
   "cell_type": "markdown",
   "metadata": {},
   "source": [
    "#### 4) train 현황 점검 및 NaN값 처리\n",
    "\n",
    "4-1) null 이 315,301개인 것들은 기초정보(coupon_list(test 포함)에 없는 것들이므로 제외 -> zprice 기준으로 처리\n",
    "\n",
    "4-2) VALIDPERIOD(null: 773,492)은 무제한이라는 의미에서 10,000으로 처리\n",
    "\n",
    "4-3) user_pref(null: 488,972) 을 NN 으로 처리"
   ]
  },
  {
   "cell_type": "code",
   "execution_count": null,
   "metadata": {},
   "outputs": [],
   "source": [
    "# null 이 315,301개인 것들은 기초정보(coupon_list(test 포함)에 없는 것들이므로 제외 -> zprice 기준으로 처리\n",
    "train = train[train['Price'] >= 0]"
   ]
  },
  {
   "cell_type": "code",
   "execution_count": null,
   "metadata": {},
   "outputs": [],
   "source": [
    "train['VALIDPERIOD'] = train['VALIDPERIOD'].fillna(180)\n",
    "# train['user_pref'] = train['user_pref'].fillna('NN')\n",
    "train['VIEW'] = train['VIEW'].fillna(0)"
   ]
  },
  {
   "cell_type": "code",
   "execution_count": null,
   "metadata": {},
   "outputs": [],
   "source": [
    "train['distance'] = train['distance'].fillna(train['distance'].mean())"
   ]
  },
  {
   "cell_type": "code",
   "execution_count": null,
   "metadata": {},
   "outputs": [],
   "source": [
    "summary_table(train).sort_values(by='unique', ascending = True)"
   ]
  },
  {
   "cell_type": "code",
   "execution_count": null,
   "metadata": {},
   "outputs": [],
   "source": [
    "train['VALIDPERIOD'].max()"
   ]
  },
  {
   "cell_type": "code",
   "execution_count": null,
   "metadata": {},
   "outputs": [],
   "source": [
    "# train['usable_week'] = train['USABLE_DATE_MON'] + train['USABLE_DATE_WED'] + train['USABLE_DATE_THU'] + train['USABLE_DATE_FRI'] + train['USABLE_DATE_SAT'] + train['USABLE_DATE_SUN'] + train['USABLE_DATE_TUE'] + train['USABLE_DATE_BEFORE_HOLIDAY'] + train['USABLE_DATE_HOLIDAY']"
   ]
  },
  {
   "cell_type": "code",
   "execution_count": null,
   "metadata": {},
   "outputs": [],
   "source": [
    "train[\"VALID\"] = train[\"VIEW_DATE\"] - train[\"DISPFROM\"]\n",
    "train[\"VALID\"] = train[\"VALID\"].astype('timedelta64[s]') /60\n",
    "# train3[\"VALID\"] = train3['VALID'].apply(lambda x: x.total_seconds() / 60 )\n",
    "# train3['VALID'] = train3['VALID'].fillna(5000)"
   ]
  },
  {
   "cell_type": "code",
   "execution_count": null,
   "metadata": {},
   "outputs": [],
   "source": [
    "train['VALID'] = train['VALID'].fillna(train['VALID'][train['PURCHASE_FLG']==1].mean())"
   ]
  },
  {
   "cell_type": "code",
   "execution_count": null,
   "metadata": {
    "scrolled": true
   },
   "outputs": [],
   "source": [
    "train.columns"
   ]
  },
  {
   "cell_type": "markdown",
   "metadata": {},
   "source": [
    "### train에 proba 추가"
   ]
  },
  {
   "cell_type": "code",
   "execution_count": null,
   "metadata": {},
   "outputs": [],
   "source": [
    "proba_case.columns , proba_genre.columns, proba_location.columns"
   ]
  },
  {
   "cell_type": "code",
   "execution_count": null,
   "metadata": {},
   "outputs": [],
   "source": [
    "train.insert(2, 'proba_case', train['Case'].map(proba_case.set_index('Case')['proba_case']))\n",
    "train.insert(2, 'proba_GENRE_NAME', train['GENRE_NAME'].map(proba_genre.set_index('GENRE_NAME')['proba_GENRE_NAME']))\n",
    "train.insert(2, 'proba_spot_pref', train['spot_pref'].map(proba_location.set_index('spot_pref')['proba_spot_pref']))"
   ]
  },
  {
   "cell_type": "markdown",
   "metadata": {},
   "source": [
    "### train에 visit_proba 추가"
   ]
  },
  {
   "cell_type": "code",
   "execution_count": null,
   "metadata": {},
   "outputs": [],
   "source": [
    "visit_proba_case.columns , visit_proba_genre.columns, visit_proba_location.columns"
   ]
  },
  {
   "cell_type": "code",
   "execution_count": null,
   "metadata": {},
   "outputs": [],
   "source": [
    "train.columns"
   ]
  },
  {
   "cell_type": "code",
   "execution_count": null,
   "metadata": {},
   "outputs": [],
   "source": [
    "train.insert(2, 'visit_proba_case', train['Case'].map(visit_proba_case.set_index('Case')['visit_proba_case']))\n",
    "train.insert(2, 'visit_proba_GENRE_NAME', train['GENRE_NAME'].map(visit_proba_genre.set_index('GENRE_NAME')['visit_proba_GENRE_NAME']))\n",
    "train.insert(2, 'visit_proba_spot_pref', train['spot_pref'].map(visit_proba_location.set_index('spot_pref')['visit_proba_spot_pref']))"
   ]
  },
  {
   "cell_type": "code",
   "execution_count": null,
   "metadata": {
    "scrolled": true
   },
   "outputs": [],
   "source": [
    "train.columns"
   ]
  },
  {
   "cell_type": "code",
   "execution_count": null,
   "metadata": {},
   "outputs": [],
   "source": [
    "del_ls = ['PURCHASE_FLG', 'VIEW_DATE','COUPON_ID_hash','visit_proba_case','proba_case',\n",
    "       'USER_ID_hash', 'VIEW', 'ITEM_COUNT', 'purchase_date', 'resid_small',\n",
    "       'PURCHASEID_hash', 'CAPSULE_TEXT', 'CATALOG_PRICE', 'DISCOUNT_PRICE', 'DISPFROM', 'DISPEND',\n",
    "         'VALIDFROM', 'VALIDEND', 'spot_large',\n",
    "       'spot_pref', 'spot_small','Price', 'lnDPRICE', 'mDPRICE',\n",
    "       'sDPRICE', 'user_pref', 'Case']"
   ]
  },
  {
   "cell_type": "markdown",
   "metadata": {},
   "source": [
    "## B. 모델링"
   ]
  },
  {
   "cell_type": "markdown",
   "metadata": {},
   "source": [
    "### B1. 데이터 생성"
   ]
  },
  {
   "cell_type": "markdown",
   "metadata": {},
   "source": [
    "#### 1) dummy list 생성(train & test의 일관성을 위함)"
   ]
  },
  {
   "cell_type": "code",
   "execution_count": null,
   "metadata": {},
   "outputs": [],
   "source": [
    "ls_dummy = ['GENRE_NAME'] #'user_pref', 'spot_small', 'spot_pref', 'spot_large', "
   ]
  },
  {
   "cell_type": "markdown",
   "metadata": {},
   "source": [
    "#### 2) train data dummy 처리"
   ]
  },
  {
   "cell_type": "code",
   "execution_count": null,
   "metadata": {},
   "outputs": [],
   "source": [
    "train = pd.get_dummies(train, columns = ls_dummy)"
   ]
  },
  {
   "cell_type": "markdown",
   "metadata": {},
   "source": [
    "#### 3) test data 생성 -> 아래 로케이션 부분은 슬랙에서설명한 부분 참조"
   ]
  },
  {
   "cell_type": "code",
   "execution_count": null,
   "metadata": {},
   "outputs": [],
   "source": [
    "# test 데이터 생성\n",
    "coupon_list_test['A'] = 1\n",
    "user_list['A'] = 1\n",
    "test = pd.merge(coupon_list_test, user_list, how='outer')"
   ]
  },
  {
   "cell_type": "code",
   "execution_count": null,
   "metadata": {},
   "outputs": [],
   "source": [
    "area_test['key'] = area_test['COUPON_ID_hash'] + area_test['USER_ID_hash']"
   ]
  },
  {
   "cell_type": "code",
   "execution_count": null,
   "metadata": {},
   "outputs": [],
   "source": [
    "# area_test 삽입\n",
    "test['key'] = test['COUPON_ID_hash'] + test['USER_ID_hash'] \n",
    "test.insert(2, 'distance', test['key'].map(area_test.set_index('key')['distance']))\n",
    "test.insert(2, 'PREF_in', test['key'].map(area_test.set_index('key')['PREF_in']))\n",
    "test.drop(labels = ['key'], axis=1, inplace=True)"
   ]
  },
  {
   "cell_type": "markdown",
   "metadata": {},
   "source": [
    "#### 4) test data dummy처리"
   ]
  },
  {
   "cell_type": "markdown",
   "metadata": {},
   "source": [
    "#### test 데이터에 proba 붙이기"
   ]
  },
  {
   "cell_type": "code",
   "execution_count": null,
   "metadata": {
    "scrolled": true
   },
   "outputs": [],
   "source": [
    "test.columns"
   ]
  },
  {
   "cell_type": "code",
   "execution_count": null,
   "metadata": {
    "scrolled": true
   },
   "outputs": [],
   "source": [
    "test.insert(2, 'proba_case', test['Case'].map(proba_case.set_index('Case')['proba_case']))\n",
    "test.insert(2, 'proba_GENRE_NAME', test['GENRE_NAME'].map(proba_genre.set_index('GENRE_NAME')['proba_GENRE_NAME']))\n",
    "test.insert(2, 'proba_spot_pref', test['spot_pref'].map(proba_location.set_index('spot_pref')['proba_spot_pref']))"
   ]
  },
  {
   "cell_type": "code",
   "execution_count": null,
   "metadata": {},
   "outputs": [],
   "source": [
    "test.insert(2, 'visit_proba_case', test['Case'].map(visit_proba_case.set_index('Case')['visit_proba_case']))\n",
    "test.insert(2, 'visit_proba_GENRE_NAME', test['GENRE_NAME'].map(visit_proba_genre.set_index('GENRE_NAME')['visit_proba_GENRE_NAME']))\n",
    "test.insert(2, 'visit_proba_spot_pref', test['spot_pref'].map(visit_proba_location.set_index('spot_pref')['visit_proba_spot_pref']))"
   ]
  },
  {
   "cell_type": "code",
   "execution_count": null,
   "metadata": {},
   "outputs": [],
   "source": [
    "test = pd.get_dummies(test, columns = ls_dummy)\n",
    "test.drop(labels = ['A'], axis=1, inplace=True)"
   ]
  },
  {
   "cell_type": "code",
   "execution_count": null,
   "metadata": {},
   "outputs": [],
   "source": [
    "test.columns"
   ]
  },
  {
   "cell_type": "markdown",
   "metadata": {},
   "source": [
    "#### 5)  test & train set columns 비교 -> 지역이 문제임. 지역은 개인 판단하에 위에 drop부분에서 삭제해주시길\n",
    "\n",
    "5-1) PURCHASE_FLG: train의 y값으로 활용될 것임\n",
    "\n",
    "5-2) VIEW_DATE: 향후 활용 가능성이 있음. 우선은 mod_ls에서 걸러짐.\n",
    "\n",
    "5-3) VIEW: 향후 활용 가능성 있음(가중치 넣는 식). 우선은 mod_ls에서 걸러짐"
   ]
  },
  {
   "cell_type": "code",
   "execution_count": null,
   "metadata": {
    "scrolled": true
   },
   "outputs": [],
   "source": [
    "compare_not_test = [i for i in train.columns if i not in test.columns]\n",
    "compare_not_train = [i for i in test.columns if i not in train.columns]\n",
    "print('only_train: {}  \\n'.format(compare_not_test))\n",
    "print('only_test: {}'.format(compare_not_train))"
   ]
  },
  {
   "cell_type": "markdown",
   "metadata": {},
   "source": [
    "### B2. train data set"
   ]
  },
  {
   "cell_type": "code",
   "execution_count": null,
   "metadata": {
    "scrolled": true
   },
   "outputs": [],
   "source": [
    "train.columns"
   ]
  },
  {
   "cell_type": "code",
   "execution_count": null,
   "metadata": {
    "scrolled": true
   },
   "outputs": [],
   "source": [
    "X_train = train.drop(del_ls, axis=1)"
   ]
  },
  {
   "cell_type": "code",
   "execution_count": null,
   "metadata": {},
   "outputs": [],
   "source": [
    "X_train.shape"
   ]
  },
  {
   "cell_type": "code",
   "execution_count": null,
   "metadata": {},
   "outputs": [],
   "source": [
    "X_train.isnull().sum()"
   ]
  },
  {
   "cell_type": "code",
   "execution_count": null,
   "metadata": {},
   "outputs": [],
   "source": [
    "y_train = train.PURCHASE_FLG"
   ]
  },
  {
   "cell_type": "code",
   "execution_count": null,
   "metadata": {},
   "outputs": [],
   "source": [
    "to_be_removed_train = {'PURCHASE_FLG', 'USER_ID_hash','COUPON_ID_hash', \"VIEW\",'VIEW_DATE','spot_large', 'spot_pref', 'spot_small','user_pref'} # VIEW_DATE 추가\n",
    "ls_train = [i for i in list(train.columns) if i not in to_be_removed_train]\n",
    "X_train = train.filter(ls_train)\n",
    "y_train = train.PURCHASE_FLG"
   ]
  },
  {
   "cell_type": "code",
   "execution_count": null,
   "metadata": {},
   "outputs": [],
   "source": [
    "X_train.columns"
   ]
  },
  {
   "cell_type": "markdown",
   "metadata": {},
   "source": [
    "### B3. 모델링: xgboost"
   ]
  },
  {
   "cell_type": "code",
   "execution_count": null,
   "metadata": {},
   "outputs": [],
   "source": [
    "# from sklearn import clone\n",
    "# from sklearn.ensemble import RandomForestClassifier\n",
    "# from sklearn.tree import DecisionTreeClassifier\n",
    "import xgboost"
   ]
  },
  {
   "cell_type": "markdown",
   "metadata": {},
   "source": [
    "#### 1) train 에 활용할 컬럼 선정(test 컬럼과 일치시킴)"
   ]
  },
  {
   "cell_type": "code",
   "execution_count": null,
   "metadata": {},
   "outputs": [],
   "source": [
    "mod_ls = [i for i in X_train.columns if i in test.columns]"
   ]
  },
  {
   "cell_type": "code",
   "execution_count": null,
   "metadata": {},
   "outputs": [],
   "source": [
    "X_train = train.filter(mod_ls)\n",
    "y_train = train.PURCHASE_FLG"
   ]
  },
  {
   "cell_type": "markdown",
   "metadata": {},
   "source": [
    "#### 2) parameter 지정(parameter는 우수사례 벤치마킹, 논리 및 개선여부 검토해봐야함)"
   ]
  },
  {
   "cell_type": "code",
   "execution_count": null,
   "metadata": {
    "scrolled": true
   },
   "outputs": [],
   "source": [
    "X_train.columns"
   ]
  },
  {
   "cell_type": "code",
   "execution_count": null,
   "metadata": {},
   "outputs": [],
   "source": [
    "model_xgb = xgboost.XGBClassifier(n_estimators=300, max_depth=4,\n",
    "                                 objective = 'reg:logistic',\n",
    "                                 subsample= 0.85,\n",
    "                                 colsample_bytree=0.8,\n",
    "                                 random_state=12345,\n",
    "                                 min_child_weight=1,\n",
    "                                 learning_rate=0.05)"
   ]
  },
  {
   "cell_type": "code",
   "execution_count": null,
   "metadata": {},
   "outputs": [],
   "source": [
    "model_xgb = model_xgb.fit(X_train, y_train)"
   ]
  },
  {
   "cell_type": "code",
   "execution_count": null,
   "metadata": {},
   "outputs": [],
   "source": [
    "y_pred = model_xgb.predict(X_train)"
   ]
  },
  {
   "cell_type": "code",
   "execution_count": null,
   "metadata": {
    "scrolled": false
   },
   "outputs": [],
   "source": [
    "print(confusion_matrix(y_train, y_pred))\n",
    "print(classification_report(y_train, y_pred))"
   ]
  },
  {
   "cell_type": "code",
   "execution_count": null,
   "metadata": {},
   "outputs": [],
   "source": [
    "model_xgb = xgboost.XGBClassifier(n_estimators=300, max_depth=4,\n",
    "                                 objective = 'reg:logistic',\n",
    "                                 subsample= 0.85,\n",
    "                                 colsample_bytree=0.8,\n",
    "                                 random_state=12345,\n",
    "                                 min_child_weight=1,\n",
    "                                 learning_rate=0.05)"
   ]
  },
  {
   "cell_type": "code",
   "execution_count": null,
   "metadata": {},
   "outputs": [],
   "source": [
    "model_xgb = model_xgb.fit(X, y)"
   ]
  },
  {
   "cell_type": "code",
   "execution_count": null,
   "metadata": {},
   "outputs": [],
   "source": [
    "y_pred = model_xgb.predict(X_train)"
   ]
  },
  {
   "cell_type": "code",
   "execution_count": null,
   "metadata": {
    "scrolled": false
   },
   "outputs": [],
   "source": [
    "print(confusion_matrix(y_train, y_pred))\n",
    "print(classification_report(y_train, y_pred))"
   ]
  },
  {
   "cell_type": "code",
   "execution_count": null,
   "metadata": {
    "scrolled": true
   },
   "outputs": [],
   "source": [
    "# 위 모델링에서 사용한 feature\n",
    "X.columns"
   ]
  },
  {
   "cell_type": "code",
   "execution_count": null,
   "metadata": {},
   "outputs": [],
   "source": [
    "X1.columns"
   ]
  },
  {
   "cell_type": "code",
   "execution_count": null,
   "metadata": {},
   "outputs": [],
   "source": [
    "model_xgb = xgboost.XGBClassifier(n_estimators=300, max_depth=4,\n",
    "                                 objective = 'reg:logistic',\n",
    "                                 subsample= 0.85,\n",
    "                                 colsample_bytree=0.8,\n",
    "                                 random_state=12345,\n",
    "                                 min_child_weight=1,\n",
    "                                 learning_rate=0.05)"
   ]
  },
  {
   "cell_type": "code",
   "execution_count": null,
   "metadata": {},
   "outputs": [],
   "source": [
    "model_xgb = model_xgb.fit(X1, y1)"
   ]
  },
  {
   "cell_type": "code",
   "execution_count": null,
   "metadata": {},
   "outputs": [],
   "source": [
    "y_pred = model_xgb.predict(X_train)"
   ]
  },
  {
   "cell_type": "code",
   "execution_count": null,
   "metadata": {
    "scrolled": true
   },
   "outputs": [],
   "source": [
    "print(confusion_matrix(y_train, y_pred))\n",
    "print(classification_report(y_train, y_pred))"
   ]
  },
  {
   "cell_type": "code",
   "execution_count": null,
   "metadata": {
    "scrolled": true
   },
   "outputs": [],
   "source": [
    "# 위 모델링에서 사용한 feature\n",
    "X1.columns"
   ]
  },
  {
   "cell_type": "code",
   "execution_count": null,
   "metadata": {},
   "outputs": [],
   "source": [
    "X1.head()"
   ]
  },
  {
   "cell_type": "code",
   "execution_count": null,
   "metadata": {},
   "outputs": [],
   "source": [
    "model_xgb = xgboost.XGBClassifier(n_estimators=300, max_depth=4,\n",
    "                                 objective = 'reg:logistic',\n",
    "                                 subsample= 0.85,\n",
    "                                 colsample_bytree=0.8,\n",
    "                                 random_state=12345,\n",
    "                                 min_child_weight=1,\n",
    "                                 learning_rate=0.05)"
   ]
  },
  {
   "cell_type": "code",
   "execution_count": null,
   "metadata": {},
   "outputs": [],
   "source": [
    "model_xgb = model_xgb.fit(X1, y1)"
   ]
  },
  {
   "cell_type": "code",
   "execution_count": null,
   "metadata": {
    "scrolled": true
   },
   "outputs": [],
   "source": [
    "y_pred = model_xgb.predict(X_train)"
   ]
  },
  {
   "cell_type": "code",
   "execution_count": null,
   "metadata": {
    "scrolled": true
   },
   "outputs": [],
   "source": [
    "print(confusion_matrix(y_train, y_pred))\n",
    "print(classification_report(y_train, y_pred))"
   ]
  },
  {
   "cell_type": "code",
   "execution_count": null,
   "metadata": {
    "scrolled": false
   },
   "outputs": [],
   "source": [
    "# 위 모델링에서 사용한 feature\n",
    "X.columns"
   ]
  },
  {
   "cell_type": "code",
   "execution_count": null,
   "metadata": {},
   "outputs": [],
   "source": [
    "model_xgb0 = xgboost.XGBClassifier(n_estimators=300, max_depth=4,\n",
    "                                 objective = 'reg:logistic',\n",
    "                                 subsample= 0.85,\n",
    "                                 colsample_bytree=0.8,\n",
    "                                 random_state=12345,\n",
    "                                 min_child_weight=1,\n",
    "                                 learning_rate=0.05)"
   ]
  },
  {
   "cell_type": "code",
   "execution_count": null,
   "metadata": {},
   "outputs": [],
   "source": [
    "model_xgb0 = model_xgb0.fit(X1, y1)"
   ]
  },
  {
   "cell_type": "code",
   "execution_count": null,
   "metadata": {},
   "outputs": [],
   "source": [
    "X_train.shape, X1.shape"
   ]
  },
  {
   "cell_type": "code",
   "execution_count": null,
   "metadata": {
    "scrolled": true
   },
   "outputs": [],
   "source": [
    "y_pred0 = model_xgb0.predict(X_train)"
   ]
  },
  {
   "cell_type": "code",
   "execution_count": null,
   "metadata": {
    "scrolled": true
   },
   "outputs": [],
   "source": [
    "print(confusion_matrix(y_train, y_pred0))\n",
    "print(classification_report(y_train, y_pred0))"
   ]
  },
  {
   "cell_type": "code",
   "execution_count": null,
   "metadata": {
    "scrolled": false
   },
   "outputs": [],
   "source": [
    "# 위 모델링에서 사용한 feature\n",
    "X1.columns"
   ]
  },
  {
   "cell_type": "code",
   "execution_count": null,
   "metadata": {},
   "outputs": [],
   "source": []
  },
  {
   "cell_type": "code",
   "execution_count": null,
   "metadata": {},
   "outputs": [],
   "source": [
    "model_xgb1 = xgboost.XGBClassifier(n_estimators=300, max_depth=4,\n",
    "                                 subsample= 0.85,\n",
    "                                 colsample_bytree=0.8,\n",
    "                                 random_state=12345,\n",
    "                                 min_child_weight=1,\n",
    "                                 learning_rate=0.05)"
   ]
  },
  {
   "cell_type": "code",
   "execution_count": null,
   "metadata": {},
   "outputs": [],
   "source": [
    "model_xgb1 = model_xgb1.fit(X1, y1)"
   ]
  },
  {
   "cell_type": "code",
   "execution_count": null,
   "metadata": {
    "scrolled": true
   },
   "outputs": [],
   "source": [
    "y_pred1 = model_xgb1.predict(X_train)"
   ]
  },
  {
   "cell_type": "code",
   "execution_count": null,
   "metadata": {
    "scrolled": true
   },
   "outputs": [],
   "source": [
    "print(confusion_matrix(y_train, y_pred1))\n",
    "print(classification_report(y_train, y_pred1))"
   ]
  },
  {
   "cell_type": "code",
   "execution_count": null,
   "metadata": {
    "scrolled": false
   },
   "outputs": [],
   "source": [
    "# 위 모델링에서 사용한 feature\n",
    "X.columns"
   ]
  },
  {
   "cell_type": "code",
   "execution_count": null,
   "metadata": {},
   "outputs": [],
   "source": []
  },
  {
   "cell_type": "markdown",
   "metadata": {},
   "source": [
    "### B5. Predict"
   ]
  },
  {
   "cell_type": "markdown",
   "metadata": {},
   "source": [
    "#### 1) predict 후 sum을통해 1이 몇개인지 확인 -> 할때마다 0이 나옴 .. 아래 확률로 접근해야 함"
   ]
  },
  {
   "cell_type": "code",
   "execution_count": null,
   "metadata": {},
   "outputs": [],
   "source": [
    "test['Case_BEAUTY'] = 0\n",
    "test['Case_EVENT'] = 0\n",
    "test['Case_LESSON'] = 0"
   ]
  },
  {
   "cell_type": "code",
   "execution_count": null,
   "metadata": {},
   "outputs": [],
   "source": [
    "test['GENRE_NAME_Beauty'] = 0"
   ]
  },
  {
   "cell_type": "code",
   "execution_count": null,
   "metadata": {},
   "outputs": [],
   "source": [
    "test['VALIDPERIOD'] = test['VALIDPERIOD'].fillna(180)"
   ]
  },
  {
   "cell_type": "code",
   "execution_count": null,
   "metadata": {},
   "outputs": [],
   "source": [
    "# test['usable_week'] = test['USABLE_DATE_MON'] + test['USABLE_DATE_WED'] + test['USABLE_DATE_THU'] + test['USABLE_DATE_FRI'] + test['USABLE_DATE_SAT'] + test['USABLE_DATE_SUN'] + test['USABLE_DATE_TUE'] + test['USABLE_DATE_BEFORE_HOLIDAY'] + test['USABLE_DATE_HOLIDAY']"
   ]
  },
  {
   "cell_type": "code",
   "execution_count": null,
   "metadata": {
    "scrolled": true
   },
   "outputs": [],
   "source": [
    "test['view_date'] = '2012-06-28'\n",
    "test['view_date'] = test['view_date'].astype('<M8[ns]')"
   ]
  },
  {
   "cell_type": "code",
   "execution_count": null,
   "metadata": {},
   "outputs": [],
   "source": [
    "test[\"VALID\"] = test[\"view_date\"] - test[\"DISPFROM\"]\n",
    "test[\"VALID\"] = test[\"VALID\"].astype('timedelta64[s]') /60\n",
    "# test3[\"VALID\"] = test3['VALID'].apply(lambda x: x.total_seconds() / 60 )\n",
    "# test3['VALID'] = test3['VALID'].fillna(5000)"
   ]
  },
  {
   "cell_type": "code",
   "execution_count": null,
   "metadata": {
    "scrolled": true
   },
   "outputs": [],
   "source": [
    "test.columns"
   ]
  },
  {
   "cell_type": "code",
   "execution_count": null,
   "metadata": {},
   "outputs": [],
   "source": [
    "feature_name = X1.columns"
   ]
  },
  {
   "cell_type": "code",
   "execution_count": null,
   "metadata": {},
   "outputs": [],
   "source": [
    "del_ls_test = ['COUPON_ID_hash',\n",
    "       'USER_ID_hash', 'CAPSULE_TEXT', 'GENRE_NAME', 'CATALOG_PRICE', 'DISCOUNT_PRICE', 'DISPFROM', 'DISPEND',\n",
    "         'VALIDFROM', 'VALIDEND', 'spot_large',\n",
    "       'spot_pref', 'spot_small','Price', 'lnDPRICE', 'mDPRICE',\n",
    "       'sDPRICE', 'user_pref']"
   ]
  },
  {
   "cell_type": "code",
   "execution_count": null,
   "metadata": {},
   "outputs": [],
   "source": [
    "x_test = test.filter(feature_name)"
   ]
  },
  {
   "cell_type": "code",
   "execution_count": null,
   "metadata": {},
   "outputs": [],
   "source": [
    "X1.shape, x_test.shape"
   ]
  },
  {
   "cell_type": "code",
   "execution_count": null,
   "metadata": {},
   "outputs": [],
   "source": [
    "# feature_name = X_train.columns\n",
    "x_name = x_test.columns\n",
    "x_ls = []\n",
    "x_ls2 = []\n",
    "for i in list(feature_name):\n",
    "    if i in list(x_name):\n",
    "        pass\n",
    "    else:\n",
    "        x_ls.append(i)\n",
    "        \n",
    "for i in list(x_name):\n",
    "    if i in list(feature_name):\n",
    "        pass\n",
    "    else:\n",
    "        x_ls2.append(i)\n",
    "        \n",
    "print(x_ls, x_ls2)"
   ]
  },
  {
   "cell_type": "code",
   "execution_count": null,
   "metadata": {},
   "outputs": [],
   "source": [
    "ls4 = ['USABLE_DATE_MON', 'USABLE_DATE_TUE', 'USABLE_DATE_WED', 'USABLE_DATE_THU', 'USABLE_DATE_FRI', 'USABLE_DATE_SAT', 'USABLE_DATE_SUN', 'USABLE_DATE_HOLIDAY', 'Case_BEAUTY', 'Case_CLASS', 'Case_DELIVERY', 'Case_EVENT', 'Case_FOOD', 'Case_GIFT', 'Case_HAIR', 'Case_HEALTH', 'Case_HOTEL', 'Case_LEISURE', 'Case_LESSON', 'Case_NAIL', 'Case_OTHER', 'Case_RELAXATION', 'Case_SPA', 'Case_WEB']\n",
    "x_test.drop(ls4, 1, inplace=True)"
   ]
  },
  {
   "cell_type": "code",
   "execution_count": null,
   "metadata": {},
   "outputs": [],
   "source": [
    "x_test.isnull().sum()"
   ]
  },
  {
   "cell_type": "code",
   "execution_count": null,
   "metadata": {},
   "outputs": [],
   "source": [
    "x_test['distance'] = x_test.fillna(x_test.distance.mean())\n",
    "x_test['proba_spot_pref'] = x_test.fillna(x_test.proba_spot_pref.mean())"
   ]
  },
  {
   "cell_type": "code",
   "execution_count": null,
   "metadata": {},
   "outputs": [],
   "source": [
    "X_test = x_test.filter(feature_name)"
   ]
  },
  {
   "cell_type": "code",
   "execution_count": null,
   "metadata": {},
   "outputs": [],
   "source": [
    "X_test.columns\n",
    "feature_name"
   ]
  },
  {
   "cell_type": "code",
   "execution_count": null,
   "metadata": {
    "scrolled": false
   },
   "outputs": [],
   "source": [
    "# predict\n",
    "y_pred_xgb = model_xgb.predict(X_test)\n",
    "y_pred_xgb.sum()"
   ]
  },
  {
   "cell_type": "code",
   "execution_count": null,
   "metadata": {
    "scrolled": true
   },
   "outputs": [],
   "source": [
    "y_pred_xgb.sum() / len(X_test) * 100"
   ]
  },
  {
   "cell_type": "code",
   "execution_count": null,
   "metadata": {},
   "outputs": [],
   "source": [
    "result_df2.shape"
   ]
  },
  {
   "cell_type": "code",
   "execution_count": null,
   "metadata": {},
   "outputs": [],
   "source": [
    "test_xgb = test.filter(['USER_ID_hash', 'COUPON_ID_hash'])\n",
    "\n",
    "result_df = pd.concat([test_xgb, pd.DataFrame(y_pred_xgb, columns=['result'])],1)\n",
    "\n",
    "result_df2 = result_df[result_df['result'] == 1]"
   ]
  },
  {
   "cell_type": "code",
   "execution_count": null,
   "metadata": {},
   "outputs": [],
   "source": [
    "lookup_table = result_df2.groupby('USER_ID_hash').apply(lambda x: list(x.COUPON_ID_hash))\n",
    "lookup_table = pd.DataFrame(lookup_table, columns = ['COUPON_ID_hash']).reset_index()\n",
    "\n",
    "lookup_table.rename(columns={'COUPON_ID_hash':'PURCHASED_COUPONS'},inplace=True)\n",
    "\n",
    "\n",
    "submission = pd.read_csv('coupon_data_project2/sample_submission.csv')\n",
    "\n",
    "submission.insert(2, 'COUPON', submission['USER_ID_hash'].map(lookup_table.set_index('USER_ID_hash')['PURCHASED_COUPONS']))\n",
    "\n",
    "submission.drop('PURCHASED_COUPONS', axis=1, inplace=True)\n",
    "submission.rename(columns={'COUPON':'PURCHASED_COUPONS'}, inplace=True)\n",
    "\n",
    "submission['PURCHASED_COUPONS'] = submission['PURCHASED_COUPONS'].astype('str')\n",
    "submission['PURCHASED_COUPONS'] = submission['PURCHASED_COUPONS'].apply(lambda x: x.replace('[',''))\n",
    "submission['PURCHASED_COUPONS'] = submission['PURCHASED_COUPONS'].apply(lambda x: x.replace(']',''))\n",
    "submission['PURCHASED_COUPONS'] = submission['PURCHASED_COUPONS'].apply(lambda x: x.replace(\"'\",''))\n",
    "submission['PURCHASED_COUPONS'] = submission['PURCHASED_COUPONS'].apply(lambda x: x.replace(',',''))\n",
    "# submission.drop(labels=['index'], axis=1, inplace=True)\n",
    "\n",
    "submission.to_csv('test_submission_xgb.csv', index=False)"
   ]
  },
  {
   "cell_type": "markdown",
   "metadata": {},
   "source": [
    " #### 2) proba를 생성해서 test set과 merge"
   ]
  },
  {
   "cell_type": "code",
   "execution_count": null,
   "metadata": {},
   "outputs": [],
   "source": [
    "y_hat_proba = model_xgb0.predict_proba(x_test)\n",
    "df_y_hat_proba= pd.DataFrame(y_hat_proba, columns=['n','y'])"
   ]
  },
  {
   "cell_type": "code",
   "execution_count": null,
   "metadata": {},
   "outputs": [],
   "source": [
    "test_xgb = test.filter(['USER_ID_hash', 'COUPON_ID_hash'])"
   ]
  },
  {
   "cell_type": "code",
   "execution_count": null,
   "metadata": {},
   "outputs": [],
   "source": [
    "result_proba_df = pd.concat([test_xgb, pd.DataFrame(df_y_hat_proba)],1)"
   ]
  },
  {
   "cell_type": "markdown",
   "metadata": {},
   "source": [
    "#### 3) 기준을 잡기 위해 확률의 평균을 확인"
   ]
  },
  {
   "cell_type": "code",
   "execution_count": null,
   "metadata": {},
   "outputs": [],
   "source": [
    "result_proba_df.y.mean()"
   ]
  },
  {
   "cell_type": "markdown",
   "metadata": {},
   "source": [
    "#### 4) 모델 개선 및 현황 파악을 위한 feature importance 점검"
   ]
  },
  {
   "cell_type": "code",
   "execution_count": null,
   "metadata": {},
   "outputs": [],
   "source": [
    "importances = model_xgb.feature_importances_\n",
    "df_imp = pd.DataFrame()\n",
    "for i, j in zip(X1.columns, list(importances)):\n",
    "    data = {'columns': i, 'importance': np.round(j*100,1)} \n",
    "    df_imp = df_imp.append(data, ignore_index=True)\n",
    "\n",
    "df_imp.sort_values(by='importance', ascending=False)"
   ]
  },
  {
   "cell_type": "code",
   "execution_count": null,
   "metadata": {},
   "outputs": [],
   "source": [
    "importances = model_xgb0.feature_importances_\n",
    "df_imp = pd.DataFrame()\n",
    "for i, j in zip(X1.columns, list(importances)):\n",
    "    data = {'columns': i, 'importance': np.round(j*100,1)} \n",
    "    df_imp = df_imp.append(data, ignore_index=True)\n",
    "\n",
    "df_imp.sort_values(by='importance', ascending=False)"
   ]
  },
  {
   "cell_type": "markdown",
   "metadata": {},
   "source": [
    "#### 5) 확률을 선정 -> 3번의 기준으로 어림잡아 선정 -> 최종 제출시에는 각 유저별 상위 10개로 지정하는게 좋겠음"
   ]
  },
  {
   "cell_type": "code",
   "execution_count": null,
   "metadata": {},
   "outputs": [],
   "source": [
    "result_proba_df2 = result_proba_df[result_proba_df['y']>0.5].sort_values(by='y', ascending=False)\n",
    "len(result_proba_df2) / len(result_proba_df) * 100"
   ]
  },
  {
   "cell_type": "code",
   "execution_count": null,
   "metadata": {},
   "outputs": [],
   "source": [
    "result_proba_df3 = result_proba_df.sort_values(by=['USER_ID_hash','y'], ascending=False)"
   ]
  },
  {
   "cell_type": "markdown",
   "metadata": {},
   "source": [
    "#### 6) 제출양식에 맞춰 lookup_table을 형성"
   ]
  },
  {
   "cell_type": "code",
   "execution_count": null,
   "metadata": {},
   "outputs": [],
   "source": [
    "lookup_table = result_proba_df2.groupby('USER_ID_hash').apply(lambda x: list(x.COUPON_ID_hash))\n",
    "lookup_table = pd.DataFrame(lookup_table, columns = ['COUPON_ID_hash']).reset_index()\n",
    "lookup_table\n",
    "\n",
    "lookup_table.rename(columns={'COUPON_ID_hash':'PURCHASED_COUPONS'},inplace=True)"
   ]
  },
  {
   "cell_type": "code",
   "execution_count": null,
   "metadata": {},
   "outputs": [],
   "source": [
    "lookup_table2 = result_proba_df3.groupby('USER_ID_hash').apply(lambda x: list(x.COUPON_ID_hash)[:10])\n",
    "lookup_table2 = pd.DataFrame(lookup_table2, columns = ['COUPON_ID_hash']).reset_index()\n",
    "lookup_table2\n",
    "\n",
    "lookup_table2.rename(columns={'COUPON_ID_hash':'PURCHASED_COUPONS'},inplace=True)"
   ]
  },
  {
   "cell_type": "markdown",
   "metadata": {},
   "source": [
    "#### 7) 매칭 및 양식에 맞춘 마무리 작업"
   ]
  },
  {
   "cell_type": "code",
   "execution_count": null,
   "metadata": {},
   "outputs": [],
   "source": [
    "submission = pd.read_csv('coupon_data_project2/sample_submission.csv')\n",
    "\n",
    "submission.insert(2, 'COUPON', submission['USER_ID_hash'].map(lookup_table.set_index('USER_ID_hash')['PURCHASED_COUPONS']))"
   ]
  },
  {
   "cell_type": "code",
   "execution_count": null,
   "metadata": {},
   "outputs": [],
   "source": [
    "submission.drop('PURCHASED_COUPONS', axis=1, inplace=True)\n",
    "submission.rename(columns={'COUPON':'PURCHASED_COUPONS'}, inplace=True)\n",
    "\n",
    "submission['PURCHASED_COUPONS'] = submission['PURCHASED_COUPONS'].astype('str')\n",
    "submission['PURCHASED_COUPONS'] = submission['PURCHASED_COUPONS'].apply(lambda x: x.replace('[',''))\n",
    "submission['PURCHASED_COUPONS'] = submission['PURCHASED_COUPONS']. apply(lambda x: x.replace(']',''))\n",
    "submission['PURCHASED_COUPONS'] = submission['PURCHASED_COUPONS'].apply(lambda x: x.replace(\"'\",''))\n",
    "submission['PURCHASED_COUPONS'] = submission['PURCHASED_COUPONS'].apply(lambda x: x.replace(',',''))\n",
    "# submission.drop(labels=['index'], axis=1, inplace=True)\n",
    "\n",
    "submission.to_csv('test_submission_xgb.csv', index=False)"
   ]
  },
  {
   "cell_type": "code",
   "execution_count": null,
   "metadata": {},
   "outputs": [],
   "source": [
    "submission2 = pd.read_csv('coupon_data_project2/sample_submission.csv')\n",
    "\n",
    "submission2.insert(2, 'COUPON', submission['USER_ID_hash'].map(lookup_table2.set_index('USER_ID_hash')['PURCHASED_COUPONS']))"
   ]
  },
  {
   "cell_type": "code",
   "execution_count": null,
   "metadata": {},
   "outputs": [],
   "source": [
    "submission2.drop('PURCHASED_COUPONS', axis=1, inplace=True)\n",
    "submission2.rename(columns={'COUPON':'PURCHASED_COUPONS'}, inplace=True)\n",
    "\n",
    "submission2['PURCHASED_COUPONS'] = submission2['PURCHASED_COUPONS'].astype('str')\n",
    "submission2['PURCHASED_COUPONS'] = submission2['PURCHASED_COUPONS'].apply(lambda x: x.replace('[',''))\n",
    "submission2['PURCHASED_COUPONS'] = submission2['PURCHASED_COUPONS'].apply(lambda x: x.replace(']',''))\n",
    "submission2['PURCHASED_COUPONS'] = submission2['PURCHASED_COUPONS'].apply(lambda x: x.replace(\"'\",''))\n",
    "submission2['PURCHASED_COUPONS'] = submission2['PURCHASED_COUPONS'].apply(lambda x: x.replace(',',''))\n",
    "# submission.drop(labels=['index'], axis=1, inplace=True)\n",
    "\n",
    "submission2.to_csv('test_submission_xgb2.csv', index=False)"
   ]
  },
  {
   "cell_type": "markdown",
   "metadata": {},
   "source": [
    "### B7. 검증(그래프 같은것들??)"
   ]
  },
  {
   "cell_type": "markdown",
   "metadata": {},
   "source": [
    "### B8. submission"
   ]
  },
  {
   "cell_type": "code",
   "execution_count": null,
   "metadata": {},
   "outputs": [],
   "source": []
  },
  {
   "cell_type": "markdown",
   "metadata": {},
   "source": [
    "# A까지 진행하고 EDA 좀 더 진행"
   ]
  },
  {
   "cell_type": "code",
   "execution_count": null,
   "metadata": {},
   "outputs": [],
   "source": [
    "eda_df = train.copy()"
   ]
  },
  {
   "cell_type": "code",
   "execution_count": null,
   "metadata": {
    "scrolled": true
   },
   "outputs": [],
   "source": [
    "train.columns"
   ]
  },
  {
   "cell_type": "code",
   "execution_count": null,
   "metadata": {},
   "outputs": [],
   "source": [
    "train['ITEM_COUNT'] = train['ITEM_COUNT'].fillna(0)"
   ]
  },
  {
   "cell_type": "code",
   "execution_count": null,
   "metadata": {},
   "outputs": [],
   "source": [
    "df_view = pd.DataFrame(train.groupby(\"USER_ID_hash\")[\"PURCHASE_FLG\"].sum())"
   ]
  },
  {
   "cell_type": "code",
   "execution_count": null,
   "metadata": {},
   "outputs": [],
   "source": [
    "df_view.rename(columns={\"PURCHASE_FLG\":\"purchase_count\"}, inplace=True)"
   ]
  },
  {
   "cell_type": "code",
   "execution_count": null,
   "metadata": {},
   "outputs": [],
   "source": [
    "df_view['view_count'] = train.groupby(\"USER_ID_hash\")[\"VIEW\"].sum()"
   ]
  },
  {
   "cell_type": "code",
   "execution_count": null,
   "metadata": {},
   "outputs": [],
   "source": [
    "df_view['item_count'] = train.groupby(\"USER_ID_hash\")[\"ITEM_COUNT\"].sum()"
   ]
  },
  {
   "cell_type": "code",
   "execution_count": null,
   "metadata": {},
   "outputs": [],
   "source": [
    "df_view.view_count.describe()"
   ]
  },
  {
   "cell_type": "code",
   "execution_count": null,
   "metadata": {},
   "outputs": [],
   "source": [
    "def view_cat(x):\n",
    "    if x "
   ]
  },
  {
   "cell_type": "code",
   "execution_count": null,
   "metadata": {},
   "outputs": [],
   "source": [
    "df_view['view_cat'] = df_view['view_count'].apply()"
   ]
  },
  {
   "cell_type": "code",
   "execution_count": null,
   "metadata": {
    "scrolled": true
   },
   "outputs": [],
   "source": [
    "np.corrcoef(df_view['purchase_count'], df_view['view_count'])"
   ]
  },
  {
   "cell_type": "code",
   "execution_count": null,
   "metadata": {},
   "outputs": [],
   "source": [
    "np.corrcoef(df_view['purchase_count'], df_view['item_count'])"
   ]
  },
  {
   "cell_type": "code",
   "execution_count": null,
   "metadata": {},
   "outputs": [],
   "source": [
    "np.corrcoef(df_view['view_count'], df_view['item_count'])"
   ]
  },
  {
   "cell_type": "code",
   "execution_count": null,
   "metadata": {},
   "outputs": [],
   "source": [
    "x = df_view['item_count']\n",
    "y = df_view['view_count']\n",
    "plt.figure(figsize=(10,10))\n",
    "plt.scatter(x,y)\n",
    "plt.xlim(-10,200)\n",
    "plt.ylim(-30,2500)\n",
    "\n",
    "plt.show()"
   ]
  },
  {
   "cell_type": "markdown",
   "metadata": {},
   "source": [
    "# 오버샘플링"
   ]
  },
  {
   "cell_type": "code",
   "execution_count": null,
   "metadata": {
    "scrolled": true
   },
   "outputs": [],
   "source": [
    "summary_table(X_train)"
   ]
  },
  {
   "cell_type": "code",
   "execution_count": null,
   "metadata": {},
   "outputs": [],
   "source": [
    "X_train.drop('proba_case',1, inplace=True)"
   ]
  },
  {
   "cell_type": "code",
   "execution_count": null,
   "metadata": {
    "scrolled": true
   },
   "outputs": [],
   "source": [
    "X_train.columns"
   ]
  },
  {
   "cell_type": "code",
   "execution_count": null,
   "metadata": {},
   "outputs": [],
   "source": [
    "X_train2"
   ]
  },
  {
   "cell_type": "code",
   "execution_count": null,
   "metadata": {
    "scrolled": true
   },
   "outputs": [],
   "source": [
    "from imblearn.over_sampling import *\n",
    "\n",
    "X1, y1 = SMOTE(random_state=0).fit_sample(X_train,y_train)"
   ]
  },
  {
   "cell_type": "code",
   "execution_count": null,
   "metadata": {},
   "outputs": [],
   "source": [
    "X1 = pd.DataFrame(X1, columns=X_train.columns)"
   ]
  },
  {
   "cell_type": "code",
   "execution_count": null,
   "metadata": {},
   "outputs": [],
   "source": [
    "X.shape"
   ]
  },
  {
   "cell_type": "code",
   "execution_count": null,
   "metadata": {},
   "outputs": [],
   "source": [
    "len(X_train)"
   ]
  },
  {
   "cell_type": "code",
   "execution_count": null,
   "metadata": {
    "scrolled": true
   },
   "outputs": [],
   "source": [
    "X.head()"
   ]
  },
  {
   "cell_type": "code",
   "execution_count": null,
   "metadata": {},
   "outputs": [],
   "source": [
    "X_train.head()"
   ]
  },
  {
   "cell_type": "code",
   "execution_count": null,
   "metadata": {
    "scrolled": true
   },
   "outputs": [],
   "source": [
    "X.columns, X_train.columns"
   ]
  },
  {
   "cell_type": "markdown",
   "metadata": {},
   "source": [
    "# 언더 샘플링"
   ]
  },
  {
   "cell_type": "code",
   "execution_count": null,
   "metadata": {},
   "outputs": [],
   "source": [
    "from imblearn.under_sampling import *\n",
    "X2, y2 = NeighbourhoodCleaningRule(random_state=0).fit_sample(X_train,y_train)\n",
    "X2 = pd.DataFrame(X2, columns=X_train.columns)"
   ]
  },
  {
   "cell_type": "code",
   "execution_count": null,
   "metadata": {},
   "outputs": [],
   "source": [
    "from imblearn.combine import *\n",
    "X2, y2 = SMOTETomek(random_state=0).fit_sample(X_train,y_train)\n",
    "X2 = pd.DataFrame(X2, columns=X_train.columns)"
   ]
  },
  {
   "cell_type": "code",
   "execution_count": null,
   "metadata": {},
   "outputs": [],
   "source": [
    "proba = train.copy()"
   ]
  },
  {
   "cell_type": "code",
   "execution_count": null,
   "metadata": {},
   "outputs": [],
   "source": [
    "train.isnu"
   ]
  },
  {
   "cell_type": "code",
   "execution_count": null,
   "metadata": {
    "scrolled": true
   },
   "outputs": [],
   "source": [
    "proba.columns"
   ]
  },
  {
   "cell_type": "code",
   "execution_count": null,
   "metadata": {},
   "outputs": [],
   "source": [
    "ls = ['PURCHASE_FLG', 'GENRE_NAME', 'Case','spot_pref']\n",
    "proba1 = proba.filter(ls)"
   ]
  },
  {
   "cell_type": "code",
   "execution_count": null,
   "metadata": {},
   "outputs": [],
   "source": [
    "result = pd.DataFrame(proba1.groupby('Case')['PURCHASE_FLG'].count())\n",
    "result['구매수'] = proba1.groupby('Case')['PURCHASE_FLG'].sum()"
   ]
  },
  {
   "cell_type": "code",
   "execution_count": null,
   "metadata": {},
   "outputs": [],
   "source": [
    "result.rename(columns={'PURCHASE_FLG':'총개수'}, inplace=True)"
   ]
  },
  {
   "cell_type": "code",
   "execution_count": null,
   "metadata": {},
   "outputs": [],
   "source": [
    "result['proba_case'] = result['구매수'] / result['총개수'] * 100"
   ]
  },
  {
   "cell_type": "code",
   "execution_count": null,
   "metadata": {},
   "outputs": [],
   "source": [
    "result"
   ]
  },
  {
   "cell_type": "code",
   "execution_count": null,
   "metadata": {},
   "outputs": [],
   "source": [
    "result.to_csv('proba_case', encoding='utf-8')"
   ]
  },
  {
   "cell_type": "code",
   "execution_count": null,
   "metadata": {},
   "outputs": [],
   "source": [
    "result2 = pd.DataFrame(proba1.groupby('GENRE_NAME')['PURCHASE_FLG'].count())\n",
    "result2['구매수'] = proba1.groupby('GENRE_NAME')['PURCHASE_FLG'].sum()\n",
    "\n",
    "result2.rename(columns={'PURCHASE_FLG':'총개수'}, inplace=True)\n",
    "\n",
    "result2['proba_GENRE_NAME'] = result2['구매수'] / result2['총개수'] * 100"
   ]
  },
  {
   "cell_type": "code",
   "execution_count": null,
   "metadata": {},
   "outputs": [],
   "source": [
    "result2"
   ]
  },
  {
   "cell_type": "code",
   "execution_count": null,
   "metadata": {},
   "outputs": [],
   "source": [
    "result2.to_csv('proba_genre', encoding='utf-8')"
   ]
  },
  {
   "cell_type": "code",
   "execution_count": null,
   "metadata": {},
   "outputs": [],
   "source": [
    "summary_table(proba)"
   ]
  },
  {
   "cell_type": "code",
   "execution_count": null,
   "metadata": {},
   "outputs": [],
   "source": [
    "result3 = pd.DataFrame(proba1.groupby('spot_pref')['PURCHASE_FLG'].count())\n",
    "result3['구매수'] = proba1.groupby('spot_pref')['PURCHASE_FLG'].sum()\n",
    "\n",
    "result3.rename(columns={'PURCHASE_FLG':'총개수'}, inplace=True)\n",
    "\n",
    "result3['proba_spot_pref'] = result3['구매수'] / result3['총개수'] * 100"
   ]
  },
  {
   "cell_type": "code",
   "execution_count": null,
   "metadata": {},
   "outputs": [],
   "source": [
    "result3"
   ]
  },
  {
   "cell_type": "code",
   "execution_count": null,
   "metadata": {},
   "outputs": [],
   "source": [
    "result3.to_csv('proba_location', encoding='utf-8')"
   ]
  },
  {
   "cell_type": "markdown",
   "metadata": {},
   "source": [
    "### visit proba"
   ]
  },
  {
   "cell_type": "code",
   "execution_count": null,
   "metadata": {},
   "outputs": [],
   "source": [
    "ls1 = ['PURCHASE_FLG', 'GENRE_NAME', 'Case','spot_pref','VIEW']\n",
    "proba1 = proba.filter(ls1)\n",
    "proba1 = proba1[proba1['VIEW'] == 1]"
   ]
  },
  {
   "cell_type": "code",
   "execution_count": null,
   "metadata": {},
   "outputs": [],
   "source": [
    "result4 = pd.DataFrame(proba1.groupby('GENRE_NAME')['VIEW'].count())\n",
    "result4['구매수'] = proba1.groupby('GENRE_NAME')['PURCHASE_FLG'].sum()\n",
    "\n",
    "result4.rename(columns={'VIEW':'총개수'}, inplace=True)\n",
    "\n",
    "result4['visit_proba_GENRE_NAME'] = result4['구매수'] / result4['총개수'] * 100\n",
    "\n",
    "result4.to_csv('visit_proba_genre', encoding='utf-8')"
   ]
  },
  {
   "cell_type": "code",
   "execution_count": null,
   "metadata": {},
   "outputs": [],
   "source": [
    "result5 = pd.DataFrame(proba1.groupby('Case')['VIEW'].count())\n",
    "result5['구매수'] = proba1.groupby('Case')['PURCHASE_FLG'].sum()\n",
    "\n",
    "result5.rename(columns={'VIEW':'총개수'}, inplace=True)\n",
    "\n",
    "result5['visit_proba_case'] = result5['구매수'] / result5['총개수'] * 100\n",
    "\n",
    "result5.to_csv('visit_proba_case', encoding='utf-8')"
   ]
  },
  {
   "cell_type": "code",
   "execution_count": null,
   "metadata": {},
   "outputs": [],
   "source": [
    "result6 = pd.DataFrame(proba1.groupby('spot_pref')['VIEW'].count())\n",
    "result6['구매수'] = proba1.groupby('spot_pref')['PURCHASE_FLG'].sum()\n",
    "\n",
    "result6.rename(columns={'VIEW':'총개수'}, inplace=True)\n",
    "\n",
    "result6['visit_proba_spot_pref'] = result6['구매수'] / result6['총개수'] * 100\n",
    "\n",
    "result6.to_csv('visit_proba_spot_pref', encoding='utf-8')"
   ]
  },
  {
   "cell_type": "code",
   "execution_count": null,
   "metadata": {},
   "outputs": [],
   "source": [
    "result6"
   ]
  },
  {
   "cell_type": "code",
   "execution_count": null,
   "metadata": {},
   "outputs": [],
   "source": [
    "train.columns"
   ]
  },
  {
   "cell_type": "code",
   "execution_count": null,
   "metadata": {},
   "outputs": [],
   "source": [
    "ls3 = ['PURCHASE_FLG', 'GENRE_NAME', 'USABLE_DATE_MON',\n",
    "       'USABLE_DATE_TUE', 'USABLE_DATE_WED', 'USABLE_DATE_THU',\n",
    "       'USABLE_DATE_FRI', 'USABLE_DATE_SAT', 'USABLE_DATE_SUN',\n",
    "       'USABLE_DATE_HOLIDAY', 'USABLE_DATE_BEFORE_HOLIDAY']\n",
    "proba3 = proba.filter(ls3)\n",
    "\n",
    "\n",
    "proba3['usable_week'] = proba3['USABLE_DATE_MON'] + proba3['USABLE_DATE_WED'] + proba3['USABLE_DATE_THU'] + proba3['USABLE_DATE_FRI'] + proba3['USABLE_DATE_SAT'] + proba3['USABLE_DATE_SUN'] + proba3['USABLE_DATE_TUE'] + proba3['USABLE_DATE_BEFORE_HOLIDAY'] + proba3['USABLE_DATE_HOLIDAY']\n",
    "\n",
    "result5 = pd.DataFrame(proba3.groupby('usable_week')['PURCHASE_FLG'].count())\n",
    "result5['구매수'] = proba3.groupby('usable_week')['PURCHASE_FLG'].sum()\n",
    "\n",
    "result5.rename(columns={'PURCHASE_FLG':'총개수'}, inplace=True)\n",
    "\n",
    "result5['visit_proba_GENRE_NAME'] = result5['구매수'] / result5['총개수'] * 100"
   ]
  },
  {
   "cell_type": "code",
   "execution_count": null,
   "metadata": {},
   "outputs": [],
   "source": [
    "# 전처리 후 \n",
    "result5"
   ]
  },
  {
   "cell_type": "code",
   "execution_count": null,
   "metadata": {},
   "outputs": [],
   "source": [
    "# 전처리 전 \n",
    "result5"
   ]
  },
  {
   "cell_type": "code",
   "execution_count": null,
   "metadata": {},
   "outputs": [],
   "source": []
  }
 ],
 "metadata": {
  "kernelspec": {
   "display_name": "Python 3",
   "language": "python",
   "name": "python3"
  },
  "language_info": {
   "codemirror_mode": {
    "name": "ipython",
    "version": 3
   },
   "file_extension": ".py",
   "mimetype": "text/x-python",
   "name": "python",
   "nbconvert_exporter": "python",
   "pygments_lexer": "ipython3",
   "version": "3.5.2"
  }
 },
 "nbformat": 4,
 "nbformat_minor": 2
}
