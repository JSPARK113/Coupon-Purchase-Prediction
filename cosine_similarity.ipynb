{
 "cells": [
  {
   "cell_type": "code",
   "execution_count": 4,
   "metadata": {},
   "outputs": [],
   "source": [
    "from imblearn.combine import *\n",
    "from imblearn.over_sampling import *\n",
    "from imblearn.under_sampling import *"
   ]
  },
  {
   "cell_type": "code",
   "execution_count": 2,
   "metadata": {},
   "outputs": [],
   "source": [
    "import numpy as np\n",
    "import scipy as sp\n",
    "import pandas as pd\n",
    "import statsmodels.api as sm\n",
    "import statsmodels.formula.api as smf\n",
    "import statsmodels.stats.api as sms\n",
    "import sklearn as sk\n",
    "import datetime as dt\n",
    "\n",
    "# import matplotlib as mpl\n",
    "# mpl.use('Agg')\n",
    "# import matplotlib.pylab as plt\n",
    "# from mpl_toolkits.mplot3d import Axes3D\n",
    "%matplotlib inline\n",
    "from sklearn.preprocessing import Imputer\n",
    "from sklearn.tree import DecisionTreeClassifier\n",
    "from sklearn.metrics import confusion_matrix\n",
    "from sklearn.metrics import classification_report\n",
    "from sklearn.ensemble import RandomForestClassifier, ExtraTreesClassifier\n",
    "from sklearn.tree import DecisionTreeClassifier\n",
    "import seaborn as sns\n",
    "sns.set()\n",
    "sns.set_style(\"whitegrid\")\n",
    "sns.set_color_codes()\n",
    "''\n",
    "import warnings\n",
    "\n",
    "warnings.filterwarnings('ignore')"
   ]
  },
  {
   "cell_type": "code",
   "execution_count": 73,
   "metadata": {},
   "outputs": [],
   "source": [
    "aa = pd.read_csv('./coupon_data_project2/coupon_detail_train_translated_en.csv', parse_dates=['I_DATE'])\n"
   ]
  },
  {
   "cell_type": "code",
   "execution_count": 75,
   "metadata": {},
   "outputs": [
    {
     "data": {
      "text/plain": [
       "22782"
      ]
     },
     "execution_count": 75,
     "metadata": {},
     "output_type": "execute_result"
    }
   ],
   "source": [
    "len(aa['USER_ID_hash'].unique())"
   ]
  },
  {
   "cell_type": "code",
   "execution_count": null,
   "metadata": {},
   "outputs": [],
   "source": []
  },
  {
   "cell_type": "code",
   "execution_count": 3,
   "metadata": {},
   "outputs": [],
   "source": [
    "# train \n",
    "detail_train = pd.read_csv('./coupon_data_project2/coupon_detail_train_translated_en.csv', parse_dates=['I_DATE'])\n",
    "visit_train = pd.read_csv('./coupon_data_project2/coupon_visit_train.csv', parse_dates=['I_DATE'])\n",
    "\n",
    "area_train = pd.read_csv('./coupon_data_project2/coupon_area_train_translated_en.csv')\n",
    "coupon_list_train = pd.read_csv('./coupon_data_project2/coupon_list_train_translated_en.csv', parse_dates=['DISPFROM', 'DISPEND', 'VALIDFROM', 'VALIDEND'])\n",
    "\n",
    "# base data\n",
    "location = pd.read_csv('./coupon_data_project2/train_location.csv')\n",
    "user_list = pd.read_csv('./coupon_data_project2/user_list_translated_en.csv', parse_dates=['WITHDRAW_DATE', 'REG_DATE'])\n",
    "\n",
    "# test data\n",
    "area_test = pd.read_csv('./coupon_data_project2/test_location.csv')\n",
    "coupon_list_test = pd.read_csv('./coupon_data_project2/coupon_list_test_translated_en.csv', parse_dates=['DISPFROM', 'DISPEND', 'VALIDFROM', 'VALIDEND'])\n",
    "\n",
    "# submisiion\n",
    "submission = pd.read_csv('./coupon_data_project2/sample_submission.csv')"
   ]
  },
  {
   "cell_type": "code",
   "execution_count": 68,
   "metadata": {},
   "outputs": [
    {
     "data": {
      "text/html": [
       "<div>\n",
       "<style>\n",
       "    .dataframe thead tr:only-child th {\n",
       "        text-align: right;\n",
       "    }\n",
       "\n",
       "    .dataframe thead th {\n",
       "        text-align: left;\n",
       "    }\n",
       "\n",
       "    .dataframe tbody tr th {\n",
       "        vertical-align: top;\n",
       "    }\n",
       "</style>\n",
       "<table border=\"1\" class=\"dataframe\">\n",
       "  <thead>\n",
       "    <tr style=\"text-align: right;\">\n",
       "      <th></th>\n",
       "      <th>USER_ID_hash</th>\n",
       "      <th>PURCHASED_COUPONS</th>\n",
       "    </tr>\n",
       "  </thead>\n",
       "  <tbody>\n",
       "    <tr>\n",
       "      <th>0</th>\n",
       "      <td>0000b53e182165208887ba65c079fc21</td>\n",
       "      <td>NaN</td>\n",
       "    </tr>\n",
       "    <tr>\n",
       "      <th>1</th>\n",
       "      <td>00035b86e6884589ec8d28fbf2fe7757</td>\n",
       "      <td>NaN</td>\n",
       "    </tr>\n",
       "    <tr>\n",
       "      <th>2</th>\n",
       "      <td>0005b1068d5f2b8f2a7c978fcfe1ca06</td>\n",
       "      <td>NaN</td>\n",
       "    </tr>\n",
       "    <tr>\n",
       "      <th>3</th>\n",
       "      <td>000cc06982785a19e2a2fdb40b1c9d59</td>\n",
       "      <td>NaN</td>\n",
       "    </tr>\n",
       "    <tr>\n",
       "      <th>4</th>\n",
       "      <td>0013518e41c416cd6a181d277dd8ca0b</td>\n",
       "      <td>NaN</td>\n",
       "    </tr>\n",
       "    <tr>\n",
       "      <th>5</th>\n",
       "      <td>001acdee812a18acfd7509172bed5700</td>\n",
       "      <td>NaN</td>\n",
       "    </tr>\n",
       "    <tr>\n",
       "      <th>6</th>\n",
       "      <td>001fd7876e3aa29393537c6baf308e43</td>\n",
       "      <td>NaN</td>\n",
       "    </tr>\n",
       "    <tr>\n",
       "      <th>7</th>\n",
       "      <td>002383753c1e5d6305c8aff6f89e26d6</td>\n",
       "      <td>NaN</td>\n",
       "    </tr>\n",
       "    <tr>\n",
       "      <th>8</th>\n",
       "      <td>0025cae7997d25ea5cf8851bb099c798</td>\n",
       "      <td>NaN</td>\n",
       "    </tr>\n",
       "    <tr>\n",
       "      <th>9</th>\n",
       "      <td>002822059a01d895fad84f2f2ff5c1f1</td>\n",
       "      <td>NaN</td>\n",
       "    </tr>\n",
       "    <tr>\n",
       "      <th>10</th>\n",
       "      <td>002ae30377cd30f65652e52618e8b2d6</td>\n",
       "      <td>NaN</td>\n",
       "    </tr>\n",
       "    <tr>\n",
       "      <th>11</th>\n",
       "      <td>002b08971471e6083dd716f6c3bb6572</td>\n",
       "      <td>NaN</td>\n",
       "    </tr>\n",
       "    <tr>\n",
       "      <th>12</th>\n",
       "      <td>002bbdd51b2a042c051c66c43b55439a</td>\n",
       "      <td>NaN</td>\n",
       "    </tr>\n",
       "    <tr>\n",
       "      <th>13</th>\n",
       "      <td>002f5c29fdf99b4115bf4a93c9241d19</td>\n",
       "      <td>NaN</td>\n",
       "    </tr>\n",
       "    <tr>\n",
       "      <th>14</th>\n",
       "      <td>003a7b4941222b7e507fdc9e95de2cc1</td>\n",
       "      <td>NaN</td>\n",
       "    </tr>\n",
       "    <tr>\n",
       "      <th>15</th>\n",
       "      <td>003e02424d0a6ec3ee80d231939fac7c</td>\n",
       "      <td>NaN</td>\n",
       "    </tr>\n",
       "    <tr>\n",
       "      <th>16</th>\n",
       "      <td>0042fc64a751d0b98e9148e3c366d319</td>\n",
       "      <td>NaN</td>\n",
       "    </tr>\n",
       "    <tr>\n",
       "      <th>17</th>\n",
       "      <td>00441c9b51cfe60b82bdf7a20ad79fc8</td>\n",
       "      <td>NaN</td>\n",
       "    </tr>\n",
       "    <tr>\n",
       "      <th>18</th>\n",
       "      <td>00454d0ad87f2e423cc3cc201fde8c8c</td>\n",
       "      <td>NaN</td>\n",
       "    </tr>\n",
       "    <tr>\n",
       "      <th>19</th>\n",
       "      <td>0047658498c5026a2bfa33b6f0573766</td>\n",
       "      <td>NaN</td>\n",
       "    </tr>\n",
       "    <tr>\n",
       "      <th>20</th>\n",
       "      <td>0047a9d43268c7cddf4a874c3dbb6f9f</td>\n",
       "      <td>NaN</td>\n",
       "    </tr>\n",
       "    <tr>\n",
       "      <th>21</th>\n",
       "      <td>004c5867575223ca7d7d3de4e8e1e23a</td>\n",
       "      <td>NaN</td>\n",
       "    </tr>\n",
       "    <tr>\n",
       "      <th>22</th>\n",
       "      <td>004d75de304e67612ec60e675af66839</td>\n",
       "      <td>NaN</td>\n",
       "    </tr>\n",
       "    <tr>\n",
       "      <th>23</th>\n",
       "      <td>004e1508270f3c9a0eb3cdfe89470c12</td>\n",
       "      <td>NaN</td>\n",
       "    </tr>\n",
       "    <tr>\n",
       "      <th>24</th>\n",
       "      <td>004e3f8a3635f9a0144771feaf8a1e32</td>\n",
       "      <td>NaN</td>\n",
       "    </tr>\n",
       "    <tr>\n",
       "      <th>25</th>\n",
       "      <td>004f67d329e3e56adef98c9aa8074e97</td>\n",
       "      <td>NaN</td>\n",
       "    </tr>\n",
       "    <tr>\n",
       "      <th>26</th>\n",
       "      <td>004f6fe912f2fa81036a47204eb69451</td>\n",
       "      <td>NaN</td>\n",
       "    </tr>\n",
       "    <tr>\n",
       "      <th>27</th>\n",
       "      <td>0051705e1aedf39d6c3019ef7a71d480</td>\n",
       "      <td>NaN</td>\n",
       "    </tr>\n",
       "    <tr>\n",
       "      <th>28</th>\n",
       "      <td>00563f5737892fc2f75f70bf794f4b43</td>\n",
       "      <td>NaN</td>\n",
       "    </tr>\n",
       "    <tr>\n",
       "      <th>29</th>\n",
       "      <td>0057e72575079113710648ae0f726d97</td>\n",
       "      <td>NaN</td>\n",
       "    </tr>\n",
       "    <tr>\n",
       "      <th>...</th>\n",
       "      <td>...</td>\n",
       "      <td>...</td>\n",
       "    </tr>\n",
       "    <tr>\n",
       "      <th>22843</th>\n",
       "      <td>ffb4cb9419b6f156a2b26252aa0132ae</td>\n",
       "      <td>NaN</td>\n",
       "    </tr>\n",
       "    <tr>\n",
       "      <th>22844</th>\n",
       "      <td>ffb5c3ae7d5725689c74caebd44a8a62</td>\n",
       "      <td>NaN</td>\n",
       "    </tr>\n",
       "    <tr>\n",
       "      <th>22845</th>\n",
       "      <td>ffb688037381369f52268077d3941123</td>\n",
       "      <td>NaN</td>\n",
       "    </tr>\n",
       "    <tr>\n",
       "      <th>22846</th>\n",
       "      <td>ffb98d47f0b6bbf06cb1331e90a55179</td>\n",
       "      <td>NaN</td>\n",
       "    </tr>\n",
       "    <tr>\n",
       "      <th>22847</th>\n",
       "      <td>ffba61b78f71f7071830adba316031c2</td>\n",
       "      <td>NaN</td>\n",
       "    </tr>\n",
       "    <tr>\n",
       "      <th>22848</th>\n",
       "      <td>ffbd0b34af16015bebe4dfa99ab66621</td>\n",
       "      <td>NaN</td>\n",
       "    </tr>\n",
       "    <tr>\n",
       "      <th>22849</th>\n",
       "      <td>ffbd648c50a96cc493e960805b3bd30f</td>\n",
       "      <td>NaN</td>\n",
       "    </tr>\n",
       "    <tr>\n",
       "      <th>22850</th>\n",
       "      <td>ffbe59c00a8949be5ecc5f1ed871eae0</td>\n",
       "      <td>NaN</td>\n",
       "    </tr>\n",
       "    <tr>\n",
       "      <th>22851</th>\n",
       "      <td>ffc1ebba501d00aca267ce914e9e3110</td>\n",
       "      <td>NaN</td>\n",
       "    </tr>\n",
       "    <tr>\n",
       "      <th>22852</th>\n",
       "      <td>ffc76df6fa752ce7b49bb0ea4c97396d</td>\n",
       "      <td>NaN</td>\n",
       "    </tr>\n",
       "    <tr>\n",
       "      <th>22853</th>\n",
       "      <td>ffc7d9a1cf343d1246c047b6c1984454</td>\n",
       "      <td>NaN</td>\n",
       "    </tr>\n",
       "    <tr>\n",
       "      <th>22854</th>\n",
       "      <td>ffc9da5c3d1f082c50a120fe2be90913</td>\n",
       "      <td>NaN</td>\n",
       "    </tr>\n",
       "    <tr>\n",
       "      <th>22855</th>\n",
       "      <td>ffca89ec6ac84029fe7448e4e1c1adf6</td>\n",
       "      <td>NaN</td>\n",
       "    </tr>\n",
       "    <tr>\n",
       "      <th>22856</th>\n",
       "      <td>ffcd4d5b3682b27845c80ffc16c8c08b</td>\n",
       "      <td>NaN</td>\n",
       "    </tr>\n",
       "    <tr>\n",
       "      <th>22857</th>\n",
       "      <td>ffd5c4f2a415910b2bb96c0c68a1fcdd</td>\n",
       "      <td>NaN</td>\n",
       "    </tr>\n",
       "    <tr>\n",
       "      <th>22858</th>\n",
       "      <td>ffd6f660f3688968efa198ee888b1443</td>\n",
       "      <td>NaN</td>\n",
       "    </tr>\n",
       "    <tr>\n",
       "      <th>22859</th>\n",
       "      <td>ffd96bf2eb13fb10a2a5b3ed09f05f7b</td>\n",
       "      <td>NaN</td>\n",
       "    </tr>\n",
       "    <tr>\n",
       "      <th>22860</th>\n",
       "      <td>ffda28af997f586147eb23d612894e56</td>\n",
       "      <td>NaN</td>\n",
       "    </tr>\n",
       "    <tr>\n",
       "      <th>22861</th>\n",
       "      <td>ffdf3421c09fe158686523cea5e8ac39</td>\n",
       "      <td>NaN</td>\n",
       "    </tr>\n",
       "    <tr>\n",
       "      <th>22862</th>\n",
       "      <td>ffe3e44dab6fd47bd9c02782640c4d4a</td>\n",
       "      <td>NaN</td>\n",
       "    </tr>\n",
       "    <tr>\n",
       "      <th>22863</th>\n",
       "      <td>ffe65332382f1f264d84fa85a44f564c</td>\n",
       "      <td>NaN</td>\n",
       "    </tr>\n",
       "    <tr>\n",
       "      <th>22864</th>\n",
       "      <td>ffe7362865b91c287affaf8912ef4750</td>\n",
       "      <td>NaN</td>\n",
       "    </tr>\n",
       "    <tr>\n",
       "      <th>22865</th>\n",
       "      <td>ffecfec48a5778f3e470d8a4fb804723</td>\n",
       "      <td>NaN</td>\n",
       "    </tr>\n",
       "    <tr>\n",
       "      <th>22866</th>\n",
       "      <td>ffed1129803b26815be16d5531a27250</td>\n",
       "      <td>NaN</td>\n",
       "    </tr>\n",
       "    <tr>\n",
       "      <th>22867</th>\n",
       "      <td>fff193f946ae515d405376cdf7895f78</td>\n",
       "      <td>NaN</td>\n",
       "    </tr>\n",
       "    <tr>\n",
       "      <th>22868</th>\n",
       "      <td>fff1a623187cefd7a594e338709b0f40</td>\n",
       "      <td>NaN</td>\n",
       "    </tr>\n",
       "    <tr>\n",
       "      <th>22869</th>\n",
       "      <td>fff4a076cfda6ff9dbe85e1cb678791b</td>\n",
       "      <td>NaN</td>\n",
       "    </tr>\n",
       "    <tr>\n",
       "      <th>22870</th>\n",
       "      <td>fff970d2014c3e10a77e38d540239017</td>\n",
       "      <td>NaN</td>\n",
       "    </tr>\n",
       "    <tr>\n",
       "      <th>22871</th>\n",
       "      <td>fffafc024e264d5d539813444cf61199</td>\n",
       "      <td>NaN</td>\n",
       "    </tr>\n",
       "    <tr>\n",
       "      <th>22872</th>\n",
       "      <td>ffff56dbf3c782c3532f88c6c79817ba</td>\n",
       "      <td>NaN</td>\n",
       "    </tr>\n",
       "  </tbody>\n",
       "</table>\n",
       "<p>22873 rows × 2 columns</p>\n",
       "</div>"
      ],
      "text/plain": [
       "                           USER_ID_hash  PURCHASED_COUPONS\n",
       "0      0000b53e182165208887ba65c079fc21                NaN\n",
       "1      00035b86e6884589ec8d28fbf2fe7757                NaN\n",
       "2      0005b1068d5f2b8f2a7c978fcfe1ca06                NaN\n",
       "3      000cc06982785a19e2a2fdb40b1c9d59                NaN\n",
       "4      0013518e41c416cd6a181d277dd8ca0b                NaN\n",
       "5      001acdee812a18acfd7509172bed5700                NaN\n",
       "6      001fd7876e3aa29393537c6baf308e43                NaN\n",
       "7      002383753c1e5d6305c8aff6f89e26d6                NaN\n",
       "8      0025cae7997d25ea5cf8851bb099c798                NaN\n",
       "9      002822059a01d895fad84f2f2ff5c1f1                NaN\n",
       "10     002ae30377cd30f65652e52618e8b2d6                NaN\n",
       "11     002b08971471e6083dd716f6c3bb6572                NaN\n",
       "12     002bbdd51b2a042c051c66c43b55439a                NaN\n",
       "13     002f5c29fdf99b4115bf4a93c9241d19                NaN\n",
       "14     003a7b4941222b7e507fdc9e95de2cc1                NaN\n",
       "15     003e02424d0a6ec3ee80d231939fac7c                NaN\n",
       "16     0042fc64a751d0b98e9148e3c366d319                NaN\n",
       "17     00441c9b51cfe60b82bdf7a20ad79fc8                NaN\n",
       "18     00454d0ad87f2e423cc3cc201fde8c8c                NaN\n",
       "19     0047658498c5026a2bfa33b6f0573766                NaN\n",
       "20     0047a9d43268c7cddf4a874c3dbb6f9f                NaN\n",
       "21     004c5867575223ca7d7d3de4e8e1e23a                NaN\n",
       "22     004d75de304e67612ec60e675af66839                NaN\n",
       "23     004e1508270f3c9a0eb3cdfe89470c12                NaN\n",
       "24     004e3f8a3635f9a0144771feaf8a1e32                NaN\n",
       "25     004f67d329e3e56adef98c9aa8074e97                NaN\n",
       "26     004f6fe912f2fa81036a47204eb69451                NaN\n",
       "27     0051705e1aedf39d6c3019ef7a71d480                NaN\n",
       "28     00563f5737892fc2f75f70bf794f4b43                NaN\n",
       "29     0057e72575079113710648ae0f726d97                NaN\n",
       "...                                 ...                ...\n",
       "22843  ffb4cb9419b6f156a2b26252aa0132ae                NaN\n",
       "22844  ffb5c3ae7d5725689c74caebd44a8a62                NaN\n",
       "22845  ffb688037381369f52268077d3941123                NaN\n",
       "22846  ffb98d47f0b6bbf06cb1331e90a55179                NaN\n",
       "22847  ffba61b78f71f7071830adba316031c2                NaN\n",
       "22848  ffbd0b34af16015bebe4dfa99ab66621                NaN\n",
       "22849  ffbd648c50a96cc493e960805b3bd30f                NaN\n",
       "22850  ffbe59c00a8949be5ecc5f1ed871eae0                NaN\n",
       "22851  ffc1ebba501d00aca267ce914e9e3110                NaN\n",
       "22852  ffc76df6fa752ce7b49bb0ea4c97396d                NaN\n",
       "22853  ffc7d9a1cf343d1246c047b6c1984454                NaN\n",
       "22854  ffc9da5c3d1f082c50a120fe2be90913                NaN\n",
       "22855  ffca89ec6ac84029fe7448e4e1c1adf6                NaN\n",
       "22856  ffcd4d5b3682b27845c80ffc16c8c08b                NaN\n",
       "22857  ffd5c4f2a415910b2bb96c0c68a1fcdd                NaN\n",
       "22858  ffd6f660f3688968efa198ee888b1443                NaN\n",
       "22859  ffd96bf2eb13fb10a2a5b3ed09f05f7b                NaN\n",
       "22860  ffda28af997f586147eb23d612894e56                NaN\n",
       "22861  ffdf3421c09fe158686523cea5e8ac39                NaN\n",
       "22862  ffe3e44dab6fd47bd9c02782640c4d4a                NaN\n",
       "22863  ffe65332382f1f264d84fa85a44f564c                NaN\n",
       "22864  ffe7362865b91c287affaf8912ef4750                NaN\n",
       "22865  ffecfec48a5778f3e470d8a4fb804723                NaN\n",
       "22866  ffed1129803b26815be16d5531a27250                NaN\n",
       "22867  fff193f946ae515d405376cdf7895f78                NaN\n",
       "22868  fff1a623187cefd7a594e338709b0f40                NaN\n",
       "22869  fff4a076cfda6ff9dbe85e1cb678791b                NaN\n",
       "22870  fff970d2014c3e10a77e38d540239017                NaN\n",
       "22871  fffafc024e264d5d539813444cf61199                NaN\n",
       "22872  ffff56dbf3c782c3532f88c6c79817ba                NaN\n",
       "\n",
       "[22873 rows x 2 columns]"
      ]
     },
     "execution_count": 68,
     "metadata": {},
     "output_type": "execute_result"
    }
   ],
   "source": [
    "submission"
   ]
  },
  {
   "cell_type": "code",
   "execution_count": 5,
   "metadata": {},
   "outputs": [],
   "source": [
    "# 테이블 현황 파악을 위한 함수 \n",
    "def summary_table(table):\n",
    "    df = pd.DataFrame()\n",
    "    for i in table.columns:\n",
    "        name = i\n",
    "        dtype = table[i].dtype.name\n",
    "        null = table[i].isnull().sum()\n",
    "        act = table.shape[0] - null\n",
    "        unique = len(table[i].unique())\n",
    "        data = {'name': name, 'dtype': dtype, 'null': null, 'act': act, 'unique': unique}\n",
    "        df = df.append(data, ignore_index=True)\n",
    "    return df"
   ]
  },
  {
   "cell_type": "markdown",
   "metadata": {},
   "source": [
    "## detail 만 detail_train으로 저장하기"
   ]
  },
  {
   "cell_type": "markdown",
   "metadata": {},
   "source": [
    "## coupon list"
   ]
  },
  {
   "cell_type": "code",
   "execution_count": 8,
   "metadata": {},
   "outputs": [],
   "source": [
    "coupon_list = pd.merge(coupon_list_test, coupon_list_train, how='outer')"
   ]
  },
  {
   "cell_type": "code",
   "execution_count": 9,
   "metadata": {},
   "outputs": [
    {
     "data": {
      "text/plain": [
       "((310, 24), (19413, 24), (19723, 24))"
      ]
     },
     "execution_count": 9,
     "metadata": {},
     "output_type": "execute_result"
    }
   ],
   "source": [
    "coupon_list_test.shape, coupon_list_train.shape, coupon_list.shape"
   ]
  },
  {
   "cell_type": "code",
   "execution_count": 10,
   "metadata": {},
   "outputs": [],
   "source": [
    "# 캡슐과 장르 통합 및 명칭 변경\n",
    "coupon_list['Case'] = coupon_list['CAPSULE_TEXT'] + coupon_list['GENRE_NAME']\n",
    "coupon_list['Case'] = coupon_list['Case'].apply(lambda x: \"HOTEL\" if x == 'Guest houseHotel and Japanese hotel' \n",
    "                          or x == 'HotelHotel and Japanese hotel'\n",
    "                          or x == 'Japanese hotelHotel and Japanese hotel'\n",
    "                          or x == 'Japanse guest houseHotel and Japanese hotel'\n",
    "                          or x == 'LodgeHotel and Japanese hotel'\n",
    "                          or x == 'Public hotelHotel and Japanese hotel'\n",
    "                          or x == 'Resort innHotel and Japanese hotel'\n",
    "                          or x == 'Vacation rentalHotel and Japanese hotel'\n",
    "                          else \"NAIL\" if x == 'Nail and eye salonNail and eye salon'\n",
    "                          else \"HAIR\" if x == 'Hair salonHair salon'\n",
    "                          else \"FOOD\" if x == 'FoodFood'\n",
    "                          else \"SPA\" if x == 'SpaSpa'\n",
    "                          else \"BEAUTY\" if x == 'BeautyBeauty'\n",
    "                          else \"CLASS\" if x == 'ClassLesson'\n",
    "                          else \"CORRESPONDENCE\" if x == 'Correspondence courseLessonClassLesson'\n",
    "                          else \"DELIVERY\" if x == 'Delivery serviceDelivery service'\n",
    "                          else \"EVENT\" if x == 'EventOther coupon'\n",
    "                          else \"GIFT\" if x == 'Gift cardGift card'\n",
    "                          else \"HEALTH\" if x == 'Health and medicalHealth and medical'\n",
    "                          else \"LEISURE\" if x == 'LeisureLeisure'\n",
    "                          else \"LESSON\" if x == 'LessonLesson'\n",
    "                          else \"OTHER\" if x == 'OtherOther coupon'\n",
    "                          else \"RELAXATION\" if x == 'RelaxationRelaxation'\n",
    "                          else \"WEB\" if x == 'Web serviceOther coupon'\n",
    "                          else 'OTHER'\n",
    "                          )"
   ]
  },
  {
   "cell_type": "code",
   "execution_count": 11,
   "metadata": {},
   "outputs": [],
   "source": [
    "# 실판매가 게산\n",
    "coupon_list['Price'] = coupon_list['CATALOG_PRICE'] - coupon_list['DISCOUNT_PRICE']"
   ]
  },
  {
   "cell_type": "code",
   "execution_count": 12,
   "metadata": {},
   "outputs": [],
   "source": [
    "# 실판매가 정규화\n",
    "coupon_list[\"lnDPRICE\"] = np.log1p(coupon_list[\"Price\"])\n",
    "coupon_list[\"mDPRICE\"] = coupon_list.groupby(\"Case\")[\"lnDPRICE\"].transform(np.mean)\n",
    "coupon_list[\"sDPRICE\"] = coupon_list.groupby(\"Case\")[\"lnDPRICE\"].transform(np.std)\n",
    "coupon_list[\"zprice\"] = (coupon_list[\"lnDPRICE\"] - coupon_list[\"mDPRICE\"]) / coupon_list[\"sDPRICE\"]"
   ]
  },
  {
   "cell_type": "code",
   "execution_count": 13,
   "metadata": {},
   "outputs": [],
   "source": [
    "# 지역명 변경\n",
    "coupon_list.rename(columns = {\"LARGE_AREA_NAME\": \"spot_large\", \n",
    "                              \"ken_name\": \"spot_pref\", \n",
    "                              \"SMALL_AREA_NAME\": \"spot_small\"}, inplace=True)"
   ]
  },
  {
   "cell_type": "code",
   "execution_count": 14,
   "metadata": {},
   "outputs": [],
   "source": [
    "# usable: nan -> 1, 2 -> 0\n",
    "coupon_list['USABLE_DATE_MON'].replace([0,2,1,np.nan],[0,0,1,1], inplace=True)\n",
    "coupon_list['USABLE_DATE_TUE'].replace([0,2,1,np.nan],[0,0,1,1], inplace=True)\n",
    "coupon_list['USABLE_DATE_WED'].replace([0,2,1,np.nan],[0,0,1,1], inplace=True)\n",
    "coupon_list['USABLE_DATE_THU'].replace([0,2,1,np.nan],[0,0,1,1], inplace=True)\n",
    "coupon_list['USABLE_DATE_FRI'].replace([0,2,1,np.nan],[0,0,1,1], inplace=True)\n",
    "coupon_list['USABLE_DATE_SAT'].replace([0,2,1,np.nan],[0,0,1,1], inplace=True)\n",
    "coupon_list['USABLE_DATE_SUN'].replace([0,2,1,np.nan],[0,0,1,1], inplace=True)\n",
    "coupon_list['USABLE_DATE_HOLIDAY'].replace([0,2,1,np.nan],[0,0,1,1], inplace=True)\n",
    "coupon_list['USABLE_DATE_BEFORE_HOLIDAY'].replace([0,2,1,np.nan],[0,0,1,1], inplace=True)"
   ]
  },
  {
   "cell_type": "code",
   "execution_count": 15,
   "metadata": {
    "scrolled": true
   },
   "outputs": [
    {
     "data": {
      "text/plain": [
       "Index(['CAPSULE_TEXT', 'GENRE_NAME', 'PRICE_RATE', 'CATALOG_PRICE',\n",
       "       'DISCOUNT_PRICE', 'DISPFROM', 'DISPEND', 'DISPPERIOD', 'VALIDFROM',\n",
       "       'VALIDEND', 'VALIDPERIOD', 'USABLE_DATE_MON', 'USABLE_DATE_TUE',\n",
       "       'USABLE_DATE_WED', 'USABLE_DATE_THU', 'USABLE_DATE_FRI',\n",
       "       'USABLE_DATE_SAT', 'USABLE_DATE_SUN', 'USABLE_DATE_HOLIDAY',\n",
       "       'USABLE_DATE_BEFORE_HOLIDAY', 'spot_large', 'spot_pref', 'spot_small',\n",
       "       'COUPON_ID_hash', 'Case', 'Price', 'lnDPRICE', 'mDPRICE', 'sDPRICE',\n",
       "       'zprice'],\n",
       "      dtype='object')"
      ]
     },
     "execution_count": 15,
     "metadata": {},
     "output_type": "execute_result"
    }
   ],
   "source": [
    "coupon_list.columns"
   ]
  },
  {
   "cell_type": "code",
   "execution_count": 17,
   "metadata": {},
   "outputs": [],
   "source": [
    "coupon_list['VALIDPERIOD'] = coupon_list['VALIDPERIOD'].fillna(179)"
   ]
  },
  {
   "cell_type": "code",
   "execution_count": null,
   "metadata": {},
   "outputs": [],
   "source": [
    "# coupon_list.drop(labels = ['CAPSULE_TEXT'], axis=1, inplace=True )\n",
    "# coupon_list.drop(labels = ['sDPRICE'], axis=1, inplace=True )"
   ]
  },
  {
   "cell_type": "code",
   "execution_count": null,
   "metadata": {},
   "outputs": [],
   "source": [
    "# coupon_list.drop(labels = ['CAPSULE_TEXT'], axis=1, inplace=True )\n",
    "# coupon_list.drop(labels = ['GENRE_NAME'], axis=1, inplace=True )\n",
    "# coupon_list.drop(labels = ['CATALOG_PRICE'], axis=1, inplace=True )\n",
    "# coupon_list.drop(labels = ['DISCOUNT_PRICE'], axis=1, inplace=True )\n",
    "# coupon_list.drop(labels = ['DISPFROM'], axis=1, inplace=True )\n",
    "# coupon_list.drop(labels = ['DISPEND'], axis=1, inplace=True )\n",
    "# coupon_list.drop(labels = ['VALIDFROM'], axis=1, inplace=True )\n",
    "# coupon_list.drop(labels = ['VALIDEND'], axis=1, inplace=True )\n",
    "# coupon_list.drop(labels = ['lnDPRICE'], axis=1, inplace=True )\n",
    "# coupon_list.drop(labels = ['mDPRICE'], axis=1, inplace=True )\n",
    "# coupon_list.drop(labels = ['Price'], axis=1, inplace=True )\n",
    "# coupon_list.drop(labels = ['spot_pref'], axis=1, inplace=True )  # 판단이슈 \n",
    "# coupon_list.drop(labels = ['spot_small'], axis=1, inplace=True ) # 판단이슈 \n",
    "# coupon_list.drop(labels = ['spot_large'], axis=1, inplace=True ) # 판단이슈 \n",
    "# coupon_list.drop(labels = ['large_area_name'], axis=1, inplace=True ) # 판단이슈 "
   ]
  },
  {
   "cell_type": "code",
   "execution_count": 32,
   "metadata": {},
   "outputs": [
    {
     "data": {
      "text/plain": [
       "Index(['CAPSULE_TEXT', 'GENRE_NAME', 'PRICE_RATE', 'CATALOG_PRICE',\n",
       "       'DISCOUNT_PRICE', 'DISPFROM', 'DISPEND', 'DISPPERIOD', 'VALIDFROM',\n",
       "       'VALIDEND', 'VALIDPERIOD', 'USABLE_DATE_MON', 'USABLE_DATE_TUE',\n",
       "       'USABLE_DATE_WED', 'USABLE_DATE_THU', 'USABLE_DATE_FRI',\n",
       "       'USABLE_DATE_SAT', 'USABLE_DATE_SUN', 'USABLE_DATE_HOLIDAY',\n",
       "       'USABLE_DATE_BEFORE_HOLIDAY', 'spot_large', 'spot_pref', 'spot_small',\n",
       "       'COUPON_ID_hash', 'Price', 'lnDPRICE', 'mDPRICE', 'sDPRICE', 'zprice',\n",
       "       'Case_BEAUTY', 'Case_CLASS', 'Case_DELIVERY', 'Case_EVENT', 'Case_FOOD',\n",
       "       'Case_GIFT', 'Case_HAIR', 'Case_HEALTH', 'Case_HOTEL', 'Case_LEISURE',\n",
       "       'Case_LESSON', 'Case_NAIL', 'Case_OTHER', 'Case_RELAXATION', 'Case_SPA',\n",
       "       'Case_WEB'],\n",
       "      dtype='object')"
      ]
     },
     "execution_count": 32,
     "metadata": {},
     "output_type": "execute_result"
    }
   ],
   "source": [
    "coupon_list.columns"
   ]
  },
  {
   "cell_type": "code",
   "execution_count": 20,
   "metadata": {},
   "outputs": [],
   "source": [
    "# dummy 처리 할 column 명 넣어줌\n",
    "ls_dummy = ['Case']"
   ]
  },
  {
   "cell_type": "code",
   "execution_count": 21,
   "metadata": {},
   "outputs": [],
   "source": [
    "coupon_list = pd.get_dummies(coupon_list, columns = ls_dummy)"
   ]
  },
  {
   "cell_type": "code",
   "execution_count": 22,
   "metadata": {},
   "outputs": [],
   "source": [
    "# train set과 test set을 다시 분리\n",
    "coupon_list_train = coupon_list[311:]\n",
    "coupon_list_test = coupon_list[:310]"
   ]
  },
  {
   "cell_type": "markdown",
   "metadata": {},
   "source": [
    "# detail"
   ]
  },
  {
   "cell_type": "code",
   "execution_count": 44,
   "metadata": {},
   "outputs": [],
   "source": [
    "detail_train = pd.read_csv('./coupon_data_project2/coupon_detail_train_translated_en.csv', parse_dates=['I_DATE'])\n"
   ]
  },
  {
   "cell_type": "code",
   "execution_count": 45,
   "metadata": {},
   "outputs": [],
   "source": [
    "detail_train.rename(columns = {'I_DATE': 'purchase_date'}, inplace=True)\n",
    "detail_train.rename(columns = {'SMALL_AREA_NAME': 'resid_small'}, inplace=True)"
   ]
  },
  {
   "cell_type": "code",
   "execution_count": 46,
   "metadata": {},
   "outputs": [],
   "source": [
    "detail_train.drop(labels = ['ITEM_COUNT'], axis=1, inplace=True)\n",
    "detail_train.drop(labels = ['PURCHASEID_hash'], axis=1, inplace=True)\n",
    "detail_train.drop(labels = ['resid_small'], axis=1, inplace=True)\n",
    "detail_train.drop(labels = ['purchase_date'], axis=1, inplace=True)"
   ]
  },
  {
   "cell_type": "code",
   "execution_count": 47,
   "metadata": {},
   "outputs": [
    {
     "data": {
      "text/html": [
       "<div>\n",
       "<style>\n",
       "    .dataframe thead tr:only-child th {\n",
       "        text-align: right;\n",
       "    }\n",
       "\n",
       "    .dataframe thead th {\n",
       "        text-align: left;\n",
       "    }\n",
       "\n",
       "    .dataframe tbody tr th {\n",
       "        vertical-align: top;\n",
       "    }\n",
       "</style>\n",
       "<table border=\"1\" class=\"dataframe\">\n",
       "  <thead>\n",
       "    <tr style=\"text-align: right;\">\n",
       "      <th></th>\n",
       "      <th>USER_ID_hash</th>\n",
       "      <th>COUPON_ID_hash</th>\n",
       "    </tr>\n",
       "  </thead>\n",
       "  <tbody>\n",
       "    <tr>\n",
       "      <th>0</th>\n",
       "      <td>d9dca3cb44bab12ba313eaa681f663eb</td>\n",
       "      <td>34c48f84026e08355dc3bd19b427f09a</td>\n",
       "    </tr>\n",
       "    <tr>\n",
       "      <th>1</th>\n",
       "      <td>560574a339f1b25e57b0221e486907ed</td>\n",
       "      <td>767673b7a777854a92b73b0934ddfae7</td>\n",
       "    </tr>\n",
       "    <tr>\n",
       "      <th>2</th>\n",
       "      <td>560574a339f1b25e57b0221e486907ed</td>\n",
       "      <td>4f3b5b91d9831192557c056022fdc1f2</td>\n",
       "    </tr>\n",
       "    <tr>\n",
       "      <th>3</th>\n",
       "      <td>560574a339f1b25e57b0221e486907ed</td>\n",
       "      <td>4f3b5b91d9831192557c056022fdc1f2</td>\n",
       "    </tr>\n",
       "    <tr>\n",
       "      <th>4</th>\n",
       "      <td>560574a339f1b25e57b0221e486907ed</td>\n",
       "      <td>4f3b5b91d9831192557c056022fdc1f2</td>\n",
       "    </tr>\n",
       "  </tbody>\n",
       "</table>\n",
       "</div>"
      ],
      "text/plain": [
       "                       USER_ID_hash                    COUPON_ID_hash\n",
       "0  d9dca3cb44bab12ba313eaa681f663eb  34c48f84026e08355dc3bd19b427f09a\n",
       "1  560574a339f1b25e57b0221e486907ed  767673b7a777854a92b73b0934ddfae7\n",
       "2  560574a339f1b25e57b0221e486907ed  4f3b5b91d9831192557c056022fdc1f2\n",
       "3  560574a339f1b25e57b0221e486907ed  4f3b5b91d9831192557c056022fdc1f2\n",
       "4  560574a339f1b25e57b0221e486907ed  4f3b5b91d9831192557c056022fdc1f2"
      ]
     },
     "execution_count": 47,
     "metadata": {},
     "output_type": "execute_result"
    }
   ],
   "source": [
    "detail_train.head()"
   ]
  },
  {
   "cell_type": "code",
   "execution_count": 48,
   "metadata": {},
   "outputs": [],
   "source": [
    "detail_train = pd.merge(detail_train, coupon_list, how='left', on='COUPON_ID_hash')"
   ]
  },
  {
   "cell_type": "code",
   "execution_count": 49,
   "metadata": {
    "scrolled": true
   },
   "outputs": [
    {
     "data": {
      "text/plain": [
       "Index(['USER_ID_hash', 'COUPON_ID_hash', 'CAPSULE_TEXT', 'GENRE_NAME',\n",
       "       'PRICE_RATE', 'CATALOG_PRICE', 'DISCOUNT_PRICE', 'DISPFROM', 'DISPEND',\n",
       "       'DISPPERIOD', 'VALIDFROM', 'VALIDEND', 'VALIDPERIOD', 'USABLE_DATE_MON',\n",
       "       'USABLE_DATE_TUE', 'USABLE_DATE_WED', 'USABLE_DATE_THU',\n",
       "       'USABLE_DATE_FRI', 'USABLE_DATE_SAT', 'USABLE_DATE_SUN',\n",
       "       'USABLE_DATE_HOLIDAY', 'USABLE_DATE_BEFORE_HOLIDAY', 'spot_large',\n",
       "       'spot_pref', 'spot_small', 'Price', 'lnDPRICE', 'mDPRICE', 'sDPRICE',\n",
       "       'zprice', 'Case_BEAUTY', 'Case_CLASS', 'Case_DELIVERY', 'Case_EVENT',\n",
       "       'Case_FOOD', 'Case_GIFT', 'Case_HAIR', 'Case_HEALTH', 'Case_HOTEL',\n",
       "       'Case_LEISURE', 'Case_LESSON', 'Case_NAIL', 'Case_OTHER',\n",
       "       'Case_RELAXATION', 'Case_SPA', 'Case_WEB'],\n",
       "      dtype='object')"
      ]
     },
     "execution_count": 49,
     "metadata": {},
     "output_type": "execute_result"
    }
   ],
   "source": [
    "detail_train.columns"
   ]
  },
  {
   "cell_type": "code",
   "execution_count": 33,
   "metadata": {},
   "outputs": [],
   "source": [
    "# 2. replace hash string ---------------------------------\n",
    "user_ids = user_list.USER_ID_hash\n",
    "coupon_train_ids = coupon_list_train.COUPON_ID_hash\n",
    "\n",
    "# for test coupon, added 1000000 to IDs\n",
    "coupon_test_ids = coupon_list_test.COUPON_ID_hash\n",
    "coupon_test_ids.rename(lambda x : x + 1000000, inplace=True)\n",
    "coupon_ids = pd.concat([coupon_train_ids, coupon_test_ids])\n",
    "\n",
    "def replace_hash(hashes, hash_id_table):\n",
    "    replace_table = pd.Series(hash_id_table.index, index=hash_id_table.values)\n",
    "    return replace_table[hashes].values\n",
    "\n",
    "# replace hash and drop extra columns\n",
    "detail = detail_train.copy()\n",
    "detail[\"USER_ID\"] = replace_hash(detail.USER_ID_hash, user_ids)\n",
    "detail[\"COUPON_ID\"] = replace_hash(detail.COUPON_ID_hash, coupon_ids)\n",
    "detail = detail[[\"USER_ID\", \"COUPON_ID\"]]"
   ]
  },
  {
   "cell_type": "code",
   "execution_count": 34,
   "metadata": {
    "scrolled": false
   },
   "outputs": [
    {
     "data": {
      "text/plain": [
       "19412"
      ]
     },
     "execution_count": 34,
     "metadata": {},
     "output_type": "execute_result"
    }
   ],
   "source": [
    "len(np.unique(coupon_list_train.COUPON_ID_hash.values))"
   ]
  },
  {
   "cell_type": "code",
   "execution_count": 50,
   "metadata": {},
   "outputs": [
    {
     "data": {
      "text/plain": [
       "Index(['USER_ID_hash', 'COUPON_ID_hash', 'CAPSULE_TEXT', 'GENRE_NAME',\n",
       "       'PRICE_RATE', 'CATALOG_PRICE', 'DISCOUNT_PRICE', 'DISPFROM', 'DISPEND',\n",
       "       'DISPPERIOD', 'VALIDFROM', 'VALIDEND', 'VALIDPERIOD', 'USABLE_DATE_MON',\n",
       "       'USABLE_DATE_TUE', 'USABLE_DATE_WED', 'USABLE_DATE_THU',\n",
       "       'USABLE_DATE_FRI', 'USABLE_DATE_SAT', 'USABLE_DATE_SUN',\n",
       "       'USABLE_DATE_HOLIDAY', 'USABLE_DATE_BEFORE_HOLIDAY', 'spot_large',\n",
       "       'spot_pref', 'spot_small', 'Price', 'lnDPRICE', 'mDPRICE', 'sDPRICE',\n",
       "       'zprice', 'Case_BEAUTY', 'Case_CLASS', 'Case_DELIVERY', 'Case_EVENT',\n",
       "       'Case_FOOD', 'Case_GIFT', 'Case_HAIR', 'Case_HEALTH', 'Case_HOTEL',\n",
       "       'Case_LEISURE', 'Case_LESSON', 'Case_NAIL', 'Case_OTHER',\n",
       "       'Case_RELAXATION', 'Case_SPA', 'Case_WEB'],\n",
       "      dtype='object')"
      ]
     },
     "execution_count": 50,
     "metadata": {},
     "output_type": "execute_result"
    }
   ],
   "source": [
    "detail_train.columns"
   ]
  },
  {
   "cell_type": "markdown",
   "metadata": {},
   "source": [
    "## 필요없는 변수 지우기"
   ]
  },
  {
   "cell_type": "code",
   "execution_count": 51,
   "metadata": {},
   "outputs": [],
   "source": [
    "del_ls = ['spot_large', 'CAPSULE_TEXT', 'GENRE_NAME','VALIDFROM', 'VALIDEND', 'VALIDPERIOD',\n",
    "       'spot_pref', 'spot_small', 'Price', 'lnDPRICE', 'mDPRICE', 'sDPRICE']\n",
    "train = detail_train.drop(del_ls, 1)"
   ]
  },
  {
   "cell_type": "code",
   "execution_count": 62,
   "metadata": {
    "scrolled": true
   },
   "outputs": [
    {
     "data": {
      "text/plain": [
       "Index(['USER_ID_hash', 'COUPON_ID_hash', 'PRICE_RATE', 'CATALOG_PRICE',\n",
       "       'DISCOUNT_PRICE', 'DISPFROM', 'DISPEND', 'DISPPERIOD',\n",
       "       'USABLE_DATE_MON', 'USABLE_DATE_TUE', 'USABLE_DATE_WED',\n",
       "       'USABLE_DATE_THU', 'USABLE_DATE_FRI', 'USABLE_DATE_SAT',\n",
       "       'USABLE_DATE_SUN', 'USABLE_DATE_HOLIDAY', 'USABLE_DATE_BEFORE_HOLIDAY',\n",
       "       'zprice', 'Case_BEAUTY', 'Case_CLASS', 'Case_DELIVERY', 'Case_EVENT',\n",
       "       'Case_FOOD', 'Case_GIFT', 'Case_HAIR', 'Case_HEALTH', 'Case_HOTEL',\n",
       "       'Case_LEISURE', 'Case_LESSON', 'Case_NAIL', 'Case_OTHER',\n",
       "       'Case_RELAXATION', 'Case_SPA', 'Case_WEB'],\n",
       "      dtype='object')"
      ]
     },
     "execution_count": 62,
     "metadata": {},
     "output_type": "execute_result"
    }
   ],
   "source": [
    "train.columns"
   ]
  },
  {
   "cell_type": "markdown",
   "metadata": {},
   "source": [
    "### test 생성"
   ]
  },
  {
   "cell_type": "code",
   "execution_count": 63,
   "metadata": {},
   "outputs": [],
   "source": [
    "test = coupon_list_test.filter(train.columns)"
   ]
  },
  {
   "cell_type": "code",
   "execution_count": 65,
   "metadata": {
    "scrolled": true
   },
   "outputs": [
    {
     "name": "stdout",
     "output_type": "stream",
     "text": [
      "only_train: ['USER_ID_hash']  \n",
      "\n",
      "only_test: []\n"
     ]
    }
   ],
   "source": [
    "compare_not_test = [i for i in train.columns if i not in test.columns]\n",
    "compare_not_train = [i for i in test.columns if i not in train.columns]\n",
    "print('only_train: {}  \\n'.format(compare_not_test))\n",
    "print('only_test: {}'.format(compare_not_train))"
   ]
  },
  {
   "cell_type": "markdown",
   "metadata": {},
   "source": [
    "## 유사도 구하기"
   ]
  },
  {
   "cell_type": "code",
   "execution_count": 66,
   "metadata": {},
   "outputs": [],
   "source": [
    "train_drop_c = train.drop('COUPON_ID_hash', axis=1)\n",
    "user = train_drop_c.groupby(by='USER_ID_hash').apply(np.mean)"
   ]
  },
  {
   "cell_type": "code",
   "execution_count": 57,
   "metadata": {},
   "outputs": [
    {
     "data": {
      "text/plain": [
       "Index(['CAPSULE_TEXT', 'GENRE_NAME', 'PRICE_RATE', 'CATALOG_PRICE',\n",
       "       'DISCOUNT_PRICE', 'DISPFROM', 'DISPEND', 'DISPPERIOD', 'VALIDFROM',\n",
       "       'VALIDEND', 'VALIDPERIOD', 'USABLE_DATE_MON', 'USABLE_DATE_TUE',\n",
       "       'USABLE_DATE_WED', 'USABLE_DATE_THU', 'USABLE_DATE_FRI',\n",
       "       'USABLE_DATE_SAT', 'USABLE_DATE_SUN', 'USABLE_DATE_HOLIDAY',\n",
       "       'USABLE_DATE_BEFORE_HOLIDAY', 'spot_large', 'spot_pref', 'spot_small',\n",
       "       'Price', 'lnDPRICE', 'mDPRICE', 'sDPRICE', 'zprice', 'Case_BEAUTY',\n",
       "       'Case_CLASS', 'Case_DELIVERY', 'Case_EVENT', 'Case_FOOD', 'Case_GIFT',\n",
       "       'Case_HAIR', 'Case_HEALTH', 'Case_HOTEL', 'Case_LEISURE', 'Case_LESSON',\n",
       "       'Case_NAIL', 'Case_OTHER', 'Case_RELAXATION', 'Case_SPA', 'Case_WEB'],\n",
       "      dtype='object')"
      ]
     },
     "execution_count": 57,
     "metadata": {},
     "output_type": "execute_result"
    }
   ],
   "source": [
    "test_features = test.drop('COUPON_ID_hash', axis=1)\n",
    "test_features.columns"
   ]
  },
  {
   "cell_type": "code",
   "execution_count": null,
   "metadata": {},
   "outputs": [],
   "source": [
    "from sklearn.preprocessing import *"
   ]
  },
  {
   "cell_type": "code",
   "execution_count": 58,
   "metadata": {
    "scrolled": false
   },
   "outputs": [
    {
     "data": {
      "text/plain": [
       "((22782, 30), (310, 44))"
      ]
     },
     "execution_count": 58,
     "metadata": {},
     "output_type": "execute_result"
    }
   ],
   "source": [
    "user.shape, test_features.shape"
   ]
  },
  {
   "cell_type": "code",
   "execution_count": 59,
   "metadata": {
    "scrolled": true
   },
   "outputs": [
    {
     "data": {
      "text/plain": [
       "(PRICE_RATE                    0\n",
       " CATALOG_PRICE                 0\n",
       " DISCOUNT_PRICE                0\n",
       " DISPPERIOD                    0\n",
       " USABLE_DATE_MON               0\n",
       " USABLE_DATE_TUE               0\n",
       " USABLE_DATE_WED               0\n",
       " USABLE_DATE_THU               0\n",
       " USABLE_DATE_FRI               0\n",
       " USABLE_DATE_SAT               0\n",
       " USABLE_DATE_SUN               0\n",
       " USABLE_DATE_HOLIDAY           0\n",
       " USABLE_DATE_BEFORE_HOLIDAY    0\n",
       " zprice                        0\n",
       " Case_BEAUTY                   0\n",
       " Case_CLASS                    0\n",
       " Case_DELIVERY                 0\n",
       " Case_EVENT                    0\n",
       " Case_FOOD                     0\n",
       " Case_GIFT                     0\n",
       " Case_HAIR                     0\n",
       " Case_HEALTH                   0\n",
       " Case_HOTEL                    0\n",
       " Case_LEISURE                  0\n",
       " Case_LESSON                   0\n",
       " Case_NAIL                     0\n",
       " Case_OTHER                    0\n",
       " Case_RELAXATION               0\n",
       " Case_SPA                      0\n",
       " Case_WEB                      0\n",
       " dtype: int64, CAPSULE_TEXT                   0\n",
       " GENRE_NAME                     0\n",
       " PRICE_RATE                     0\n",
       " CATALOG_PRICE                  0\n",
       " DISCOUNT_PRICE                 0\n",
       " DISPFROM                       0\n",
       " DISPEND                        0\n",
       " DISPPERIOD                     0\n",
       " VALIDFROM                     96\n",
       " VALIDEND                      96\n",
       " VALIDPERIOD                    0\n",
       " USABLE_DATE_MON                0\n",
       " USABLE_DATE_TUE                0\n",
       " USABLE_DATE_WED                0\n",
       " USABLE_DATE_THU                0\n",
       " USABLE_DATE_FRI                0\n",
       " USABLE_DATE_SAT                0\n",
       " USABLE_DATE_SUN                0\n",
       " USABLE_DATE_HOLIDAY            0\n",
       " USABLE_DATE_BEFORE_HOLIDAY     0\n",
       " spot_large                     0\n",
       " spot_pref                      0\n",
       " spot_small                     0\n",
       " Price                          0\n",
       " lnDPRICE                       0\n",
       " mDPRICE                        0\n",
       " sDPRICE                        0\n",
       " zprice                         0\n",
       " Case_BEAUTY                    0\n",
       " Case_CLASS                     0\n",
       " Case_DELIVERY                  0\n",
       " Case_EVENT                     0\n",
       " Case_FOOD                      0\n",
       " Case_GIFT                      0\n",
       " Case_HAIR                      0\n",
       " Case_HEALTH                    0\n",
       " Case_HOTEL                     0\n",
       " Case_LEISURE                   0\n",
       " Case_LESSON                    0\n",
       " Case_NAIL                      0\n",
       " Case_OTHER                     0\n",
       " Case_RELAXATION                0\n",
       " Case_SPA                       0\n",
       " Case_WEB                       0\n",
       " dtype: int64)"
      ]
     },
     "execution_count": 59,
     "metadata": {},
     "output_type": "execute_result"
    }
   ],
   "source": [
    "user.isnull().sum() , \\\n",
    "test_features.isnull().sum()"
   ]
  },
  {
   "cell_type": "code",
   "execution_count": 72,
   "metadata": {},
   "outputs": [
    {
     "data": {
      "text/plain": [
       "22782"
      ]
     },
     "execution_count": 72,
     "metadata": {},
     "output_type": "execute_result"
    }
   ],
   "source": [
    "len(train['USER_ID_hash'].unique())"
   ]
  },
  {
   "cell_type": "code",
   "execution_count": null,
   "metadata": {},
   "outputs": [],
   "source": [
    "vector_1 = user.copy()\n",
    "vector_2 = test_features.copy()\n",
    "\n",
    "vector_1 = scale(vector_1)\n",
    "vector_1 = pd.DataFrame(data = vector_1, index = user.index, columns = user.columns )\n",
    "\n",
    "vector_2 = scale(vector_2)\n",
    "vector_2 = pd.DataFrame(data = vector_2, index = test_features.index, columns = test_features.columns )"
   ]
  },
  {
   "cell_type": "code",
   "execution_count": null,
   "metadata": {},
   "outputs": [],
   "source": [
    "import math\n",
    "\n",
    "def Cosine(vec1, vec2) :\n",
    "    result = InnerProduct(vec1,vec2) / (VectorSize(vec1) * VectorSize(vec2))\n",
    "    return result\n",
    "\n",
    "def VectorSize(vec) :\n",
    "    return math.sqrt(sum(math.pow(v,2) for v in vec))\n",
    "\n",
    "def InnerProduct(vec1, vec2) :\n",
    "    return sum(v1*v2 for v1,v2 in zip(vec1,vec2))\n",
    "\n",
    "def Euclidean(vec1, vec2) :\n",
    "    return math.sqrt(sum(math.pow((v1-v2),2) for v1,v2 in zip(vec1, vec2)))\n",
    "\n",
    "def Theta(vec1, vec2) :\n",
    "    return math.acos(Cosine(vec1,vec2)) + 10\n",
    "\n",
    "def Triangle(vec1, vec2) :\n",
    "    theta = math.radians(Theta(vec1,vec2))\n",
    "    return (VectorSize(vec1) * VectorSize(vec2) * math.sin(theta)) / 2\n",
    "\n",
    "def Magnitude_Difference(vec1, vec2) :\n",
    "    return abs(VectorSize(vec1) - VectorSize(vec2))\n",
    "\n",
    "def Sector(vec1, vec2) :\n",
    "    ED = Euclidean(vec1, vec2)\n",
    "    MD = Magnitude_Difference(vec1, vec2)\n",
    "    theta = Theta(vec1, vec2)\n",
    "    return math.pi * math.pow((ED+MD),2) * theta/360\n",
    "\n",
    "def TS_SS(vec1, vec2) :\n",
    "    return Triangle(vec1, vec2) * Sector(vec1, vec2)\n",
    "\n",
    "vec1 = [1,2]\n",
    "vec2 = [2,4]\n",
    "\n",
    "print(Euclidean(vec1,vec2))\n",
    "print(Cosine(vec1,vec2))\n",
    "print(TS_SS(vec1,vec2))"
   ]
  },
  {
   "cell_type": "code",
   "execution_count": null,
   "metadata": {},
   "outputs": [],
   "source": [
    "from scipy import spatial\n",
    "def cosine_similarity(vector_1, vector_2):\n",
    "\n",
    "    return 1 - spatial.distance.cosine(vector_1, vector_2)"
   ]
  },
  {
   "cell_type": "code",
   "execution_count": null,
   "metadata": {},
   "outputs": [],
   "source": [
    "matrix = []\n",
    "for idx1 in tqdm(range(len(user))):\n",
    "    \n",
    "    row = []\n",
    "    for idx2 in range(len(test_features)):\n",
    "        row.append(cosine_similarity(vector_1.iloc[idx1], vector_2.iloc[idx2]))\n",
    "    matrix.append(row)"
   ]
  },
  {
   "cell_type": "code",
   "execution_count": null,
   "metadata": {},
   "outputs": [],
   "source": [
    "continuous = list(set(vector_1) - set(vector_2))\n",
    "continuous"
   ]
  },
  {
   "cell_type": "code",
   "execution_count": null,
   "metadata": {},
   "outputs": [],
   "source": [
    "coupons_ids = test['COUPON_ID_hash']\n",
    "result_index = vector_1.index\n",
    "result_columns = [coupons_ids[i] for i in range(0, 310)]\n",
    "result_df = pd.DataFrame(index= result_index, columns=result_columns,\n",
    "                      data=matrix)"
   ]
  },
  {
   "cell_type": "code",
   "execution_count": null,
   "metadata": {},
   "outputs": [],
   "source": [
    "submission = pd.DataFrame(columns=['USER_ID_hash','PURCHASED_COUPONS'])\n",
    "submission['USER_ID_hash'] = result_df.index\n",
    "submission['PURCHASED_COUPONS'] = result_df.T.apply(lambda x: \" \".join(x.sort_values(ascending=False)[:21].index)).values"
   ]
  },
  {
   "cell_type": "code",
   "execution_count": null,
   "metadata": {},
   "outputs": [],
   "source": [
    "submission.to_csv('submission/cosine.csv',index = False,header=True)\n"
   ]
  }
 ],
 "metadata": {
  "kernelspec": {
   "display_name": "Python 3",
   "language": "python",
   "name": "python3"
  },
  "language_info": {
   "codemirror_mode": {
    "name": "ipython",
    "version": 3
   },
   "file_extension": ".py",
   "mimetype": "text/x-python",
   "name": "python",
   "nbconvert_exporter": "python",
   "pygments_lexer": "ipython3",
   "version": "3.5.2"
  }
 },
 "nbformat": 4,
 "nbformat_minor": 2
}
