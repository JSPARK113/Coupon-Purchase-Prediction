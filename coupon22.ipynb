{
 "cells": [
  {
   "cell_type": "code",
   "execution_count": 1,
   "metadata": {},
   "outputs": [],
   "source": [
    "import numpy as np\n",
    "import scipy as sp\n",
    "import pandas as pd\n",
    "import statsmodels.api as sm\n",
    "import statsmodels.formula.api as smf\n",
    "import statsmodels.stats.api as sms\n",
    "import sklearn as sk\n",
    "import datetime as dt\n",
    "\n",
    "import warnings\n",
    "\n",
    "warnings.filterwarnings('ignore')"
   ]
  },
  {
   "cell_type": "code",
   "execution_count": 114,
   "metadata": {},
   "outputs": [],
   "source": [
    "from sklearn.tree import DecisionTreeClassifier\n",
    "from sklearn.metrics import confusion_matrix\n",
    "from sklearn.metrics import classification_report\n",
    "from sklearn.ensemble import RandomForestClassifier, ExtraTreesClassifier\n",
    "from sklearn.tree import DecisionTreeClassifier\n",
    "from sklearn.preprocessing import scale\n",
    "import xgboost\n",
    "from sklearn.preprocessing import StandardScaler"
   ]
  },
  {
   "cell_type": "code",
   "execution_count": 3,
   "metadata": {},
   "outputs": [],
   "source": [
    "# 테이블 현황 파악을 위한 함수 \n",
    "def summary_table(table):\n",
    "    df = pd.DataFrame()\n",
    "    for i in table.columns:\n",
    "        name = i\n",
    "        dtype = table[i].dtype.name\n",
    "        null = table[i].isnull().sum()\n",
    "        act = table.shape[0] - null\n",
    "        unique = len(table[i].unique())\n",
    "        data = {'name': name, 'dtype': dtype, 'null': null, 'act': act, 'unique': unique}\n",
    "        df = df.append(data, ignore_index=True)\n",
    "    return df"
   ]
  },
  {
   "cell_type": "markdown",
   "metadata": {},
   "source": [
    "### 데이터 불러오기: 일본어는 영어로 번역, 지역에 Prefecture가 붙은 지명은 Prefecture 제외"
   ]
  },
  {
   "cell_type": "code",
   "execution_count": 5,
   "metadata": {},
   "outputs": [],
   "source": [
    "# train \n",
    "detail_train = pd.read_csv('coupon_data_project2/coupon_detail_train_translated_en.csv', parse_dates=['I_DATE'])\n",
    "visit_train = pd.read_csv('coupon_data_project2/coupon_visit_train.csv', parse_dates=['I_DATE'])\n",
    "\n",
    "area_train = pd.read_csv('coupon_data_project2/coupon_area_train_translated_en.csv')\n",
    "coupon_list_train = pd.read_csv('coupon_data_project2/coupon_list_train_translated_en.csv', parse_dates=['DISPFROM', 'DISPEND', 'VALIDFROM', 'VALIDEND'])\n",
    "\n",
    "# base data\n",
    "# location = pd.read_csv('coupon_data_project2/train_location2.csv')\n",
    "# area_test = pd.read_csv('coupon_data_project2/test_location2.csv')\n",
    "user_list = pd.read_csv('coupon_data_project2/user_list_translated_en.csv', parse_dates=['WITHDRAW_DATE', 'REG_DATE'])\n",
    "\n",
    "# test data\n",
    "# area_test = pd.read_csv('coupon_data_project2/coupon_area_test_translated_en.csv')\n",
    "coupon_list_test = pd.read_csv('coupon_data_project2/coupon_list_test_translated_en.csv', parse_dates=['DISPFROM', 'DISPEND', 'VALIDFROM', 'VALIDEND'])\n",
    "\n",
    "# submisiion\n",
    "submission = pd.read_csv('coupon_data_project2/sample_submission.csv')"
   ]
  },
  {
   "cell_type": "code",
   "execution_count": 187,
   "metadata": {},
   "outputs": [],
   "source": [
    "proba_location = pd.read_csv('coupon_data_project2/proba_location.csv')\n",
    "proba_genre = pd.read_csv('coupon_data_project2/proba_genre.csv')\n",
    "proba_case = pd.read_csv('coupon_data_project2/proba_case.csv')"
   ]
  },
  {
   "cell_type": "code",
   "execution_count": 370,
   "metadata": {},
   "outputs": [],
   "source": [
    "visit_proba_location = pd.read_csv('coupon_data_project2/visit_proba_location.csv')\n",
    "visit_proba_genre = pd.read_csv('coupon_data_project2/visit_proba_genre.csv')\n",
    "visit_proba_case = pd.read_csv('coupon_data_project2/visit_proba_case.csv')"
   ]
  },
  {
   "cell_type": "markdown",
   "metadata": {},
   "source": [
    "## A. Preprocessing"
   ]
  },
  {
   "cell_type": "markdown",
   "metadata": {},
   "source": [
    "### A-1. detail_train"
   ]
  },
  {
   "cell_type": "markdown",
   "metadata": {},
   "source": [
    "#### 1) 신규 columns 생성\n",
    "\n",
    "1-1) merge 후 구매 구분을 위한 PURCHASE_FLG"
   ]
  },
  {
   "cell_type": "code",
   "execution_count": 6,
   "metadata": {},
   "outputs": [],
   "source": [
    "detail_train['PURCHASE_FLG'] = 1"
   ]
  },
  {
   "cell_type": "markdown",
   "metadata": {},
   "source": [
    "#### 2) column명 변경\n",
    "\n",
    "2-1) I_DATE -> purchase_date: 구매 일자 구분\n",
    "\n",
    "2-2) SMALL_AREA_NAME: coupon list의 지역(판매 spot)과 구분하기 위함"
   ]
  },
  {
   "cell_type": "code",
   "execution_count": 7,
   "metadata": {},
   "outputs": [],
   "source": [
    "detail_train.rename(columns = {'I_DATE': 'purchase_date'}, inplace=True)\n",
    "detail_train.rename(columns = {'SMALL_AREA_NAME': 'resid_small'}, inplace=True)"
   ]
  },
  {
   "cell_type": "markdown",
   "metadata": {},
   "source": [
    "#### 3) drop: ITEM_COUNT는 활요여부 판단후 처리"
   ]
  },
  {
   "cell_type": "code",
   "execution_count": 7,
   "metadata": {},
   "outputs": [],
   "source": [
    "# detail_train.drop(labels = ['ITEM_COUNT'], axis=1, inplace=True)\n",
    "# detail_train.drop(labels = ['PURCHASEID_hash'], axis=1, inplace=True)\n",
    "# detail_train.drop(labels = ['resid_small'], axis=1, inplace=True)\n",
    "# detail_train.drop(labels = ['purchase_date'], axis=1, inplace=True)"
   ]
  },
  {
   "cell_type": "code",
   "execution_count": null,
   "metadata": {},
   "outputs": [],
   "source": []
  },
  {
   "cell_type": "markdown",
   "metadata": {},
   "source": [
    "### A-2. visit_train"
   ]
  },
  {
   "cell_type": "markdown",
   "metadata": {},
   "source": [
    "#### 1) 신규 column 생성"
   ]
  },
  {
   "cell_type": "code",
   "execution_count": 8,
   "metadata": {},
   "outputs": [],
   "source": [
    "visit_train['VIEW'] = 1"
   ]
  },
  {
   "cell_type": "markdown",
   "metadata": {},
   "source": [
    "#### 2) column명 변경"
   ]
  },
  {
   "cell_type": "code",
   "execution_count": 9,
   "metadata": {},
   "outputs": [],
   "source": [
    "visit_train.rename(columns = {'I_DATE': 'VIEW_DATE'}, inplace=True)\n",
    "visit_train.rename(columns = {'VIEW_COUPON_ID_hash': 'COUPON_ID_hash'}, inplace=True)"
   ]
  },
  {
   "cell_type": "markdown",
   "metadata": {},
   "source": [
    "#### 3) drop"
   ]
  },
  {
   "cell_type": "code",
   "execution_count": 10,
   "metadata": {},
   "outputs": [],
   "source": [
    "visit_train.drop(labels = ['PAGE_SERIAL'], axis=1, inplace=True)\n",
    "visit_train.drop(labels = ['REFERRER_hash'], axis=1, inplace=True)\n",
    "visit_train.drop(labels = ['SESSION_ID_hash'], axis=1, inplace=True)\n",
    "visit_train.drop(labels = ['PURCHASEID_hash'], axis=1, inplace=True)"
   ]
  },
  {
   "cell_type": "code",
   "execution_count": 11,
   "metadata": {},
   "outputs": [
    {
     "data": {
      "text/html": [
       "<div>\n",
       "<style>\n",
       "    .dataframe thead tr:only-child th {\n",
       "        text-align: right;\n",
       "    }\n",
       "\n",
       "    .dataframe thead th {\n",
       "        text-align: left;\n",
       "    }\n",
       "\n",
       "    .dataframe tbody tr th {\n",
       "        vertical-align: top;\n",
       "    }\n",
       "</style>\n",
       "<table border=\"1\" class=\"dataframe\">\n",
       "  <thead>\n",
       "    <tr style=\"text-align: right;\">\n",
       "      <th></th>\n",
       "      <th>PURCHASE_FLG</th>\n",
       "      <th>VIEW_DATE</th>\n",
       "      <th>COUPON_ID_hash</th>\n",
       "      <th>USER_ID_hash</th>\n",
       "      <th>VIEW</th>\n",
       "    </tr>\n",
       "  </thead>\n",
       "  <tbody>\n",
       "    <tr>\n",
       "      <th>0</th>\n",
       "      <td>0</td>\n",
       "      <td>2012-03-28 14:15:00</td>\n",
       "      <td>34c48f84026e08355dc3bd19b427f09a</td>\n",
       "      <td>d9dca3cb44bab12ba313eaa681f663eb</td>\n",
       "      <td>1</td>\n",
       "    </tr>\n",
       "    <tr>\n",
       "      <th>1</th>\n",
       "      <td>0</td>\n",
       "      <td>2012-03-28 14:17:28</td>\n",
       "      <td>34c48f84026e08355dc3bd19b427f09a</td>\n",
       "      <td>d9dca3cb44bab12ba313eaa681f663eb</td>\n",
       "      <td>1</td>\n",
       "    </tr>\n",
       "  </tbody>\n",
       "</table>\n",
       "</div>"
      ],
      "text/plain": [
       "   PURCHASE_FLG           VIEW_DATE                    COUPON_ID_hash  \\\n",
       "0             0 2012-03-28 14:15:00  34c48f84026e08355dc3bd19b427f09a   \n",
       "1             0 2012-03-28 14:17:28  34c48f84026e08355dc3bd19b427f09a   \n",
       "\n",
       "                       USER_ID_hash  VIEW  \n",
       "0  d9dca3cb44bab12ba313eaa681f663eb     1  \n",
       "1  d9dca3cb44bab12ba313eaa681f663eb     1  "
      ]
     },
     "execution_count": 11,
     "metadata": {},
     "output_type": "execute_result"
    }
   ],
   "source": [
    "visit_train[:2]"
   ]
  },
  {
   "cell_type": "code",
   "execution_count": null,
   "metadata": {},
   "outputs": [],
   "source": []
  },
  {
   "cell_type": "markdown",
   "metadata": {},
   "source": [
    "### A-3. Coupon_list"
   ]
  },
  {
   "cell_type": "markdown",
   "metadata": {},
   "source": [
    "#### 1) 전처리 일관성을 유지를 위한 coupon_list merge(311~ train임)"
   ]
  },
  {
   "cell_type": "code",
   "execution_count": 12,
   "metadata": {},
   "outputs": [],
   "source": [
    "coupon_list = pd.merge(coupon_list_test, coupon_list_train, how='outer')"
   ]
  },
  {
   "cell_type": "code",
   "execution_count": 13,
   "metadata": {},
   "outputs": [
    {
     "data": {
      "text/plain": [
       "((310, 24), (19413, 24), (19723, 24))"
      ]
     },
     "execution_count": 13,
     "metadata": {},
     "output_type": "execute_result"
    }
   ],
   "source": [
    "coupon_list_test.shape, coupon_list_train.shape, coupon_list.shape"
   ]
  },
  {
   "cell_type": "markdown",
   "metadata": {},
   "source": [
    "#### 2) 신규 columns 생성"
   ]
  },
  {
   "cell_type": "code",
   "execution_count": 14,
   "metadata": {},
   "outputs": [],
   "source": [
    "# 캡슐과 장르 통합 및 명칭 변경\n",
    "coupon_list['Case'] = coupon_list['CAPSULE_TEXT'] + coupon_list['GENRE_NAME']\n",
    "coupon_list['Case'] = coupon_list['Case'].apply(lambda x: \"HOTEL\" if x == 'Guest houseHotel and Japanese hotel' \n",
    "                          or x == 'HotelHotel and Japanese hotel'\n",
    "                          or x == 'Japanese hotelHotel and Japanese hotel'\n",
    "                          or x == 'Japanse guest houseHotel and Japanese hotel'\n",
    "                          or x == 'LodgeHotel and Japanese hotel'\n",
    "                          or x == 'Public hotelHotel and Japanese hotel'\n",
    "                          or x == 'Resort innHotel and Japanese hotel'\n",
    "                          or x == 'Vacation rentalHotel and Japanese hotel'\n",
    "                          else \"NAIL\" if x == 'Nail and eye salonNail and eye salon'\n",
    "                          else \"HAIR\" if x == 'Hair salonHair salon'\n",
    "                          else \"FOOD\" if x == 'FoodFood'\n",
    "                          else \"SPA\" if x == 'SpaSpa'\n",
    "                          else \"BEAUTY\" if x == 'BeautyBeauty'\n",
    "                          else \"CLASS\" if x == 'ClassLesson'\n",
    "                          else \"CORRESPONDENCE\" if x == 'Correspondence courseLessonClassLesson'\n",
    "                          else \"DELIVERY\" if x == 'Delivery serviceDelivery service'\n",
    "                          else \"EVENT\" if x == 'EventOther coupon'\n",
    "                          else \"GIFT\" if x == 'Gift cardGift card'\n",
    "                          else \"HEALTH\" if x == 'Health and medicalHealth and medical'\n",
    "                          else \"LEISURE\" if x == 'LeisureLeisure'\n",
    "                          else \"LESSON\" if x == 'LessonLesson'\n",
    "                          else \"OTHER\" if x == 'OtherOther coupon'\n",
    "                          else \"RELAXATION\" if x == 'RelaxationRelaxation'\n",
    "                          else \"WEB\" if x == 'Web serviceOther coupon'\n",
    "                          else 'OTHER'\n",
    "                          )"
   ]
  },
  {
   "cell_type": "code",
   "execution_count": 15,
   "metadata": {},
   "outputs": [],
   "source": [
    "# 실판매가 게산\n",
    "coupon_list['Price'] = coupon_list['CATALOG_PRICE'] - coupon_list['DISCOUNT_PRICE']"
   ]
  },
  {
   "cell_type": "code",
   "execution_count": 16,
   "metadata": {},
   "outputs": [],
   "source": [
    "# 실판매가 정규화\n",
    "coupon_list[\"lnDPRICE\"] = np.log1p(coupon_list[\"Price\"])\n",
    "coupon_list[\"mDPRICE\"] = coupon_list.groupby(\"Case\")[\"lnDPRICE\"].transform(np.mean)\n",
    "coupon_list[\"sDPRICE\"] = coupon_list.groupby(\"Case\")[\"lnDPRICE\"].transform(np.std)\n",
    "coupon_list[\"zprice\"] = (coupon_list[\"lnDPRICE\"] - coupon_list[\"mDPRICE\"]) / coupon_list[\"sDPRICE\"]"
   ]
  },
  {
   "cell_type": "markdown",
   "metadata": {},
   "source": [
    "#### 3) column명 변경"
   ]
  },
  {
   "cell_type": "code",
   "execution_count": 17,
   "metadata": {},
   "outputs": [],
   "source": [
    "# 지역명 변경\n",
    "coupon_list.rename(columns = {\"LARGE_AREA_NAME\": \"spot_large\", \n",
    "                              \"ken_name\": \"spot_pref\", \n",
    "                              \"SMALL_AREA_NAME\": \"spot_small\"}, inplace=True)"
   ]
  },
  {
   "cell_type": "markdown",
   "metadata": {},
   "source": [
    "#### 4) Null 값 및 오류 처리"
   ]
  },
  {
   "cell_type": "code",
   "execution_count": 18,
   "metadata": {},
   "outputs": [],
   "source": [
    "# usable: nan -> 1, 2 -> 0\n",
    "coupon_list['USABLE_DATE_MON'].replace([0,2,1,np.nan],[0,0,1,1], inplace=True)\n",
    "coupon_list['USABLE_DATE_TUE'].replace([0,2,1,np.nan],[0,0,1,1], inplace=True)\n",
    "coupon_list['USABLE_DATE_WED'].replace([0,2,1,np.nan],[0,0,1,1], inplace=True)\n",
    "coupon_list['USABLE_DATE_THU'].replace([0,2,1,np.nan],[0,0,1,1], inplace=True)\n",
    "coupon_list['USABLE_DATE_FRI'].replace([0,2,1,np.nan],[0,0,1,1], inplace=True)\n",
    "coupon_list['USABLE_DATE_SAT'].replace([0,2,1,np.nan],[0,0,1,1], inplace=True)\n",
    "coupon_list['USABLE_DATE_SUN'].replace([0,2,1,np.nan],[0,0,1,1], inplace=True)\n",
    "coupon_list['USABLE_DATE_HOLIDAY'].replace([0,2,1,np.nan],[0,0,1,1], inplace=True)\n",
    "coupon_list['USABLE_DATE_BEFORE_HOLIDAY'].replace([0,2,1,np.nan],[0,0,1,1], inplace=True)"
   ]
  },
  {
   "cell_type": "markdown",
   "metadata": {},
   "source": [
    "#### 5) drop"
   ]
  },
  {
   "cell_type": "code",
   "execution_count": 19,
   "metadata": {},
   "outputs": [],
   "source": [
    "# coupon_list.drop(labels = ['CAPSULE_TEXT'], axis=1, inplace=True )\n",
    "# coupon_list.drop(labels = ['GENRE_NAME'], axis=1, inplace=True )\n",
    "# coupon_list.drop(labels = ['CATALOG_PRICE'], axis=1, inplace=True )\n",
    "# coupon_list.drop(labels = ['DISCOUNT_PRICE'], axis=1, inplace=True )\n",
    "# coupon_list.drop(labels = ['DISPFROM'], axis=1, inplace=True )\n",
    "# coupon_list.drop(labels = ['DISPEND'], axis=1, inplace=True )\n",
    "# coupon_list.drop(labels = ['VALIDFROM'], axis=1, inplace=True )\n",
    "# coupon_list.drop(labels = ['VALIDEND'], axis=1, inplace=True )\n",
    "# coupon_list.drop(labels = ['lnDPRICE'], axis=1, inplace=True )\n",
    "# coupon_list.drop(labels = ['mDPRICE'], axis=1, inplace=True )\n",
    "# coupon_list.drop(labels = ['sDPRICE'], axis=1, inplace=True )\n",
    "\n"
   ]
  },
  {
   "cell_type": "markdown",
   "metadata": {},
   "source": [
    "#### 6) train & test set 분리"
   ]
  },
  {
   "cell_type": "code",
   "execution_count": 20,
   "metadata": {},
   "outputs": [],
   "source": [
    "# train set과 test set을 다시 분리\n",
    "coupon_list_train = coupon_list[311:]\n",
    "coupon_list_test = coupon_list[:310]"
   ]
  },
  {
   "cell_type": "code",
   "execution_count": null,
   "metadata": {},
   "outputs": [],
   "source": []
  },
  {
   "cell_type": "markdown",
   "metadata": {},
   "source": [
    "### A4. User_list"
   ]
  },
  {
   "cell_type": "markdown",
   "metadata": {},
   "source": [
    "#### 1) column명 변경"
   ]
  },
  {
   "cell_type": "code",
   "execution_count": 21,
   "metadata": {},
   "outputs": [],
   "source": [
    "user_list.rename(columns = {'PREF_NAME': 'user_pref'}, inplace=True)"
   ]
  },
  {
   "cell_type": "markdown",
   "metadata": {},
   "source": [
    "#### 2) SEX_ID 0,1 로 변경(f: 0, m: 1)"
   ]
  },
  {
   "cell_type": "code",
   "execution_count": 22,
   "metadata": {},
   "outputs": [],
   "source": [
    "# SEX_ID: f는 0으로 M은 1로\n",
    "user_list['SEX_ID'] = user_list['SEX_ID'].apply(lambda x: 0 if x == 'f' else 1) "
   ]
  },
  {
   "cell_type": "markdown",
   "metadata": {},
   "source": [
    "#### 3) drop"
   ]
  },
  {
   "cell_type": "code",
   "execution_count": 23,
   "metadata": {},
   "outputs": [],
   "source": [
    "# REG_DATE , WITHDRAW_DATE 삭제\n",
    "user_list.drop(labels = ['REG_DATE'], axis=1, inplace=True)\n",
    "user_list.drop(labels = ['WITHDRAW_DATE'], axis=1, inplace=True)\n"
   ]
  },
  {
   "cell_type": "code",
   "execution_count": 24,
   "metadata": {},
   "outputs": [
    {
     "data": {
      "text/html": [
       "<div>\n",
       "<style>\n",
       "    .dataframe thead tr:only-child th {\n",
       "        text-align: right;\n",
       "    }\n",
       "\n",
       "    .dataframe thead th {\n",
       "        text-align: left;\n",
       "    }\n",
       "\n",
       "    .dataframe tbody tr th {\n",
       "        vertical-align: top;\n",
       "    }\n",
       "</style>\n",
       "<table border=\"1\" class=\"dataframe\">\n",
       "  <thead>\n",
       "    <tr style=\"text-align: right;\">\n",
       "      <th></th>\n",
       "      <th>SEX_ID</th>\n",
       "      <th>AGE</th>\n",
       "      <th>user_pref</th>\n",
       "      <th>USER_ID_hash</th>\n",
       "    </tr>\n",
       "  </thead>\n",
       "  <tbody>\n",
       "    <tr>\n",
       "      <th>0</th>\n",
       "      <td>0</td>\n",
       "      <td>25</td>\n",
       "      <td>NaN</td>\n",
       "      <td>d9dca3cb44bab12ba313eaa681f663eb</td>\n",
       "    </tr>\n",
       "    <tr>\n",
       "      <th>1</th>\n",
       "      <td>0</td>\n",
       "      <td>34</td>\n",
       "      <td>Tokyo</td>\n",
       "      <td>560574a339f1b25e57b0221e486907ed</td>\n",
       "    </tr>\n",
       "  </tbody>\n",
       "</table>\n",
       "</div>"
      ],
      "text/plain": [
       "   SEX_ID  AGE user_pref                      USER_ID_hash\n",
       "0       0   25       NaN  d9dca3cb44bab12ba313eaa681f663eb\n",
       "1       0   34     Tokyo  560574a339f1b25e57b0221e486907ed"
      ]
     },
     "execution_count": 24,
     "metadata": {},
     "output_type": "execute_result"
    }
   ],
   "source": [
    "user_list[:2]"
   ]
  },
  {
   "cell_type": "code",
   "execution_count": null,
   "metadata": {},
   "outputs": [],
   "source": []
  },
  {
   "cell_type": "markdown",
   "metadata": {},
   "source": [
    "### A5. train set 구성"
   ]
  },
  {
   "cell_type": "markdown",
   "metadata": {},
   "source": [
    "#### 1) visit_train & detail_train -> train"
   ]
  },
  {
   "cell_type": "code",
   "execution_count": 25,
   "metadata": {},
   "outputs": [],
   "source": [
    "train= pd.merge(visit_train, detail_train, how='outer')"
   ]
  },
  {
   "cell_type": "code",
   "execution_count": 26,
   "metadata": {},
   "outputs": [
    {
     "data": {
      "text/plain": [
       "(2913043, 9)"
      ]
     },
     "execution_count": 26,
     "metadata": {},
     "output_type": "execute_result"
    }
   ],
   "source": [
    "train.shape"
   ]
  },
  {
   "cell_type": "markdown",
   "metadata": {},
   "source": [
    "#### 2) train & coupon_list"
   ]
  },
  {
   "cell_type": "code",
   "execution_count": 27,
   "metadata": {},
   "outputs": [],
   "source": [
    "train = pd.merge(train, coupon_list, how='left', on='COUPON_ID_hash')"
   ]
  },
  {
   "cell_type": "code",
   "execution_count": 28,
   "metadata": {},
   "outputs": [
    {
     "data": {
      "text/plain": [
       "(2913043, 38)"
      ]
     },
     "execution_count": 28,
     "metadata": {},
     "output_type": "execute_result"
    }
   ],
   "source": [
    "train.shape # 315,029 개의 sell은 기초정보에 존재 하지 않던 쿠폰리스트임"
   ]
  },
  {
   "cell_type": "markdown",
   "metadata": {},
   "source": [
    "#### 3) train & user_list"
   ]
  },
  {
   "cell_type": "code",
   "execution_count": 29,
   "metadata": {},
   "outputs": [],
   "source": [
    "train = pd.merge(train, user_list, how='left', on='USER_ID_hash')"
   ]
  },
  {
   "cell_type": "code",
   "execution_count": 30,
   "metadata": {},
   "outputs": [
    {
     "data": {
      "text/plain": [
       "(2913043, 41)"
      ]
     },
     "execution_count": 30,
     "metadata": {},
     "output_type": "execute_result"
    }
   ],
   "source": [
    "train.shape"
   ]
  },
  {
   "cell_type": "markdown",
   "metadata": {},
   "source": [
    "#### 4) train & location"
   ]
  },
  {
   "cell_type": "code",
   "execution_count": 103,
   "metadata": {},
   "outputs": [],
   "source": [
    "train['key'] = train['COUPON_ID_hash']+ train['USER_ID_hash']"
   ]
  },
  {
   "cell_type": "code",
   "execution_count": 104,
   "metadata": {},
   "outputs": [],
   "source": [
    "location['key'] = location['COUPON_ID_hash'] + location['USER_ID_hash'] \n",
    "location.drop_duplicates(['key'], inplace=True)"
   ]
  },
  {
   "cell_type": "code",
   "execution_count": 107,
   "metadata": {},
   "outputs": [],
   "source": [
    "train.drop(['distance', 'PREF_in'],1, inplace=True)"
   ]
  },
  {
   "cell_type": "code",
   "execution_count": 108,
   "metadata": {},
   "outputs": [],
   "source": [
    "train.insert(2, 'distance', train['key'].map(location.set_index('key')['distance']))\n",
    "train.insert(2, 'PREF_in', train['key'].map(location.set_index('key')['PREF_in']))"
   ]
  },
  {
   "cell_type": "code",
   "execution_count": 109,
   "metadata": {},
   "outputs": [],
   "source": [
    "train.drop(labels=['key'], axis=1, inplace=True)"
   ]
  },
  {
   "cell_type": "code",
   "execution_count": 118,
   "metadata": {},
   "outputs": [
    {
     "data": {
      "text/plain": [
       "7256"
      ]
     },
     "execution_count": 118,
     "metadata": {},
     "output_type": "execute_result"
    }
   ],
   "source": [
    "user_list.user_pref.isnull().sum()"
   ]
  },
  {
   "cell_type": "markdown",
   "metadata": {},
   "source": [
    "#### 4) train 현황 점검 및 NaN값 처리\n",
    "\n",
    "4-1) null 이 315,301개인 것들은 기초정보(coupon_list(test 포함)에 없는 것들이므로 제외 -> zprice 기준으로 처리\n",
    "\n",
    "4-2) VALIDPERIOD(null: 773,492)은 무제한이라는 의미에서 10,000으로 처리\n",
    "\n",
    "4-3) user_pref(null: 488,972) 을 NN 으로 처리"
   ]
  },
  {
   "cell_type": "code",
   "execution_count": 31,
   "metadata": {},
   "outputs": [],
   "source": [
    "# null 이 315,301개인 것들은 기초정보(coupon_list(test 포함)에 없는 것들이므로 제외 -> zprice 기준으로 처리\n",
    "train = train[train['Price'] >= 0]"
   ]
  },
  {
   "cell_type": "code",
   "execution_count": 32,
   "metadata": {},
   "outputs": [],
   "source": [
    "train['VALIDPERIOD'] = train['VALIDPERIOD'].fillna(180)\n",
    "# train['user_pref'] = train['user_pref'].fillna('NN')\n",
    "train['VIEW'] = train['VIEW'].fillna(0)"
   ]
  },
  {
   "cell_type": "code",
   "execution_count": 119,
   "metadata": {},
   "outputs": [],
   "source": [
    "train['distance'] = train['distance'].fillna(train['distance'].mean())"
   ]
  },
  {
   "cell_type": "code",
   "execution_count": 37,
   "metadata": {
    "collapsed": true
   },
   "outputs": [
    {
     "data": {
      "text/html": [
       "<div>\n",
       "<style>\n",
       "    .dataframe thead tr:only-child th {\n",
       "        text-align: right;\n",
       "    }\n",
       "\n",
       "    .dataframe thead th {\n",
       "        text-align: left;\n",
       "    }\n",
       "\n",
       "    .dataframe tbody tr th {\n",
       "        vertical-align: top;\n",
       "    }\n",
       "</style>\n",
       "<table border=\"1\" class=\"dataframe\">\n",
       "  <thead>\n",
       "    <tr style=\"text-align: right;\">\n",
       "      <th></th>\n",
       "      <th>act</th>\n",
       "      <th>dtype</th>\n",
       "      <th>name</th>\n",
       "      <th>null</th>\n",
       "      <th>unique</th>\n",
       "    </tr>\n",
       "  </thead>\n",
       "  <tbody>\n",
       "    <tr>\n",
       "      <th>0</th>\n",
       "      <td>2597810.0</td>\n",
       "      <td>int64</td>\n",
       "      <td>PURCHASE_FLG</td>\n",
       "      <td>0.0</td>\n",
       "      <td>2.0</td>\n",
       "    </tr>\n",
       "    <tr>\n",
       "      <th>24</th>\n",
       "      <td>2597810.0</td>\n",
       "      <td>float64</td>\n",
       "      <td>USABLE_DATE_WED</td>\n",
       "      <td>0.0</td>\n",
       "      <td>2.0</td>\n",
       "    </tr>\n",
       "    <tr>\n",
       "      <th>25</th>\n",
       "      <td>2597810.0</td>\n",
       "      <td>float64</td>\n",
       "      <td>USABLE_DATE_THU</td>\n",
       "      <td>0.0</td>\n",
       "      <td>2.0</td>\n",
       "    </tr>\n",
       "    <tr>\n",
       "      <th>26</th>\n",
       "      <td>2597810.0</td>\n",
       "      <td>float64</td>\n",
       "      <td>USABLE_DATE_FRI</td>\n",
       "      <td>0.0</td>\n",
       "      <td>2.0</td>\n",
       "    </tr>\n",
       "    <tr>\n",
       "      <th>27</th>\n",
       "      <td>2597810.0</td>\n",
       "      <td>float64</td>\n",
       "      <td>USABLE_DATE_SAT</td>\n",
       "      <td>0.0</td>\n",
       "      <td>2.0</td>\n",
       "    </tr>\n",
       "    <tr>\n",
       "      <th>28</th>\n",
       "      <td>2597810.0</td>\n",
       "      <td>float64</td>\n",
       "      <td>USABLE_DATE_SUN</td>\n",
       "      <td>0.0</td>\n",
       "      <td>2.0</td>\n",
       "    </tr>\n",
       "    <tr>\n",
       "      <th>23</th>\n",
       "      <td>2597810.0</td>\n",
       "      <td>float64</td>\n",
       "      <td>USABLE_DATE_TUE</td>\n",
       "      <td>0.0</td>\n",
       "      <td>2.0</td>\n",
       "    </tr>\n",
       "    <tr>\n",
       "      <th>30</th>\n",
       "      <td>2597810.0</td>\n",
       "      <td>float64</td>\n",
       "      <td>USABLE_DATE_BEFORE_HOLIDAY</td>\n",
       "      <td>0.0</td>\n",
       "      <td>2.0</td>\n",
       "    </tr>\n",
       "    <tr>\n",
       "      <th>29</th>\n",
       "      <td>2597810.0</td>\n",
       "      <td>float64</td>\n",
       "      <td>USABLE_DATE_HOLIDAY</td>\n",
       "      <td>0.0</td>\n",
       "      <td>2.0</td>\n",
       "    </tr>\n",
       "    <tr>\n",
       "      <th>6</th>\n",
       "      <td>2597810.0</td>\n",
       "      <td>float64</td>\n",
       "      <td>VIEW</td>\n",
       "      <td>0.0</td>\n",
       "      <td>2.0</td>\n",
       "    </tr>\n",
       "    <tr>\n",
       "      <th>2</th>\n",
       "      <td>2597810.0</td>\n",
       "      <td>int64</td>\n",
       "      <td>PREF_in</td>\n",
       "      <td>0.0</td>\n",
       "      <td>2.0</td>\n",
       "    </tr>\n",
       "    <tr>\n",
       "      <th>40</th>\n",
       "      <td>2597810.0</td>\n",
       "      <td>int64</td>\n",
       "      <td>SEX_ID</td>\n",
       "      <td>0.0</td>\n",
       "      <td>2.0</td>\n",
       "    </tr>\n",
       "    <tr>\n",
       "      <th>22</th>\n",
       "      <td>2597810.0</td>\n",
       "      <td>float64</td>\n",
       "      <td>USABLE_DATE_MON</td>\n",
       "      <td>0.0</td>\n",
       "      <td>2.0</td>\n",
       "    </tr>\n",
       "    <tr>\n",
       "      <th>31</th>\n",
       "      <td>2597810.0</td>\n",
       "      <td>object</td>\n",
       "      <td>spot_large</td>\n",
       "      <td>0.0</td>\n",
       "      <td>9.0</td>\n",
       "    </tr>\n",
       "    <tr>\n",
       "      <th>12</th>\n",
       "      <td>2597810.0</td>\n",
       "      <td>object</td>\n",
       "      <td>GENRE_NAME</td>\n",
       "      <td>0.0</td>\n",
       "      <td>13.0</td>\n",
       "    </tr>\n",
       "    <tr>\n",
       "      <th>34</th>\n",
       "      <td>2597810.0</td>\n",
       "      <td>object</td>\n",
       "      <td>Case</td>\n",
       "      <td>0.0</td>\n",
       "      <td>16.0</td>\n",
       "    </tr>\n",
       "    <tr>\n",
       "      <th>37</th>\n",
       "      <td>2597810.0</td>\n",
       "      <td>float64</td>\n",
       "      <td>mDPRICE</td>\n",
       "      <td>0.0</td>\n",
       "      <td>16.0</td>\n",
       "    </tr>\n",
       "    <tr>\n",
       "      <th>38</th>\n",
       "      <td>2597810.0</td>\n",
       "      <td>float64</td>\n",
       "      <td>sDPRICE</td>\n",
       "      <td>0.0</td>\n",
       "      <td>16.0</td>\n",
       "    </tr>\n",
       "    <tr>\n",
       "      <th>18</th>\n",
       "      <td>2597810.0</td>\n",
       "      <td>float64</td>\n",
       "      <td>DISPPERIOD</td>\n",
       "      <td>0.0</td>\n",
       "      <td>18.0</td>\n",
       "    </tr>\n",
       "    <tr>\n",
       "      <th>11</th>\n",
       "      <td>2597810.0</td>\n",
       "      <td>object</td>\n",
       "      <td>CAPSULE_TEXT</td>\n",
       "      <td>0.0</td>\n",
       "      <td>24.0</td>\n",
       "    </tr>\n",
       "    <tr>\n",
       "      <th>7</th>\n",
       "      <td>202252.0</td>\n",
       "      <td>float64</td>\n",
       "      <td>ITEM_COUNT</td>\n",
       "      <td>2395558.0</td>\n",
       "      <td>33.0</td>\n",
       "    </tr>\n",
       "    <tr>\n",
       "      <th>42</th>\n",
       "      <td>2096291.0</td>\n",
       "      <td>object</td>\n",
       "      <td>user_pref</td>\n",
       "      <td>501519.0</td>\n",
       "      <td>48.0</td>\n",
       "    </tr>\n",
       "    <tr>\n",
       "      <th>33</th>\n",
       "      <td>2597810.0</td>\n",
       "      <td>object</td>\n",
       "      <td>spot_small</td>\n",
       "      <td>0.0</td>\n",
       "      <td>55.0</td>\n",
       "    </tr>\n",
       "    <tr>\n",
       "      <th>9</th>\n",
       "      <td>202252.0</td>\n",
       "      <td>object</td>\n",
       "      <td>resid_small</td>\n",
       "      <td>2395558.0</td>\n",
       "      <td>56.0</td>\n",
       "    </tr>\n",
       "    <tr>\n",
       "      <th>32</th>\n",
       "      <td>2597810.0</td>\n",
       "      <td>object</td>\n",
       "      <td>spot_pref</td>\n",
       "      <td>0.0</td>\n",
       "      <td>60.0</td>\n",
       "    </tr>\n",
       "    <tr>\n",
       "      <th>41</th>\n",
       "      <td>2597810.0</td>\n",
       "      <td>int64</td>\n",
       "      <td>AGE</td>\n",
       "      <td>0.0</td>\n",
       "      <td>66.0</td>\n",
       "    </tr>\n",
       "    <tr>\n",
       "      <th>13</th>\n",
       "      <td>2597810.0</td>\n",
       "      <td>float64</td>\n",
       "      <td>PRICE_RATE</td>\n",
       "      <td>0.0</td>\n",
       "      <td>71.0</td>\n",
       "    </tr>\n",
       "    <tr>\n",
       "      <th>21</th>\n",
       "      <td>2597810.0</td>\n",
       "      <td>float64</td>\n",
       "      <td>VALIDPERIOD</td>\n",
       "      <td>0.0</td>\n",
       "      <td>181.0</td>\n",
       "    </tr>\n",
       "    <tr>\n",
       "      <th>3</th>\n",
       "      <td>2597810.0</td>\n",
       "      <td>float64</td>\n",
       "      <td>distance</td>\n",
       "      <td>0.0</td>\n",
       "      <td>263.0</td>\n",
       "    </tr>\n",
       "    <tr>\n",
       "      <th>17</th>\n",
       "      <td>2597810.0</td>\n",
       "      <td>datetime64[ns]</td>\n",
       "      <td>DISPEND</td>\n",
       "      <td>0.0</td>\n",
       "      <td>375.0</td>\n",
       "    </tr>\n",
       "    <tr>\n",
       "      <th>19</th>\n",
       "      <td>1804706.0</td>\n",
       "      <td>datetime64[ns]</td>\n",
       "      <td>VALIDFROM</td>\n",
       "      <td>793104.0</td>\n",
       "      <td>378.0</td>\n",
       "    </tr>\n",
       "    <tr>\n",
       "      <th>16</th>\n",
       "      <td>2597810.0</td>\n",
       "      <td>datetime64[ns]</td>\n",
       "      <td>DISPFROM</td>\n",
       "      <td>0.0</td>\n",
       "      <td>380.0</td>\n",
       "    </tr>\n",
       "    <tr>\n",
       "      <th>20</th>\n",
       "      <td>1804706.0</td>\n",
       "      <td>datetime64[ns]</td>\n",
       "      <td>VALIDEND</td>\n",
       "      <td>793104.0</td>\n",
       "      <td>516.0</td>\n",
       "    </tr>\n",
       "    <tr>\n",
       "      <th>15</th>\n",
       "      <td>2597810.0</td>\n",
       "      <td>float64</td>\n",
       "      <td>DISCOUNT_PRICE</td>\n",
       "      <td>0.0</td>\n",
       "      <td>1115.0</td>\n",
       "    </tr>\n",
       "    <tr>\n",
       "      <th>14</th>\n",
       "      <td>2597810.0</td>\n",
       "      <td>float64</td>\n",
       "      <td>CATALOG_PRICE</td>\n",
       "      <td>0.0</td>\n",
       "      <td>2416.0</td>\n",
       "    </tr>\n",
       "    <tr>\n",
       "      <th>35</th>\n",
       "      <td>2597810.0</td>\n",
       "      <td>float64</td>\n",
       "      <td>Price</td>\n",
       "      <td>0.0</td>\n",
       "      <td>3082.0</td>\n",
       "    </tr>\n",
       "    <tr>\n",
       "      <th>36</th>\n",
       "      <td>2597810.0</td>\n",
       "      <td>float64</td>\n",
       "      <td>lnDPRICE</td>\n",
       "      <td>0.0</td>\n",
       "      <td>3082.0</td>\n",
       "    </tr>\n",
       "    <tr>\n",
       "      <th>39</th>\n",
       "      <td>2597810.0</td>\n",
       "      <td>float64</td>\n",
       "      <td>zprice</td>\n",
       "      <td>0.0</td>\n",
       "      <td>5618.0</td>\n",
       "    </tr>\n",
       "    <tr>\n",
       "      <th>4</th>\n",
       "      <td>2597810.0</td>\n",
       "      <td>object</td>\n",
       "      <td>COUPON_ID_hash</td>\n",
       "      <td>0.0</td>\n",
       "      <td>19452.0</td>\n",
       "    </tr>\n",
       "    <tr>\n",
       "      <th>5</th>\n",
       "      <td>2597810.0</td>\n",
       "      <td>object</td>\n",
       "      <td>USER_ID_hash</td>\n",
       "      <td>0.0</td>\n",
       "      <td>22833.0</td>\n",
       "    </tr>\n",
       "    <tr>\n",
       "      <th>8</th>\n",
       "      <td>202252.0</td>\n",
       "      <td>datetime64[ns]</td>\n",
       "      <td>purchase_date</td>\n",
       "      <td>2395558.0</td>\n",
       "      <td>130310.0</td>\n",
       "    </tr>\n",
       "    <tr>\n",
       "      <th>10</th>\n",
       "      <td>202252.0</td>\n",
       "      <td>object</td>\n",
       "      <td>PURCHASEID_hash</td>\n",
       "      <td>2395558.0</td>\n",
       "      <td>168997.0</td>\n",
       "    </tr>\n",
       "    <tr>\n",
       "      <th>1</th>\n",
       "      <td>2543993.0</td>\n",
       "      <td>datetime64[ns]</td>\n",
       "      <td>VIEW_DATE</td>\n",
       "      <td>53817.0</td>\n",
       "      <td>2361323.0</td>\n",
       "    </tr>\n",
       "  </tbody>\n",
       "</table>\n",
       "</div>"
      ],
      "text/plain": [
       "          act           dtype                        name       null  \\\n",
       "0   2597810.0           int64                PURCHASE_FLG        0.0   \n",
       "24  2597810.0         float64             USABLE_DATE_WED        0.0   \n",
       "25  2597810.0         float64             USABLE_DATE_THU        0.0   \n",
       "26  2597810.0         float64             USABLE_DATE_FRI        0.0   \n",
       "27  2597810.0         float64             USABLE_DATE_SAT        0.0   \n",
       "28  2597810.0         float64             USABLE_DATE_SUN        0.0   \n",
       "23  2597810.0         float64             USABLE_DATE_TUE        0.0   \n",
       "30  2597810.0         float64  USABLE_DATE_BEFORE_HOLIDAY        0.0   \n",
       "29  2597810.0         float64         USABLE_DATE_HOLIDAY        0.0   \n",
       "6   2597810.0         float64                        VIEW        0.0   \n",
       "2   2597810.0           int64                     PREF_in        0.0   \n",
       "40  2597810.0           int64                      SEX_ID        0.0   \n",
       "22  2597810.0         float64             USABLE_DATE_MON        0.0   \n",
       "31  2597810.0          object                  spot_large        0.0   \n",
       "12  2597810.0          object                  GENRE_NAME        0.0   \n",
       "34  2597810.0          object                        Case        0.0   \n",
       "37  2597810.0         float64                     mDPRICE        0.0   \n",
       "38  2597810.0         float64                     sDPRICE        0.0   \n",
       "18  2597810.0         float64                  DISPPERIOD        0.0   \n",
       "11  2597810.0          object                CAPSULE_TEXT        0.0   \n",
       "7    202252.0         float64                  ITEM_COUNT  2395558.0   \n",
       "42  2096291.0          object                   user_pref   501519.0   \n",
       "33  2597810.0          object                  spot_small        0.0   \n",
       "9    202252.0          object                 resid_small  2395558.0   \n",
       "32  2597810.0          object                   spot_pref        0.0   \n",
       "41  2597810.0           int64                         AGE        0.0   \n",
       "13  2597810.0         float64                  PRICE_RATE        0.0   \n",
       "21  2597810.0         float64                 VALIDPERIOD        0.0   \n",
       "3   2597810.0         float64                    distance        0.0   \n",
       "17  2597810.0  datetime64[ns]                     DISPEND        0.0   \n",
       "19  1804706.0  datetime64[ns]                   VALIDFROM   793104.0   \n",
       "16  2597810.0  datetime64[ns]                    DISPFROM        0.0   \n",
       "20  1804706.0  datetime64[ns]                    VALIDEND   793104.0   \n",
       "15  2597810.0         float64              DISCOUNT_PRICE        0.0   \n",
       "14  2597810.0         float64               CATALOG_PRICE        0.0   \n",
       "35  2597810.0         float64                       Price        0.0   \n",
       "36  2597810.0         float64                    lnDPRICE        0.0   \n",
       "39  2597810.0         float64                      zprice        0.0   \n",
       "4   2597810.0          object              COUPON_ID_hash        0.0   \n",
       "5   2597810.0          object                USER_ID_hash        0.0   \n",
       "8    202252.0  datetime64[ns]               purchase_date  2395558.0   \n",
       "10   202252.0          object             PURCHASEID_hash  2395558.0   \n",
       "1   2543993.0  datetime64[ns]                   VIEW_DATE    53817.0   \n",
       "\n",
       "       unique  \n",
       "0         2.0  \n",
       "24        2.0  \n",
       "25        2.0  \n",
       "26        2.0  \n",
       "27        2.0  \n",
       "28        2.0  \n",
       "23        2.0  \n",
       "30        2.0  \n",
       "29        2.0  \n",
       "6         2.0  \n",
       "2         2.0  \n",
       "40        2.0  \n",
       "22        2.0  \n",
       "31        9.0  \n",
       "12       13.0  \n",
       "34       16.0  \n",
       "37       16.0  \n",
       "38       16.0  \n",
       "18       18.0  \n",
       "11       24.0  \n",
       "7        33.0  \n",
       "42       48.0  \n",
       "33       55.0  \n",
       "9        56.0  \n",
       "32       60.0  \n",
       "41       66.0  \n",
       "13       71.0  \n",
       "21      181.0  \n",
       "3       263.0  \n",
       "17      375.0  \n",
       "19      378.0  \n",
       "16      380.0  \n",
       "20      516.0  \n",
       "15     1115.0  \n",
       "14     2416.0  \n",
       "35     3082.0  \n",
       "36     3082.0  \n",
       "39     5618.0  \n",
       "4     19452.0  \n",
       "5     22833.0  \n",
       "8    130310.0  \n",
       "10   168997.0  \n",
       "1   2361323.0  "
      ]
     },
     "execution_count": 37,
     "metadata": {},
     "output_type": "execute_result"
    }
   ],
   "source": [
    "summary_table(train).sort_values(by='unique', ascending = True)"
   ]
  },
  {
   "cell_type": "code",
   "execution_count": 33,
   "metadata": {},
   "outputs": [
    {
     "data": {
      "text/plain": [
       "180.0"
      ]
     },
     "execution_count": 33,
     "metadata": {},
     "output_type": "execute_result"
    }
   ],
   "source": [
    "train['VALIDPERIOD'].max()"
   ]
  },
  {
   "cell_type": "code",
   "execution_count": 39,
   "metadata": {},
   "outputs": [],
   "source": [
    "# train['usable_week'] = train['USABLE_DATE_MON'] + train['USABLE_DATE_WED'] + train['USABLE_DATE_THU'] + train['USABLE_DATE_FRI'] + train['USABLE_DATE_SAT'] + train['USABLE_DATE_SUN'] + train['USABLE_DATE_TUE'] + train['USABLE_DATE_BEFORE_HOLIDAY'] + train['USABLE_DATE_HOLIDAY']"
   ]
  },
  {
   "cell_type": "code",
   "execution_count": 34,
   "metadata": {},
   "outputs": [],
   "source": [
    "train[\"VALID\"] = train[\"VIEW_DATE\"] - train[\"DISPFROM\"]\n",
    "train[\"VALID\"] = train[\"VALID\"].astype('timedelta64[s]') /60\n",
    "# train3[\"VALID\"] = train3['VALID'].apply(lambda x: x.total_seconds() / 60 )\n",
    "# train3['VALID'] = train3['VALID'].fillna(5000)"
   ]
  },
  {
   "cell_type": "code",
   "execution_count": 35,
   "metadata": {},
   "outputs": [],
   "source": [
    "train['VALID'] = train['VALID'].fillna(train['VALID'][train['PURCHASE_FLG']==1].mean())"
   ]
  },
  {
   "cell_type": "code",
   "execution_count": 36,
   "metadata": {
    "scrolled": false
   },
   "outputs": [
    {
     "data": {
      "text/plain": [
       "Index(['PURCHASE_FLG', 'VIEW_DATE', 'COUPON_ID_hash', 'USER_ID_hash', 'VIEW',\n",
       "       'ITEM_COUNT', 'purchase_date', 'resid_small', 'PURCHASEID_hash',\n",
       "       'CAPSULE_TEXT', 'GENRE_NAME', 'PRICE_RATE', 'CATALOG_PRICE',\n",
       "       'DISCOUNT_PRICE', 'DISPFROM', 'DISPEND', 'DISPPERIOD', 'VALIDFROM',\n",
       "       'VALIDEND', 'VALIDPERIOD', 'USABLE_DATE_MON', 'USABLE_DATE_TUE',\n",
       "       'USABLE_DATE_WED', 'USABLE_DATE_THU', 'USABLE_DATE_FRI',\n",
       "       'USABLE_DATE_SAT', 'USABLE_DATE_SUN', 'USABLE_DATE_HOLIDAY',\n",
       "       'USABLE_DATE_BEFORE_HOLIDAY', 'spot_large', 'spot_pref', 'spot_small',\n",
       "       'Case', 'Price', 'lnDPRICE', 'mDPRICE', 'sDPRICE', 'zprice', 'SEX_ID',\n",
       "       'AGE', 'user_pref', 'VALID'],\n",
       "      dtype='object')"
      ]
     },
     "execution_count": 36,
     "metadata": {},
     "output_type": "execute_result"
    }
   ],
   "source": [
    "train.columns"
   ]
  },
  {
   "cell_type": "markdown",
   "metadata": {},
   "source": [
    "### train에 proba 추가"
   ]
  },
  {
   "cell_type": "code",
   "execution_count": 71,
   "metadata": {},
   "outputs": [
    {
     "data": {
      "text/plain": [
       "(Index(['Case', '총개수', '구매수', 'proba_case'], dtype='object'),\n",
       " Index(['GENRE_NAME', '총개수', '구매수', 'proba_GENRE_NAME'], dtype='object'),\n",
       " Index(['spot_pref', '총개수', '구매수', 'proba_spot_pref'], dtype='object'))"
      ]
     },
     "execution_count": 71,
     "metadata": {},
     "output_type": "execute_result"
    }
   ],
   "source": [
    "proba_case.columns , proba_genre.columns, proba_location.columns"
   ]
  },
  {
   "cell_type": "code",
   "execution_count": 75,
   "metadata": {},
   "outputs": [],
   "source": [
    "train.insert(2, 'proba_case', train['Case'].map(proba_case.set_index('Case')['proba_case']))\n",
    "train.insert(2, 'proba_GENRE_NAME', train['GENRE_NAME'].map(proba_genre.set_index('GENRE_NAME')['proba_GENRE_NAME']))\n",
    "train.insert(2, 'proba_spot_pref', train['spot_pref'].map(proba_location.set_index('spot_pref')['proba_spot_pref']))"
   ]
  },
  {
   "cell_type": "markdown",
   "metadata": {},
   "source": [
    "### train에 visit_proba 추가"
   ]
  },
  {
   "cell_type": "code",
   "execution_count": 371,
   "metadata": {
    "scrolled": true
   },
   "outputs": [
    {
     "data": {
      "text/plain": [
       "(Index(['Case', '총개수', '구매수', 'visit_proba_case'], dtype='object'),\n",
       " Index(['GENRE_NAME', '총개수', '구매수', 'visit_proba_GENRE_NAME'], dtype='object'),\n",
       " Index(['spot_pref', '총개수', '구매수', 'visit_proba_spot_pref'], dtype='object'))"
      ]
     },
     "execution_count": 371,
     "metadata": {},
     "output_type": "execute_result"
    }
   ],
   "source": [
    "visit_proba_case.columns , visit_proba_genre.columns, visit_proba_location.columns"
   ]
  },
  {
   "cell_type": "code",
   "execution_count": 373,
   "metadata": {},
   "outputs": [
    {
     "data": {
      "text/plain": [
       "Index(['PURCHASE_FLG', 'VIEW_DATE', 'PREF_in', 'distance', 'proba_spot_pref',\n",
       "       'proba_GENRE_NAME', 'proba_case', 'COUPON_ID_hash', 'USER_ID_hash',\n",
       "       'VIEW', 'ITEM_COUNT', 'purchase_date', 'resid_small', 'PURCHASEID_hash',\n",
       "       'CAPSULE_TEXT', 'PRICE_RATE', 'CATALOG_PRICE', 'DISCOUNT_PRICE',\n",
       "       'DISPFROM', 'DISPEND', 'DISPPERIOD', 'VALIDFROM', 'VALIDEND',\n",
       "       'VALIDPERIOD', 'USABLE_DATE_MON', 'USABLE_DATE_TUE', 'USABLE_DATE_WED',\n",
       "       'USABLE_DATE_THU', 'USABLE_DATE_FRI', 'USABLE_DATE_SAT',\n",
       "       'USABLE_DATE_SUN', 'USABLE_DATE_HOLIDAY', 'USABLE_DATE_BEFORE_HOLIDAY',\n",
       "       'spot_large', 'spot_pref', 'spot_small', 'Price', 'lnDPRICE', 'mDPRICE',\n",
       "       'sDPRICE', 'zprice', 'SEX_ID', 'AGE', 'user_pref', 'Case_BEAUTY',\n",
       "       'Case_CLASS', 'Case_DELIVERY', 'Case_EVENT', 'Case_FOOD', 'Case_GIFT',\n",
       "       'Case_HAIR', 'Case_HEALTH', 'Case_HOTEL', 'Case_LEISURE', 'Case_LESSON',\n",
       "       'Case_NAIL', 'Case_OTHER', 'Case_RELAXATION', 'Case_SPA', 'Case_WEB',\n",
       "       'VALID', 'GENRE_NAME_Beauty', 'GENRE_NAME_Delivery service',\n",
       "       'GENRE_NAME_Food', 'GENRE_NAME_Gift card', 'GENRE_NAME_Hair salon',\n",
       "       'GENRE_NAME_Health and medical', 'GENRE_NAME_Hotel and Japanese hotel',\n",
       "       'GENRE_NAME_Leisure', 'GENRE_NAME_Lesson',\n",
       "       'GENRE_NAME_Nail and eye salon', 'GENRE_NAME_Other coupon',\n",
       "       'GENRE_NAME_Relaxation', 'GENRE_NAME_Spa'],\n",
       "      dtype='object')"
      ]
     },
     "execution_count": 373,
     "metadata": {},
     "output_type": "execute_result"
    }
   ],
   "source": [
    "train.columns"
   ]
  },
  {
   "cell_type": "code",
   "execution_count": 376,
   "metadata": {
    "collapsed": true
   },
   "outputs": [
    {
     "ename": "KeyError",
     "evalue": "'GENRE_NAME'",
     "output_type": "error",
     "traceback": [
      "\u001b[0;31m---------------------------------------------------------------------------\u001b[0m",
      "\u001b[0;31mKeyError\u001b[0m                                  Traceback (most recent call last)",
      "\u001b[0;32m/Library/Frameworks/Python.framework/Versions/3.5/lib/python3.5/site-packages/pandas/core/indexes/base.py\u001b[0m in \u001b[0;36mget_loc\u001b[0;34m(self, key, method, tolerance)\u001b[0m\n\u001b[1;32m   2392\u001b[0m             \u001b[0;32mtry\u001b[0m\u001b[0;34m:\u001b[0m\u001b[0;34m\u001b[0m\u001b[0m\n\u001b[0;32m-> 2393\u001b[0;31m                 \u001b[0;32mreturn\u001b[0m \u001b[0mself\u001b[0m\u001b[0;34m.\u001b[0m\u001b[0m_engine\u001b[0m\u001b[0;34m.\u001b[0m\u001b[0mget_loc\u001b[0m\u001b[0;34m(\u001b[0m\u001b[0mkey\u001b[0m\u001b[0;34m)\u001b[0m\u001b[0;34m\u001b[0m\u001b[0m\n\u001b[0m\u001b[1;32m   2394\u001b[0m             \u001b[0;32mexcept\u001b[0m \u001b[0mKeyError\u001b[0m\u001b[0;34m:\u001b[0m\u001b[0;34m\u001b[0m\u001b[0m\n",
      "\u001b[0;32mpandas/_libs/index.pyx\u001b[0m in \u001b[0;36mpandas._libs.index.IndexEngine.get_loc (pandas/_libs/index.c:5239)\u001b[0;34m()\u001b[0m\n",
      "\u001b[0;32mpandas/_libs/index.pyx\u001b[0m in \u001b[0;36mpandas._libs.index.IndexEngine.get_loc (pandas/_libs/index.c:5085)\u001b[0;34m()\u001b[0m\n",
      "\u001b[0;32mpandas/_libs/hashtable_class_helper.pxi\u001b[0m in \u001b[0;36mpandas._libs.hashtable.PyObjectHashTable.get_item (pandas/_libs/hashtable.c:20405)\u001b[0;34m()\u001b[0m\n",
      "\u001b[0;32mpandas/_libs/hashtable_class_helper.pxi\u001b[0m in \u001b[0;36mpandas._libs.hashtable.PyObjectHashTable.get_item (pandas/_libs/hashtable.c:20359)\u001b[0;34m()\u001b[0m\n",
      "\u001b[0;31mKeyError\u001b[0m: 'GENRE_NAME'",
      "\nDuring handling of the above exception, another exception occurred:\n",
      "\u001b[0;31mKeyError\u001b[0m                                  Traceback (most recent call last)",
      "\u001b[0;32m<ipython-input-376-75410b04e3ec>\u001b[0m in \u001b[0;36m<module>\u001b[0;34m()\u001b[0m\n\u001b[1;32m      1\u001b[0m \u001b[0;31m# train.insert(2, 'visit_proba_case', train['Case'].map(visit_proba_case.set_index('Case')['visit_proba_case']))\u001b[0m\u001b[0;34m\u001b[0m\u001b[0;34m\u001b[0m\u001b[0m\n\u001b[0;32m----> 2\u001b[0;31m \u001b[0mtrain\u001b[0m\u001b[0;34m.\u001b[0m\u001b[0minsert\u001b[0m\u001b[0;34m(\u001b[0m\u001b[0;36m2\u001b[0m\u001b[0;34m,\u001b[0m \u001b[0;34m'visit_proba_GENRE_NAME'\u001b[0m\u001b[0;34m,\u001b[0m \u001b[0mtrain\u001b[0m\u001b[0;34m[\u001b[0m\u001b[0;34m'GENRE_NAME'\u001b[0m\u001b[0;34m]\u001b[0m\u001b[0;34m.\u001b[0m\u001b[0mmap\u001b[0m\u001b[0;34m(\u001b[0m\u001b[0mvisit_proba_genre\u001b[0m\u001b[0;34m.\u001b[0m\u001b[0mset_index\u001b[0m\u001b[0;34m(\u001b[0m\u001b[0;34m'GENRE_NAME'\u001b[0m\u001b[0;34m)\u001b[0m\u001b[0;34m[\u001b[0m\u001b[0;34m'visit_proba_GENRE_NAME'\u001b[0m\u001b[0;34m]\u001b[0m\u001b[0;34m)\u001b[0m\u001b[0;34m)\u001b[0m\u001b[0;34m\u001b[0m\u001b[0m\n\u001b[0m\u001b[1;32m      3\u001b[0m \u001b[0mtrain\u001b[0m\u001b[0;34m.\u001b[0m\u001b[0minsert\u001b[0m\u001b[0;34m(\u001b[0m\u001b[0;36m2\u001b[0m\u001b[0;34m,\u001b[0m \u001b[0;34m'visit_proba_spot_pref'\u001b[0m\u001b[0;34m,\u001b[0m \u001b[0mtrain\u001b[0m\u001b[0;34m[\u001b[0m\u001b[0;34m'spot_pref'\u001b[0m\u001b[0;34m]\u001b[0m\u001b[0;34m.\u001b[0m\u001b[0mmap\u001b[0m\u001b[0;34m(\u001b[0m\u001b[0mvisit_proba_location\u001b[0m\u001b[0;34m.\u001b[0m\u001b[0mset_index\u001b[0m\u001b[0;34m(\u001b[0m\u001b[0;34m'spot_pref'\u001b[0m\u001b[0;34m)\u001b[0m\u001b[0;34m[\u001b[0m\u001b[0;34m'visit_proba_spot_pref'\u001b[0m\u001b[0;34m]\u001b[0m\u001b[0;34m)\u001b[0m\u001b[0;34m)\u001b[0m\u001b[0;34m\u001b[0m\u001b[0m\n",
      "\u001b[0;32m/Library/Frameworks/Python.framework/Versions/3.5/lib/python3.5/site-packages/pandas/core/frame.py\u001b[0m in \u001b[0;36m__getitem__\u001b[0;34m(self, key)\u001b[0m\n\u001b[1;32m   2060\u001b[0m             \u001b[0;32mreturn\u001b[0m \u001b[0mself\u001b[0m\u001b[0;34m.\u001b[0m\u001b[0m_getitem_multilevel\u001b[0m\u001b[0;34m(\u001b[0m\u001b[0mkey\u001b[0m\u001b[0;34m)\u001b[0m\u001b[0;34m\u001b[0m\u001b[0m\n\u001b[1;32m   2061\u001b[0m         \u001b[0;32melse\u001b[0m\u001b[0;34m:\u001b[0m\u001b[0;34m\u001b[0m\u001b[0m\n\u001b[0;32m-> 2062\u001b[0;31m             \u001b[0;32mreturn\u001b[0m \u001b[0mself\u001b[0m\u001b[0;34m.\u001b[0m\u001b[0m_getitem_column\u001b[0m\u001b[0;34m(\u001b[0m\u001b[0mkey\u001b[0m\u001b[0;34m)\u001b[0m\u001b[0;34m\u001b[0m\u001b[0m\n\u001b[0m\u001b[1;32m   2063\u001b[0m \u001b[0;34m\u001b[0m\u001b[0m\n\u001b[1;32m   2064\u001b[0m     \u001b[0;32mdef\u001b[0m \u001b[0m_getitem_column\u001b[0m\u001b[0;34m(\u001b[0m\u001b[0mself\u001b[0m\u001b[0;34m,\u001b[0m \u001b[0mkey\u001b[0m\u001b[0;34m)\u001b[0m\u001b[0;34m:\u001b[0m\u001b[0;34m\u001b[0m\u001b[0m\n",
      "\u001b[0;32m/Library/Frameworks/Python.framework/Versions/3.5/lib/python3.5/site-packages/pandas/core/frame.py\u001b[0m in \u001b[0;36m_getitem_column\u001b[0;34m(self, key)\u001b[0m\n\u001b[1;32m   2067\u001b[0m         \u001b[0;31m# get column\u001b[0m\u001b[0;34m\u001b[0m\u001b[0;34m\u001b[0m\u001b[0m\n\u001b[1;32m   2068\u001b[0m         \u001b[0;32mif\u001b[0m \u001b[0mself\u001b[0m\u001b[0;34m.\u001b[0m\u001b[0mcolumns\u001b[0m\u001b[0;34m.\u001b[0m\u001b[0mis_unique\u001b[0m\u001b[0;34m:\u001b[0m\u001b[0;34m\u001b[0m\u001b[0m\n\u001b[0;32m-> 2069\u001b[0;31m             \u001b[0;32mreturn\u001b[0m \u001b[0mself\u001b[0m\u001b[0;34m.\u001b[0m\u001b[0m_get_item_cache\u001b[0m\u001b[0;34m(\u001b[0m\u001b[0mkey\u001b[0m\u001b[0;34m)\u001b[0m\u001b[0;34m\u001b[0m\u001b[0m\n\u001b[0m\u001b[1;32m   2070\u001b[0m \u001b[0;34m\u001b[0m\u001b[0m\n\u001b[1;32m   2071\u001b[0m         \u001b[0;31m# duplicate columns & possible reduce dimensionality\u001b[0m\u001b[0;34m\u001b[0m\u001b[0;34m\u001b[0m\u001b[0m\n",
      "\u001b[0;32m/Library/Frameworks/Python.framework/Versions/3.5/lib/python3.5/site-packages/pandas/core/generic.py\u001b[0m in \u001b[0;36m_get_item_cache\u001b[0;34m(self, item)\u001b[0m\n\u001b[1;32m   1532\u001b[0m         \u001b[0mres\u001b[0m \u001b[0;34m=\u001b[0m \u001b[0mcache\u001b[0m\u001b[0;34m.\u001b[0m\u001b[0mget\u001b[0m\u001b[0;34m(\u001b[0m\u001b[0mitem\u001b[0m\u001b[0;34m)\u001b[0m\u001b[0;34m\u001b[0m\u001b[0m\n\u001b[1;32m   1533\u001b[0m         \u001b[0;32mif\u001b[0m \u001b[0mres\u001b[0m \u001b[0;32mis\u001b[0m \u001b[0;32mNone\u001b[0m\u001b[0;34m:\u001b[0m\u001b[0;34m\u001b[0m\u001b[0m\n\u001b[0;32m-> 1534\u001b[0;31m             \u001b[0mvalues\u001b[0m \u001b[0;34m=\u001b[0m \u001b[0mself\u001b[0m\u001b[0;34m.\u001b[0m\u001b[0m_data\u001b[0m\u001b[0;34m.\u001b[0m\u001b[0mget\u001b[0m\u001b[0;34m(\u001b[0m\u001b[0mitem\u001b[0m\u001b[0;34m)\u001b[0m\u001b[0;34m\u001b[0m\u001b[0m\n\u001b[0m\u001b[1;32m   1535\u001b[0m             \u001b[0mres\u001b[0m \u001b[0;34m=\u001b[0m \u001b[0mself\u001b[0m\u001b[0;34m.\u001b[0m\u001b[0m_box_item_values\u001b[0m\u001b[0;34m(\u001b[0m\u001b[0mitem\u001b[0m\u001b[0;34m,\u001b[0m \u001b[0mvalues\u001b[0m\u001b[0;34m)\u001b[0m\u001b[0;34m\u001b[0m\u001b[0m\n\u001b[1;32m   1536\u001b[0m             \u001b[0mcache\u001b[0m\u001b[0;34m[\u001b[0m\u001b[0mitem\u001b[0m\u001b[0;34m]\u001b[0m \u001b[0;34m=\u001b[0m \u001b[0mres\u001b[0m\u001b[0;34m\u001b[0m\u001b[0m\n",
      "\u001b[0;32m/Library/Frameworks/Python.framework/Versions/3.5/lib/python3.5/site-packages/pandas/core/internals.py\u001b[0m in \u001b[0;36mget\u001b[0;34m(self, item, fastpath)\u001b[0m\n\u001b[1;32m   3588\u001b[0m \u001b[0;34m\u001b[0m\u001b[0m\n\u001b[1;32m   3589\u001b[0m             \u001b[0;32mif\u001b[0m \u001b[0;32mnot\u001b[0m \u001b[0misnull\u001b[0m\u001b[0;34m(\u001b[0m\u001b[0mitem\u001b[0m\u001b[0;34m)\u001b[0m\u001b[0;34m:\u001b[0m\u001b[0;34m\u001b[0m\u001b[0m\n\u001b[0;32m-> 3590\u001b[0;31m                 \u001b[0mloc\u001b[0m \u001b[0;34m=\u001b[0m \u001b[0mself\u001b[0m\u001b[0;34m.\u001b[0m\u001b[0mitems\u001b[0m\u001b[0;34m.\u001b[0m\u001b[0mget_loc\u001b[0m\u001b[0;34m(\u001b[0m\u001b[0mitem\u001b[0m\u001b[0;34m)\u001b[0m\u001b[0;34m\u001b[0m\u001b[0m\n\u001b[0m\u001b[1;32m   3591\u001b[0m             \u001b[0;32melse\u001b[0m\u001b[0;34m:\u001b[0m\u001b[0;34m\u001b[0m\u001b[0m\n\u001b[1;32m   3592\u001b[0m                 \u001b[0mindexer\u001b[0m \u001b[0;34m=\u001b[0m \u001b[0mnp\u001b[0m\u001b[0;34m.\u001b[0m\u001b[0marange\u001b[0m\u001b[0;34m(\u001b[0m\u001b[0mlen\u001b[0m\u001b[0;34m(\u001b[0m\u001b[0mself\u001b[0m\u001b[0;34m.\u001b[0m\u001b[0mitems\u001b[0m\u001b[0;34m)\u001b[0m\u001b[0;34m)\u001b[0m\u001b[0;34m[\u001b[0m\u001b[0misnull\u001b[0m\u001b[0;34m(\u001b[0m\u001b[0mself\u001b[0m\u001b[0;34m.\u001b[0m\u001b[0mitems\u001b[0m\u001b[0;34m)\u001b[0m\u001b[0;34m]\u001b[0m\u001b[0;34m\u001b[0m\u001b[0m\n",
      "\u001b[0;32m/Library/Frameworks/Python.framework/Versions/3.5/lib/python3.5/site-packages/pandas/core/indexes/base.py\u001b[0m in \u001b[0;36mget_loc\u001b[0;34m(self, key, method, tolerance)\u001b[0m\n\u001b[1;32m   2393\u001b[0m                 \u001b[0;32mreturn\u001b[0m \u001b[0mself\u001b[0m\u001b[0;34m.\u001b[0m\u001b[0m_engine\u001b[0m\u001b[0;34m.\u001b[0m\u001b[0mget_loc\u001b[0m\u001b[0;34m(\u001b[0m\u001b[0mkey\u001b[0m\u001b[0;34m)\u001b[0m\u001b[0;34m\u001b[0m\u001b[0m\n\u001b[1;32m   2394\u001b[0m             \u001b[0;32mexcept\u001b[0m \u001b[0mKeyError\u001b[0m\u001b[0;34m:\u001b[0m\u001b[0;34m\u001b[0m\u001b[0m\n\u001b[0;32m-> 2395\u001b[0;31m                 \u001b[0;32mreturn\u001b[0m \u001b[0mself\u001b[0m\u001b[0;34m.\u001b[0m\u001b[0m_engine\u001b[0m\u001b[0;34m.\u001b[0m\u001b[0mget_loc\u001b[0m\u001b[0;34m(\u001b[0m\u001b[0mself\u001b[0m\u001b[0;34m.\u001b[0m\u001b[0m_maybe_cast_indexer\u001b[0m\u001b[0;34m(\u001b[0m\u001b[0mkey\u001b[0m\u001b[0;34m)\u001b[0m\u001b[0;34m)\u001b[0m\u001b[0;34m\u001b[0m\u001b[0m\n\u001b[0m\u001b[1;32m   2396\u001b[0m \u001b[0;34m\u001b[0m\u001b[0m\n\u001b[1;32m   2397\u001b[0m         \u001b[0mindexer\u001b[0m \u001b[0;34m=\u001b[0m \u001b[0mself\u001b[0m\u001b[0;34m.\u001b[0m\u001b[0mget_indexer\u001b[0m\u001b[0;34m(\u001b[0m\u001b[0;34m[\u001b[0m\u001b[0mkey\u001b[0m\u001b[0;34m]\u001b[0m\u001b[0;34m,\u001b[0m \u001b[0mmethod\u001b[0m\u001b[0;34m=\u001b[0m\u001b[0mmethod\u001b[0m\u001b[0;34m,\u001b[0m \u001b[0mtolerance\u001b[0m\u001b[0;34m=\u001b[0m\u001b[0mtolerance\u001b[0m\u001b[0;34m)\u001b[0m\u001b[0;34m\u001b[0m\u001b[0m\n",
      "\u001b[0;32mpandas/_libs/index.pyx\u001b[0m in \u001b[0;36mpandas._libs.index.IndexEngine.get_loc (pandas/_libs/index.c:5239)\u001b[0;34m()\u001b[0m\n",
      "\u001b[0;32mpandas/_libs/index.pyx\u001b[0m in \u001b[0;36mpandas._libs.index.IndexEngine.get_loc (pandas/_libs/index.c:5085)\u001b[0;34m()\u001b[0m\n",
      "\u001b[0;32mpandas/_libs/hashtable_class_helper.pxi\u001b[0m in \u001b[0;36mpandas._libs.hashtable.PyObjectHashTable.get_item (pandas/_libs/hashtable.c:20405)\u001b[0;34m()\u001b[0m\n",
      "\u001b[0;32mpandas/_libs/hashtable_class_helper.pxi\u001b[0m in \u001b[0;36mpandas._libs.hashtable.PyObjectHashTable.get_item (pandas/_libs/hashtable.c:20359)\u001b[0;34m()\u001b[0m\n",
      "\u001b[0;31mKeyError\u001b[0m: 'GENRE_NAME'"
     ]
    }
   ],
   "source": [
    "train.insert(2, 'visit_proba_case', train['Case'].map(visit_proba_case.set_index('Case')['visit_proba_case']))\n",
    "train.insert(2, 'visit_proba_GENRE_NAME', train['GENRE_NAME'].map(visit_proba_genre.set_index('GENRE_NAME')['visit_proba_GENRE_NAME']))\n",
    "train.insert(2, 'visit_proba_spot_pref', train['spot_pref'].map(visit_proba_location.set_index('spot_pref')['visit_proba_spot_pref']))"
   ]
  },
  {
   "cell_type": "code",
   "execution_count": 37,
   "metadata": {
    "scrolled": true
   },
   "outputs": [
    {
     "data": {
      "text/plain": [
       "Index(['PURCHASE_FLG', 'VIEW_DATE', 'COUPON_ID_hash', 'USER_ID_hash', 'VIEW',\n",
       "       'ITEM_COUNT', 'purchase_date', 'resid_small', 'PURCHASEID_hash',\n",
       "       'CAPSULE_TEXT', 'GENRE_NAME', 'PRICE_RATE', 'CATALOG_PRICE',\n",
       "       'DISCOUNT_PRICE', 'DISPFROM', 'DISPEND', 'DISPPERIOD', 'VALIDFROM',\n",
       "       'VALIDEND', 'VALIDPERIOD', 'USABLE_DATE_MON', 'USABLE_DATE_TUE',\n",
       "       'USABLE_DATE_WED', 'USABLE_DATE_THU', 'USABLE_DATE_FRI',\n",
       "       'USABLE_DATE_SAT', 'USABLE_DATE_SUN', 'USABLE_DATE_HOLIDAY',\n",
       "       'USABLE_DATE_BEFORE_HOLIDAY', 'spot_large', 'spot_pref', 'spot_small',\n",
       "       'Case', 'Price', 'lnDPRICE', 'mDPRICE', 'sDPRICE', 'zprice', 'SEX_ID',\n",
       "       'AGE', 'user_pref', 'VALID'],\n",
       "      dtype='object')"
      ]
     },
     "execution_count": 37,
     "metadata": {},
     "output_type": "execute_result"
    }
   ],
   "source": [
    "train.columns"
   ]
  },
  {
   "cell_type": "code",
   "execution_count": 38,
   "metadata": {},
   "outputs": [],
   "source": [
    "del_ls = ['PURCHASE_FLG', 'VIEW_DATE', 'COUPON_ID_hash', 'USER_ID_hash', 'VIEW',\n",
    "       'ITEM_COUNT', 'purchase_date', 'resid_small', 'PURCHASEID_hash',\n",
    "       'CAPSULE_TEXT', 'GENRE_NAME', 'CATALOG_PRICE',\n",
    "       'DISCOUNT_PRICE', 'DISPFROM', 'DISPEND', 'VALIDFROM',\n",
    "       'VALIDEND', 'VALIDPERIOD', 'spot_large', 'spot_pref', 'spot_small',\n",
    "         'Price', 'lnDPRICE', 'mDPRICE', 'sDPRICE', 'user_pref']"
   ]
  },
  {
   "cell_type": "markdown",
   "metadata": {},
   "source": [
    "## B. 모델링"
   ]
  },
  {
   "cell_type": "markdown",
   "metadata": {},
   "source": [
    "### B1. 데이터 생성"
   ]
  },
  {
   "cell_type": "markdown",
   "metadata": {},
   "source": [
    "#### 1) dummy list 생성(train & test의 일관성을 위함)"
   ]
  },
  {
   "cell_type": "code",
   "execution_count": 39,
   "metadata": {},
   "outputs": [],
   "source": [
    "ls_dummy = ['Case'] #'user_pref', 'spot_small', 'spot_pref', 'spot_large', "
   ]
  },
  {
   "cell_type": "markdown",
   "metadata": {},
   "source": [
    "#### 2) train data dummy 처리"
   ]
  },
  {
   "cell_type": "code",
   "execution_count": 40,
   "metadata": {},
   "outputs": [],
   "source": [
    "train = pd.get_dummies(train, columns = ls_dummy)"
   ]
  },
  {
   "cell_type": "markdown",
   "metadata": {},
   "source": [
    "#### 3) test data 생성 -> 아래 로케이션 부분은 슬랙에서설명한 부분 참조"
   ]
  },
  {
   "cell_type": "code",
   "execution_count": 43,
   "metadata": {},
   "outputs": [],
   "source": [
    "# test 데이터 생성\n",
    "coupon_list_test['A'] = 1\n",
    "user_list['A'] = 1\n",
    "test = pd.merge(coupon_list_test, user_list, how='outer')"
   ]
  },
  {
   "cell_type": "code",
   "execution_count": 42,
   "metadata": {
    "collapsed": true
   },
   "outputs": [
    {
     "ename": "NameError",
     "evalue": "name 'area_test' is not defined",
     "output_type": "error",
     "traceback": [
      "\u001b[0;31m--------------------------------\u001b[0m",
      "\u001b[0;31mNameError\u001b[0mTraceback (most recent call last)",
      "\u001b[0;32m<ipython-input-42-f2e291841247>\u001b[0m in \u001b[0;36m<module>\u001b[0;34m()\u001b[0m\n\u001b[0;32m----> 1\u001b[0;31m \u001b[0marea_test\u001b[0m\u001b[0;34m[\u001b[0m\u001b[0;34m'key'\u001b[0m\u001b[0;34m]\u001b[0m \u001b[0;34m=\u001b[0m \u001b[0marea_test\u001b[0m\u001b[0;34m[\u001b[0m\u001b[0;34m'COUPON_ID_hash'\u001b[0m\u001b[0;34m]\u001b[0m \u001b[0;34m+\u001b[0m \u001b[0marea_test\u001b[0m\u001b[0;34m[\u001b[0m\u001b[0;34m'USER_ID_hash'\u001b[0m\u001b[0;34m]\u001b[0m\u001b[0;34m\u001b[0m\u001b[0m\n\u001b[0m",
      "\u001b[0;31mNameError\u001b[0m: name 'area_test' is not defined"
     ]
    }
   ],
   "source": [
    "area_test['key'] = area_test['COUPON_ID_hash'] + area_test['USER_ID_hash']"
   ]
  },
  {
   "cell_type": "code",
   "execution_count": 328,
   "metadata": {},
   "outputs": [],
   "source": [
    "# area_test 삽입\n",
    "test['key'] = test['COUPON_ID_hash'] + test['USER_ID_hash'] \n",
    "test.insert(2, 'distance', test['key'].map(area_test.set_index('key')['distance']))\n",
    "test.insert(2, 'PREF_in', test['key'].map(area_test.set_index('key')['PREF_in']))\n",
    "test.drop(labels = ['key'], axis=1, inplace=True)"
   ]
  },
  {
   "cell_type": "markdown",
   "metadata": {},
   "source": [
    "#### 4) test data dummy처리"
   ]
  },
  {
   "cell_type": "markdown",
   "metadata": {},
   "source": [
    "#### test 데이터에 proba 붙이기"
   ]
  },
  {
   "cell_type": "code",
   "execution_count": 44,
   "metadata": {
    "scrolled": false
   },
   "outputs": [
    {
     "data": {
      "text/plain": [
       "Index(['CAPSULE_TEXT', 'GENRE_NAME', 'PRICE_RATE', 'CATALOG_PRICE',\n",
       "       'DISCOUNT_PRICE', 'DISPFROM', 'DISPEND', 'DISPPERIOD', 'VALIDFROM',\n",
       "       'VALIDEND', 'VALIDPERIOD', 'USABLE_DATE_MON', 'USABLE_DATE_TUE',\n",
       "       'USABLE_DATE_WED', 'USABLE_DATE_THU', 'USABLE_DATE_FRI',\n",
       "       'USABLE_DATE_SAT', 'USABLE_DATE_SUN', 'USABLE_DATE_HOLIDAY',\n",
       "       'USABLE_DATE_BEFORE_HOLIDAY', 'spot_large', 'spot_pref', 'spot_small',\n",
       "       'COUPON_ID_hash', 'Case', 'Price', 'lnDPRICE', 'mDPRICE', 'sDPRICE',\n",
       "       'zprice', 'A', 'SEX_ID', 'AGE', 'user_pref', 'USER_ID_hash'],\n",
       "      dtype='object')"
      ]
     },
     "execution_count": 44,
     "metadata": {},
     "output_type": "execute_result"
    }
   ],
   "source": [
    "test.columns"
   ]
  },
  {
   "cell_type": "code",
   "execution_count": 330,
   "metadata": {
    "scrolled": true
   },
   "outputs": [],
   "source": [
    "test.insert(2, 'proba_case', test['Case'].map(proba_case.set_index('Case')['proba_case']))\n",
    "test.insert(2, 'proba_GENRE_NAME', test['GENRE_NAME'].map(proba_genre.set_index('GENRE_NAME')['proba_GENRE_NAME']))\n",
    "test.insert(2, 'proba_spot_pref', test['spot_pref'].map(proba_location.set_index('spot_pref')['proba_spot_pref']))"
   ]
  },
  {
   "cell_type": "code",
   "execution_count": null,
   "metadata": {},
   "outputs": [],
   "source": [
    "test.insert(2, 'visit_proba_case', test['Case'].map(visit_proba_case.set_index('Case')['visit_proba_case']))\n",
    "test.insert(2, 'visit_proba_GENRE_NAME', test['GENRE_NAME'].map(visit_proba_genre.set_index('GENRE_NAME')['visit_proba_GENRE_NAME']))\n",
    "test.insert(2, 'visit_proba_spot_pref', test['spot_pref'].map(visit_proba_location.set_index('spot_pref')['visit_proba_spot_pref']))"
   ]
  },
  {
   "cell_type": "code",
   "execution_count": 45,
   "metadata": {},
   "outputs": [],
   "source": [
    "test = pd.get_dummies(test, columns = ls_dummy)\n",
    "test.drop(labels = ['A'], axis=1, inplace=True)"
   ]
  },
  {
   "cell_type": "code",
   "execution_count": 46,
   "metadata": {},
   "outputs": [
    {
     "data": {
      "text/plain": [
       "Index(['CAPSULE_TEXT', 'GENRE_NAME', 'PRICE_RATE', 'CATALOG_PRICE',\n",
       "       'DISCOUNT_PRICE', 'DISPFROM', 'DISPEND', 'DISPPERIOD', 'VALIDFROM',\n",
       "       'VALIDEND', 'VALIDPERIOD', 'USABLE_DATE_MON', 'USABLE_DATE_TUE',\n",
       "       'USABLE_DATE_WED', 'USABLE_DATE_THU', 'USABLE_DATE_FRI',\n",
       "       'USABLE_DATE_SAT', 'USABLE_DATE_SUN', 'USABLE_DATE_HOLIDAY',\n",
       "       'USABLE_DATE_BEFORE_HOLIDAY', 'spot_large', 'spot_pref', 'spot_small',\n",
       "       'COUPON_ID_hash', 'Price', 'lnDPRICE', 'mDPRICE', 'sDPRICE', 'zprice',\n",
       "       'SEX_ID', 'AGE', 'user_pref', 'USER_ID_hash', 'Case_CLASS',\n",
       "       'Case_DELIVERY', 'Case_FOOD', 'Case_GIFT', 'Case_HAIR', 'Case_HEALTH',\n",
       "       'Case_HOTEL', 'Case_LEISURE', 'Case_NAIL', 'Case_OTHER',\n",
       "       'Case_RELAXATION', 'Case_SPA', 'Case_WEB'],\n",
       "      dtype='object')"
      ]
     },
     "execution_count": 46,
     "metadata": {},
     "output_type": "execute_result"
    }
   ],
   "source": [
    "test.columns"
   ]
  },
  {
   "cell_type": "markdown",
   "metadata": {},
   "source": [
    "#### 5)  test & train set columns 비교 -> 지역이 문제임. 지역은 개인 판단하에 위에 drop부분에서 삭제해주시길\n",
    "\n",
    "5-1) PURCHASE_FLG: train의 y값으로 활용될 것임\n",
    "\n",
    "5-2) VIEW_DATE: 향후 활용 가능성이 있음. 우선은 mod_ls에서 걸러짐.\n",
    "\n",
    "5-3) VIEW: 향후 활용 가능성 있음(가중치 넣는 식). 우선은 mod_ls에서 걸러짐"
   ]
  },
  {
   "cell_type": "code",
   "execution_count": 46,
   "metadata": {
    "scrolled": true
   },
   "outputs": [
    {
     "name": "stdout",
     "output_type": "stream",
     "text": [
      "only_train: ['PURCHASE_FLG', 'VIEW_DATE', 'VIEW', 'ITEM_COUNT', 'purchase_date', 'resid_small', 'PURCHASEID_hash', 'Case_BEAUTY', 'Case_EVENT', 'Case_LESSON']  \n",
      "\n",
      "only_test: []\n"
     ]
    }
   ],
   "source": [
    "compare_not_test = [i for i in train.columns if i not in test.columns]\n",
    "compare_not_train = [i for i in test.columns if i not in train.columns]\n",
    "print('only_train: {}  \\n'.format(compare_not_test))\n",
    "print('only_test: {}'.format(compare_not_train))"
   ]
  },
  {
   "cell_type": "markdown",
   "metadata": {},
   "source": [
    "### B2. train data set"
   ]
  },
  {
   "cell_type": "code",
   "execution_count": 300,
   "metadata": {
    "scrolled": true
   },
   "outputs": [
    {
     "data": {
      "text/plain": [
       "Index(['PURCHASE_FLG', 'VIEW_DATE', 'PREF_in', 'distance', 'proba_spot_pref',\n",
       "       'proba_GENRE_NAME', 'proba_case', 'COUPON_ID_hash', 'USER_ID_hash',\n",
       "       'VIEW', 'ITEM_COUNT', 'purchase_date', 'resid_small', 'PURCHASEID_hash',\n",
       "       'CAPSULE_TEXT', 'PRICE_RATE', 'CATALOG_PRICE', 'DISCOUNT_PRICE',\n",
       "       'DISPFROM', 'DISPEND', 'DISPPERIOD', 'VALIDFROM', 'VALIDEND',\n",
       "       'VALIDPERIOD', 'USABLE_DATE_MON', 'USABLE_DATE_TUE', 'USABLE_DATE_WED',\n",
       "       'USABLE_DATE_THU', 'USABLE_DATE_FRI', 'USABLE_DATE_SAT',\n",
       "       'USABLE_DATE_SUN', 'USABLE_DATE_HOLIDAY', 'USABLE_DATE_BEFORE_HOLIDAY',\n",
       "       'spot_large', 'spot_pref', 'spot_small', 'Price', 'lnDPRICE', 'mDPRICE',\n",
       "       'sDPRICE', 'zprice', 'SEX_ID', 'AGE', 'user_pref', 'Case_BEAUTY',\n",
       "       'Case_CLASS', 'Case_DELIVERY', 'Case_EVENT', 'Case_FOOD', 'Case_GIFT',\n",
       "       'Case_HAIR', 'Case_HEALTH', 'Case_HOTEL', 'Case_LEISURE', 'Case_LESSON',\n",
       "       'Case_NAIL', 'Case_OTHER', 'Case_RELAXATION', 'Case_SPA', 'Case_WEB',\n",
       "       'VALID', 'GENRE_NAME_Beauty', 'GENRE_NAME_Delivery service',\n",
       "       'GENRE_NAME_Food', 'GENRE_NAME_Gift card', 'GENRE_NAME_Hair salon',\n",
       "       'GENRE_NAME_Health and medical', 'GENRE_NAME_Hotel and Japanese hotel',\n",
       "       'GENRE_NAME_Leisure', 'GENRE_NAME_Lesson',\n",
       "       'GENRE_NAME_Nail and eye salon', 'GENRE_NAME_Other coupon',\n",
       "       'GENRE_NAME_Relaxation', 'GENRE_NAME_Spa'],\n",
       "      dtype='object')"
      ]
     },
     "execution_count": 300,
     "metadata": {},
     "output_type": "execute_result"
    }
   ],
   "source": [
    "train.columns"
   ]
  },
  {
   "cell_type": "code",
   "execution_count": 57,
   "metadata": {
    "scrolled": true
   },
   "outputs": [],
   "source": [
    "X_train = train.drop(del_ls, axis=1)"
   ]
  },
  {
   "cell_type": "code",
   "execution_count": 48,
   "metadata": {},
   "outputs": [
    {
     "data": {
      "text/plain": [
       "(2597810, 31)"
      ]
     },
     "execution_count": 48,
     "metadata": {},
     "output_type": "execute_result"
    }
   ],
   "source": [
    "X_train.shape"
   ]
  },
  {
   "cell_type": "code",
   "execution_count": 117,
   "metadata": {},
   "outputs": [],
   "source": [
    "scaler = StandardScaler()\n",
    "scaler.fit(X_train)\n",
    "X_train_scale = scaler.transform(X_train)"
   ]
  },
  {
   "cell_type": "code",
   "execution_count": 119,
   "metadata": {},
   "outputs": [],
   "source": [
    "X_train_scale = pd.DataFrame(X_train_scale, columns=X_train.columns)"
   ]
  },
  {
   "cell_type": "code",
   "execution_count": 120,
   "metadata": {},
   "outputs": [],
   "source": [
    "y_train = train.PURCHASE_FLG"
   ]
  },
  {
   "cell_type": "code",
   "execution_count": 92,
   "metadata": {},
   "outputs": [],
   "source": [
    "to_be_removed_train = {'PURCHASE_FLG', 'USER_ID_hash','COUPON_ID_hash', \"VIEW\",'VIEW_DATE','spot_large', 'spot_pref', 'spot_small','user_pref'} # VIEW_DATE 추가\n",
    "ls_train = [i for i in list(train.columns) if i not in to_be_removed_train]\n",
    "X_train = train.filter(ls_train)\n",
    "y_train = train.PURCHASE_FLG"
   ]
  },
  {
   "cell_type": "code",
   "execution_count": 50,
   "metadata": {},
   "outputs": [
    {
     "data": {
      "text/plain": [
       "Index(['PRICE_RATE', 'DISPPERIOD', 'USABLE_DATE_MON', 'USABLE_DATE_TUE',\n",
       "       'USABLE_DATE_WED', 'USABLE_DATE_THU', 'USABLE_DATE_FRI',\n",
       "       'USABLE_DATE_SAT', 'USABLE_DATE_SUN', 'USABLE_DATE_HOLIDAY',\n",
       "       'USABLE_DATE_BEFORE_HOLIDAY', 'zprice', 'SEX_ID', 'AGE', 'VALID',\n",
       "       'Case_BEAUTY', 'Case_CLASS', 'Case_DELIVERY', 'Case_EVENT', 'Case_FOOD',\n",
       "       'Case_GIFT', 'Case_HAIR', 'Case_HEALTH', 'Case_HOTEL', 'Case_LEISURE',\n",
       "       'Case_LESSON', 'Case_NAIL', 'Case_OTHER', 'Case_RELAXATION', 'Case_SPA',\n",
       "       'Case_WEB'],\n",
       "      dtype='object')"
      ]
     },
     "execution_count": 50,
     "metadata": {},
     "output_type": "execute_result"
    }
   ],
   "source": [
    "X_train.columns"
   ]
  },
  {
   "cell_type": "markdown",
   "metadata": {},
   "source": [
    "### B3. 모델링: xgboost"
   ]
  },
  {
   "cell_type": "code",
   "execution_count": 100,
   "metadata": {},
   "outputs": [],
   "source": [
    "# from sklearn import clone\n",
    "# from sklearn.ensemble import RandomForestClassifier\n",
    "# from sklearn.tree import DecisionTreeClassifier\n",
    "import xgboost"
   ]
  },
  {
   "cell_type": "markdown",
   "metadata": {},
   "source": [
    "#### 1) train 에 활용할 컬럼 선정(test 컬럼과 일치시킴)"
   ]
  },
  {
   "cell_type": "code",
   "execution_count": 108,
   "metadata": {},
   "outputs": [],
   "source": [
    "mod_ls = [i for i in X_train.columns if i in test.columns]"
   ]
  },
  {
   "cell_type": "code",
   "execution_count": null,
   "metadata": {},
   "outputs": [],
   "source": [
    "X_train = train.filter(mod_ls)\n",
    "y_train = train.PURCHASE_FLG"
   ]
  },
  {
   "cell_type": "markdown",
   "metadata": {},
   "source": [
    "#### 2) parameter 지정(parameter는 우수사례 벤치마킹, 논리 및 개선여부 검토해봐야함)"
   ]
  },
  {
   "cell_type": "code",
   "execution_count": 111,
   "metadata": {
    "scrolled": false
   },
   "outputs": [
    {
     "data": {
      "text/plain": [
       "Index(['PREF_in', 'distance', 'PRICE_RATE', 'DISPPERIOD', 'VALIDPERIOD',\n",
       "       'zprice', 'SEX_ID', 'AGE', 'usable_week', 'Case_BEAUTY', 'Case_CLASS',\n",
       "       'Case_DELIVERY', 'Case_EVENT', 'Case_FOOD', 'Case_GIFT', 'Case_HAIR',\n",
       "       'Case_HEALTH', 'Case_HOTEL', 'Case_LEISURE', 'Case_LESSON', 'Case_NAIL',\n",
       "       'Case_OTHER', 'Case_RELAXATION', 'Case_SPA', 'Case_WEB'],\n",
       "      dtype='object')"
      ]
     },
     "execution_count": 111,
     "metadata": {},
     "output_type": "execute_result"
    }
   ],
   "source": [
    "X_train.columns"
   ]
  },
  {
   "cell_type": "code",
   "execution_count": 157,
   "metadata": {},
   "outputs": [],
   "source": [
    "model_xgb = xgboost.XGBClassifier(n_estimators=300, max_depth=4,\n",
    "                                 objective = 'reg:logistic',\n",
    "                                 subsample= 0.85,\n",
    "                                 colsample_bytree=0.8,\n",
    "                                 random_state=12345,\n",
    "                                 min_child_weight=1,\n",
    "                                 learning_rate=0.05)"
   ]
  },
  {
   "cell_type": "code",
   "execution_count": 158,
   "metadata": {},
   "outputs": [],
   "source": [
    "model_xgb = model_xgb.fit(X_train, y_train)"
   ]
  },
  {
   "cell_type": "code",
   "execution_count": 159,
   "metadata": {},
   "outputs": [],
   "source": [
    "y_pred = model_xgb.predict(X_train)"
   ]
  },
  {
   "cell_type": "code",
   "execution_count": 160,
   "metadata": {
    "scrolled": false
   },
   "outputs": [
    {
     "name": "stdout",
     "output_type": "stream",
     "text": [
      "[[2392934    2624]\n",
      " [ 195835    6417]]\n",
      "             precision    recall  f1-score   support\n",
      "\n",
      "          0       0.92      1.00      0.96   2395558\n",
      "          1       0.71      0.03      0.06    202252\n",
      "\n",
      "avg / total       0.91      0.92      0.89   2597810\n",
      "\n"
     ]
    }
   ],
   "source": [
    "print(confusion_matrix(y_train, y_pred))\n",
    "print(classification_report(y_train, y_pred))"
   ]
  },
  {
   "cell_type": "code",
   "execution_count": 186,
   "metadata": {},
   "outputs": [],
   "source": [
    "model_xgb = xgboost.XGBClassifier(n_estimators=300, max_depth=4,\n",
    "                                 objective = 'reg:logistic',\n",
    "                                 subsample= 0.85,\n",
    "                                 colsample_bytree=0.8,\n",
    "                                 random_state=12345,\n",
    "                                 min_child_weight=1,\n",
    "                                 learning_rate=0.05)"
   ]
  },
  {
   "cell_type": "code",
   "execution_count": 187,
   "metadata": {},
   "outputs": [],
   "source": [
    "model_xgb = model_xgb.fit(X, y)"
   ]
  },
  {
   "cell_type": "code",
   "execution_count": 188,
   "metadata": {},
   "outputs": [],
   "source": [
    "y_pred = model_xgb.predict(X_train)"
   ]
  },
  {
   "cell_type": "code",
   "execution_count": 189,
   "metadata": {
    "scrolled": false
   },
   "outputs": [
    {
     "name": "stdout",
     "output_type": "stream",
     "text": [
      "[[2019674  375884]\n",
      " [ 125532   76720]]\n",
      "             precision    recall  f1-score   support\n",
      "\n",
      "          0       0.94      0.84      0.89   2395558\n",
      "          1       0.17      0.38      0.23    202252\n",
      "\n",
      "avg / total       0.88      0.81      0.84   2597810\n",
      "\n"
     ]
    }
   ],
   "source": [
    "print(confusion_matrix(y_train, y_pred))\n",
    "print(classification_report(y_train, y_pred))"
   ]
  },
  {
   "cell_type": "code",
   "execution_count": 216,
   "metadata": {
    "scrolled": true
   },
   "outputs": [
    {
     "data": {
      "text/plain": [
       "Index(['PREF_in', 'distance', 'PRICE_RATE', 'DISPPERIOD', 'VALIDPERIOD',\n",
       "       'zprice', 'SEX_ID', 'AGE', 'usable_week', 'Case_BEAUTY', 'Case_CLASS',\n",
       "       'Case_DELIVERY', 'Case_EVENT', 'Case_FOOD', 'Case_GIFT', 'Case_HAIR',\n",
       "       'Case_HEALTH', 'Case_HOTEL', 'Case_LEISURE', 'Case_LESSON', 'Case_NAIL',\n",
       "       'Case_OTHER', 'Case_RELAXATION', 'Case_SPA', 'Case_WEB'],\n",
       "      dtype='object')"
      ]
     },
     "execution_count": 216,
     "metadata": {},
     "output_type": "execute_result"
    }
   ],
   "source": [
    "# 위 모델링에서 사용한 feature\n",
    "X.columns"
   ]
  },
  {
   "cell_type": "code",
   "execution_count": 54,
   "metadata": {},
   "outputs": [
    {
     "data": {
      "text/plain": [
       "Index(['PREF_in', 'distance', 'PRICE_RATE', 'DISPPERIOD', 'VALIDPERIOD',\n",
       "       'USABLE_DATE_MON', 'USABLE_DATE_TUE', 'USABLE_DATE_WED',\n",
       "       'USABLE_DATE_THU', 'USABLE_DATE_FRI', 'USABLE_DATE_SAT',\n",
       "       'USABLE_DATE_SUN', 'USABLE_DATE_HOLIDAY', 'USABLE_DATE_BEFORE_HOLIDAY',\n",
       "       'zprice', 'SEX_ID', 'AGE', 'Case_BEAUTY', 'Case_CLASS', 'Case_DELIVERY',\n",
       "       'Case_EVENT', 'Case_FOOD', 'Case_GIFT', 'Case_HAIR', 'Case_HEALTH',\n",
       "       'Case_HOTEL', 'Case_LEISURE', 'Case_LESSON', 'Case_NAIL', 'Case_OTHER',\n",
       "       'Case_RELAXATION', 'Case_SPA', 'Case_WEB'],\n",
       "      dtype='object')"
      ]
     },
     "execution_count": 54,
     "metadata": {},
     "output_type": "execute_result"
    }
   ],
   "source": [
    "X1.columns"
   ]
  },
  {
   "cell_type": "code",
   "execution_count": 55,
   "metadata": {},
   "outputs": [],
   "source": [
    "model_xgb = xgboost.XGBClassifier(n_estimators=300, max_depth=4,\n",
    "                                 objective = 'reg:logistic',\n",
    "                                 subsample= 0.85,\n",
    "                                 colsample_bytree=0.8,\n",
    "                                 random_state=12345,\n",
    "                                 min_child_weight=1,\n",
    "                                 learning_rate=0.05)\n",
    "model_xgb = model_xgb.fit(X1, y1)"
   ]
  },
  {
   "cell_type": "code",
   "execution_count": 58,
   "metadata": {
    "scrolled": false
   },
   "outputs": [
    {
     "name": "stdout",
     "output_type": "stream",
     "text": [
      "[[2375412   20146]\n",
      " [ 187119   15133]]\n",
      "             precision    recall  f1-score   support\n",
      "\n",
      "          0       0.93      0.99      0.96   2395558\n",
      "          1       0.43      0.07      0.13    202252\n",
      "\n",
      "avg / total       0.89      0.92      0.89   2597810\n",
      "\n"
     ]
    }
   ],
   "source": [
    "y_pred = model_xgb.predict(X_train)\n",
    "print(confusion_matrix(y_train, y_pred))\n",
    "print(classification_report(y_train, y_pred))"
   ]
  },
  {
   "cell_type": "code",
   "execution_count": 60,
   "metadata": {
    "scrolled": true
   },
   "outputs": [
    {
     "data": {
      "text/plain": [
       "Index(['PREF_in', 'distance', 'PRICE_RATE', 'DISPPERIOD', 'VALIDPERIOD',\n",
       "       'USABLE_DATE_MON', 'USABLE_DATE_TUE', 'USABLE_DATE_WED',\n",
       "       'USABLE_DATE_THU', 'USABLE_DATE_FRI', 'USABLE_DATE_SAT',\n",
       "       'USABLE_DATE_SUN', 'USABLE_DATE_HOLIDAY', 'USABLE_DATE_BEFORE_HOLIDAY',\n",
       "       'zprice', 'SEX_ID', 'AGE', 'Case_BEAUTY', 'Case_CLASS', 'Case_DELIVERY',\n",
       "       'Case_EVENT', 'Case_FOOD', 'Case_GIFT', 'Case_HAIR', 'Case_HEALTH',\n",
       "       'Case_HOTEL', 'Case_LEISURE', 'Case_LESSON', 'Case_NAIL', 'Case_OTHER',\n",
       "       'Case_RELAXATION', 'Case_SPA', 'Case_WEB'],\n",
       "      dtype='object')"
      ]
     },
     "execution_count": 60,
     "metadata": {},
     "output_type": "execute_result"
    }
   ],
   "source": [
    "# 위 모델링에서 사용한 feature\n",
    "X1.columns"
   ]
  },
  {
   "cell_type": "code",
   "execution_count": 265,
   "metadata": {},
   "outputs": [
    {
     "data": {
      "text/html": [
       "<div>\n",
       "<style>\n",
       "    .dataframe thead tr:only-child th {\n",
       "        text-align: right;\n",
       "    }\n",
       "\n",
       "    .dataframe thead th {\n",
       "        text-align: left;\n",
       "    }\n",
       "\n",
       "    .dataframe tbody tr th {\n",
       "        vertical-align: top;\n",
       "    }\n",
       "</style>\n",
       "<table border=\"1\" class=\"dataframe\">\n",
       "  <thead>\n",
       "    <tr style=\"text-align: right;\">\n",
       "      <th></th>\n",
       "      <th>PREF_in</th>\n",
       "      <th>distance</th>\n",
       "      <th>proba_spot_pref</th>\n",
       "      <th>proba_case</th>\n",
       "      <th>PRICE_RATE</th>\n",
       "      <th>DISPPERIOD</th>\n",
       "      <th>VALIDPERIOD</th>\n",
       "      <th>USABLE_DATE_BEFORE_HOLIDAY</th>\n",
       "      <th>zprice</th>\n",
       "      <th>SEX_ID</th>\n",
       "      <th>AGE</th>\n",
       "      <th>VALID</th>\n",
       "    </tr>\n",
       "  </thead>\n",
       "  <tbody>\n",
       "    <tr>\n",
       "      <th>0</th>\n",
       "      <td>0.0</td>\n",
       "      <td>237.740409</td>\n",
       "      <td>9.021525</td>\n",
       "      <td>8.573826</td>\n",
       "      <td>78.0</td>\n",
       "      <td>4.0</td>\n",
       "      <td>180.0</td>\n",
       "      <td>1.0</td>\n",
       "      <td>0.795357</td>\n",
       "      <td>0.0</td>\n",
       "      <td>25.0</td>\n",
       "      <td>3015.000000</td>\n",
       "    </tr>\n",
       "    <tr>\n",
       "      <th>1</th>\n",
       "      <td>0.0</td>\n",
       "      <td>237.740409</td>\n",
       "      <td>9.021525</td>\n",
       "      <td>8.573826</td>\n",
       "      <td>78.0</td>\n",
       "      <td>4.0</td>\n",
       "      <td>180.0</td>\n",
       "      <td>1.0</td>\n",
       "      <td>0.795357</td>\n",
       "      <td>0.0</td>\n",
       "      <td>25.0</td>\n",
       "      <td>3017.466667</td>\n",
       "    </tr>\n",
       "    <tr>\n",
       "      <th>2</th>\n",
       "      <td>0.0</td>\n",
       "      <td>237.740409</td>\n",
       "      <td>9.021525</td>\n",
       "      <td>8.573826</td>\n",
       "      <td>78.0</td>\n",
       "      <td>4.0</td>\n",
       "      <td>180.0</td>\n",
       "      <td>1.0</td>\n",
       "      <td>0.795357</td>\n",
       "      <td>0.0</td>\n",
       "      <td>25.0</td>\n",
       "      <td>3032.033333</td>\n",
       "    </tr>\n",
       "    <tr>\n",
       "      <th>3</th>\n",
       "      <td>0.0</td>\n",
       "      <td>237.740409</td>\n",
       "      <td>9.021525</td>\n",
       "      <td>8.573826</td>\n",
       "      <td>78.0</td>\n",
       "      <td>4.0</td>\n",
       "      <td>180.0</td>\n",
       "      <td>1.0</td>\n",
       "      <td>0.795357</td>\n",
       "      <td>0.0</td>\n",
       "      <td>25.0</td>\n",
       "      <td>3068.166667</td>\n",
       "    </tr>\n",
       "    <tr>\n",
       "      <th>4</th>\n",
       "      <td>0.0</td>\n",
       "      <td>237.740409</td>\n",
       "      <td>6.823667</td>\n",
       "      <td>8.573826</td>\n",
       "      <td>66.0</td>\n",
       "      <td>3.0</td>\n",
       "      <td>180.0</td>\n",
       "      <td>1.0</td>\n",
       "      <td>0.118216</td>\n",
       "      <td>0.0</td>\n",
       "      <td>25.0</td>\n",
       "      <td>1580.083333</td>\n",
       "    </tr>\n",
       "  </tbody>\n",
       "</table>\n",
       "</div>"
      ],
      "text/plain": [
       "   PREF_in    distance  proba_spot_pref  proba_case  PRICE_RATE  DISPPERIOD  \\\n",
       "0      0.0  237.740409         9.021525    8.573826        78.0         4.0   \n",
       "1      0.0  237.740409         9.021525    8.573826        78.0         4.0   \n",
       "2      0.0  237.740409         9.021525    8.573826        78.0         4.0   \n",
       "3      0.0  237.740409         9.021525    8.573826        78.0         4.0   \n",
       "4      0.0  237.740409         6.823667    8.573826        66.0         3.0   \n",
       "\n",
       "   VALIDPERIOD  USABLE_DATE_BEFORE_HOLIDAY    zprice  SEX_ID   AGE  \\\n",
       "0        180.0                         1.0  0.795357     0.0  25.0   \n",
       "1        180.0                         1.0  0.795357     0.0  25.0   \n",
       "2        180.0                         1.0  0.795357     0.0  25.0   \n",
       "3        180.0                         1.0  0.795357     0.0  25.0   \n",
       "4        180.0                         1.0  0.118216     0.0  25.0   \n",
       "\n",
       "         VALID  \n",
       "0  3015.000000  \n",
       "1  3017.466667  \n",
       "2  3032.033333  \n",
       "3  3068.166667  \n",
       "4  1580.083333  "
      ]
     },
     "execution_count": 265,
     "metadata": {},
     "output_type": "execute_result"
    }
   ],
   "source": [
    "X1.head()"
   ]
  },
  {
   "cell_type": "code",
   "execution_count": 266,
   "metadata": {},
   "outputs": [],
   "source": [
    "model_xgb = xgboost.XGBClassifier(n_estimators=300, max_depth=4,\n",
    "                                 objective = 'reg:logistic',\n",
    "                                 subsample= 0.85,\n",
    "                                 colsample_bytree=0.8,\n",
    "                                 random_state=12345,\n",
    "                                 min_child_weight=1,\n",
    "                                 learning_rate=0.05)"
   ]
  },
  {
   "cell_type": "code",
   "execution_count": 267,
   "metadata": {},
   "outputs": [],
   "source": [
    "model_xgb = model_xgb.fit(X1, y1)"
   ]
  },
  {
   "cell_type": "code",
   "execution_count": 268,
   "metadata": {
    "scrolled": true
   },
   "outputs": [],
   "source": [
    "y_pred = model_xgb.predict(X_train)"
   ]
  },
  {
   "cell_type": "code",
   "execution_count": 269,
   "metadata": {
    "scrolled": false
   },
   "outputs": [
    {
     "name": "stdout",
     "output_type": "stream",
     "text": [
      "[[2299686   95872]\n",
      " [ 117819   84433]]\n",
      "             precision    recall  f1-score   support\n",
      "\n",
      "          0       0.95      0.96      0.96   2395558\n",
      "          1       0.47      0.42      0.44    202252\n",
      "\n",
      "avg / total       0.91      0.92      0.92   2597810\n",
      "\n"
     ]
    }
   ],
   "source": [
    "print(confusion_matrix(y_train, y_pred))\n",
    "print(classification_report(y_train, y_pred))"
   ]
  },
  {
   "cell_type": "markdown",
   "metadata": {},
   "source": [
    "## 스케일링 한 것."
   ]
  },
  {
   "cell_type": "code",
   "execution_count": 125,
   "metadata": {},
   "outputs": [],
   "source": [
    "model_xgb = xgboost.XGBClassifier(n_estimators=300, max_depth=4,\n",
    "                                 objective = 'reg:logistic',\n",
    "                                 subsample= 0.85,\n",
    "                                 colsample_bytree=0.8,\n",
    "                                 random_state=12345,\n",
    "                                 min_child_weight=1,\n",
    "                                 learning_rate=0.05)\n",
    "model_xgb = model_xgb.fit(X1, y1)"
   ]
  },
  {
   "cell_type": "code",
   "execution_count": 128,
   "metadata": {
    "scrolled": true
   },
   "outputs": [
    {
     "name": "stdout",
     "output_type": "stream",
     "text": [
      "[[1839042  556516]\n",
      " [  70910  131342]]\n",
      "             precision    recall  f1-score   support\n",
      "\n",
      "          0       0.96      0.77      0.85   2395558\n",
      "          1       0.19      0.65      0.30    202252\n",
      "\n",
      "avg / total       0.90      0.76      0.81   2597810\n",
      "\n"
     ]
    }
   ],
   "source": [
    "y_pred = model_xgb.predict(X_train_scale)\n",
    "print(confusion_matrix(y_train, y_pred))\n",
    "print(classification_report(y_train, y_pred))"
   ]
  },
  {
   "cell_type": "code",
   "execution_count": 69,
   "metadata": {
    "scrolled": false
   },
   "outputs": [
    {
     "name": "stdout",
     "output_type": "stream",
     "text": [
      "[[1839042  556516]\n",
      " [  70910  131342]]\n",
      "             precision    recall  f1-score   support\n",
      "\n",
      "          0       0.96      0.77      0.85   2395558\n",
      "          1       0.19      0.65      0.30    202252\n",
      "\n",
      "avg / total       0.90      0.76      0.81   2597810\n",
      "\n"
     ]
    }
   ],
   "source": [
    "# 이전 스케일링 결과\n",
    "print(confusion_matrix(y_train, y_pred))\n",
    "print(classification_report(y_train, y_pred))"
   ]
  },
  {
   "cell_type": "code",
   "execution_count": 71,
   "metadata": {
    "scrolled": false
   },
   "outputs": [
    {
     "data": {
      "text/plain": [
       "Index(['PRICE_RATE', 'DISPPERIOD', 'USABLE_DATE_MON', 'USABLE_DATE_TUE',\n",
       "       'USABLE_DATE_WED', 'USABLE_DATE_THU', 'USABLE_DATE_FRI',\n",
       "       'USABLE_DATE_SAT', 'USABLE_DATE_SUN', 'USABLE_DATE_HOLIDAY',\n",
       "       'USABLE_DATE_BEFORE_HOLIDAY', 'zprice', 'SEX_ID', 'AGE', 'VALID',\n",
       "       'Case_BEAUTY', 'Case_CLASS', 'Case_DELIVERY', 'Case_EVENT', 'Case_FOOD',\n",
       "       'Case_GIFT', 'Case_HAIR', 'Case_HEALTH', 'Case_HOTEL', 'Case_LEISURE',\n",
       "       'Case_LESSON', 'Case_NAIL', 'Case_OTHER', 'Case_RELAXATION', 'Case_SPA',\n",
       "       'Case_WEB'],\n",
       "      dtype='object')"
      ]
     },
     "execution_count": 71,
     "metadata": {},
     "output_type": "execute_result"
    }
   ],
   "source": [
    "# 위 모델링에서 사용한 feature\n",
    "X1.columns"
   ]
  },
  {
   "cell_type": "code",
   "execution_count": 314,
   "metadata": {},
   "outputs": [],
   "source": [
    "model_xgb0 = xgboost.XGBClassifier(n_estimators=300, max_depth=4,\n",
    "                                 objective = 'reg:logistic',\n",
    "                                 subsample= 0.85,\n",
    "                                 colsample_bytree=0.8,\n",
    "                                 random_state=12345,\n",
    "                                 min_child_weight=1,\n",
    "                                 learning_rate=0.05)"
   ]
  },
  {
   "cell_type": "code",
   "execution_count": 315,
   "metadata": {},
   "outputs": [],
   "source": [
    "model_xgb0 = model_xgb0.fit(X1, y1)"
   ]
  },
  {
   "cell_type": "code",
   "execution_count": 321,
   "metadata": {},
   "outputs": [
    {
     "data": {
      "text/plain": [
       "((2597810, 32), (4791116, 32))"
      ]
     },
     "execution_count": 321,
     "metadata": {},
     "output_type": "execute_result"
    }
   ],
   "source": [
    "X_train.shape, X1.shape"
   ]
  },
  {
   "cell_type": "code",
   "execution_count": 322,
   "metadata": {
    "scrolled": true
   },
   "outputs": [],
   "source": [
    "y_pred0 = model_xgb0.predict(X_train)"
   ]
  },
  {
   "cell_type": "code",
   "execution_count": 323,
   "metadata": {
    "scrolled": true
   },
   "outputs": [
    {
     "name": "stdout",
     "output_type": "stream",
     "text": [
      "[[2101110  294448]\n",
      " [ 133834   68418]]\n",
      "             precision    recall  f1-score   support\n",
      "\n",
      "          0       0.94      0.88      0.91   2395558\n",
      "          1       0.19      0.34      0.24    202252\n",
      "\n",
      "avg / total       0.88      0.84      0.86   2597810\n",
      "\n"
     ]
    }
   ],
   "source": [
    "print(confusion_matrix(y_train, y_pred0))\n",
    "print(classification_report(y_train, y_pred0))"
   ]
  },
  {
   "cell_type": "code",
   "execution_count": null,
   "metadata": {
    "scrolled": false
   },
   "outputs": [],
   "source": [
    "# 위 모델링에서 사용한 feature\n",
    "X1.columns"
   ]
  },
  {
   "cell_type": "code",
   "execution_count": null,
   "metadata": {},
   "outputs": [],
   "source": []
  },
  {
   "cell_type": "code",
   "execution_count": 377,
   "metadata": {},
   "outputs": [],
   "source": [
    "model_xgb1 = xgboost.XGBClassifier(n_estimators=300, max_depth=4,\n",
    "                                 subsample= 0.85,\n",
    "                                 colsample_bytree=0.8,\n",
    "                                 random_state=12345,\n",
    "                                 min_child_weight=1,\n",
    "                                 learning_rate=0.05)"
   ]
  },
  {
   "cell_type": "code",
   "execution_count": 379,
   "metadata": {},
   "outputs": [],
   "source": [
    "model_xgb1 = model_xgb1.fit(X1, y1)"
   ]
  },
  {
   "cell_type": "code",
   "execution_count": 380,
   "metadata": {
    "scrolled": true
   },
   "outputs": [],
   "source": [
    "y_pred1 = model_xgb1.predict(X_train)"
   ]
  },
  {
   "cell_type": "code",
   "execution_count": 381,
   "metadata": {
    "scrolled": true
   },
   "outputs": [
    {
     "name": "stdout",
     "output_type": "stream",
     "text": [
      "[[2101110  294448]\n",
      " [ 133834   68418]]\n",
      "             precision    recall  f1-score   support\n",
      "\n",
      "          0       0.94      0.88      0.91   2395558\n",
      "          1       0.19      0.34      0.24    202252\n",
      "\n",
      "avg / total       0.88      0.84      0.86   2597810\n",
      "\n"
     ]
    }
   ],
   "source": [
    "print(confusion_matrix(y_train, y_pred1))\n",
    "print(classification_report(y_train, y_pred1))"
   ]
  },
  {
   "cell_type": "code",
   "execution_count": 378,
   "metadata": {
    "scrolled": false
   },
   "outputs": [
    {
     "data": {
      "text/plain": [
       "Index(['PREF_in', 'distance', 'proba_spot_pref', 'proba_GENRE_NAME',\n",
       "       'PRICE_RATE', 'DISPPERIOD', 'VALIDPERIOD', 'USABLE_DATE_MON',\n",
       "       'USABLE_DATE_TUE', 'USABLE_DATE_WED', 'USABLE_DATE_THU',\n",
       "       'USABLE_DATE_FRI', 'USABLE_DATE_SAT', 'USABLE_DATE_SUN',\n",
       "       'USABLE_DATE_HOLIDAY', 'USABLE_DATE_BEFORE_HOLIDAY', 'zprice', 'SEX_ID',\n",
       "       'AGE', 'GENRE_NAME_Beauty', 'GENRE_NAME_Delivery service',\n",
       "       'GENRE_NAME_Food', 'GENRE_NAME_Gift card', 'GENRE_NAME_Hair salon',\n",
       "       'GENRE_NAME_Health and medical', 'GENRE_NAME_Hotel and Japanese hotel',\n",
       "       'GENRE_NAME_Leisure', 'GENRE_NAME_Lesson',\n",
       "       'GENRE_NAME_Nail and eye salon', 'GENRE_NAME_Other coupon',\n",
       "       'GENRE_NAME_Relaxation', 'GENRE_NAME_Spa'],\n",
       "      dtype='object')"
      ]
     },
     "execution_count": 378,
     "metadata": {},
     "output_type": "execute_result"
    }
   ],
   "source": [
    "# 위 모델링에서 사용한 feature\n",
    "X1.columns"
   ]
  },
  {
   "cell_type": "code",
   "execution_count": null,
   "metadata": {},
   "outputs": [],
   "source": []
  },
  {
   "cell_type": "markdown",
   "metadata": {},
   "source": [
    "### B5. Predict"
   ]
  },
  {
   "cell_type": "markdown",
   "metadata": {},
   "source": [
    "#### 1) predict 후 sum을통해 1이 몇개인지 확인 -> 할때마다 0이 나옴 .. 아래 확률로 접근해야 함"
   ]
  },
  {
   "cell_type": "code",
   "execution_count": 73,
   "metadata": {},
   "outputs": [],
   "source": [
    "test['Case_BEAUTY'] = 0\n",
    "test['Case_EVENT'] = 0\n",
    "test['Case_LESSON'] = 0"
   ]
  },
  {
   "cell_type": "code",
   "execution_count": 339,
   "metadata": {},
   "outputs": [],
   "source": [
    "test['GENRE_NAME_Beauty'] = 0"
   ]
  },
  {
   "cell_type": "code",
   "execution_count": 79,
   "metadata": {},
   "outputs": [],
   "source": [
    "test['VALIDPERIOD'] = test['VALIDPERIOD'].fillna(180)"
   ]
  },
  {
   "cell_type": "code",
   "execution_count": 122,
   "metadata": {},
   "outputs": [],
   "source": [
    "# test['usable_week'] = test['USABLE_DATE_MON'] + test['USABLE_DATE_WED'] + test['USABLE_DATE_THU'] + test['USABLE_DATE_FRI'] + test['USABLE_DATE_SAT'] + test['USABLE_DATE_SUN'] + test['USABLE_DATE_TUE'] + test['USABLE_DATE_BEFORE_HOLIDAY'] + test['USABLE_DATE_HOLIDAY']"
   ]
  },
  {
   "cell_type": "code",
   "execution_count": 80,
   "metadata": {
    "scrolled": true
   },
   "outputs": [],
   "source": [
    "test['view_date'] = '2012-06-28'\n",
    "test['view_date'] = test['view_date'].astype('<M8[ns]')"
   ]
  },
  {
   "cell_type": "code",
   "execution_count": 81,
   "metadata": {},
   "outputs": [],
   "source": [
    "test[\"VALID\"] = test[\"view_date\"] - test[\"DISPFROM\"]\n",
    "test[\"VALID\"] = test[\"VALID\"].astype('timedelta64[s]') /60\n",
    "# test3[\"VALID\"] = test3['VALID'].apply(lambda x: x.total_seconds() / 60 )\n",
    "# test3['VALID'] = test3['VALID'].fillna(5000)"
   ]
  },
  {
   "cell_type": "code",
   "execution_count": 82,
   "metadata": {
    "scrolled": false
   },
   "outputs": [
    {
     "data": {
      "text/plain": [
       "Index(['CAPSULE_TEXT', 'GENRE_NAME', 'PRICE_RATE', 'CATALOG_PRICE',\n",
       "       'DISCOUNT_PRICE', 'DISPFROM', 'DISPEND', 'DISPPERIOD', 'VALIDFROM',\n",
       "       'VALIDEND', 'VALIDPERIOD', 'USABLE_DATE_MON', 'USABLE_DATE_TUE',\n",
       "       'USABLE_DATE_WED', 'USABLE_DATE_THU', 'USABLE_DATE_FRI',\n",
       "       'USABLE_DATE_SAT', 'USABLE_DATE_SUN', 'USABLE_DATE_HOLIDAY',\n",
       "       'USABLE_DATE_BEFORE_HOLIDAY', 'spot_large', 'spot_pref', 'spot_small',\n",
       "       'COUPON_ID_hash', 'Price', 'lnDPRICE', 'mDPRICE', 'sDPRICE', 'zprice',\n",
       "       'SEX_ID', 'AGE', 'user_pref', 'USER_ID_hash', 'Case_CLASS',\n",
       "       'Case_DELIVERY', 'Case_FOOD', 'Case_GIFT', 'Case_HAIR', 'Case_HEALTH',\n",
       "       'Case_HOTEL', 'Case_LEISURE', 'Case_NAIL', 'Case_OTHER',\n",
       "       'Case_RELAXATION', 'Case_SPA', 'Case_WEB', 'Case_BEAUTY', 'Case_EVENT',\n",
       "       'Case_LESSON', 'view_date', 'VALID'],\n",
       "      dtype='object')"
      ]
     },
     "execution_count": 82,
     "metadata": {},
     "output_type": "execute_result"
    }
   ],
   "source": [
    "test.columns"
   ]
  },
  {
   "cell_type": "code",
   "execution_count": 78,
   "metadata": {},
   "outputs": [
    {
     "data": {
      "text/plain": [
       "Index(['PRICE_RATE', 'DISPPERIOD', 'USABLE_DATE_MON', 'USABLE_DATE_TUE',\n",
       "       'USABLE_DATE_WED', 'USABLE_DATE_THU', 'USABLE_DATE_FRI',\n",
       "       'USABLE_DATE_SAT', 'USABLE_DATE_SUN', 'USABLE_DATE_HOLIDAY',\n",
       "       'USABLE_DATE_BEFORE_HOLIDAY', 'zprice', 'SEX_ID', 'AGE', 'VALID',\n",
       "       'Case_BEAUTY', 'Case_CLASS', 'Case_DELIVERY', 'Case_EVENT', 'Case_FOOD',\n",
       "       'Case_GIFT', 'Case_HAIR', 'Case_HEALTH', 'Case_HOTEL', 'Case_LEISURE',\n",
       "       'Case_LESSON', 'Case_NAIL', 'Case_OTHER', 'Case_RELAXATION', 'Case_SPA',\n",
       "       'Case_WEB'],\n",
       "      dtype='object')"
      ]
     },
     "execution_count": 78,
     "metadata": {},
     "output_type": "execute_result"
    }
   ],
   "source": [
    "feature_name"
   ]
  },
  {
   "cell_type": "code",
   "execution_count": 76,
   "metadata": {},
   "outputs": [],
   "source": [
    "feature_name = X1.columns"
   ]
  },
  {
   "cell_type": "code",
   "execution_count": 66,
   "metadata": {},
   "outputs": [],
   "source": [
    "del_ls_test = ['COUPON_ID_hash',\n",
    "       'USER_ID_hash', 'CAPSULE_TEXT', 'GENRE_NAME', 'CATALOG_PRICE', 'DISCOUNT_PRICE', 'DISPFROM', 'DISPEND',\n",
    "         'VALIDFROM', 'VALIDEND', 'spot_large',\n",
    "       'spot_pref', 'spot_small','Price', 'lnDPRICE', 'mDPRICE',\n",
    "       'sDPRICE', 'user_pref']"
   ]
  },
  {
   "cell_type": "code",
   "execution_count": 84,
   "metadata": {},
   "outputs": [],
   "source": [
    "x_test = test.filter(feature_name)"
   ]
  },
  {
   "cell_type": "code",
   "execution_count": 85,
   "metadata": {
    "scrolled": true
   },
   "outputs": [
    {
     "data": {
      "text/plain": [
       "((4791116, 31), (7090630, 31))"
      ]
     },
     "execution_count": 85,
     "metadata": {},
     "output_type": "execute_result"
    }
   ],
   "source": [
    "X1.shape, x_test.shape"
   ]
  },
  {
   "cell_type": "code",
   "execution_count": 86,
   "metadata": {},
   "outputs": [
    {
     "name": "stdout",
     "output_type": "stream",
     "text": [
      "[] []\n"
     ]
    }
   ],
   "source": [
    "# feature_name = X_train.columns\n",
    "x_name = x_test.columns\n",
    "x_ls = []\n",
    "x_ls2 = []\n",
    "for i in list(feature_name):\n",
    "    if i in list(x_name):\n",
    "        pass\n",
    "    else:\n",
    "        x_ls.append(i)\n",
    "        \n",
    "for i in list(x_name):\n",
    "    if i in list(feature_name):\n",
    "        pass\n",
    "    else:\n",
    "        x_ls2.append(i)\n",
    "        \n",
    "print(x_ls, x_ls2)"
   ]
  },
  {
   "cell_type": "code",
   "execution_count": 274,
   "metadata": {},
   "outputs": [],
   "source": [
    "ls4 = ['USABLE_DATE_MON', 'USABLE_DATE_TUE', 'USABLE_DATE_WED', 'USABLE_DATE_THU', 'USABLE_DATE_FRI', 'USABLE_DATE_SAT', 'USABLE_DATE_SUN', 'USABLE_DATE_HOLIDAY', 'Case_BEAUTY', 'Case_CLASS', 'Case_DELIVERY', 'Case_EVENT', 'Case_FOOD', 'Case_GIFT', 'Case_HAIR', 'Case_HEALTH', 'Case_HOTEL', 'Case_LEISURE', 'Case_LESSON', 'Case_NAIL', 'Case_OTHER', 'Case_RELAXATION', 'Case_SPA', 'Case_WEB']\n",
    "x_test.drop(ls4, 1, inplace=True)"
   ]
  },
  {
   "cell_type": "code",
   "execution_count": 386,
   "metadata": {},
   "outputs": [
    {
     "data": {
      "text/plain": [
       "PREF_in                                      0\n",
       "distance                               4373272\n",
       "proba_spot_pref                         823428\n",
       "proba_GENRE_NAME                             0\n",
       "PRICE_RATE                                   0\n",
       "DISPPERIOD                                   0\n",
       "VALIDPERIOD                                  0\n",
       "USABLE_DATE_MON                              0\n",
       "USABLE_DATE_TUE                              0\n",
       "USABLE_DATE_WED                              0\n",
       "USABLE_DATE_THU                              0\n",
       "USABLE_DATE_FRI                              0\n",
       "USABLE_DATE_SAT                              0\n",
       "USABLE_DATE_SUN                              0\n",
       "USABLE_DATE_HOLIDAY                          0\n",
       "USABLE_DATE_BEFORE_HOLIDAY                   0\n",
       "zprice                                       0\n",
       "SEX_ID                                       0\n",
       "AGE                                          0\n",
       "GENRE_NAME_Beauty                            0\n",
       "GENRE_NAME_Delivery service                  0\n",
       "GENRE_NAME_Food                              0\n",
       "GENRE_NAME_Gift card                         0\n",
       "GENRE_NAME_Hair salon                        0\n",
       "GENRE_NAME_Health and medical                0\n",
       "GENRE_NAME_Hotel and Japanese hotel          0\n",
       "GENRE_NAME_Leisure                           0\n",
       "GENRE_NAME_Lesson                            0\n",
       "GENRE_NAME_Nail and eye salon                0\n",
       "GENRE_NAME_Other coupon                      0\n",
       "GENRE_NAME_Relaxation                        0\n",
       "GENRE_NAME_Spa                               0\n",
       "dtype: int64"
      ]
     },
     "execution_count": 386,
     "metadata": {},
     "output_type": "execute_result"
    }
   ],
   "source": [
    "x_test.isnull().sum()"
   ]
  },
  {
   "cell_type": "code",
   "execution_count": 387,
   "metadata": {},
   "outputs": [],
   "source": [
    "x_test['distance'] = x_test.fillna(x_test.distance.mean())\n",
    "x_test['proba_spot_pref'] = x_test.fillna(x_test.proba_spot_pref.mean())"
   ]
  },
  {
   "cell_type": "code",
   "execution_count": 73,
   "metadata": {},
   "outputs": [],
   "source": [
    "X_test = x_test.filter(feature_name)"
   ]
  },
  {
   "cell_type": "code",
   "execution_count": 141,
   "metadata": {},
   "outputs": [
    {
     "data": {
      "text/plain": [
       "Index(['PREF_in', 'distance', 'PRICE_RATE', 'DISPPERIOD', 'VALIDPERIOD',\n",
       "       'zprice', 'SEX_ID', 'AGE', 'usable_week', 'Case_BEAUTY', 'Case_CLASS',\n",
       "       'Case_DELIVERY', 'Case_EVENT', 'Case_FOOD', 'Case_GIFT', 'Case_HAIR',\n",
       "       'Case_HEALTH', 'Case_HOTEL', 'Case_LEISURE', 'Case_LESSON', 'Case_NAIL',\n",
       "       'Case_OTHER', 'Case_RELAXATION', 'Case_SPA', 'Case_WEB'],\n",
       "      dtype='object')"
      ]
     },
     "execution_count": 141,
     "metadata": {},
     "output_type": "execute_result"
    }
   ],
   "source": [
    "X_test.columns\n",
    "feature_name"
   ]
  },
  {
   "cell_type": "markdown",
   "metadata": {},
   "source": [
    "## test data scaling"
   ]
  },
  {
   "cell_type": "code",
   "execution_count": 129,
   "metadata": {},
   "outputs": [],
   "source": [
    "x_test_scale = scaler.transform(x_test)"
   ]
  },
  {
   "cell_type": "code",
   "execution_count": 130,
   "metadata": {},
   "outputs": [],
   "source": [
    "x_test_scale = pd.DataFrame(x_test_scale, columns=x_test.columns)"
   ]
  },
  {
   "cell_type": "code",
   "execution_count": 131,
   "metadata": {
    "scrolled": true
   },
   "outputs": [
    {
     "data": {
      "text/plain": [
       "1742638"
      ]
     },
     "execution_count": 131,
     "metadata": {},
     "output_type": "execute_result"
    }
   ],
   "source": [
    "# predict\n",
    "y_pred_xgb = model_xgb.predict(x_test_scale)\n",
    "y_pred_xgb.sum()"
   ]
  },
  {
   "cell_type": "code",
   "execution_count": 132,
   "metadata": {
    "scrolled": true
   },
   "outputs": [
    {
     "data": {
      "text/plain": [
       "24.57663141356974"
      ]
     },
     "execution_count": 132,
     "metadata": {},
     "output_type": "execute_result"
    }
   ],
   "source": [
    "y_pred_xgb.sum() / len(x_test_scale) * 100"
   ]
  },
  {
   "cell_type": "code",
   "execution_count": 133,
   "metadata": {},
   "outputs": [
    {
     "data": {
      "text/plain": [
       "(3895, 3)"
      ]
     },
     "execution_count": 133,
     "metadata": {},
     "output_type": "execute_result"
    }
   ],
   "source": [
    "result_df2.shape"
   ]
  },
  {
   "cell_type": "code",
   "execution_count": 134,
   "metadata": {},
   "outputs": [],
   "source": [
    "test_xgb = test.filter(['USER_ID_hash', 'COUPON_ID_hash'])\n",
    "\n",
    "result_df = pd.concat([test_xgb, pd.DataFrame(y_pred_xgb, columns=['result'])],1)\n",
    "\n",
    "result_df2 = result_df[result_df['result'] == 1]"
   ]
  },
  {
   "cell_type": "code",
   "execution_count": 135,
   "metadata": {},
   "outputs": [],
   "source": [
    "lookup_table = result_df2.groupby('USER_ID_hash').apply(lambda x: list(x.COUPON_ID_hash))\n",
    "lookup_table = pd.DataFrame(lookup_table, columns = ['COUPON_ID_hash']).reset_index()\n",
    "\n",
    "lookup_table.rename(columns={'COUPON_ID_hash':'PURCHASED_COUPONS'},inplace=True)\n",
    "\n",
    "\n",
    "submission = pd.read_csv('coupon_data_project2/sample_submission.csv')\n",
    "\n",
    "submission.insert(2, 'COUPON', submission['USER_ID_hash'].map(lookup_table.set_index('USER_ID_hash')['PURCHASED_COUPONS']))\n",
    "\n",
    "submission.drop('PURCHASED_COUPONS', axis=1, inplace=True)\n",
    "submission.rename(columns={'COUPON':'PURCHASED_COUPONS'}, inplace=True)\n",
    "\n",
    "submission['PURCHASED_COUPONS'] = submission['PURCHASED_COUPONS'].astype('str')\n",
    "submission['PURCHASED_COUPONS'] = submission['PURCHASED_COUPONS'].apply(lambda x: x.replace('[',''))\n",
    "submission['PURCHASED_COUPONS'] = submission['PURCHASED_COUPONS'].apply(lambda x: x.replace(']',''))\n",
    "submission['PURCHASED_COUPONS'] = submission['PURCHASED_COUPONS'].apply(lambda x: x.replace(\"'\",''))\n",
    "submission['PURCHASED_COUPONS'] = submission['PURCHASED_COUPONS'].apply(lambda x: x.replace(',',''))\n",
    "# submission.drop(labels=['index'], axis=1, inplace=True)\n",
    "\n",
    "submission.to_csv('scale_submission_xgb.csv', index=False)"
   ]
  },
  {
   "cell_type": "markdown",
   "metadata": {},
   "source": [
    " #### 2) proba를 생성해서 test set과 merge"
   ]
  },
  {
   "cell_type": "code",
   "execution_count": 136,
   "metadata": {},
   "outputs": [],
   "source": [
    "y_hat_proba = model_xgb.predict_proba(x_test_scale)\n",
    "df_y_hat_proba= pd.DataFrame(y_hat_proba, columns=['n','y'])"
   ]
  },
  {
   "cell_type": "code",
   "execution_count": 137,
   "metadata": {},
   "outputs": [],
   "source": [
    "test_xgb = test.filter(['USER_ID_hash', 'COUPON_ID_hash'])"
   ]
  },
  {
   "cell_type": "code",
   "execution_count": 138,
   "metadata": {},
   "outputs": [],
   "source": [
    "result_proba_df = pd.concat([test_xgb, pd.DataFrame(df_y_hat_proba)],1)"
   ]
  },
  {
   "cell_type": "markdown",
   "metadata": {},
   "source": [
    "#### 3) 기준을 잡기 위해 확률의 평균을 확인"
   ]
  },
  {
   "cell_type": "code",
   "execution_count": 139,
   "metadata": {},
   "outputs": [
    {
     "data": {
      "text/plain": [
       "0.30189213"
      ]
     },
     "execution_count": 139,
     "metadata": {},
     "output_type": "execute_result"
    }
   ],
   "source": [
    "result_proba_df.y.mean()"
   ]
  },
  {
   "cell_type": "markdown",
   "metadata": {},
   "source": [
    "#### 4) 모델 개선 및 현황 파악을 위한 feature importance 점검"
   ]
  },
  {
   "cell_type": "code",
   "execution_count": 281,
   "metadata": {
    "collapsed": true
   },
   "outputs": [
    {
     "data": {
      "text/html": [
       "<div>\n",
       "<style>\n",
       "    .dataframe thead tr:only-child th {\n",
       "        text-align: right;\n",
       "    }\n",
       "\n",
       "    .dataframe thead th {\n",
       "        text-align: left;\n",
       "    }\n",
       "\n",
       "    .dataframe tbody tr th {\n",
       "        vertical-align: top;\n",
       "    }\n",
       "</style>\n",
       "<table border=\"1\" class=\"dataframe\">\n",
       "  <thead>\n",
       "    <tr style=\"text-align: right;\">\n",
       "      <th></th>\n",
       "      <th>columns</th>\n",
       "      <th>importance</th>\n",
       "    </tr>\n",
       "  </thead>\n",
       "  <tbody>\n",
       "    <tr>\n",
       "      <th>11</th>\n",
       "      <td>VALID</td>\n",
       "      <td>17.0</td>\n",
       "    </tr>\n",
       "    <tr>\n",
       "      <th>5</th>\n",
       "      <td>DISPPERIOD</td>\n",
       "      <td>14.7</td>\n",
       "    </tr>\n",
       "    <tr>\n",
       "      <th>3</th>\n",
       "      <td>proba_case</td>\n",
       "      <td>11.2</td>\n",
       "    </tr>\n",
       "    <tr>\n",
       "      <th>8</th>\n",
       "      <td>zprice</td>\n",
       "      <td>9.7</td>\n",
       "    </tr>\n",
       "    <tr>\n",
       "      <th>2</th>\n",
       "      <td>proba_spot_pref</td>\n",
       "      <td>8.9</td>\n",
       "    </tr>\n",
       "    <tr>\n",
       "      <th>6</th>\n",
       "      <td>VALIDPERIOD</td>\n",
       "      <td>8.7</td>\n",
       "    </tr>\n",
       "    <tr>\n",
       "      <th>9</th>\n",
       "      <td>SEX_ID</td>\n",
       "      <td>7.9</td>\n",
       "    </tr>\n",
       "    <tr>\n",
       "      <th>4</th>\n",
       "      <td>PRICE_RATE</td>\n",
       "      <td>7.4</td>\n",
       "    </tr>\n",
       "    <tr>\n",
       "      <th>7</th>\n",
       "      <td>USABLE_DATE_BEFORE_HOLIDAY</td>\n",
       "      <td>5.9</td>\n",
       "    </tr>\n",
       "    <tr>\n",
       "      <th>10</th>\n",
       "      <td>AGE</td>\n",
       "      <td>5.2</td>\n",
       "    </tr>\n",
       "    <tr>\n",
       "      <th>0</th>\n",
       "      <td>PREF_in</td>\n",
       "      <td>1.9</td>\n",
       "    </tr>\n",
       "    <tr>\n",
       "      <th>1</th>\n",
       "      <td>distance</td>\n",
       "      <td>1.5</td>\n",
       "    </tr>\n",
       "  </tbody>\n",
       "</table>\n",
       "</div>"
      ],
      "text/plain": [
       "                       columns  importance\n",
       "11                       VALID        17.0\n",
       "5                   DISPPERIOD        14.7\n",
       "3                   proba_case        11.2\n",
       "8                       zprice         9.7\n",
       "2              proba_spot_pref         8.9\n",
       "6                  VALIDPERIOD         8.7\n",
       "9                       SEX_ID         7.9\n",
       "4                   PRICE_RATE         7.4\n",
       "7   USABLE_DATE_BEFORE_HOLIDAY         5.9\n",
       "10                         AGE         5.2\n",
       "0                      PREF_in         1.9\n",
       "1                     distance         1.5"
      ]
     },
     "execution_count": 281,
     "metadata": {},
     "output_type": "execute_result"
    }
   ],
   "source": [
    "importances = model_xgb.feature_importances_\n",
    "df_imp = pd.DataFrame()\n",
    "for i, j in zip(X1.columns, list(importances)):\n",
    "    data = {'columns': i, 'importance': np.round(j*100,1)} \n",
    "    df_imp = df_imp.append(data, ignore_index=True)\n",
    "\n",
    "df_imp.sort_values(by='importance', ascending=False)"
   ]
  },
  {
   "cell_type": "code",
   "execution_count": 101,
   "metadata": {
    "collapsed": true
   },
   "outputs": [
    {
     "data": {
      "text/html": [
       "<div>\n",
       "<style>\n",
       "    .dataframe thead tr:only-child th {\n",
       "        text-align: right;\n",
       "    }\n",
       "\n",
       "    .dataframe thead th {\n",
       "        text-align: left;\n",
       "    }\n",
       "\n",
       "    .dataframe tbody tr th {\n",
       "        vertical-align: top;\n",
       "    }\n",
       "</style>\n",
       "<table border=\"1\" class=\"dataframe\">\n",
       "  <thead>\n",
       "    <tr style=\"text-align: right;\">\n",
       "      <th></th>\n",
       "      <th>columns</th>\n",
       "      <th>importance</th>\n",
       "    </tr>\n",
       "  </thead>\n",
       "  <tbody>\n",
       "    <tr>\n",
       "      <th>14</th>\n",
       "      <td>VALID</td>\n",
       "      <td>25.5</td>\n",
       "    </tr>\n",
       "    <tr>\n",
       "      <th>11</th>\n",
       "      <td>zprice</td>\n",
       "      <td>15.0</td>\n",
       "    </tr>\n",
       "    <tr>\n",
       "      <th>1</th>\n",
       "      <td>DISPPERIOD</td>\n",
       "      <td>12.5</td>\n",
       "    </tr>\n",
       "    <tr>\n",
       "      <th>0</th>\n",
       "      <td>PRICE_RATE</td>\n",
       "      <td>12.2</td>\n",
       "    </tr>\n",
       "    <tr>\n",
       "      <th>13</th>\n",
       "      <td>AGE</td>\n",
       "      <td>10.1</td>\n",
       "    </tr>\n",
       "    <tr>\n",
       "      <th>23</th>\n",
       "      <td>Case_HOTEL</td>\n",
       "      <td>4.0</td>\n",
       "    </tr>\n",
       "    <tr>\n",
       "      <th>12</th>\n",
       "      <td>SEX_ID</td>\n",
       "      <td>2.5</td>\n",
       "    </tr>\n",
       "    <tr>\n",
       "      <th>17</th>\n",
       "      <td>Case_DELIVERY</td>\n",
       "      <td>2.2</td>\n",
       "    </tr>\n",
       "    <tr>\n",
       "      <th>7</th>\n",
       "      <td>USABLE_DATE_SAT</td>\n",
       "      <td>2.0</td>\n",
       "    </tr>\n",
       "    <tr>\n",
       "      <th>24</th>\n",
       "      <td>Case_LEISURE</td>\n",
       "      <td>1.8</td>\n",
       "    </tr>\n",
       "    <tr>\n",
       "      <th>20</th>\n",
       "      <td>Case_GIFT</td>\n",
       "      <td>1.8</td>\n",
       "    </tr>\n",
       "    <tr>\n",
       "      <th>27</th>\n",
       "      <td>Case_OTHER</td>\n",
       "      <td>1.7</td>\n",
       "    </tr>\n",
       "    <tr>\n",
       "      <th>10</th>\n",
       "      <td>USABLE_DATE_BEFORE_HOLIDAY</td>\n",
       "      <td>1.3</td>\n",
       "    </tr>\n",
       "    <tr>\n",
       "      <th>19</th>\n",
       "      <td>Case_FOOD</td>\n",
       "      <td>1.1</td>\n",
       "    </tr>\n",
       "    <tr>\n",
       "      <th>25</th>\n",
       "      <td>Case_LESSON</td>\n",
       "      <td>1.0</td>\n",
       "    </tr>\n",
       "    <tr>\n",
       "      <th>8</th>\n",
       "      <td>USABLE_DATE_SUN</td>\n",
       "      <td>0.8</td>\n",
       "    </tr>\n",
       "    <tr>\n",
       "      <th>3</th>\n",
       "      <td>USABLE_DATE_TUE</td>\n",
       "      <td>0.8</td>\n",
       "    </tr>\n",
       "    <tr>\n",
       "      <th>29</th>\n",
       "      <td>Case_SPA</td>\n",
       "      <td>0.5</td>\n",
       "    </tr>\n",
       "    <tr>\n",
       "      <th>21</th>\n",
       "      <td>Case_HAIR</td>\n",
       "      <td>0.4</td>\n",
       "    </tr>\n",
       "    <tr>\n",
       "      <th>26</th>\n",
       "      <td>Case_NAIL</td>\n",
       "      <td>0.4</td>\n",
       "    </tr>\n",
       "    <tr>\n",
       "      <th>28</th>\n",
       "      <td>Case_RELAXATION</td>\n",
       "      <td>0.4</td>\n",
       "    </tr>\n",
       "    <tr>\n",
       "      <th>2</th>\n",
       "      <td>USABLE_DATE_MON</td>\n",
       "      <td>0.4</td>\n",
       "    </tr>\n",
       "    <tr>\n",
       "      <th>4</th>\n",
       "      <td>USABLE_DATE_WED</td>\n",
       "      <td>0.4</td>\n",
       "    </tr>\n",
       "    <tr>\n",
       "      <th>9</th>\n",
       "      <td>USABLE_DATE_HOLIDAY</td>\n",
       "      <td>0.4</td>\n",
       "    </tr>\n",
       "    <tr>\n",
       "      <th>22</th>\n",
       "      <td>Case_HEALTH</td>\n",
       "      <td>0.3</td>\n",
       "    </tr>\n",
       "    <tr>\n",
       "      <th>6</th>\n",
       "      <td>USABLE_DATE_FRI</td>\n",
       "      <td>0.2</td>\n",
       "    </tr>\n",
       "    <tr>\n",
       "      <th>5</th>\n",
       "      <td>USABLE_DATE_THU</td>\n",
       "      <td>0.2</td>\n",
       "    </tr>\n",
       "    <tr>\n",
       "      <th>15</th>\n",
       "      <td>Case_BEAUTY</td>\n",
       "      <td>0.0</td>\n",
       "    </tr>\n",
       "    <tr>\n",
       "      <th>18</th>\n",
       "      <td>Case_EVENT</td>\n",
       "      <td>0.0</td>\n",
       "    </tr>\n",
       "    <tr>\n",
       "      <th>16</th>\n",
       "      <td>Case_CLASS</td>\n",
       "      <td>0.0</td>\n",
       "    </tr>\n",
       "    <tr>\n",
       "      <th>30</th>\n",
       "      <td>Case_WEB</td>\n",
       "      <td>0.0</td>\n",
       "    </tr>\n",
       "  </tbody>\n",
       "</table>\n",
       "</div>"
      ],
      "text/plain": [
       "                       columns  importance\n",
       "14                       VALID        25.5\n",
       "11                      zprice        15.0\n",
       "1                   DISPPERIOD        12.5\n",
       "0                   PRICE_RATE        12.2\n",
       "13                         AGE        10.1\n",
       "23                  Case_HOTEL         4.0\n",
       "12                      SEX_ID         2.5\n",
       "17               Case_DELIVERY         2.2\n",
       "7              USABLE_DATE_SAT         2.0\n",
       "24                Case_LEISURE         1.8\n",
       "20                   Case_GIFT         1.8\n",
       "27                  Case_OTHER         1.7\n",
       "10  USABLE_DATE_BEFORE_HOLIDAY         1.3\n",
       "19                   Case_FOOD         1.1\n",
       "25                 Case_LESSON         1.0\n",
       "8              USABLE_DATE_SUN         0.8\n",
       "3              USABLE_DATE_TUE         0.8\n",
       "29                    Case_SPA         0.5\n",
       "21                   Case_HAIR         0.4\n",
       "26                   Case_NAIL         0.4\n",
       "28             Case_RELAXATION         0.4\n",
       "2              USABLE_DATE_MON         0.4\n",
       "4              USABLE_DATE_WED         0.4\n",
       "9          USABLE_DATE_HOLIDAY         0.4\n",
       "22                 Case_HEALTH         0.3\n",
       "6              USABLE_DATE_FRI         0.2\n",
       "5              USABLE_DATE_THU         0.2\n",
       "15                 Case_BEAUTY         0.0\n",
       "18                  Case_EVENT         0.0\n",
       "16                  Case_CLASS         0.0\n",
       "30                    Case_WEB         0.0"
      ]
     },
     "execution_count": 101,
     "metadata": {},
     "output_type": "execute_result"
    }
   ],
   "source": [
    "importances = model_xgb.feature_importances_\n",
    "df_imp = pd.DataFrame()\n",
    "for i, j in zip(X1.columns, list(importances)):\n",
    "    data = {'columns': i, 'importance': np.round(j*100,1)} \n",
    "    df_imp = df_imp.append(data, ignore_index=True)\n",
    "\n",
    "df_imp.sort_values(by='importance', ascending=False)"
   ]
  },
  {
   "cell_type": "markdown",
   "metadata": {},
   "source": [
    "#### 5) 확률을 선정 -> 3번의 기준으로 어림잡아 선정 -> 최종 제출시에는 각 유저별 상위 10개로 지정하는게 좋겠음"
   ]
  },
  {
   "cell_type": "code",
   "execution_count": 141,
   "metadata": {},
   "outputs": [
    {
     "data": {
      "text/plain": [
       "11.499570560020759"
      ]
     },
     "execution_count": 141,
     "metadata": {},
     "output_type": "execute_result"
    }
   ],
   "source": [
    "result_proba_df2 = result_proba_df[result_proba_df['y']>0.6].sort_values(by='y', ascending=False)\n",
    "len(result_proba_df2) / len(result_proba_df) * 100"
   ]
  },
  {
   "cell_type": "code",
   "execution_count": 140,
   "metadata": {},
   "outputs": [],
   "source": [
    "result_proba_df3 = result_proba_df.sort_values(by=['USER_ID_hash','y'], ascending=False)"
   ]
  },
  {
   "cell_type": "markdown",
   "metadata": {},
   "source": [
    "#### 6) 제출양식에 맞춰 lookup_table을 형성"
   ]
  },
  {
   "cell_type": "code",
   "execution_count": 142,
   "metadata": {},
   "outputs": [],
   "source": [
    "lookup_table = result_proba_df2.groupby('USER_ID_hash').apply(lambda x: list(x.COUPON_ID_hash))\n",
    "lookup_table = pd.DataFrame(lookup_table, columns = ['COUPON_ID_hash']).reset_index()\n",
    "lookup_table\n",
    "\n",
    "lookup_table.rename(columns={'COUPON_ID_hash':'PURCHASED_COUPONS'},inplace=True)"
   ]
  },
  {
   "cell_type": "code",
   "execution_count": 143,
   "metadata": {},
   "outputs": [],
   "source": [
    "lookup_table2 = result_proba_df3.groupby('USER_ID_hash').apply(lambda x: list(x.COUPON_ID_hash)[:10])\n",
    "lookup_table2 = pd.DataFrame(lookup_table2, columns = ['COUPON_ID_hash']).reset_index()\n",
    "lookup_table2\n",
    "\n",
    "lookup_table2.rename(columns={'COUPON_ID_hash':'PURCHASED_COUPONS'},inplace=True)"
   ]
  },
  {
   "cell_type": "markdown",
   "metadata": {},
   "source": [
    "#### 7) 매칭 및 양식에 맞춘 마무리 작업"
   ]
  },
  {
   "cell_type": "code",
   "execution_count": 144,
   "metadata": {},
   "outputs": [],
   "source": [
    "submission = pd.read_csv('coupon_data_project2/sample_submission.csv')\n",
    "\n",
    "submission.insert(2, 'COUPON', submission['USER_ID_hash'].map(lookup_table.set_index('USER_ID_hash')['PURCHASED_COUPONS']))"
   ]
  },
  {
   "cell_type": "code",
   "execution_count": 145,
   "metadata": {},
   "outputs": [],
   "source": [
    "submission.drop('PURCHASED_COUPONS', axis=1, inplace=True)\n",
    "submission.rename(columns={'COUPON':'PURCHASED_COUPONS'}, inplace=True)\n",
    "\n",
    "submission['PURCHASED_COUPONS'] = submission['PURCHASED_COUPONS'].astype('str')\n",
    "submission['PURCHASED_COUPONS'] = submission['PURCHASED_COUPONS'].apply(lambda x: x.replace('[',''))\n",
    "submission['PURCHASED_COUPONS'] = submission['PURCHASED_COUPONS']. apply(lambda x: x.replace(']',''))\n",
    "submission['PURCHASED_COUPONS'] = submission['PURCHASED_COUPONS'].apply(lambda x: x.replace(\"'\",''))\n",
    "submission['PURCHASED_COUPONS'] = submission['PURCHASED_COUPONS'].apply(lambda x: x.replace(',',''))\n",
    "# submission.drop(labels=['index'], axis=1, inplace=True)\n",
    "\n",
    "submission.to_csv('test_submission_xgb.csv', index=False)"
   ]
  },
  {
   "cell_type": "code",
   "execution_count": 146,
   "metadata": {},
   "outputs": [],
   "source": [
    "submission2 = pd.read_csv('coupon_data_project2/sample_submission.csv')\n",
    "\n",
    "submission2.insert(2, 'COUPON', submission['USER_ID_hash'].map(lookup_table2.set_index('USER_ID_hash')['PURCHASED_COUPONS']))"
   ]
  },
  {
   "cell_type": "code",
   "execution_count": 147,
   "metadata": {},
   "outputs": [],
   "source": [
    "submission2.drop('PURCHASED_COUPONS', axis=1, inplace=True)\n",
    "submission2.rename(columns={'COUPON':'PURCHASED_COUPONS'}, inplace=True)\n",
    "\n",
    "submission2['PURCHASED_COUPONS'] = submission2['PURCHASED_COUPONS'].astype('str')\n",
    "submission2['PURCHASED_COUPONS'] = submission2['PURCHASED_COUPONS'].apply(lambda x: x.replace('[',''))\n",
    "submission2['PURCHASED_COUPONS'] = submission2['PURCHASED_COUPONS'].apply(lambda x: x.replace(']',''))\n",
    "submission2['PURCHASED_COUPONS'] = submission2['PURCHASED_COUPONS'].apply(lambda x: x.replace(\"'\",''))\n",
    "submission2['PURCHASED_COUPONS'] = submission2['PURCHASED_COUPONS'].apply(lambda x: x.replace(',',''))\n",
    "# submission.drop(labels=['index'], axis=1, inplace=True)\n",
    "\n",
    "submission2.to_csv('test_submission_xgb2.csv', index=False)"
   ]
  },
  {
   "cell_type": "markdown",
   "metadata": {},
   "source": [
    "### B7. 검증(그래프 같은것들??)"
   ]
  },
  {
   "cell_type": "markdown",
   "metadata": {},
   "source": [
    "### B8. submission"
   ]
  },
  {
   "cell_type": "code",
   "execution_count": 120,
   "metadata": {},
   "outputs": [],
   "source": []
  },
  {
   "cell_type": "markdown",
   "metadata": {},
   "source": [
    "# A까지 진행하고 EDA 좀 더 진행"
   ]
  },
  {
   "cell_type": "code",
   "execution_count": 97,
   "metadata": {},
   "outputs": [],
   "source": [
    "eda_df = train.copy()"
   ]
  },
  {
   "cell_type": "code",
   "execution_count": 50,
   "metadata": {
    "scrolled": true
   },
   "outputs": [
    {
     "data": {
      "text/plain": [
       "Index(['PURCHASE_FLG', 'VIEW_DATE', 'PREF_in', 'distance', 'COUPON_ID_hash',\n",
       "       'USER_ID_hash', 'VIEW', 'ITEM_COUNT', 'purchase_date', 'resid_small',\n",
       "       'PURCHASEID_hash', 'CAPSULE_TEXT', 'GENRE_NAME', 'PRICE_RATE',\n",
       "       'CATALOG_PRICE', 'DISCOUNT_PRICE', 'DISPFROM', 'DISPEND', 'DISPPERIOD',\n",
       "       'VALIDFROM', 'VALIDEND', 'VALIDPERIOD', 'USABLE_DATE_MON',\n",
       "       'USABLE_DATE_TUE', 'USABLE_DATE_WED', 'USABLE_DATE_THU',\n",
       "       'USABLE_DATE_FRI', 'USABLE_DATE_SAT', 'USABLE_DATE_SUN',\n",
       "       'USABLE_DATE_HOLIDAY', 'USABLE_DATE_BEFORE_HOLIDAY', 'spot_large',\n",
       "       'spot_pref', 'spot_small', 'Case', 'Price', 'lnDPRICE', 'mDPRICE',\n",
       "       'sDPRICE', 'zprice', 'SEX_ID', 'AGE', 'user_pref'],\n",
       "      dtype='object')"
      ]
     },
     "execution_count": 50,
     "metadata": {},
     "output_type": "execute_result"
    }
   ],
   "source": [
    "train.columns"
   ]
  },
  {
   "cell_type": "code",
   "execution_count": 75,
   "metadata": {},
   "outputs": [],
   "source": [
    "train['ITEM_COUNT'] = train['ITEM_COUNT'].fillna(0)"
   ]
  },
  {
   "cell_type": "code",
   "execution_count": 58,
   "metadata": {},
   "outputs": [],
   "source": [
    "df_view = pd.DataFrame(train.groupby(\"USER_ID_hash\")[\"PURCHASE_FLG\"].sum())"
   ]
  },
  {
   "cell_type": "code",
   "execution_count": 72,
   "metadata": {},
   "outputs": [],
   "source": [
    "df_view.rename(columns={\"PURCHASE_FLG\":\"purchase_count\"}, inplace=True)"
   ]
  },
  {
   "cell_type": "code",
   "execution_count": 68,
   "metadata": {},
   "outputs": [],
   "source": [
    "df_view['view_count'] = train.groupby(\"USER_ID_hash\")[\"VIEW\"].sum()"
   ]
  },
  {
   "cell_type": "code",
   "execution_count": 76,
   "metadata": {},
   "outputs": [],
   "source": [
    "df_view['item_count'] = train.groupby(\"USER_ID_hash\")[\"ITEM_COUNT\"].sum()"
   ]
  },
  {
   "cell_type": "code",
   "execution_count": 86,
   "metadata": {},
   "outputs": [
    {
     "data": {
      "text/plain": [
       "count    22833.000000\n",
       "mean       111.417378\n",
       "std        201.031915\n",
       "min          0.000000\n",
       "25%          9.000000\n",
       "50%         29.000000\n",
       "75%        123.000000\n",
       "max       3166.000000\n",
       "Name: view_count, dtype: float64"
      ]
     },
     "execution_count": 86,
     "metadata": {},
     "output_type": "execute_result"
    }
   ],
   "source": [
    "df_view.view_count.describe()"
   ]
  },
  {
   "cell_type": "code",
   "execution_count": null,
   "metadata": {},
   "outputs": [],
   "source": [
    "def view_cat(x):\n",
    "    if x "
   ]
  },
  {
   "cell_type": "code",
   "execution_count": null,
   "metadata": {},
   "outputs": [],
   "source": [
    "df_view['view_cat'] = df_view['view_count'].apply()"
   ]
  },
  {
   "cell_type": "code",
   "execution_count": 80,
   "metadata": {
    "scrolled": true
   },
   "outputs": [
    {
     "data": {
      "text/plain": [
       "array([[1.        , 0.55626045],\n",
       "       [0.55626045, 1.        ]])"
      ]
     },
     "execution_count": 80,
     "metadata": {},
     "output_type": "execute_result"
    }
   ],
   "source": [
    "np.corrcoef(df_view['purchase_count'], df_view['view_count'])"
   ]
  },
  {
   "cell_type": "code",
   "execution_count": 81,
   "metadata": {},
   "outputs": [
    {
     "data": {
      "text/plain": [
       "array([[1.        , 0.93283421],\n",
       "       [0.93283421, 1.        ]])"
      ]
     },
     "execution_count": 81,
     "metadata": {},
     "output_type": "execute_result"
    }
   ],
   "source": [
    "np.corrcoef(df_view['purchase_count'], df_view['item_count'])"
   ]
  },
  {
   "cell_type": "code",
   "execution_count": 82,
   "metadata": {},
   "outputs": [
    {
     "data": {
      "text/plain": [
       "array([[1.        , 0.56830894],\n",
       "       [0.56830894, 1.        ]])"
      ]
     },
     "execution_count": 82,
     "metadata": {},
     "output_type": "execute_result"
    }
   ],
   "source": [
    "np.corrcoef(df_view['view_count'], df_view['item_count'])"
   ]
  },
  {
   "cell_type": "code",
   "execution_count": 96,
   "metadata": {
    "collapsed": true
   },
   "outputs": [
    {
     "data": {
      "image/png": "[encoded data removed]",
      "text/plain": [
       "<matplotlib.figure.Figure at 0x120b61b00>"
      ]
     },
     "metadata": {},
     "output_type": "display_data"
    }
   ],
   "source": [
    "x = df_view['item_count']\n",
    "y = df_view['view_count']\n",
    "plt.figure(figsize=(10,10))\n",
    "plt.scatter(x,y)\n",
    "plt.xlim(-10,200)\n",
    "plt.ylim(-30,2500)\n",
    "\n",
    "plt.show()"
   ]
  },
  {
   "cell_type": "markdown",
   "metadata": {},
   "source": [
    "# 오버샘플링"
   ]
  },
  {
   "cell_type": "code",
   "execution_count": 60,
   "metadata": {
    "collapsed": true
   },
   "outputs": [
    {
     "data": {
      "text/html": [
       "<div>\n",
       "<style>\n",
       "    .dataframe thead tr:only-child th {\n",
       "        text-align: right;\n",
       "    }\n",
       "\n",
       "    .dataframe thead th {\n",
       "        text-align: left;\n",
       "    }\n",
       "\n",
       "    .dataframe tbody tr th {\n",
       "        vertical-align: top;\n",
       "    }\n",
       "</style>\n",
       "<table border=\"1\" class=\"dataframe\">\n",
       "  <thead>\n",
       "    <tr style=\"text-align: right;\">\n",
       "      <th></th>\n",
       "      <th>act</th>\n",
       "      <th>dtype</th>\n",
       "      <th>name</th>\n",
       "      <th>null</th>\n",
       "      <th>unique</th>\n",
       "    </tr>\n",
       "  </thead>\n",
       "  <tbody>\n",
       "    <tr>\n",
       "      <th>0</th>\n",
       "      <td>2597810.0</td>\n",
       "      <td>float64</td>\n",
       "      <td>PRICE_RATE</td>\n",
       "      <td>0.0</td>\n",
       "      <td>71.0</td>\n",
       "    </tr>\n",
       "    <tr>\n",
       "      <th>1</th>\n",
       "      <td>2597810.0</td>\n",
       "      <td>float64</td>\n",
       "      <td>DISPPERIOD</td>\n",
       "      <td>0.0</td>\n",
       "      <td>18.0</td>\n",
       "    </tr>\n",
       "    <tr>\n",
       "      <th>2</th>\n",
       "      <td>2597810.0</td>\n",
       "      <td>float64</td>\n",
       "      <td>USABLE_DATE_MON</td>\n",
       "      <td>0.0</td>\n",
       "      <td>2.0</td>\n",
       "    </tr>\n",
       "    <tr>\n",
       "      <th>3</th>\n",
       "      <td>2597810.0</td>\n",
       "      <td>float64</td>\n",
       "      <td>USABLE_DATE_TUE</td>\n",
       "      <td>0.0</td>\n",
       "      <td>2.0</td>\n",
       "    </tr>\n",
       "    <tr>\n",
       "      <th>4</th>\n",
       "      <td>2597810.0</td>\n",
       "      <td>float64</td>\n",
       "      <td>USABLE_DATE_WED</td>\n",
       "      <td>0.0</td>\n",
       "      <td>2.0</td>\n",
       "    </tr>\n",
       "    <tr>\n",
       "      <th>5</th>\n",
       "      <td>2597810.0</td>\n",
       "      <td>float64</td>\n",
       "      <td>USABLE_DATE_THU</td>\n",
       "      <td>0.0</td>\n",
       "      <td>2.0</td>\n",
       "    </tr>\n",
       "    <tr>\n",
       "      <th>6</th>\n",
       "      <td>2597810.0</td>\n",
       "      <td>float64</td>\n",
       "      <td>USABLE_DATE_FRI</td>\n",
       "      <td>0.0</td>\n",
       "      <td>2.0</td>\n",
       "    </tr>\n",
       "    <tr>\n",
       "      <th>7</th>\n",
       "      <td>2597810.0</td>\n",
       "      <td>float64</td>\n",
       "      <td>USABLE_DATE_SAT</td>\n",
       "      <td>0.0</td>\n",
       "      <td>2.0</td>\n",
       "    </tr>\n",
       "    <tr>\n",
       "      <th>8</th>\n",
       "      <td>2597810.0</td>\n",
       "      <td>float64</td>\n",
       "      <td>USABLE_DATE_SUN</td>\n",
       "      <td>0.0</td>\n",
       "      <td>2.0</td>\n",
       "    </tr>\n",
       "    <tr>\n",
       "      <th>9</th>\n",
       "      <td>2597810.0</td>\n",
       "      <td>float64</td>\n",
       "      <td>USABLE_DATE_HOLIDAY</td>\n",
       "      <td>0.0</td>\n",
       "      <td>2.0</td>\n",
       "    </tr>\n",
       "    <tr>\n",
       "      <th>10</th>\n",
       "      <td>2597810.0</td>\n",
       "      <td>float64</td>\n",
       "      <td>USABLE_DATE_BEFORE_HOLIDAY</td>\n",
       "      <td>0.0</td>\n",
       "      <td>2.0</td>\n",
       "    </tr>\n",
       "    <tr>\n",
       "      <th>11</th>\n",
       "      <td>2597810.0</td>\n",
       "      <td>float64</td>\n",
       "      <td>zprice</td>\n",
       "      <td>0.0</td>\n",
       "      <td>5618.0</td>\n",
       "    </tr>\n",
       "    <tr>\n",
       "      <th>12</th>\n",
       "      <td>2597810.0</td>\n",
       "      <td>float64</td>\n",
       "      <td>SEX_ID</td>\n",
       "      <td>0.0</td>\n",
       "      <td>2.0</td>\n",
       "    </tr>\n",
       "    <tr>\n",
       "      <th>13</th>\n",
       "      <td>2597810.0</td>\n",
       "      <td>float64</td>\n",
       "      <td>AGE</td>\n",
       "      <td>0.0</td>\n",
       "      <td>66.0</td>\n",
       "    </tr>\n",
       "    <tr>\n",
       "      <th>14</th>\n",
       "      <td>2597810.0</td>\n",
       "      <td>float64</td>\n",
       "      <td>VALID</td>\n",
       "      <td>0.0</td>\n",
       "      <td>615123.0</td>\n",
       "    </tr>\n",
       "    <tr>\n",
       "      <th>15</th>\n",
       "      <td>2597810.0</td>\n",
       "      <td>float64</td>\n",
       "      <td>Case_BEAUTY</td>\n",
       "      <td>0.0</td>\n",
       "      <td>2.0</td>\n",
       "    </tr>\n",
       "    <tr>\n",
       "      <th>16</th>\n",
       "      <td>2597810.0</td>\n",
       "      <td>float64</td>\n",
       "      <td>Case_CLASS</td>\n",
       "      <td>0.0</td>\n",
       "      <td>2.0</td>\n",
       "    </tr>\n",
       "    <tr>\n",
       "      <th>17</th>\n",
       "      <td>2597810.0</td>\n",
       "      <td>float64</td>\n",
       "      <td>Case_DELIVERY</td>\n",
       "      <td>0.0</td>\n",
       "      <td>2.0</td>\n",
       "    </tr>\n",
       "    <tr>\n",
       "      <th>18</th>\n",
       "      <td>2597810.0</td>\n",
       "      <td>float64</td>\n",
       "      <td>Case_EVENT</td>\n",
       "      <td>0.0</td>\n",
       "      <td>2.0</td>\n",
       "    </tr>\n",
       "    <tr>\n",
       "      <th>19</th>\n",
       "      <td>2597810.0</td>\n",
       "      <td>float64</td>\n",
       "      <td>Case_FOOD</td>\n",
       "      <td>0.0</td>\n",
       "      <td>2.0</td>\n",
       "    </tr>\n",
       "    <tr>\n",
       "      <th>20</th>\n",
       "      <td>2597810.0</td>\n",
       "      <td>float64</td>\n",
       "      <td>Case_GIFT</td>\n",
       "      <td>0.0</td>\n",
       "      <td>2.0</td>\n",
       "    </tr>\n",
       "    <tr>\n",
       "      <th>21</th>\n",
       "      <td>2597810.0</td>\n",
       "      <td>float64</td>\n",
       "      <td>Case_HAIR</td>\n",
       "      <td>0.0</td>\n",
       "      <td>2.0</td>\n",
       "    </tr>\n",
       "    <tr>\n",
       "      <th>22</th>\n",
       "      <td>2597810.0</td>\n",
       "      <td>float64</td>\n",
       "      <td>Case_HEALTH</td>\n",
       "      <td>0.0</td>\n",
       "      <td>2.0</td>\n",
       "    </tr>\n",
       "    <tr>\n",
       "      <th>23</th>\n",
       "      <td>2597810.0</td>\n",
       "      <td>float64</td>\n",
       "      <td>Case_HOTEL</td>\n",
       "      <td>0.0</td>\n",
       "      <td>2.0</td>\n",
       "    </tr>\n",
       "    <tr>\n",
       "      <th>24</th>\n",
       "      <td>2597810.0</td>\n",
       "      <td>float64</td>\n",
       "      <td>Case_LEISURE</td>\n",
       "      <td>0.0</td>\n",
       "      <td>2.0</td>\n",
       "    </tr>\n",
       "    <tr>\n",
       "      <th>25</th>\n",
       "      <td>2597810.0</td>\n",
       "      <td>float64</td>\n",
       "      <td>Case_LESSON</td>\n",
       "      <td>0.0</td>\n",
       "      <td>2.0</td>\n",
       "    </tr>\n",
       "    <tr>\n",
       "      <th>26</th>\n",
       "      <td>2597810.0</td>\n",
       "      <td>float64</td>\n",
       "      <td>Case_NAIL</td>\n",
       "      <td>0.0</td>\n",
       "      <td>2.0</td>\n",
       "    </tr>\n",
       "    <tr>\n",
       "      <th>27</th>\n",
       "      <td>2597810.0</td>\n",
       "      <td>float64</td>\n",
       "      <td>Case_OTHER</td>\n",
       "      <td>0.0</td>\n",
       "      <td>2.0</td>\n",
       "    </tr>\n",
       "    <tr>\n",
       "      <th>28</th>\n",
       "      <td>2597810.0</td>\n",
       "      <td>float64</td>\n",
       "      <td>Case_RELAXATION</td>\n",
       "      <td>0.0</td>\n",
       "      <td>2.0</td>\n",
       "    </tr>\n",
       "    <tr>\n",
       "      <th>29</th>\n",
       "      <td>2597810.0</td>\n",
       "      <td>float64</td>\n",
       "      <td>Case_SPA</td>\n",
       "      <td>0.0</td>\n",
       "      <td>2.0</td>\n",
       "    </tr>\n",
       "    <tr>\n",
       "      <th>30</th>\n",
       "      <td>2597810.0</td>\n",
       "      <td>float64</td>\n",
       "      <td>Case_WEB</td>\n",
       "      <td>0.0</td>\n",
       "      <td>2.0</td>\n",
       "    </tr>\n",
       "  </tbody>\n",
       "</table>\n",
       "</div>"
      ],
      "text/plain": [
       "          act    dtype                        name  null    unique\n",
       "0   2597810.0  float64                  PRICE_RATE   0.0      71.0\n",
       "1   2597810.0  float64                  DISPPERIOD   0.0      18.0\n",
       "2   2597810.0  float64             USABLE_DATE_MON   0.0       2.0\n",
       "3   2597810.0  float64             USABLE_DATE_TUE   0.0       2.0\n",
       "4   2597810.0  float64             USABLE_DATE_WED   0.0       2.0\n",
       "5   2597810.0  float64             USABLE_DATE_THU   0.0       2.0\n",
       "6   2597810.0  float64             USABLE_DATE_FRI   0.0       2.0\n",
       "7   2597810.0  float64             USABLE_DATE_SAT   0.0       2.0\n",
       "8   2597810.0  float64             USABLE_DATE_SUN   0.0       2.0\n",
       "9   2597810.0  float64         USABLE_DATE_HOLIDAY   0.0       2.0\n",
       "10  2597810.0  float64  USABLE_DATE_BEFORE_HOLIDAY   0.0       2.0\n",
       "11  2597810.0  float64                      zprice   0.0    5618.0\n",
       "12  2597810.0  float64                      SEX_ID   0.0       2.0\n",
       "13  2597810.0  float64                         AGE   0.0      66.0\n",
       "14  2597810.0  float64                       VALID   0.0  615123.0\n",
       "15  2597810.0  float64                 Case_BEAUTY   0.0       2.0\n",
       "16  2597810.0  float64                  Case_CLASS   0.0       2.0\n",
       "17  2597810.0  float64               Case_DELIVERY   0.0       2.0\n",
       "18  2597810.0  float64                  Case_EVENT   0.0       2.0\n",
       "19  2597810.0  float64                   Case_FOOD   0.0       2.0\n",
       "20  2597810.0  float64                   Case_GIFT   0.0       2.0\n",
       "21  2597810.0  float64                   Case_HAIR   0.0       2.0\n",
       "22  2597810.0  float64                 Case_HEALTH   0.0       2.0\n",
       "23  2597810.0  float64                  Case_HOTEL   0.0       2.0\n",
       "24  2597810.0  float64                Case_LEISURE   0.0       2.0\n",
       "25  2597810.0  float64                 Case_LESSON   0.0       2.0\n",
       "26  2597810.0  float64                   Case_NAIL   0.0       2.0\n",
       "27  2597810.0  float64                  Case_OTHER   0.0       2.0\n",
       "28  2597810.0  float64             Case_RELAXATION   0.0       2.0\n",
       "29  2597810.0  float64                    Case_SPA   0.0       2.0\n",
       "30  2597810.0  float64                    Case_WEB   0.0       2.0"
      ]
     },
     "execution_count": 60,
     "metadata": {},
     "output_type": "execute_result"
    }
   ],
   "source": [
    "summary_table(X_train_scale)"
   ]
  },
  {
   "cell_type": "code",
   "execution_count": 308,
   "metadata": {},
   "outputs": [],
   "source": [
    "X_train.drop('proba_case',1, inplace=True)"
   ]
  },
  {
   "cell_type": "code",
   "execution_count": 309,
   "metadata": {
    "scrolled": true
   },
   "outputs": [
    {
     "data": {
      "text/plain": [
       "Index(['PREF_in', 'distance', 'proba_spot_pref', 'proba_GENRE_NAME',\n",
       "       'PRICE_RATE', 'DISPPERIOD', 'VALIDPERIOD', 'USABLE_DATE_MON',\n",
       "       'USABLE_DATE_TUE', 'USABLE_DATE_WED', 'USABLE_DATE_THU',\n",
       "       'USABLE_DATE_FRI', 'USABLE_DATE_SAT', 'USABLE_DATE_SUN',\n",
       "       'USABLE_DATE_HOLIDAY', 'USABLE_DATE_BEFORE_HOLIDAY', 'zprice', 'SEX_ID',\n",
       "       'AGE', 'GENRE_NAME_Beauty', 'GENRE_NAME_Delivery service',\n",
       "       'GENRE_NAME_Food', 'GENRE_NAME_Gift card', 'GENRE_NAME_Hair salon',\n",
       "       'GENRE_NAME_Health and medical', 'GENRE_NAME_Hotel and Japanese hotel',\n",
       "       'GENRE_NAME_Leisure', 'GENRE_NAME_Lesson',\n",
       "       'GENRE_NAME_Nail and eye salon', 'GENRE_NAME_Other coupon',\n",
       "       'GENRE_NAME_Relaxation', 'GENRE_NAME_Spa'],\n",
       "      dtype='object')"
      ]
     },
     "execution_count": 309,
     "metadata": {},
     "output_type": "execute_result"
    }
   ],
   "source": [
    "X_train.columns"
   ]
  },
  {
   "cell_type": "code",
   "execution_count": 256,
   "metadata": {},
   "outputs": [],
   "source": [
    "X_train2"
   ]
  },
  {
   "cell_type": "code",
   "execution_count": 121,
   "metadata": {
    "scrolled": true
   },
   "outputs": [],
   "source": [
    "from imblearn.over_sampling import *\n",
    "\n",
    "X1, y1 = SMOTE(random_state=0).fit_sample(X_train_scale,y_train)"
   ]
  },
  {
   "cell_type": "code",
   "execution_count": 122,
   "metadata": {},
   "outputs": [],
   "source": [
    "X1 = pd.DataFrame(X1, columns=X_train_scale.columns)"
   ]
  },
  {
   "cell_type": "code",
   "execution_count": 123,
   "metadata": {},
   "outputs": [
    {
     "data": {
      "text/plain": [
       "Index(['PRICE_RATE', 'DISPPERIOD', 'USABLE_DATE_MON', 'USABLE_DATE_TUE',\n",
       "       'USABLE_DATE_WED', 'USABLE_DATE_THU', 'USABLE_DATE_FRI',\n",
       "       'USABLE_DATE_SAT', 'USABLE_DATE_SUN', 'USABLE_DATE_HOLIDAY',\n",
       "       'USABLE_DATE_BEFORE_HOLIDAY', 'zprice', 'SEX_ID', 'AGE', 'VALID',\n",
       "       'Case_BEAUTY', 'Case_CLASS', 'Case_DELIVERY', 'Case_EVENT', 'Case_FOOD',\n",
       "       'Case_GIFT', 'Case_HAIR', 'Case_HEALTH', 'Case_HOTEL', 'Case_LEISURE',\n",
       "       'Case_LESSON', 'Case_NAIL', 'Case_OTHER', 'Case_RELAXATION', 'Case_SPA',\n",
       "       'Case_WEB'],\n",
       "      dtype='object')"
      ]
     },
     "execution_count": 123,
     "metadata": {},
     "output_type": "execute_result"
    }
   ],
   "source": [
    "X1.columns"
   ]
  },
  {
   "cell_type": "code",
   "execution_count": 124,
   "metadata": {},
   "outputs": [
    {
     "data": {
      "text/plain": [
       "(4791116, 31)"
      ]
     },
     "execution_count": 124,
     "metadata": {},
     "output_type": "execute_result"
    }
   ],
   "source": [
    "X1.shape"
   ]
  },
  {
   "cell_type": "code",
   "execution_count": 157,
   "metadata": {},
   "outputs": [
    {
     "data": {
      "text/plain": [
       "2597810"
      ]
     },
     "execution_count": 157,
     "metadata": {},
     "output_type": "execute_result"
    }
   ],
   "source": [
    "len(X_train)"
   ]
  },
  {
   "cell_type": "code",
   "execution_count": 165,
   "metadata": {
    "scrolled": true
   },
   "outputs": [
    {
     "data": {
      "text/html": [
       "<div>\n",
       "<style>\n",
       "    .dataframe thead tr:only-child th {\n",
       "        text-align: right;\n",
       "    }\n",
       "\n",
       "    .dataframe thead th {\n",
       "        text-align: left;\n",
       "    }\n",
       "\n",
       "    .dataframe tbody tr th {\n",
       "        vertical-align: top;\n",
       "    }\n",
       "</style>\n",
       "<table border=\"1\" class=\"dataframe\">\n",
       "  <thead>\n",
       "    <tr style=\"text-align: right;\">\n",
       "      <th></th>\n",
       "      <th>PREF_in</th>\n",
       "      <th>distance</th>\n",
       "      <th>proba_spot_pref</th>\n",
       "      <th>proba_case</th>\n",
       "      <th>PRICE_RATE</th>\n",
       "      <th>DISPPERIOD</th>\n",
       "      <th>VALIDPERIOD</th>\n",
       "      <th>USABLE_DATE_MON</th>\n",
       "      <th>USABLE_DATE_TUE</th>\n",
       "      <th>USABLE_DATE_WED</th>\n",
       "      <th>...</th>\n",
       "      <th>Case_HEALTH</th>\n",
       "      <th>Case_HOTEL</th>\n",
       "      <th>Case_LEISURE</th>\n",
       "      <th>Case_LESSON</th>\n",
       "      <th>Case_NAIL</th>\n",
       "      <th>Case_OTHER</th>\n",
       "      <th>Case_RELAXATION</th>\n",
       "      <th>Case_SPA</th>\n",
       "      <th>Case_WEB</th>\n",
       "      <th>VALID</th>\n",
       "    </tr>\n",
       "  </thead>\n",
       "  <tbody>\n",
       "    <tr>\n",
       "      <th>0</th>\n",
       "      <td>0.0</td>\n",
       "      <td>237.740409</td>\n",
       "      <td>9.021525</td>\n",
       "      <td>8.573826</td>\n",
       "      <td>78.0</td>\n",
       "      <td>4.0</td>\n",
       "      <td>180.0</td>\n",
       "      <td>1.0</td>\n",
       "      <td>1.0</td>\n",
       "      <td>1.0</td>\n",
       "      <td>...</td>\n",
       "      <td>0.0</td>\n",
       "      <td>0.0</td>\n",
       "      <td>0.0</td>\n",
       "      <td>0.0</td>\n",
       "      <td>0.0</td>\n",
       "      <td>0.0</td>\n",
       "      <td>0.0</td>\n",
       "      <td>0.0</td>\n",
       "      <td>0.0</td>\n",
       "      <td>3015.000000</td>\n",
       "    </tr>\n",
       "    <tr>\n",
       "      <th>1</th>\n",
       "      <td>0.0</td>\n",
       "      <td>237.740409</td>\n",
       "      <td>9.021525</td>\n",
       "      <td>8.573826</td>\n",
       "      <td>78.0</td>\n",
       "      <td>4.0</td>\n",
       "      <td>180.0</td>\n",
       "      <td>1.0</td>\n",
       "      <td>1.0</td>\n",
       "      <td>1.0</td>\n",
       "      <td>...</td>\n",
       "      <td>0.0</td>\n",
       "      <td>0.0</td>\n",
       "      <td>0.0</td>\n",
       "      <td>0.0</td>\n",
       "      <td>0.0</td>\n",
       "      <td>0.0</td>\n",
       "      <td>0.0</td>\n",
       "      <td>0.0</td>\n",
       "      <td>0.0</td>\n",
       "      <td>3017.466667</td>\n",
       "    </tr>\n",
       "    <tr>\n",
       "      <th>2</th>\n",
       "      <td>0.0</td>\n",
       "      <td>237.740409</td>\n",
       "      <td>9.021525</td>\n",
       "      <td>8.573826</td>\n",
       "      <td>78.0</td>\n",
       "      <td>4.0</td>\n",
       "      <td>180.0</td>\n",
       "      <td>1.0</td>\n",
       "      <td>1.0</td>\n",
       "      <td>1.0</td>\n",
       "      <td>...</td>\n",
       "      <td>0.0</td>\n",
       "      <td>0.0</td>\n",
       "      <td>0.0</td>\n",
       "      <td>0.0</td>\n",
       "      <td>0.0</td>\n",
       "      <td>0.0</td>\n",
       "      <td>0.0</td>\n",
       "      <td>0.0</td>\n",
       "      <td>0.0</td>\n",
       "      <td>3032.033333</td>\n",
       "    </tr>\n",
       "    <tr>\n",
       "      <th>3</th>\n",
       "      <td>0.0</td>\n",
       "      <td>237.740409</td>\n",
       "      <td>9.021525</td>\n",
       "      <td>8.573826</td>\n",
       "      <td>78.0</td>\n",
       "      <td>4.0</td>\n",
       "      <td>180.0</td>\n",
       "      <td>1.0</td>\n",
       "      <td>1.0</td>\n",
       "      <td>1.0</td>\n",
       "      <td>...</td>\n",
       "      <td>0.0</td>\n",
       "      <td>0.0</td>\n",
       "      <td>0.0</td>\n",
       "      <td>0.0</td>\n",
       "      <td>0.0</td>\n",
       "      <td>0.0</td>\n",
       "      <td>0.0</td>\n",
       "      <td>0.0</td>\n",
       "      <td>0.0</td>\n",
       "      <td>3068.166667</td>\n",
       "    </tr>\n",
       "    <tr>\n",
       "      <th>4</th>\n",
       "      <td>0.0</td>\n",
       "      <td>237.740409</td>\n",
       "      <td>6.823667</td>\n",
       "      <td>8.573826</td>\n",
       "      <td>66.0</td>\n",
       "      <td>3.0</td>\n",
       "      <td>180.0</td>\n",
       "      <td>1.0</td>\n",
       "      <td>1.0</td>\n",
       "      <td>1.0</td>\n",
       "      <td>...</td>\n",
       "      <td>0.0</td>\n",
       "      <td>0.0</td>\n",
       "      <td>0.0</td>\n",
       "      <td>0.0</td>\n",
       "      <td>0.0</td>\n",
       "      <td>0.0</td>\n",
       "      <td>0.0</td>\n",
       "      <td>0.0</td>\n",
       "      <td>0.0</td>\n",
       "      <td>1580.083333</td>\n",
       "    </tr>\n",
       "  </tbody>\n",
       "</table>\n",
       "<p>5 rows × 36 columns</p>\n",
       "</div>"
      ],
      "text/plain": [
       "   PREF_in    distance  proba_spot_pref  proba_case  PRICE_RATE  DISPPERIOD  \\\n",
       "0      0.0  237.740409         9.021525    8.573826        78.0         4.0   \n",
       "1      0.0  237.740409         9.021525    8.573826        78.0         4.0   \n",
       "2      0.0  237.740409         9.021525    8.573826        78.0         4.0   \n",
       "3      0.0  237.740409         9.021525    8.573826        78.0         4.0   \n",
       "4      0.0  237.740409         6.823667    8.573826        66.0         3.0   \n",
       "\n",
       "   VALIDPERIOD  USABLE_DATE_MON  USABLE_DATE_TUE  USABLE_DATE_WED  \\\n",
       "0        180.0              1.0              1.0              1.0   \n",
       "1        180.0              1.0              1.0              1.0   \n",
       "2        180.0              1.0              1.0              1.0   \n",
       "3        180.0              1.0              1.0              1.0   \n",
       "4        180.0              1.0              1.0              1.0   \n",
       "\n",
       "      ...       Case_HEALTH  Case_HOTEL  Case_LEISURE  Case_LESSON  Case_NAIL  \\\n",
       "0     ...               0.0         0.0           0.0          0.0        0.0   \n",
       "1     ...               0.0         0.0           0.0          0.0        0.0   \n",
       "2     ...               0.0         0.0           0.0          0.0        0.0   \n",
       "3     ...               0.0         0.0           0.0          0.0        0.0   \n",
       "4     ...               0.0         0.0           0.0          0.0        0.0   \n",
       "\n",
       "   Case_OTHER  Case_RELAXATION  Case_SPA  Case_WEB        VALID  \n",
       "0         0.0              0.0       0.0       0.0  3015.000000  \n",
       "1         0.0              0.0       0.0       0.0  3017.466667  \n",
       "2         0.0              0.0       0.0       0.0  3032.033333  \n",
       "3         0.0              0.0       0.0       0.0  3068.166667  \n",
       "4         0.0              0.0       0.0       0.0  1580.083333  \n",
       "\n",
       "[5 rows x 36 columns]"
      ]
     },
     "execution_count": 165,
     "metadata": {},
     "output_type": "execute_result"
    }
   ],
   "source": [
    "X.head()"
   ]
  },
  {
   "cell_type": "code",
   "execution_count": 184,
   "metadata": {},
   "outputs": [
    {
     "data": {
      "text/html": [
       "<div>\n",
       "<style>\n",
       "    .dataframe thead tr:only-child th {\n",
       "        text-align: right;\n",
       "    }\n",
       "\n",
       "    .dataframe thead th {\n",
       "        text-align: left;\n",
       "    }\n",
       "\n",
       "    .dataframe tbody tr th {\n",
       "        vertical-align: top;\n",
       "    }\n",
       "</style>\n",
       "<table border=\"1\" class=\"dataframe\">\n",
       "  <thead>\n",
       "    <tr style=\"text-align: right;\">\n",
       "      <th></th>\n",
       "      <th>PREF_in</th>\n",
       "      <th>distance</th>\n",
       "      <th>PRICE_RATE</th>\n",
       "      <th>DISPPERIOD</th>\n",
       "      <th>VALIDPERIOD</th>\n",
       "      <th>zprice</th>\n",
       "      <th>SEX_ID</th>\n",
       "      <th>AGE</th>\n",
       "      <th>usable_week</th>\n",
       "      <th>Case_BEAUTY</th>\n",
       "      <th>...</th>\n",
       "      <th>Case_HAIR</th>\n",
       "      <th>Case_HEALTH</th>\n",
       "      <th>Case_HOTEL</th>\n",
       "      <th>Case_LEISURE</th>\n",
       "      <th>Case_LESSON</th>\n",
       "      <th>Case_NAIL</th>\n",
       "      <th>Case_OTHER</th>\n",
       "      <th>Case_RELAXATION</th>\n",
       "      <th>Case_SPA</th>\n",
       "      <th>Case_WEB</th>\n",
       "    </tr>\n",
       "  </thead>\n",
       "  <tbody>\n",
       "    <tr>\n",
       "      <th>0</th>\n",
       "      <td>0</td>\n",
       "      <td>237.740409</td>\n",
       "      <td>78.0</td>\n",
       "      <td>4.0</td>\n",
       "      <td>180.0</td>\n",
       "      <td>0.795357</td>\n",
       "      <td>0</td>\n",
       "      <td>25</td>\n",
       "      <td>9.0</td>\n",
       "      <td>0</td>\n",
       "      <td>...</td>\n",
       "      <td>0</td>\n",
       "      <td>0</td>\n",
       "      <td>0</td>\n",
       "      <td>0</td>\n",
       "      <td>0</td>\n",
       "      <td>0</td>\n",
       "      <td>0</td>\n",
       "      <td>0</td>\n",
       "      <td>0</td>\n",
       "      <td>0</td>\n",
       "    </tr>\n",
       "    <tr>\n",
       "      <th>1</th>\n",
       "      <td>0</td>\n",
       "      <td>237.740409</td>\n",
       "      <td>78.0</td>\n",
       "      <td>4.0</td>\n",
       "      <td>180.0</td>\n",
       "      <td>0.795357</td>\n",
       "      <td>0</td>\n",
       "      <td>25</td>\n",
       "      <td>9.0</td>\n",
       "      <td>0</td>\n",
       "      <td>...</td>\n",
       "      <td>0</td>\n",
       "      <td>0</td>\n",
       "      <td>0</td>\n",
       "      <td>0</td>\n",
       "      <td>0</td>\n",
       "      <td>0</td>\n",
       "      <td>0</td>\n",
       "      <td>0</td>\n",
       "      <td>0</td>\n",
       "      <td>0</td>\n",
       "    </tr>\n",
       "    <tr>\n",
       "      <th>2</th>\n",
       "      <td>0</td>\n",
       "      <td>237.740409</td>\n",
       "      <td>78.0</td>\n",
       "      <td>4.0</td>\n",
       "      <td>180.0</td>\n",
       "      <td>0.795357</td>\n",
       "      <td>0</td>\n",
       "      <td>25</td>\n",
       "      <td>9.0</td>\n",
       "      <td>0</td>\n",
       "      <td>...</td>\n",
       "      <td>0</td>\n",
       "      <td>0</td>\n",
       "      <td>0</td>\n",
       "      <td>0</td>\n",
       "      <td>0</td>\n",
       "      <td>0</td>\n",
       "      <td>0</td>\n",
       "      <td>0</td>\n",
       "      <td>0</td>\n",
       "      <td>0</td>\n",
       "    </tr>\n",
       "    <tr>\n",
       "      <th>3</th>\n",
       "      <td>0</td>\n",
       "      <td>237.740409</td>\n",
       "      <td>78.0</td>\n",
       "      <td>4.0</td>\n",
       "      <td>180.0</td>\n",
       "      <td>0.795357</td>\n",
       "      <td>0</td>\n",
       "      <td>25</td>\n",
       "      <td>9.0</td>\n",
       "      <td>0</td>\n",
       "      <td>...</td>\n",
       "      <td>0</td>\n",
       "      <td>0</td>\n",
       "      <td>0</td>\n",
       "      <td>0</td>\n",
       "      <td>0</td>\n",
       "      <td>0</td>\n",
       "      <td>0</td>\n",
       "      <td>0</td>\n",
       "      <td>0</td>\n",
       "      <td>0</td>\n",
       "    </tr>\n",
       "    <tr>\n",
       "      <th>4</th>\n",
       "      <td>0</td>\n",
       "      <td>237.740409</td>\n",
       "      <td>66.0</td>\n",
       "      <td>3.0</td>\n",
       "      <td>180.0</td>\n",
       "      <td>0.118216</td>\n",
       "      <td>0</td>\n",
       "      <td>25</td>\n",
       "      <td>9.0</td>\n",
       "      <td>0</td>\n",
       "      <td>...</td>\n",
       "      <td>0</td>\n",
       "      <td>0</td>\n",
       "      <td>0</td>\n",
       "      <td>0</td>\n",
       "      <td>0</td>\n",
       "      <td>0</td>\n",
       "      <td>0</td>\n",
       "      <td>0</td>\n",
       "      <td>0</td>\n",
       "      <td>0</td>\n",
       "    </tr>\n",
       "  </tbody>\n",
       "</table>\n",
       "<p>5 rows × 25 columns</p>\n",
       "</div>"
      ],
      "text/plain": [
       "   PREF_in    distance  PRICE_RATE  DISPPERIOD  VALIDPERIOD    zprice  SEX_ID  \\\n",
       "0        0  237.740409        78.0         4.0        180.0  0.795357       0   \n",
       "1        0  237.740409        78.0         4.0        180.0  0.795357       0   \n",
       "2        0  237.740409        78.0         4.0        180.0  0.795357       0   \n",
       "3        0  237.740409        78.0         4.0        180.0  0.795357       0   \n",
       "4        0  237.740409        66.0         3.0        180.0  0.118216       0   \n",
       "\n",
       "   AGE  usable_week  Case_BEAUTY    ...     Case_HAIR  Case_HEALTH  \\\n",
       "0   25          9.0            0    ...             0            0   \n",
       "1   25          9.0            0    ...             0            0   \n",
       "2   25          9.0            0    ...             0            0   \n",
       "3   25          9.0            0    ...             0            0   \n",
       "4   25          9.0            0    ...             0            0   \n",
       "\n",
       "   Case_HOTEL  Case_LEISURE  Case_LESSON  Case_NAIL  Case_OTHER  \\\n",
       "0           0             0            0          0           0   \n",
       "1           0             0            0          0           0   \n",
       "2           0             0            0          0           0   \n",
       "3           0             0            0          0           0   \n",
       "4           0             0            0          0           0   \n",
       "\n",
       "   Case_RELAXATION  Case_SPA  Case_WEB  \n",
       "0                0         0         0  \n",
       "1                0         0         0  \n",
       "2                0         0         0  \n",
       "3                0         0         0  \n",
       "4                0         0         0  \n",
       "\n",
       "[5 rows x 25 columns]"
      ]
     },
     "execution_count": 184,
     "metadata": {},
     "output_type": "execute_result"
    }
   ],
   "source": [
    "X_train.head()"
   ]
  },
  {
   "cell_type": "code",
   "execution_count": 183,
   "metadata": {
    "scrolled": true
   },
   "outputs": [
    {
     "data": {
      "text/plain": [
       "(Index(['PREF_in', 'distance', 'PRICE_RATE', 'DISPPERIOD', 'VALIDPERIOD',\n",
       "        'zprice', 'SEX_ID', 'AGE', 'usable_week', 'Case_BEAUTY', 'Case_CLASS',\n",
       "        'Case_DELIVERY', 'Case_EVENT', 'Case_FOOD', 'Case_GIFT', 'Case_HAIR',\n",
       "        'Case_HEALTH', 'Case_HOTEL', 'Case_LEISURE', 'Case_LESSON', 'Case_NAIL',\n",
       "        'Case_OTHER', 'Case_RELAXATION', 'Case_SPA', 'Case_WEB'],\n",
       "       dtype='object'),\n",
       " Index(['PREF_in', 'distance', 'PRICE_RATE', 'DISPPERIOD', 'VALIDPERIOD',\n",
       "        'zprice', 'SEX_ID', 'AGE', 'usable_week', 'Case_BEAUTY', 'Case_CLASS',\n",
       "        'Case_DELIVERY', 'Case_EVENT', 'Case_FOOD', 'Case_GIFT', 'Case_HAIR',\n",
       "        'Case_HEALTH', 'Case_HOTEL', 'Case_LEISURE', 'Case_LESSON', 'Case_NAIL',\n",
       "        'Case_OTHER', 'Case_RELAXATION', 'Case_SPA', 'Case_WEB'],\n",
       "       dtype='object'))"
      ]
     },
     "execution_count": 183,
     "metadata": {},
     "output_type": "execute_result"
    }
   ],
   "source": [
    "X.columns, X_train.columns"
   ]
  },
  {
   "cell_type": "markdown",
   "metadata": {},
   "source": [
    "# 언더 샘플링"
   ]
  },
  {
   "cell_type": "code",
   "execution_count": null,
   "metadata": {},
   "outputs": [],
   "source": [
    "from imblearn.under_sampling import *\n",
    "X2, y2 = NeighbourhoodCleaningRule(random_state=0).fit_sample(X_train,y_train)\n",
    "X2 = pd.DataFrame(X2, columns=X_train.columns)"
   ]
  },
  {
   "cell_type": "code",
   "execution_count": null,
   "metadata": {},
   "outputs": [],
   "source": [
    "from imblearn.combine import *\n",
    "X2, y2 = SMOTETomek(random_state=0).fit_sample(X_train,y_train)\n",
    "X2 = pd.DataFrame(X2, columns=X_train.columns)"
   ]
  },
  {
   "cell_type": "code",
   "execution_count": 40,
   "metadata": {},
   "outputs": [],
   "source": [
    "proba = train.copy()"
   ]
  },
  {
   "cell_type": "code",
   "execution_count": null,
   "metadata": {},
   "outputs": [],
   "source": [
    "train.isnu"
   ]
  },
  {
   "cell_type": "code",
   "execution_count": 41,
   "metadata": {
    "scrolled": true
   },
   "outputs": [
    {
     "data": {
      "text/plain": [
       "Index(['PURCHASE_FLG', 'VIEW_DATE', 'PREF_in', 'distance', 'COUPON_ID_hash',\n",
       "       'USER_ID_hash', 'VIEW', 'ITEM_COUNT', 'purchase_date', 'resid_small',\n",
       "       'PURCHASEID_hash', 'CAPSULE_TEXT', 'GENRE_NAME', 'PRICE_RATE',\n",
       "       'CATALOG_PRICE', 'DISCOUNT_PRICE', 'DISPFROM', 'DISPEND', 'DISPPERIOD',\n",
       "       'VALIDFROM', 'VALIDEND', 'VALIDPERIOD', 'USABLE_DATE_MON',\n",
       "       'USABLE_DATE_TUE', 'USABLE_DATE_WED', 'USABLE_DATE_THU',\n",
       "       'USABLE_DATE_FRI', 'USABLE_DATE_SAT', 'USABLE_DATE_SUN',\n",
       "       'USABLE_DATE_HOLIDAY', 'USABLE_DATE_BEFORE_HOLIDAY', 'spot_large',\n",
       "       'spot_pref', 'spot_small', 'Case', 'Price', 'lnDPRICE', 'mDPRICE',\n",
       "       'sDPRICE', 'zprice', 'SEX_ID', 'AGE', 'user_pref'],\n",
       "      dtype='object')"
      ]
     },
     "execution_count": 41,
     "metadata": {},
     "output_type": "execute_result"
    }
   ],
   "source": [
    "proba.columns"
   ]
  },
  {
   "cell_type": "code",
   "execution_count": 62,
   "metadata": {},
   "outputs": [],
   "source": [
    "ls = ['PURCHASE_FLG', 'GENRE_NAME', 'Case','spot_pref']\n",
    "proba1 = proba.filter(ls)"
   ]
  },
  {
   "cell_type": "code",
   "execution_count": 49,
   "metadata": {},
   "outputs": [],
   "source": [
    "result = pd.DataFrame(proba1.groupby('Case')['PURCHASE_FLG'].count())\n",
    "result['구매수'] = proba1.groupby('Case')['PURCHASE_FLG'].sum()"
   ]
  },
  {
   "cell_type": "code",
   "execution_count": 51,
   "metadata": {},
   "outputs": [],
   "source": [
    "result.rename(columns={'PURCHASE_FLG':'총개수'}, inplace=True)"
   ]
  },
  {
   "cell_type": "code",
   "execution_count": 53,
   "metadata": {},
   "outputs": [],
   "source": [
    "result['proba_case'] = result['구매수'] / result['총개수'] * 100"
   ]
  },
  {
   "cell_type": "code",
   "execution_count": 54,
   "metadata": {},
   "outputs": [
    {
     "data": {
      "text/html": [
       "<div>\n",
       "<style>\n",
       "    .dataframe thead tr:only-child th {\n",
       "        text-align: right;\n",
       "    }\n",
       "\n",
       "    .dataframe thead th {\n",
       "        text-align: left;\n",
       "    }\n",
       "\n",
       "    .dataframe tbody tr th {\n",
       "        vertical-align: top;\n",
       "    }\n",
       "</style>\n",
       "<table border=\"1\" class=\"dataframe\">\n",
       "  <thead>\n",
       "    <tr style=\"text-align: right;\">\n",
       "      <th></th>\n",
       "      <th>총개수</th>\n",
       "      <th>구매수</th>\n",
       "      <th>proba_case</th>\n",
       "    </tr>\n",
       "    <tr>\n",
       "      <th>Case</th>\n",
       "      <th></th>\n",
       "      <th></th>\n",
       "      <th></th>\n",
       "    </tr>\n",
       "  </thead>\n",
       "  <tbody>\n",
       "    <tr>\n",
       "      <th>BEAUTY</th>\n",
       "      <td>2073</td>\n",
       "      <td>176</td>\n",
       "      <td>8.490111</td>\n",
       "    </tr>\n",
       "    <tr>\n",
       "      <th>CLASS</th>\n",
       "      <td>631</td>\n",
       "      <td>44</td>\n",
       "      <td>6.973059</td>\n",
       "    </tr>\n",
       "    <tr>\n",
       "      <th>DELIVERY</th>\n",
       "      <td>739040</td>\n",
       "      <td>63364</td>\n",
       "      <td>8.573826</td>\n",
       "    </tr>\n",
       "    <tr>\n",
       "      <th>EVENT</th>\n",
       "      <td>678</td>\n",
       "      <td>43</td>\n",
       "      <td>6.342183</td>\n",
       "    </tr>\n",
       "    <tr>\n",
       "      <th>FOOD</th>\n",
       "      <td>685842</td>\n",
       "      <td>50311</td>\n",
       "      <td>7.335655</td>\n",
       "    </tr>\n",
       "    <tr>\n",
       "      <th>GIFT</th>\n",
       "      <td>77819</td>\n",
       "      <td>10852</td>\n",
       "      <td>13.945180</td>\n",
       "    </tr>\n",
       "    <tr>\n",
       "      <th>HAIR</th>\n",
       "      <td>51979</td>\n",
       "      <td>4396</td>\n",
       "      <td>8.457262</td>\n",
       "    </tr>\n",
       "    <tr>\n",
       "      <th>HEALTH</th>\n",
       "      <td>3169</td>\n",
       "      <td>309</td>\n",
       "      <td>9.750710</td>\n",
       "    </tr>\n",
       "    <tr>\n",
       "      <th>HOTEL</th>\n",
       "      <td>614910</td>\n",
       "      <td>20608</td>\n",
       "      <td>3.351385</td>\n",
       "    </tr>\n",
       "    <tr>\n",
       "      <th>LEISURE</th>\n",
       "      <td>90083</td>\n",
       "      <td>10198</td>\n",
       "      <td>11.320671</td>\n",
       "    </tr>\n",
       "    <tr>\n",
       "      <th>LESSON</th>\n",
       "      <td>27754</td>\n",
       "      <td>1615</td>\n",
       "      <td>5.818981</td>\n",
       "    </tr>\n",
       "    <tr>\n",
       "      <th>NAIL</th>\n",
       "      <td>29180</td>\n",
       "      <td>2381</td>\n",
       "      <td>8.159698</td>\n",
       "    </tr>\n",
       "    <tr>\n",
       "      <th>OTHER</th>\n",
       "      <td>180437</td>\n",
       "      <td>29654</td>\n",
       "      <td>16.434545</td>\n",
       "    </tr>\n",
       "    <tr>\n",
       "      <th>RELAXATION</th>\n",
       "      <td>51961</td>\n",
       "      <td>4769</td>\n",
       "      <td>9.178037</td>\n",
       "    </tr>\n",
       "    <tr>\n",
       "      <th>SPA</th>\n",
       "      <td>33077</td>\n",
       "      <td>2742</td>\n",
       "      <td>8.289748</td>\n",
       "    </tr>\n",
       "    <tr>\n",
       "      <th>WEB</th>\n",
       "      <td>9177</td>\n",
       "      <td>790</td>\n",
       "      <td>8.608478</td>\n",
       "    </tr>\n",
       "  </tbody>\n",
       "</table>\n",
       "</div>"
      ],
      "text/plain": [
       "               총개수    구매수  proba_case\n",
       "Case                                 \n",
       "BEAUTY        2073    176    8.490111\n",
       "CLASS          631     44    6.973059\n",
       "DELIVERY    739040  63364    8.573826\n",
       "EVENT          678     43    6.342183\n",
       "FOOD        685842  50311    7.335655\n",
       "GIFT         77819  10852   13.945180\n",
       "HAIR         51979   4396    8.457262\n",
       "HEALTH        3169    309    9.750710\n",
       "HOTEL       614910  20608    3.351385\n",
       "LEISURE      90083  10198   11.320671\n",
       "LESSON       27754   1615    5.818981\n",
       "NAIL         29180   2381    8.159698\n",
       "OTHER       180437  29654   16.434545\n",
       "RELAXATION   51961   4769    9.178037\n",
       "SPA          33077   2742    8.289748\n",
       "WEB           9177    790    8.608478"
      ]
     },
     "execution_count": 54,
     "metadata": {},
     "output_type": "execute_result"
    }
   ],
   "source": [
    "result"
   ]
  },
  {
   "cell_type": "code",
   "execution_count": 55,
   "metadata": {},
   "outputs": [],
   "source": [
    "result.to_csv('proba_case', encoding='utf-8')"
   ]
  },
  {
   "cell_type": "code",
   "execution_count": 57,
   "metadata": {},
   "outputs": [],
   "source": [
    "result2 = pd.DataFrame(proba1.groupby('GENRE_NAME')['PURCHASE_FLG'].count())\n",
    "result2['구매수'] = proba1.groupby('GENRE_NAME')['PURCHASE_FLG'].sum()\n",
    "\n",
    "result2.rename(columns={'PURCHASE_FLG':'총개수'}, inplace=True)\n",
    "\n",
    "result2['proba_GENRE_NAME'] = result2['구매수'] / result2['총개수'] * 100"
   ]
  },
  {
   "cell_type": "code",
   "execution_count": 59,
   "metadata": {},
   "outputs": [
    {
     "data": {
      "text/html": [
       "<div>\n",
       "<style>\n",
       "    .dataframe thead tr:only-child th {\n",
       "        text-align: right;\n",
       "    }\n",
       "\n",
       "    .dataframe thead th {\n",
       "        text-align: left;\n",
       "    }\n",
       "\n",
       "    .dataframe tbody tr th {\n",
       "        vertical-align: top;\n",
       "    }\n",
       "</style>\n",
       "<table border=\"1\" class=\"dataframe\">\n",
       "  <thead>\n",
       "    <tr style=\"text-align: right;\">\n",
       "      <th></th>\n",
       "      <th>총개수</th>\n",
       "      <th>구매수</th>\n",
       "      <th>proba_GENRE_NAME</th>\n",
       "    </tr>\n",
       "    <tr>\n",
       "      <th>GENRE_NAME</th>\n",
       "      <th></th>\n",
       "      <th></th>\n",
       "      <th></th>\n",
       "    </tr>\n",
       "  </thead>\n",
       "  <tbody>\n",
       "    <tr>\n",
       "      <th>Beauty</th>\n",
       "      <td>2073</td>\n",
       "      <td>176</td>\n",
       "      <td>8.490111</td>\n",
       "    </tr>\n",
       "    <tr>\n",
       "      <th>Delivery service</th>\n",
       "      <td>739040</td>\n",
       "      <td>63364</td>\n",
       "      <td>8.573826</td>\n",
       "    </tr>\n",
       "    <tr>\n",
       "      <th>Food</th>\n",
       "      <td>685842</td>\n",
       "      <td>50311</td>\n",
       "      <td>7.335655</td>\n",
       "    </tr>\n",
       "    <tr>\n",
       "      <th>Gift card</th>\n",
       "      <td>77819</td>\n",
       "      <td>10852</td>\n",
       "      <td>13.945180</td>\n",
       "    </tr>\n",
       "    <tr>\n",
       "      <th>Hair salon</th>\n",
       "      <td>51979</td>\n",
       "      <td>4396</td>\n",
       "      <td>8.457262</td>\n",
       "    </tr>\n",
       "    <tr>\n",
       "      <th>Health and medical</th>\n",
       "      <td>3169</td>\n",
       "      <td>309</td>\n",
       "      <td>9.750710</td>\n",
       "    </tr>\n",
       "    <tr>\n",
       "      <th>Hotel and Japanese hotel</th>\n",
       "      <td>614910</td>\n",
       "      <td>20608</td>\n",
       "      <td>3.351385</td>\n",
       "    </tr>\n",
       "    <tr>\n",
       "      <th>Leisure</th>\n",
       "      <td>90083</td>\n",
       "      <td>10198</td>\n",
       "      <td>11.320671</td>\n",
       "    </tr>\n",
       "    <tr>\n",
       "      <th>Lesson</th>\n",
       "      <td>28648</td>\n",
       "      <td>1672</td>\n",
       "      <td>5.836359</td>\n",
       "    </tr>\n",
       "    <tr>\n",
       "      <th>Nail and eye salon</th>\n",
       "      <td>29180</td>\n",
       "      <td>2381</td>\n",
       "      <td>8.159698</td>\n",
       "    </tr>\n",
       "    <tr>\n",
       "      <th>Other coupon</th>\n",
       "      <td>190029</td>\n",
       "      <td>30474</td>\n",
       "      <td>16.036500</td>\n",
       "    </tr>\n",
       "    <tr>\n",
       "      <th>Relaxation</th>\n",
       "      <td>51961</td>\n",
       "      <td>4769</td>\n",
       "      <td>9.178037</td>\n",
       "    </tr>\n",
       "    <tr>\n",
       "      <th>Spa</th>\n",
       "      <td>33077</td>\n",
       "      <td>2742</td>\n",
       "      <td>8.289748</td>\n",
       "    </tr>\n",
       "  </tbody>\n",
       "</table>\n",
       "</div>"
      ],
      "text/plain": [
       "                             총개수    구매수  proba_GENRE_NAME\n",
       "GENRE_NAME                                               \n",
       "Beauty                      2073    176          8.490111\n",
       "Delivery service          739040  63364          8.573826\n",
       "Food                      685842  50311          7.335655\n",
       "Gift card                  77819  10852         13.945180\n",
       "Hair salon                 51979   4396          8.457262\n",
       "Health and medical          3169    309          9.750710\n",
       "Hotel and Japanese hotel  614910  20608          3.351385\n",
       "Leisure                    90083  10198         11.320671\n",
       "Lesson                     28648   1672          5.836359\n",
       "Nail and eye salon         29180   2381          8.159698\n",
       "Other coupon              190029  30474         16.036500\n",
       "Relaxation                 51961   4769          9.178037\n",
       "Spa                        33077   2742          8.289748"
      ]
     },
     "execution_count": 59,
     "metadata": {},
     "output_type": "execute_result"
    }
   ],
   "source": [
    "result2"
   ]
  },
  {
   "cell_type": "code",
   "execution_count": 60,
   "metadata": {},
   "outputs": [],
   "source": [
    "result2.to_csv('proba_genre', encoding='utf-8')"
   ]
  },
  {
   "cell_type": "code",
   "execution_count": 61,
   "metadata": {
    "collapsed": true
   },
   "outputs": [
    {
     "data": {
      "text/html": [
       "<div>\n",
       "<style>\n",
       "    .dataframe thead tr:only-child th {\n",
       "        text-align: right;\n",
       "    }\n",
       "\n",
       "    .dataframe thead th {\n",
       "        text-align: left;\n",
       "    }\n",
       "\n",
       "    .dataframe tbody tr th {\n",
       "        vertical-align: top;\n",
       "    }\n",
       "</style>\n",
       "<table border=\"1\" class=\"dataframe\">\n",
       "  <thead>\n",
       "    <tr style=\"text-align: right;\">\n",
       "      <th></th>\n",
       "      <th>act</th>\n",
       "      <th>dtype</th>\n",
       "      <th>name</th>\n",
       "      <th>null</th>\n",
       "      <th>unique</th>\n",
       "    </tr>\n",
       "  </thead>\n",
       "  <tbody>\n",
       "    <tr>\n",
       "      <th>0</th>\n",
       "      <td>2597810.0</td>\n",
       "      <td>int64</td>\n",
       "      <td>PURCHASE_FLG</td>\n",
       "      <td>0.0</td>\n",
       "      <td>2.0</td>\n",
       "    </tr>\n",
       "    <tr>\n",
       "      <th>1</th>\n",
       "      <td>2543993.0</td>\n",
       "      <td>datetime64[ns]</td>\n",
       "      <td>VIEW_DATE</td>\n",
       "      <td>53817.0</td>\n",
       "      <td>2361323.0</td>\n",
       "    </tr>\n",
       "    <tr>\n",
       "      <th>2</th>\n",
       "      <td>2597810.0</td>\n",
       "      <td>int64</td>\n",
       "      <td>PREF_in</td>\n",
       "      <td>0.0</td>\n",
       "      <td>2.0</td>\n",
       "    </tr>\n",
       "    <tr>\n",
       "      <th>3</th>\n",
       "      <td>963076.0</td>\n",
       "      <td>float64</td>\n",
       "      <td>distance</td>\n",
       "      <td>1634734.0</td>\n",
       "      <td>263.0</td>\n",
       "    </tr>\n",
       "    <tr>\n",
       "      <th>4</th>\n",
       "      <td>2597810.0</td>\n",
       "      <td>object</td>\n",
       "      <td>COUPON_ID_hash</td>\n",
       "      <td>0.0</td>\n",
       "      <td>19452.0</td>\n",
       "    </tr>\n",
       "    <tr>\n",
       "      <th>5</th>\n",
       "      <td>2597810.0</td>\n",
       "      <td>object</td>\n",
       "      <td>USER_ID_hash</td>\n",
       "      <td>0.0</td>\n",
       "      <td>22833.0</td>\n",
       "    </tr>\n",
       "    <tr>\n",
       "      <th>6</th>\n",
       "      <td>2597810.0</td>\n",
       "      <td>float64</td>\n",
       "      <td>VIEW</td>\n",
       "      <td>0.0</td>\n",
       "      <td>2.0</td>\n",
       "    </tr>\n",
       "    <tr>\n",
       "      <th>7</th>\n",
       "      <td>202252.0</td>\n",
       "      <td>float64</td>\n",
       "      <td>ITEM_COUNT</td>\n",
       "      <td>2395558.0</td>\n",
       "      <td>33.0</td>\n",
       "    </tr>\n",
       "    <tr>\n",
       "      <th>8</th>\n",
       "      <td>202252.0</td>\n",
       "      <td>datetime64[ns]</td>\n",
       "      <td>purchase_date</td>\n",
       "      <td>2395558.0</td>\n",
       "      <td>130310.0</td>\n",
       "    </tr>\n",
       "    <tr>\n",
       "      <th>9</th>\n",
       "      <td>202252.0</td>\n",
       "      <td>object</td>\n",
       "      <td>resid_small</td>\n",
       "      <td>2395558.0</td>\n",
       "      <td>56.0</td>\n",
       "    </tr>\n",
       "    <tr>\n",
       "      <th>10</th>\n",
       "      <td>202252.0</td>\n",
       "      <td>object</td>\n",
       "      <td>PURCHASEID_hash</td>\n",
       "      <td>2395558.0</td>\n",
       "      <td>168997.0</td>\n",
       "    </tr>\n",
       "    <tr>\n",
       "      <th>11</th>\n",
       "      <td>2597810.0</td>\n",
       "      <td>object</td>\n",
       "      <td>CAPSULE_TEXT</td>\n",
       "      <td>0.0</td>\n",
       "      <td>24.0</td>\n",
       "    </tr>\n",
       "    <tr>\n",
       "      <th>12</th>\n",
       "      <td>2597810.0</td>\n",
       "      <td>object</td>\n",
       "      <td>GENRE_NAME</td>\n",
       "      <td>0.0</td>\n",
       "      <td>13.0</td>\n",
       "    </tr>\n",
       "    <tr>\n",
       "      <th>13</th>\n",
       "      <td>2597810.0</td>\n",
       "      <td>float64</td>\n",
       "      <td>PRICE_RATE</td>\n",
       "      <td>0.0</td>\n",
       "      <td>71.0</td>\n",
       "    </tr>\n",
       "    <tr>\n",
       "      <th>14</th>\n",
       "      <td>2597810.0</td>\n",
       "      <td>float64</td>\n",
       "      <td>CATALOG_PRICE</td>\n",
       "      <td>0.0</td>\n",
       "      <td>2416.0</td>\n",
       "    </tr>\n",
       "    <tr>\n",
       "      <th>15</th>\n",
       "      <td>2597810.0</td>\n",
       "      <td>float64</td>\n",
       "      <td>DISCOUNT_PRICE</td>\n",
       "      <td>0.0</td>\n",
       "      <td>1115.0</td>\n",
       "    </tr>\n",
       "    <tr>\n",
       "      <th>16</th>\n",
       "      <td>2597810.0</td>\n",
       "      <td>datetime64[ns]</td>\n",
       "      <td>DISPFROM</td>\n",
       "      <td>0.0</td>\n",
       "      <td>380.0</td>\n",
       "    </tr>\n",
       "    <tr>\n",
       "      <th>17</th>\n",
       "      <td>2597810.0</td>\n",
       "      <td>datetime64[ns]</td>\n",
       "      <td>DISPEND</td>\n",
       "      <td>0.0</td>\n",
       "      <td>375.0</td>\n",
       "    </tr>\n",
       "    <tr>\n",
       "      <th>18</th>\n",
       "      <td>2597810.0</td>\n",
       "      <td>float64</td>\n",
       "      <td>DISPPERIOD</td>\n",
       "      <td>0.0</td>\n",
       "      <td>18.0</td>\n",
       "    </tr>\n",
       "    <tr>\n",
       "      <th>19</th>\n",
       "      <td>1804706.0</td>\n",
       "      <td>datetime64[ns]</td>\n",
       "      <td>VALIDFROM</td>\n",
       "      <td>793104.0</td>\n",
       "      <td>378.0</td>\n",
       "    </tr>\n",
       "    <tr>\n",
       "      <th>20</th>\n",
       "      <td>1804706.0</td>\n",
       "      <td>datetime64[ns]</td>\n",
       "      <td>VALIDEND</td>\n",
       "      <td>793104.0</td>\n",
       "      <td>516.0</td>\n",
       "    </tr>\n",
       "    <tr>\n",
       "      <th>21</th>\n",
       "      <td>2597810.0</td>\n",
       "      <td>float64</td>\n",
       "      <td>VALIDPERIOD</td>\n",
       "      <td>0.0</td>\n",
       "      <td>181.0</td>\n",
       "    </tr>\n",
       "    <tr>\n",
       "      <th>22</th>\n",
       "      <td>2597810.0</td>\n",
       "      <td>float64</td>\n",
       "      <td>USABLE_DATE_MON</td>\n",
       "      <td>0.0</td>\n",
       "      <td>2.0</td>\n",
       "    </tr>\n",
       "    <tr>\n",
       "      <th>23</th>\n",
       "      <td>2597810.0</td>\n",
       "      <td>float64</td>\n",
       "      <td>USABLE_DATE_TUE</td>\n",
       "      <td>0.0</td>\n",
       "      <td>2.0</td>\n",
       "    </tr>\n",
       "    <tr>\n",
       "      <th>24</th>\n",
       "      <td>2597810.0</td>\n",
       "      <td>float64</td>\n",
       "      <td>USABLE_DATE_WED</td>\n",
       "      <td>0.0</td>\n",
       "      <td>2.0</td>\n",
       "    </tr>\n",
       "    <tr>\n",
       "      <th>25</th>\n",
       "      <td>2597810.0</td>\n",
       "      <td>float64</td>\n",
       "      <td>USABLE_DATE_THU</td>\n",
       "      <td>0.0</td>\n",
       "      <td>2.0</td>\n",
       "    </tr>\n",
       "    <tr>\n",
       "      <th>26</th>\n",
       "      <td>2597810.0</td>\n",
       "      <td>float64</td>\n",
       "      <td>USABLE_DATE_FRI</td>\n",
       "      <td>0.0</td>\n",
       "      <td>2.0</td>\n",
       "    </tr>\n",
       "    <tr>\n",
       "      <th>27</th>\n",
       "      <td>2597810.0</td>\n",
       "      <td>float64</td>\n",
       "      <td>USABLE_DATE_SAT</td>\n",
       "      <td>0.0</td>\n",
       "      <td>2.0</td>\n",
       "    </tr>\n",
       "    <tr>\n",
       "      <th>28</th>\n",
       "      <td>2597810.0</td>\n",
       "      <td>float64</td>\n",
       "      <td>USABLE_DATE_SUN</td>\n",
       "      <td>0.0</td>\n",
       "      <td>2.0</td>\n",
       "    </tr>\n",
       "    <tr>\n",
       "      <th>29</th>\n",
       "      <td>2597810.0</td>\n",
       "      <td>float64</td>\n",
       "      <td>USABLE_DATE_HOLIDAY</td>\n",
       "      <td>0.0</td>\n",
       "      <td>2.0</td>\n",
       "    </tr>\n",
       "    <tr>\n",
       "      <th>30</th>\n",
       "      <td>2597810.0</td>\n",
       "      <td>float64</td>\n",
       "      <td>USABLE_DATE_BEFORE_HOLIDAY</td>\n",
       "      <td>0.0</td>\n",
       "      <td>2.0</td>\n",
       "    </tr>\n",
       "    <tr>\n",
       "      <th>31</th>\n",
       "      <td>2597810.0</td>\n",
       "      <td>object</td>\n",
       "      <td>spot_large</td>\n",
       "      <td>0.0</td>\n",
       "      <td>9.0</td>\n",
       "    </tr>\n",
       "    <tr>\n",
       "      <th>32</th>\n",
       "      <td>2597810.0</td>\n",
       "      <td>object</td>\n",
       "      <td>spot_pref</td>\n",
       "      <td>0.0</td>\n",
       "      <td>60.0</td>\n",
       "    </tr>\n",
       "    <tr>\n",
       "      <th>33</th>\n",
       "      <td>2597810.0</td>\n",
       "      <td>object</td>\n",
       "      <td>spot_small</td>\n",
       "      <td>0.0</td>\n",
       "      <td>55.0</td>\n",
       "    </tr>\n",
       "    <tr>\n",
       "      <th>34</th>\n",
       "      <td>2597810.0</td>\n",
       "      <td>object</td>\n",
       "      <td>Case</td>\n",
       "      <td>0.0</td>\n",
       "      <td>16.0</td>\n",
       "    </tr>\n",
       "    <tr>\n",
       "      <th>35</th>\n",
       "      <td>2597810.0</td>\n",
       "      <td>float64</td>\n",
       "      <td>Price</td>\n",
       "      <td>0.0</td>\n",
       "      <td>3082.0</td>\n",
       "    </tr>\n",
       "    <tr>\n",
       "      <th>36</th>\n",
       "      <td>2597810.0</td>\n",
       "      <td>float64</td>\n",
       "      <td>lnDPRICE</td>\n",
       "      <td>0.0</td>\n",
       "      <td>3082.0</td>\n",
       "    </tr>\n",
       "    <tr>\n",
       "      <th>37</th>\n",
       "      <td>2597810.0</td>\n",
       "      <td>float64</td>\n",
       "      <td>mDPRICE</td>\n",
       "      <td>0.0</td>\n",
       "      <td>16.0</td>\n",
       "    </tr>\n",
       "    <tr>\n",
       "      <th>38</th>\n",
       "      <td>2597810.0</td>\n",
       "      <td>float64</td>\n",
       "      <td>sDPRICE</td>\n",
       "      <td>0.0</td>\n",
       "      <td>16.0</td>\n",
       "    </tr>\n",
       "    <tr>\n",
       "      <th>39</th>\n",
       "      <td>2597810.0</td>\n",
       "      <td>float64</td>\n",
       "      <td>zprice</td>\n",
       "      <td>0.0</td>\n",
       "      <td>5618.0</td>\n",
       "    </tr>\n",
       "    <tr>\n",
       "      <th>40</th>\n",
       "      <td>2597810.0</td>\n",
       "      <td>int64</td>\n",
       "      <td>SEX_ID</td>\n",
       "      <td>0.0</td>\n",
       "      <td>2.0</td>\n",
       "    </tr>\n",
       "    <tr>\n",
       "      <th>41</th>\n",
       "      <td>2597810.0</td>\n",
       "      <td>int64</td>\n",
       "      <td>AGE</td>\n",
       "      <td>0.0</td>\n",
       "      <td>66.0</td>\n",
       "    </tr>\n",
       "    <tr>\n",
       "      <th>42</th>\n",
       "      <td>2096291.0</td>\n",
       "      <td>object</td>\n",
       "      <td>user_pref</td>\n",
       "      <td>501519.0</td>\n",
       "      <td>48.0</td>\n",
       "    </tr>\n",
       "  </tbody>\n",
       "</table>\n",
       "</div>"
      ],
      "text/plain": [
       "          act           dtype                        name       null  \\\n",
       "0   2597810.0           int64                PURCHASE_FLG        0.0   \n",
       "1   2543993.0  datetime64[ns]                   VIEW_DATE    53817.0   \n",
       "2   2597810.0           int64                     PREF_in        0.0   \n",
       "3    963076.0         float64                    distance  1634734.0   \n",
       "4   2597810.0          object              COUPON_ID_hash        0.0   \n",
       "5   2597810.0          object                USER_ID_hash        0.0   \n",
       "6   2597810.0         float64                        VIEW        0.0   \n",
       "7    202252.0         float64                  ITEM_COUNT  2395558.0   \n",
       "8    202252.0  datetime64[ns]               purchase_date  2395558.0   \n",
       "9    202252.0          object                 resid_small  2395558.0   \n",
       "10   202252.0          object             PURCHASEID_hash  2395558.0   \n",
       "11  2597810.0          object                CAPSULE_TEXT        0.0   \n",
       "12  2597810.0          object                  GENRE_NAME        0.0   \n",
       "13  2597810.0         float64                  PRICE_RATE        0.0   \n",
       "14  2597810.0         float64               CATALOG_PRICE        0.0   \n",
       "15  2597810.0         float64              DISCOUNT_PRICE        0.0   \n",
       "16  2597810.0  datetime64[ns]                    DISPFROM        0.0   \n",
       "17  2597810.0  datetime64[ns]                     DISPEND        0.0   \n",
       "18  2597810.0         float64                  DISPPERIOD        0.0   \n",
       "19  1804706.0  datetime64[ns]                   VALIDFROM   793104.0   \n",
       "20  1804706.0  datetime64[ns]                    VALIDEND   793104.0   \n",
       "21  2597810.0         float64                 VALIDPERIOD        0.0   \n",
       "22  2597810.0         float64             USABLE_DATE_MON        0.0   \n",
       "23  2597810.0         float64             USABLE_DATE_TUE        0.0   \n",
       "24  2597810.0         float64             USABLE_DATE_WED        0.0   \n",
       "25  2597810.0         float64             USABLE_DATE_THU        0.0   \n",
       "26  2597810.0         float64             USABLE_DATE_FRI        0.0   \n",
       "27  2597810.0         float64             USABLE_DATE_SAT        0.0   \n",
       "28  2597810.0         float64             USABLE_DATE_SUN        0.0   \n",
       "29  2597810.0         float64         USABLE_DATE_HOLIDAY        0.0   \n",
       "30  2597810.0         float64  USABLE_DATE_BEFORE_HOLIDAY        0.0   \n",
       "31  2597810.0          object                  spot_large        0.0   \n",
       "32  2597810.0          object                   spot_pref        0.0   \n",
       "33  2597810.0          object                  spot_small        0.0   \n",
       "34  2597810.0          object                        Case        0.0   \n",
       "35  2597810.0         float64                       Price        0.0   \n",
       "36  2597810.0         float64                    lnDPRICE        0.0   \n",
       "37  2597810.0         float64                     mDPRICE        0.0   \n",
       "38  2597810.0         float64                     sDPRICE        0.0   \n",
       "39  2597810.0         float64                      zprice        0.0   \n",
       "40  2597810.0           int64                      SEX_ID        0.0   \n",
       "41  2597810.0           int64                         AGE        0.0   \n",
       "42  2096291.0          object                   user_pref   501519.0   \n",
       "\n",
       "       unique  \n",
       "0         2.0  \n",
       "1   2361323.0  \n",
       "2         2.0  \n",
       "3       263.0  \n",
       "4     19452.0  \n",
       "5     22833.0  \n",
       "6         2.0  \n",
       "7        33.0  \n",
       "8    130310.0  \n",
       "9        56.0  \n",
       "10   168997.0  \n",
       "11       24.0  \n",
       "12       13.0  \n",
       "13       71.0  \n",
       "14     2416.0  \n",
       "15     1115.0  \n",
       "16      380.0  \n",
       "17      375.0  \n",
       "18       18.0  \n",
       "19      378.0  \n",
       "20      516.0  \n",
       "21      181.0  \n",
       "22        2.0  \n",
       "23        2.0  \n",
       "24        2.0  \n",
       "25        2.0  \n",
       "26        2.0  \n",
       "27        2.0  \n",
       "28        2.0  \n",
       "29        2.0  \n",
       "30        2.0  \n",
       "31        9.0  \n",
       "32       60.0  \n",
       "33       55.0  \n",
       "34       16.0  \n",
       "35     3082.0  \n",
       "36     3082.0  \n",
       "37       16.0  \n",
       "38       16.0  \n",
       "39     5618.0  \n",
       "40        2.0  \n",
       "41       66.0  \n",
       "42       48.0  "
      ]
     },
     "execution_count": 61,
     "metadata": {},
     "output_type": "execute_result"
    }
   ],
   "source": [
    "summary_table(proba)"
   ]
  },
  {
   "cell_type": "code",
   "execution_count": 63,
   "metadata": {},
   "outputs": [],
   "source": [
    "result3 = pd.DataFrame(proba1.groupby('spot_pref')['PURCHASE_FLG'].count())\n",
    "result3['구매수'] = proba1.groupby('spot_pref')['PURCHASE_FLG'].sum()\n",
    "\n",
    "result3.rename(columns={'PURCHASE_FLG':'총개수'}, inplace=True)\n",
    "\n",
    "result3['proba_spot_pref'] = result3['구매수'] / result3['총개수'] * 100"
   ]
  },
  {
   "cell_type": "code",
   "execution_count": 64,
   "metadata": {
    "collapsed": true
   },
   "outputs": [
    {
     "data": {
      "text/html": [
       "<div>\n",
       "<style>\n",
       "    .dataframe thead tr:only-child th {\n",
       "        text-align: right;\n",
       "    }\n",
       "\n",
       "    .dataframe thead th {\n",
       "        text-align: left;\n",
       "    }\n",
       "\n",
       "    .dataframe tbody tr th {\n",
       "        vertical-align: top;\n",
       "    }\n",
       "</style>\n",
       "<table border=\"1\" class=\"dataframe\">\n",
       "  <thead>\n",
       "    <tr style=\"text-align: right;\">\n",
       "      <th></th>\n",
       "      <th>총개수</th>\n",
       "      <th>구매수</th>\n",
       "      <th>proba_spot_pref</th>\n",
       "    </tr>\n",
       "    <tr>\n",
       "      <th>spot_pref</th>\n",
       "      <th></th>\n",
       "      <th></th>\n",
       "      <th></th>\n",
       "    </tr>\n",
       "  </thead>\n",
       "  <tbody>\n",
       "    <tr>\n",
       "      <th>Aichi</th>\n",
       "      <td>80193</td>\n",
       "      <td>5913</td>\n",
       "      <td>7.373462</td>\n",
       "    </tr>\n",
       "    <tr>\n",
       "      <th>Aichi Prefecture</th>\n",
       "      <td>13</td>\n",
       "      <td>0</td>\n",
       "      <td>0.000000</td>\n",
       "    </tr>\n",
       "    <tr>\n",
       "      <th>Akita</th>\n",
       "      <td>6076</td>\n",
       "      <td>673</td>\n",
       "      <td>11.076366</td>\n",
       "    </tr>\n",
       "    <tr>\n",
       "      <th>Aomori</th>\n",
       "      <td>5888</td>\n",
       "      <td>465</td>\n",
       "      <td>7.897418</td>\n",
       "    </tr>\n",
       "    <tr>\n",
       "      <th>Chiba</th>\n",
       "      <td>56373</td>\n",
       "      <td>4789</td>\n",
       "      <td>8.495202</td>\n",
       "    </tr>\n",
       "    <tr>\n",
       "      <th>Chiba Prefecture</th>\n",
       "      <td>81</td>\n",
       "      <td>0</td>\n",
       "      <td>0.000000</td>\n",
       "    </tr>\n",
       "    <tr>\n",
       "      <th>Ehime</th>\n",
       "      <td>8640</td>\n",
       "      <td>660</td>\n",
       "      <td>7.638889</td>\n",
       "    </tr>\n",
       "    <tr>\n",
       "      <th>Fukui</th>\n",
       "      <td>7955</td>\n",
       "      <td>239</td>\n",
       "      <td>3.004400</td>\n",
       "    </tr>\n",
       "    <tr>\n",
       "      <th>Fukuoka</th>\n",
       "      <td>86129</td>\n",
       "      <td>7301</td>\n",
       "      <td>8.476820</td>\n",
       "    </tr>\n",
       "    <tr>\n",
       "      <th>Fukuoka Prefecture</th>\n",
       "      <td>26</td>\n",
       "      <td>0</td>\n",
       "      <td>0.000000</td>\n",
       "    </tr>\n",
       "    <tr>\n",
       "      <th>Fukushima</th>\n",
       "      <td>12147</td>\n",
       "      <td>543</td>\n",
       "      <td>4.470240</td>\n",
       "    </tr>\n",
       "    <tr>\n",
       "      <th>Gifu</th>\n",
       "      <td>22005</td>\n",
       "      <td>1498</td>\n",
       "      <td>6.807544</td>\n",
       "    </tr>\n",
       "    <tr>\n",
       "      <th>Gunma</th>\n",
       "      <td>20143</td>\n",
       "      <td>861</td>\n",
       "      <td>4.274438</td>\n",
       "    </tr>\n",
       "    <tr>\n",
       "      <th>Gunma Prefecture</th>\n",
       "      <td>47</td>\n",
       "      <td>0</td>\n",
       "      <td>0.000000</td>\n",
       "    </tr>\n",
       "    <tr>\n",
       "      <th>Hiroshima</th>\n",
       "      <td>18514</td>\n",
       "      <td>1533</td>\n",
       "      <td>8.280220</td>\n",
       "    </tr>\n",
       "    <tr>\n",
       "      <th>Hokkaido</th>\n",
       "      <td>87379</td>\n",
       "      <td>7677</td>\n",
       "      <td>8.785864</td>\n",
       "    </tr>\n",
       "    <tr>\n",
       "      <th>Hyogo</th>\n",
       "      <td>100679</td>\n",
       "      <td>6870</td>\n",
       "      <td>6.823667</td>\n",
       "    </tr>\n",
       "    <tr>\n",
       "      <th>Hyogo Prefecture</th>\n",
       "      <td>81</td>\n",
       "      <td>0</td>\n",
       "      <td>0.000000</td>\n",
       "    </tr>\n",
       "    <tr>\n",
       "      <th>Ibaraki</th>\n",
       "      <td>1773</td>\n",
       "      <td>124</td>\n",
       "      <td>6.993796</td>\n",
       "    </tr>\n",
       "    <tr>\n",
       "      <th>Ishikawa</th>\n",
       "      <td>14853</td>\n",
       "      <td>561</td>\n",
       "      <td>3.777015</td>\n",
       "    </tr>\n",
       "    <tr>\n",
       "      <th>Iwate</th>\n",
       "      <td>7924</td>\n",
       "      <td>427</td>\n",
       "      <td>5.388693</td>\n",
       "    </tr>\n",
       "    <tr>\n",
       "      <th>Kagawa</th>\n",
       "      <td>10574</td>\n",
       "      <td>906</td>\n",
       "      <td>8.568186</td>\n",
       "    </tr>\n",
       "    <tr>\n",
       "      <th>Kagoshima</th>\n",
       "      <td>8638</td>\n",
       "      <td>726</td>\n",
       "      <td>8.404723</td>\n",
       "    </tr>\n",
       "    <tr>\n",
       "      <th>Kanagawa</th>\n",
       "      <td>195448</td>\n",
       "      <td>14491</td>\n",
       "      <td>7.414248</td>\n",
       "    </tr>\n",
       "    <tr>\n",
       "      <th>Kanagawa Prefecture</th>\n",
       "      <td>36</td>\n",
       "      <td>0</td>\n",
       "      <td>0.000000</td>\n",
       "    </tr>\n",
       "    <tr>\n",
       "      <th>Kochi</th>\n",
       "      <td>2005</td>\n",
       "      <td>132</td>\n",
       "      <td>6.583541</td>\n",
       "    </tr>\n",
       "    <tr>\n",
       "      <th>Kochi Prefecture</th>\n",
       "      <td>1</td>\n",
       "      <td>0</td>\n",
       "      <td>0.000000</td>\n",
       "    </tr>\n",
       "    <tr>\n",
       "      <th>Kumamoto</th>\n",
       "      <td>19945</td>\n",
       "      <td>922</td>\n",
       "      <td>4.622712</td>\n",
       "    </tr>\n",
       "    <tr>\n",
       "      <th>Kyoto</th>\n",
       "      <td>53042</td>\n",
       "      <td>2999</td>\n",
       "      <td>5.654010</td>\n",
       "    </tr>\n",
       "    <tr>\n",
       "      <th>Mie</th>\n",
       "      <td>22787</td>\n",
       "      <td>637</td>\n",
       "      <td>2.795454</td>\n",
       "    </tr>\n",
       "    <tr>\n",
       "      <th>Miyagi</th>\n",
       "      <td>29629</td>\n",
       "      <td>2149</td>\n",
       "      <td>7.253029</td>\n",
       "    </tr>\n",
       "    <tr>\n",
       "      <th>Miyagi Prefecture</th>\n",
       "      <td>17</td>\n",
       "      <td>0</td>\n",
       "      <td>0.000000</td>\n",
       "    </tr>\n",
       "    <tr>\n",
       "      <th>Miyazaki</th>\n",
       "      <td>6142</td>\n",
       "      <td>653</td>\n",
       "      <td>10.631716</td>\n",
       "    </tr>\n",
       "    <tr>\n",
       "      <th>Nagano</th>\n",
       "      <td>50234</td>\n",
       "      <td>1881</td>\n",
       "      <td>3.744476</td>\n",
       "    </tr>\n",
       "    <tr>\n",
       "      <th>Nagasaki</th>\n",
       "      <td>15484</td>\n",
       "      <td>641</td>\n",
       "      <td>4.139757</td>\n",
       "    </tr>\n",
       "    <tr>\n",
       "      <th>Nagasaki Prefecture</th>\n",
       "      <td>8</td>\n",
       "      <td>0</td>\n",
       "      <td>0.000000</td>\n",
       "    </tr>\n",
       "    <tr>\n",
       "      <th>Nara</th>\n",
       "      <td>9739</td>\n",
       "      <td>813</td>\n",
       "      <td>8.347880</td>\n",
       "    </tr>\n",
       "    <tr>\n",
       "      <th>Niigata</th>\n",
       "      <td>15277</td>\n",
       "      <td>1603</td>\n",
       "      <td>10.492898</td>\n",
       "    </tr>\n",
       "    <tr>\n",
       "      <th>Oita</th>\n",
       "      <td>22131</td>\n",
       "      <td>966</td>\n",
       "      <td>4.364918</td>\n",
       "    </tr>\n",
       "    <tr>\n",
       "      <th>Oita Prefecture</th>\n",
       "      <td>18</td>\n",
       "      <td>0</td>\n",
       "      <td>0.000000</td>\n",
       "    </tr>\n",
       "    <tr>\n",
       "      <th>Okayama</th>\n",
       "      <td>21498</td>\n",
       "      <td>1062</td>\n",
       "      <td>4.939994</td>\n",
       "    </tr>\n",
       "    <tr>\n",
       "      <th>Okinawa</th>\n",
       "      <td>20541</td>\n",
       "      <td>1425</td>\n",
       "      <td>6.937345</td>\n",
       "    </tr>\n",
       "    <tr>\n",
       "      <th>Osaka</th>\n",
       "      <td>326176</td>\n",
       "      <td>26296</td>\n",
       "      <td>8.061905</td>\n",
       "    </tr>\n",
       "    <tr>\n",
       "      <th>Osaka prefecture</th>\n",
       "      <td>94</td>\n",
       "      <td>0</td>\n",
       "      <td>0.000000</td>\n",
       "    </tr>\n",
       "    <tr>\n",
       "      <th>Saga</th>\n",
       "      <td>6909</td>\n",
       "      <td>373</td>\n",
       "      <td>5.398755</td>\n",
       "    </tr>\n",
       "    <tr>\n",
       "      <th>Saitama</th>\n",
       "      <td>57808</td>\n",
       "      <td>4841</td>\n",
       "      <td>8.374273</td>\n",
       "    </tr>\n",
       "    <tr>\n",
       "      <th>Saitama Prefecture</th>\n",
       "      <td>19</td>\n",
       "      <td>0</td>\n",
       "      <td>0.000000</td>\n",
       "    </tr>\n",
       "    <tr>\n",
       "      <th>Shiga</th>\n",
       "      <td>13425</td>\n",
       "      <td>853</td>\n",
       "      <td>6.353818</td>\n",
       "    </tr>\n",
       "    <tr>\n",
       "      <th>Shimane</th>\n",
       "      <td>3141</td>\n",
       "      <td>129</td>\n",
       "      <td>4.106972</td>\n",
       "    </tr>\n",
       "    <tr>\n",
       "      <th>Shizuoka</th>\n",
       "      <td>61368</td>\n",
       "      <td>2718</td>\n",
       "      <td>4.429018</td>\n",
       "    </tr>\n",
       "    <tr>\n",
       "      <th>Tochigi</th>\n",
       "      <td>19889</td>\n",
       "      <td>1034</td>\n",
       "      <td>5.198854</td>\n",
       "    </tr>\n",
       "    <tr>\n",
       "      <th>Tokushima</th>\n",
       "      <td>4137</td>\n",
       "      <td>204</td>\n",
       "      <td>4.931109</td>\n",
       "    </tr>\n",
       "    <tr>\n",
       "      <th>Tokyo</th>\n",
       "      <td>1014906</td>\n",
       "      <td>91560</td>\n",
       "      <td>9.021525</td>\n",
       "    </tr>\n",
       "    <tr>\n",
       "      <th>Tottori</th>\n",
       "      <td>2549</td>\n",
       "      <td>140</td>\n",
       "      <td>5.492350</td>\n",
       "    </tr>\n",
       "    <tr>\n",
       "      <th>Toyama</th>\n",
       "      <td>6779</td>\n",
       "      <td>263</td>\n",
       "      <td>3.879628</td>\n",
       "    </tr>\n",
       "    <tr>\n",
       "      <th>Wakayama</th>\n",
       "      <td>9658</td>\n",
       "      <td>412</td>\n",
       "      <td>4.265894</td>\n",
       "    </tr>\n",
       "    <tr>\n",
       "      <th>Yamagata</th>\n",
       "      <td>8380</td>\n",
       "      <td>411</td>\n",
       "      <td>4.904535</td>\n",
       "    </tr>\n",
       "    <tr>\n",
       "      <th>Yamaguchi</th>\n",
       "      <td>9559</td>\n",
       "      <td>457</td>\n",
       "      <td>4.780835</td>\n",
       "    </tr>\n",
       "    <tr>\n",
       "      <th>Yamanashi</th>\n",
       "      <td>12885</td>\n",
       "      <td>421</td>\n",
       "      <td>3.267365</td>\n",
       "    </tr>\n",
       "    <tr>\n",
       "      <th>Yamanashi Prefecture</th>\n",
       "      <td>15</td>\n",
       "      <td>0</td>\n",
       "      <td>0.000000</td>\n",
       "    </tr>\n",
       "  </tbody>\n",
       "</table>\n",
       "</div>"
      ],
      "text/plain": [
       "                          총개수    구매수  proba_spot_pref\n",
       "spot_pref                                            \n",
       "Aichi                   80193   5913         7.373462\n",
       "Aichi Prefecture           13      0         0.000000\n",
       "Akita                    6076    673        11.076366\n",
       "Aomori                   5888    465         7.897418\n",
       "Chiba                   56373   4789         8.495202\n",
       "Chiba Prefecture           81      0         0.000000\n",
       "Ehime                    8640    660         7.638889\n",
       "Fukui                    7955    239         3.004400\n",
       "Fukuoka                 86129   7301         8.476820\n",
       "Fukuoka Prefecture         26      0         0.000000\n",
       "Fukushima               12147    543         4.470240\n",
       "Gifu                    22005   1498         6.807544\n",
       "Gunma                   20143    861         4.274438\n",
       "Gunma Prefecture           47      0         0.000000\n",
       "Hiroshima               18514   1533         8.280220\n",
       "Hokkaido                87379   7677         8.785864\n",
       "Hyogo                  100679   6870         6.823667\n",
       "Hyogo Prefecture           81      0         0.000000\n",
       "Ibaraki                  1773    124         6.993796\n",
       "Ishikawa                14853    561         3.777015\n",
       "Iwate                    7924    427         5.388693\n",
       "Kagawa                  10574    906         8.568186\n",
       "Kagoshima                8638    726         8.404723\n",
       "Kanagawa               195448  14491         7.414248\n",
       "Kanagawa Prefecture        36      0         0.000000\n",
       "Kochi                    2005    132         6.583541\n",
       "Kochi Prefecture            1      0         0.000000\n",
       "Kumamoto                19945    922         4.622712\n",
       "Kyoto                   53042   2999         5.654010\n",
       "Mie                     22787    637         2.795454\n",
       "Miyagi                  29629   2149         7.253029\n",
       "Miyagi Prefecture          17      0         0.000000\n",
       "Miyazaki                 6142    653        10.631716\n",
       "Nagano                  50234   1881         3.744476\n",
       "Nagasaki                15484    641         4.139757\n",
       "Nagasaki Prefecture         8      0         0.000000\n",
       "Nara                     9739    813         8.347880\n",
       "Niigata                 15277   1603        10.492898\n",
       "Oita                    22131    966         4.364918\n",
       "Oita Prefecture            18      0         0.000000\n",
       "Okayama                 21498   1062         4.939994\n",
       "Okinawa                 20541   1425         6.937345\n",
       "Osaka                  326176  26296         8.061905\n",
       "Osaka prefecture           94      0         0.000000\n",
       "Saga                     6909    373         5.398755\n",
       "Saitama                 57808   4841         8.374273\n",
       "Saitama Prefecture         19      0         0.000000\n",
       "Shiga                   13425    853         6.353818\n",
       "Shimane                  3141    129         4.106972\n",
       "Shizuoka                61368   2718         4.429018\n",
       "Tochigi                 19889   1034         5.198854\n",
       "Tokushima                4137    204         4.931109\n",
       "Tokyo                 1014906  91560         9.021525\n",
       "Tottori                  2549    140         5.492350\n",
       "Toyama                   6779    263         3.879628\n",
       "Wakayama                 9658    412         4.265894\n",
       "Yamagata                 8380    411         4.904535\n",
       "Yamaguchi                9559    457         4.780835\n",
       "Yamanashi               12885    421         3.267365\n",
       "Yamanashi Prefecture       15      0         0.000000"
      ]
     },
     "execution_count": 64,
     "metadata": {},
     "output_type": "execute_result"
    }
   ],
   "source": [
    "result3"
   ]
  },
  {
   "cell_type": "code",
   "execution_count": 66,
   "metadata": {},
   "outputs": [],
   "source": [
    "result3.to_csv('proba_location', encoding='utf-8')"
   ]
  },
  {
   "cell_type": "markdown",
   "metadata": {},
   "source": [
    "### visit proba"
   ]
  },
  {
   "cell_type": "code",
   "execution_count": 364,
   "metadata": {},
   "outputs": [],
   "source": [
    "ls1 = ['PURCHASE_FLG', 'GENRE_NAME', 'Case','spot_pref','VIEW']\n",
    "proba1 = proba.filter(ls1)"
   ]
  },
  {
   "cell_type": "code",
   "execution_count": 365,
   "metadata": {},
   "outputs": [],
   "source": [
    "result4 = pd.DataFrame(proba1.groupby('GENRE_NAME')['VIEW'].count())\n",
    "result4['구매수'] = proba1.groupby('GENRE_NAME')['VIEW'].sum()\n",
    "\n",
    "result4.rename(columns={'VIEW':'총개수'}, inplace=True)\n",
    "\n",
    "result4['visit_proba_GENRE_NAME'] = result4['구매수'] / result4['총개수'] * 100\n",
    "\n",
    "result4.to_csv('visit_proba_genre', encoding='utf-8')"
   ]
  },
  {
   "cell_type": "code",
   "execution_count": 366,
   "metadata": {},
   "outputs": [],
   "source": [
    "result5 = pd.DataFrame(proba1.groupby('Case')['VIEW'].count())\n",
    "result5['구매수'] = proba1.groupby('Case')['VIEW'].sum()\n",
    "\n",
    "result5.rename(columns={'VIEW':'총개수'}, inplace=True)\n",
    "\n",
    "result5['visit_proba_case'] = result5['구매수'] / result5['총개수'] * 100\n",
    "\n",
    "result5.to_csv('visit_proba_case', encoding='utf-8')"
   ]
  },
  {
   "cell_type": "code",
   "execution_count": 367,
   "metadata": {},
   "outputs": [],
   "source": [
    "result6 = pd.DataFrame(proba1.groupby('spot_pref')['VIEW'].count())\n",
    "result6['구매수'] = proba1.groupby('spot_pref')['VIEW'].sum()\n",
    "\n",
    "result6.rename(columns={'VIEW':'총개수'}, inplace=True)\n",
    "\n",
    "result6['visit_proba_spot_pref'] = result6['구매수'] / result6['총개수'] * 100\n",
    "\n",
    "result6.to_csv('visit_proba_spot_pref', encoding='utf-8')"
   ]
  },
  {
   "cell_type": "code",
   "execution_count": null,
   "metadata": {},
   "outputs": [],
   "source": []
  }
 ],
 "metadata": {
  "kernelspec": {
   "display_name": "Python 3",
   "language": "python",
   "name": "python3"
  },
  "language_info": {
   "codemirror_mode": {
    "name": "ipython",
    "version": 3
   },
   "file_extension": ".py",
   "mimetype": "text/x-python",
   "name": "python",
   "nbconvert_exporter": "python",
   "pygments_lexer": "ipython3",
   "version": "3.5.2"
  }
 },
 "nbformat": 4,
 "nbformat_minor": 2
}
