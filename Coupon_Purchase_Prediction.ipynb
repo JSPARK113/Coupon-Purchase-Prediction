{
 "cells": [
  {
   "cell_type": "markdown",
   "metadata": {},
   "source": [
    "# 프로젝트: COUPON PURCHASE PREDICTION\n",
    "## 팀 COUPANG \n",
    "\n",
    "# 목차\n",
    "## 1. 프로젝트 개요\n",
    "## 2. Preprocessing\n",
    "## 3. EDA & feature selection\n",
    "## 4. 모델링\n",
    "##  5. 예측 및 제출"
   ]
  },
  {
   "cell_type": "markdown",
   "metadata": {},
   "source": [
    "## 1. 프로젝트 개요\n",
    "    1-1) 내용: 고객의 패턴(방문, 구매 내역 등)을 파악하여 해당 고객이 어떤 쿠폰을 구매할지(고객당 10개) 예측\n",
    "    1-2) 홈페이지: https://ponpare.jp/\n",
    "    1-3) 데이터 set: 아래 데이터 불러오기 참조\n",
    "    1-4) 참가자수: 1076명\n",
    "    1-5) 평가 기준: Mean Average Precision @ 10 (MAP@10)"
   ]
  },
  {
   "cell_type": "markdown",
   "metadata": {},
   "source": [
    "![image.png](./image/image.png)"
   ]
  },
  {
   "cell_type": "markdown",
   "metadata": {},
   "source": [
    "    1-6) 수단: cosine similarity\n",
    "    1-7) 최종 성적: 0.006201, 76 / 1076 (상위 7%)"
   ]
  },
  {
   "cell_type": "markdown",
   "metadata": {},
   "source": [
    "### IMPORT"
   ]
  },
  {
   "cell_type": "code",
   "execution_count": 1,
   "metadata": {},
   "outputs": [],
   "source": [
    "import warnings\n",
    "warnings.filterwarnings('ignore')"
   ]
  },
  {
   "cell_type": "code",
   "execution_count": 2,
   "metadata": {},
   "outputs": [],
   "source": [
    "# from tqdm import tqdm\n",
    "import numpy as np\n",
    "import pandas as pd\n",
    "import math\n",
    "import datetime as dt\n",
    "import matplotlib as mpl\n",
    "import matplotlib.pylab as plt\n",
    "from mpl_toolkits.mplot3d import Axes3D\n",
    "%matplotlib inline\n",
    "mpl.use('Agg')\n",
    "import seaborn as sns\n",
    "import sklearn as sk\n",
    "from sklearn.preprocessing import *\n",
    "from scipy import spatial"
   ]
  },
  {
   "cell_type": "code",
   "execution_count": 3,
   "metadata": {},
   "outputs": [],
   "source": [
    "# 테이블 현황 파악을 위한 함수 \n",
    "def summary_table(table):\n",
    "    df = pd.DataFrame()\n",
    "    for i in table.columns:\n",
    "        name = i\n",
    "        dtype = table[i].dtype.name\n",
    "        null = table[i].isnull().sum()\n",
    "        act = table.shape[0] - null\n",
    "        unique = len(table[i].unique())\n",
    "        data = {'name': name, 'dtype': dtype, 'null': null, 'act': act, 'unique': unique}\n",
    "        df = df.append(data, ignore_index=True)\n",
    "    return df"
   ]
  },
  {
   "cell_type": "markdown",
   "metadata": {},
   "source": [
    "### 데이터 불러오기: 일본어는 영어로 번역, 지역에 Prefecture가 붙은 지명은 Prefecture 제외"
   ]
  },
  {
   "cell_type": "code",
   "execution_count": 4,
   "metadata": {},
   "outputs": [],
   "source": [
    "# base data\n",
    "location = pd.read_csv('coupon_data_project2/prefecture_locations_translated_en.csv') # 지역 위치 정보(위도/경도): 47rows * 4columns \n",
    "user_list = pd.read_csv('coupon_data_project2/user_list_translated_en.csv', \n",
    "                        parse_dates=['WITHDRAW_DATE', 'REG_DATE']) # user 정보: 22,873 rows * 6columns\n",
    "\n",
    "# train\n",
    "detail_train = pd.read_csv('coupon_data_project2/coupon_detail_train_translated_en.csv', \n",
    "                           parse_dates=['I_DATE'])  # 쿠폰 구매 내역: 168,996rows * 6columns\n",
    "\n",
    "visit_train = pd.read_csv('coupon_data_project2/coupon_visit_train.csv',\n",
    "                          parse_dates=['I_DATE']) # 쿠폰 조회 내역: 2,833,180rows * 8 columns\n",
    "\n",
    "area_train = pd.read_csv('coupon_data_project2/coupon_area_train_translated_en.csv') # 쿠폰 사용 가능 지역: 138,185rows * 3 columns\n",
    "\n",
    "coupon_list_train = pd.read_csv('coupon_data_project2/coupon_list_train_translated_en.csv', \n",
    "                                parse_dates=['DISPFROM', 'DISPEND', 'VALIDFROM', 'VALIDEND']) # 쿠폰 리스트: 19,413rows * 24 columns\n",
    "\n",
    "\n",
    "# test data\n",
    "area_test = pd.read_csv('coupon_data_project2/coupon_area_test_translated_en.csv') # 쿠폰 사용 가능 지역: 2,165 rows * 3 columns\n",
    "coupon_list_test = pd.read_csv('coupon_data_project2/coupon_list_test_translated_en.csv',\n",
    "                               parse_dates=['DISPFROM', 'DISPEND', 'VALIDFROM', 'VALIDEND']) # 쿠폰 리스트: 310 rows * 24columns\n",
    "\n",
    "# submisiion\n",
    "submission = pd.read_csv('coupon_data_project2/sample_submission.csv') # 제출 자료: 22,873 rows * 2 columns"
   ]
  },
  {
   "cell_type": "markdown",
   "metadata": {},
   "source": [
    "--------------------------------------------------------------------------------------------------------\n",
    "--------------------------------------------------------------------------------------------------------\n",
    "## 2. Preprocessing\n",
    "--------------------------------------------------------------------------------------------------------\n",
    "--------------------------------------------------------------------------------------------------------\n"
   ]
  },
  {
   "cell_type": "markdown",
   "metadata": {},
   "source": [
    "### 2-1. detail_train : 쿠폰 구매 내역: 168,996rows * 6columns\n",
    "--------------------------------------------------------------------------------------------------------\n",
    "- I_DATE: 구매한 날짜\n",
    "- ITEM_COUNT: 구매한 제품 갯수\n",
    "- COUPON_ID_hash: COUPON number\n",
    "- PURCHASEID_hash: 구매 번호\n",
    "- SMALL_AREA_NAME: 고객 거주지역(소단위)\n",
    "- USER_ID_hash: USER ID"
   ]
  },
  {
   "cell_type": "code",
   "execution_count": 4,
   "metadata": {},
   "outputs": [
    {
     "data": {
      "text/html": [
       "<div>\n",
       "<style scoped>\n",
       "    .dataframe tbody tr th:only-of-type {\n",
       "        vertical-align: middle;\n",
       "    }\n",
       "\n",
       "    .dataframe tbody tr th {\n",
       "        vertical-align: top;\n",
       "    }\n",
       "\n",
       "    .dataframe thead th {\n",
       "        text-align: right;\n",
       "    }\n",
       "</style>\n",
       "<table border=\"1\" class=\"dataframe\">\n",
       "  <thead>\n",
       "    <tr style=\"text-align: right;\">\n",
       "      <th></th>\n",
       "      <th></th>\n",
       "      <th>act</th>\n",
       "      <th>null</th>\n",
       "      <th>unique</th>\n",
       "    </tr>\n",
       "    <tr>\n",
       "      <th>dtype</th>\n",
       "      <th>name</th>\n",
       "      <th></th>\n",
       "      <th></th>\n",
       "      <th></th>\n",
       "    </tr>\n",
       "  </thead>\n",
       "  <tbody>\n",
       "    <tr>\n",
       "      <th>datetime64[ns]</th>\n",
       "      <th>I_DATE</th>\n",
       "      <td>168996.0</td>\n",
       "      <td>0.0</td>\n",
       "      <td>130309.0</td>\n",
       "    </tr>\n",
       "    <tr>\n",
       "      <th>int64</th>\n",
       "      <th>ITEM_COUNT</th>\n",
       "      <td>168996.0</td>\n",
       "      <td>0.0</td>\n",
       "      <td>32.0</td>\n",
       "    </tr>\n",
       "    <tr>\n",
       "      <th rowspan=\"4\" valign=\"top\">object</th>\n",
       "      <th>COUPON_ID_hash</th>\n",
       "      <td>168996.0</td>\n",
       "      <td>0.0</td>\n",
       "      <td>19368.0</td>\n",
       "    </tr>\n",
       "    <tr>\n",
       "      <th>PURCHASEID_hash</th>\n",
       "      <td>168996.0</td>\n",
       "      <td>0.0</td>\n",
       "      <td>168996.0</td>\n",
       "    </tr>\n",
       "    <tr>\n",
       "      <th>SMALL_AREA_NAME</th>\n",
       "      <td>168996.0</td>\n",
       "      <td>0.0</td>\n",
       "      <td>55.0</td>\n",
       "    </tr>\n",
       "    <tr>\n",
       "      <th>USER_ID_hash</th>\n",
       "      <td>168996.0</td>\n",
       "      <td>0.0</td>\n",
       "      <td>22782.0</td>\n",
       "    </tr>\n",
       "  </tbody>\n",
       "</table>\n",
       "</div>"
      ],
      "text/plain": [
       "                                     act  null    unique\n",
       "dtype          name                                     \n",
       "datetime64[ns] I_DATE           168996.0   0.0  130309.0\n",
       "int64          ITEM_COUNT       168996.0   0.0      32.0\n",
       "object         COUPON_ID_hash   168996.0   0.0   19368.0\n",
       "               PURCHASEID_hash  168996.0   0.0  168996.0\n",
       "               SMALL_AREA_NAME  168996.0   0.0      55.0\n",
       "               USER_ID_hash     168996.0   0.0   22782.0"
      ]
     },
     "execution_count": 4,
     "metadata": {},
     "output_type": "execute_result"
    }
   ],
   "source": [
    "summary_table(detail_train).pivot_table(index = ['dtype', 'name'])"
   ]
  },
  {
   "cell_type": "markdown",
   "metadata": {},
   "source": [
    "#### 2-1-1) 신규 columns 생성\n",
    "\n",
    "- merge 후 구매 구분을 위한 PURCHASE_FLG"
   ]
  },
  {
   "cell_type": "code",
   "execution_count": 5,
   "metadata": {},
   "outputs": [],
   "source": [
    "detail_train['PURCHASE_FLG'] = 1"
   ]
  },
  {
   "cell_type": "markdown",
   "metadata": {},
   "source": [
    "#### 2-1-2) column명 변경\n",
    "\n",
    "- I_DATE -> purchase_date: merge 후 구매일자 구분을 위함\n",
    "\n",
    "- SMALL_AREA_NAME: user_small로 변경 / coupon list의 지역(판매 spot)과 구분하기 위함"
   ]
  },
  {
   "cell_type": "code",
   "execution_count": 6,
   "metadata": {},
   "outputs": [],
   "source": [
    "detail_train.rename(columns = {'I_DATE': 'purchase_date'}, inplace=True)\n",
    "detail_train.rename(columns = {'SMALL_AREA_NAME': 'user_small'}, inplace=True)"
   ]
  },
  {
   "cell_type": "code",
   "execution_count": null,
   "metadata": {},
   "outputs": [],
   "source": []
  },
  {
   "cell_type": "markdown",
   "metadata": {},
   "source": [
    "### 2-2. visit_train: 쿠폰 조회 내역: 2,833,180rows * 8 columns\n",
    "--------------------------------------------------------------------------------------------------------\n",
    "- I_DATE: 홈페이지 방문 날짜\n",
    "- PAGE_SERIAL: page number\n",
    "- PURCHASE_FLG: 구매 여부(0: 구매 안함, 1: 구매)\n",
    "- REFERRER_hash, SESSION_ID_hash: 접속 로그와 비슷한 개념\n",
    "- USER_ID_hash: USER ID\n",
    "- VIEW_COUPON_ID_hash: 고객이 조회한 COUPON ID"
   ]
  },
  {
   "cell_type": "code",
   "execution_count": 7,
   "metadata": {},
   "outputs": [
    {
     "data": {
      "text/html": [
       "<div>\n",
       "<style scoped>\n",
       "    .dataframe tbody tr th:only-of-type {\n",
       "        vertical-align: middle;\n",
       "    }\n",
       "\n",
       "    .dataframe tbody tr th {\n",
       "        vertical-align: top;\n",
       "    }\n",
       "\n",
       "    .dataframe thead th {\n",
       "        text-align: right;\n",
       "    }\n",
       "</style>\n",
       "<table border=\"1\" class=\"dataframe\">\n",
       "  <thead>\n",
       "    <tr style=\"text-align: right;\">\n",
       "      <th></th>\n",
       "      <th></th>\n",
       "      <th>act</th>\n",
       "      <th>null</th>\n",
       "      <th>unique</th>\n",
       "    </tr>\n",
       "    <tr>\n",
       "      <th>dtype</th>\n",
       "      <th>name</th>\n",
       "      <th></th>\n",
       "      <th></th>\n",
       "      <th></th>\n",
       "    </tr>\n",
       "  </thead>\n",
       "  <tbody>\n",
       "    <tr>\n",
       "      <th>datetime64[ns]</th>\n",
       "      <th>I_DATE</th>\n",
       "      <td>2833180.0</td>\n",
       "      <td>0.0</td>\n",
       "      <td>2638744.0</td>\n",
       "    </tr>\n",
       "    <tr>\n",
       "      <th rowspan=\"2\" valign=\"top\">int64</th>\n",
       "      <th>PAGE_SERIAL</th>\n",
       "      <td>2833180.0</td>\n",
       "      <td>0.0</td>\n",
       "      <td>466.0</td>\n",
       "    </tr>\n",
       "    <tr>\n",
       "      <th>PURCHASE_FLG</th>\n",
       "      <td>2833180.0</td>\n",
       "      <td>0.0</td>\n",
       "      <td>2.0</td>\n",
       "    </tr>\n",
       "    <tr>\n",
       "      <th rowspan=\"5\" valign=\"top\">object</th>\n",
       "      <th>PURCHASEID_hash</th>\n",
       "      <td>122389.0</td>\n",
       "      <td>2710791.0</td>\n",
       "      <td>114775.0</td>\n",
       "    </tr>\n",
       "    <tr>\n",
       "      <th>REFERRER_hash</th>\n",
       "      <td>2833180.0</td>\n",
       "      <td>0.0</td>\n",
       "      <td>97319.0</td>\n",
       "    </tr>\n",
       "    <tr>\n",
       "      <th>SESSION_ID_hash</th>\n",
       "      <td>2833180.0</td>\n",
       "      <td>0.0</td>\n",
       "      <td>1046179.0</td>\n",
       "    </tr>\n",
       "    <tr>\n",
       "      <th>USER_ID_hash</th>\n",
       "      <td>2833180.0</td>\n",
       "      <td>0.0</td>\n",
       "      <td>22805.0</td>\n",
       "    </tr>\n",
       "    <tr>\n",
       "      <th>VIEW_COUPON_ID_hash</th>\n",
       "      <td>2833180.0</td>\n",
       "      <td>0.0</td>\n",
       "      <td>32628.0</td>\n",
       "    </tr>\n",
       "  </tbody>\n",
       "</table>\n",
       "</div>"
      ],
      "text/plain": [
       "                                          act       null     unique\n",
       "dtype          name                                                \n",
       "datetime64[ns] I_DATE               2833180.0        0.0  2638744.0\n",
       "int64          PAGE_SERIAL          2833180.0        0.0      466.0\n",
       "               PURCHASE_FLG         2833180.0        0.0        2.0\n",
       "object         PURCHASEID_hash       122389.0  2710791.0   114775.0\n",
       "               REFERRER_hash        2833180.0        0.0    97319.0\n",
       "               SESSION_ID_hash      2833180.0        0.0  1046179.0\n",
       "               USER_ID_hash         2833180.0        0.0    22805.0\n",
       "               VIEW_COUPON_ID_hash  2833180.0        0.0    32628.0"
      ]
     },
     "execution_count": 7,
     "metadata": {},
     "output_type": "execute_result"
    }
   ],
   "source": [
    "summary_table(visit_train).pivot_table(index = ['dtype', 'name'])"
   ]
  },
  {
   "cell_type": "markdown",
   "metadata": {},
   "source": [
    "#### 2-2-1) 신규 column 생성"
   ]
  },
  {
   "cell_type": "code",
   "execution_count": 8,
   "metadata": {},
   "outputs": [],
   "source": [
    "visit_train['VIEW'] = 1"
   ]
  },
  {
   "cell_type": "markdown",
   "metadata": {},
   "source": [
    "#### 2-2-2) column명 변경"
   ]
  },
  {
   "cell_type": "code",
   "execution_count": 9,
   "metadata": {},
   "outputs": [],
   "source": [
    "visit_train.rename(columns = {'I_DATE': 'VIEW_DATE'}, inplace=True)\n",
    "visit_train.rename(columns = {'VIEW_COUPON_ID_hash': 'COUPON_ID_hash'}, inplace=True)"
   ]
  },
  {
   "cell_type": "code",
   "execution_count": null,
   "metadata": {},
   "outputs": [],
   "source": []
  },
  {
   "cell_type": "markdown",
   "metadata": {},
   "source": [
    "### 2-3. Coupon_list, 쿠폰 리스트: 19,413rows * 24 columns\n",
    "--------------------------------------------------------------------------------------------------------\n",
    "- DISPFROM, DISPEND, DISPPERIOD: 상품 release 기간\n",
    "- VALIDFROM, VALIDEND, VALIDPERIOD: 상품 유효 기간\n",
    "- CATALOG_PRICE: 소비자가(정가)\n",
    "- DISCOUNT_PRICE: 할인가격\n",
    "- PRICE_RATE: 할인율\n",
    "- USABLE_DATE_MON~FRI, HOLIDAY: 해당 요일 사용 가능 여부\n",
    "- CAPSULE_TEXT: 상품 소분류\n",
    "- GENRE_NAME: 상품 중분류\n",
    "- LARGE_AREA_NAME: 쿠폰 사용 가능 지역(대분류)\n",
    "- ken_name: 쿠폰 사용 가능 지역(중분류, Prefecture)\n",
    "- SMALL_AREA_NAME: 쿠폰 사용 가능 지역(소분류)"
   ]
  },
  {
   "cell_type": "code",
   "execution_count": 10,
   "metadata": {},
   "outputs": [
    {
     "data": {
      "text/html": [
       "<div>\n",
       "<style scoped>\n",
       "    .dataframe tbody tr th:only-of-type {\n",
       "        vertical-align: middle;\n",
       "    }\n",
       "\n",
       "    .dataframe tbody tr th {\n",
       "        vertical-align: top;\n",
       "    }\n",
       "\n",
       "    .dataframe thead th {\n",
       "        text-align: right;\n",
       "    }\n",
       "</style>\n",
       "<table border=\"1\" class=\"dataframe\">\n",
       "  <thead>\n",
       "    <tr style=\"text-align: right;\">\n",
       "      <th></th>\n",
       "      <th></th>\n",
       "      <th>act</th>\n",
       "      <th>null</th>\n",
       "      <th>unique</th>\n",
       "    </tr>\n",
       "    <tr>\n",
       "      <th>dtype</th>\n",
       "      <th>name</th>\n",
       "      <th></th>\n",
       "      <th></th>\n",
       "      <th></th>\n",
       "    </tr>\n",
       "  </thead>\n",
       "  <tbody>\n",
       "    <tr>\n",
       "      <th rowspan=\"4\" valign=\"top\">datetime64[ns]</th>\n",
       "      <th>DISPEND</th>\n",
       "      <td>19413.0</td>\n",
       "      <td>0.0</td>\n",
       "      <td>373.0</td>\n",
       "    </tr>\n",
       "    <tr>\n",
       "      <th>DISPFROM</th>\n",
       "      <td>19413.0</td>\n",
       "      <td>0.0</td>\n",
       "      <td>378.0</td>\n",
       "    </tr>\n",
       "    <tr>\n",
       "      <th>VALIDEND</th>\n",
       "      <td>13266.0</td>\n",
       "      <td>6147.0</td>\n",
       "      <td>515.0</td>\n",
       "    </tr>\n",
       "    <tr>\n",
       "      <th>VALIDFROM</th>\n",
       "      <td>13266.0</td>\n",
       "      <td>6147.0</td>\n",
       "      <td>377.0</td>\n",
       "    </tr>\n",
       "    <tr>\n",
       "      <th>float64</th>\n",
       "      <th>VALIDPERIOD</th>\n",
       "      <td>13266.0</td>\n",
       "      <td>6147.0</td>\n",
       "      <td>181.0</td>\n",
       "    </tr>\n",
       "    <tr>\n",
       "      <th rowspan=\"13\" valign=\"top\">int64</th>\n",
       "      <th>CATALOG_PRICE</th>\n",
       "      <td>19413.0</td>\n",
       "      <td>0.0</td>\n",
       "      <td>2415.0</td>\n",
       "    </tr>\n",
       "    <tr>\n",
       "      <th>DISCOUNT_PRICE</th>\n",
       "      <td>19413.0</td>\n",
       "      <td>0.0</td>\n",
       "      <td>1115.0</td>\n",
       "    </tr>\n",
       "    <tr>\n",
       "      <th>DISPPERIOD</th>\n",
       "      <td>19413.0</td>\n",
       "      <td>0.0</td>\n",
       "      <td>18.0</td>\n",
       "    </tr>\n",
       "    <tr>\n",
       "      <th>PRICE_RATE</th>\n",
       "      <td>19413.0</td>\n",
       "      <td>0.0</td>\n",
       "      <td>71.0</td>\n",
       "    </tr>\n",
       "    <tr>\n",
       "      <th>USABLE_DATE_BEFORE_HOLIDAY</th>\n",
       "      <td>19413.0</td>\n",
       "      <td>0.0</td>\n",
       "      <td>2.0</td>\n",
       "    </tr>\n",
       "    <tr>\n",
       "      <th>USABLE_DATE_FRI</th>\n",
       "      <td>19413.0</td>\n",
       "      <td>0.0</td>\n",
       "      <td>2.0</td>\n",
       "    </tr>\n",
       "    <tr>\n",
       "      <th>USABLE_DATE_HOLIDAY</th>\n",
       "      <td>19413.0</td>\n",
       "      <td>0.0</td>\n",
       "      <td>2.0</td>\n",
       "    </tr>\n",
       "    <tr>\n",
       "      <th>USABLE_DATE_MON</th>\n",
       "      <td>19413.0</td>\n",
       "      <td>0.0</td>\n",
       "      <td>2.0</td>\n",
       "    </tr>\n",
       "    <tr>\n",
       "      <th>USABLE_DATE_SAT</th>\n",
       "      <td>19413.0</td>\n",
       "      <td>0.0</td>\n",
       "      <td>2.0</td>\n",
       "    </tr>\n",
       "    <tr>\n",
       "      <th>USABLE_DATE_SUN</th>\n",
       "      <td>19413.0</td>\n",
       "      <td>0.0</td>\n",
       "      <td>2.0</td>\n",
       "    </tr>\n",
       "    <tr>\n",
       "      <th>USABLE_DATE_THU</th>\n",
       "      <td>19413.0</td>\n",
       "      <td>0.0</td>\n",
       "      <td>2.0</td>\n",
       "    </tr>\n",
       "    <tr>\n",
       "      <th>USABLE_DATE_TUE</th>\n",
       "      <td>19413.0</td>\n",
       "      <td>0.0</td>\n",
       "      <td>2.0</td>\n",
       "    </tr>\n",
       "    <tr>\n",
       "      <th>USABLE_DATE_WED</th>\n",
       "      <td>19413.0</td>\n",
       "      <td>0.0</td>\n",
       "      <td>2.0</td>\n",
       "    </tr>\n",
       "    <tr>\n",
       "      <th rowspan=\"6\" valign=\"top\">object</th>\n",
       "      <th>CAPSULE_TEXT</th>\n",
       "      <td>19413.0</td>\n",
       "      <td>0.0</td>\n",
       "      <td>24.0</td>\n",
       "    </tr>\n",
       "    <tr>\n",
       "      <th>COUPON_ID_hash</th>\n",
       "      <td>19413.0</td>\n",
       "      <td>0.0</td>\n",
       "      <td>19413.0</td>\n",
       "    </tr>\n",
       "    <tr>\n",
       "      <th>GENRE_NAME</th>\n",
       "      <td>19413.0</td>\n",
       "      <td>0.0</td>\n",
       "      <td>13.0</td>\n",
       "    </tr>\n",
       "    <tr>\n",
       "      <th>LARGE_AREA_NAME</th>\n",
       "      <td>19413.0</td>\n",
       "      <td>0.0</td>\n",
       "      <td>9.0</td>\n",
       "    </tr>\n",
       "    <tr>\n",
       "      <th>SMALL_AREA_NAME</th>\n",
       "      <td>19413.0</td>\n",
       "      <td>0.0</td>\n",
       "      <td>55.0</td>\n",
       "    </tr>\n",
       "    <tr>\n",
       "      <th>ken_name</th>\n",
       "      <td>19413.0</td>\n",
       "      <td>0.0</td>\n",
       "      <td>47.0</td>\n",
       "    </tr>\n",
       "  </tbody>\n",
       "</table>\n",
       "</div>"
      ],
      "text/plain": [
       "                                               act    null   unique\n",
       "dtype          name                                                \n",
       "datetime64[ns] DISPEND                     19413.0     0.0    373.0\n",
       "               DISPFROM                    19413.0     0.0    378.0\n",
       "               VALIDEND                    13266.0  6147.0    515.0\n",
       "               VALIDFROM                   13266.0  6147.0    377.0\n",
       "float64        VALIDPERIOD                 13266.0  6147.0    181.0\n",
       "int64          CATALOG_PRICE               19413.0     0.0   2415.0\n",
       "               DISCOUNT_PRICE              19413.0     0.0   1115.0\n",
       "               DISPPERIOD                  19413.0     0.0     18.0\n",
       "               PRICE_RATE                  19413.0     0.0     71.0\n",
       "               USABLE_DATE_BEFORE_HOLIDAY  19413.0     0.0      2.0\n",
       "               USABLE_DATE_FRI             19413.0     0.0      2.0\n",
       "               USABLE_DATE_HOLIDAY         19413.0     0.0      2.0\n",
       "               USABLE_DATE_MON             19413.0     0.0      2.0\n",
       "               USABLE_DATE_SAT             19413.0     0.0      2.0\n",
       "               USABLE_DATE_SUN             19413.0     0.0      2.0\n",
       "               USABLE_DATE_THU             19413.0     0.0      2.0\n",
       "               USABLE_DATE_TUE             19413.0     0.0      2.0\n",
       "               USABLE_DATE_WED             19413.0     0.0      2.0\n",
       "object         CAPSULE_TEXT                19413.0     0.0     24.0\n",
       "               COUPON_ID_hash              19413.0     0.0  19413.0\n",
       "               GENRE_NAME                  19413.0     0.0     13.0\n",
       "               LARGE_AREA_NAME             19413.0     0.0      9.0\n",
       "               SMALL_AREA_NAME             19413.0     0.0     55.0\n",
       "               ken_name                    19413.0     0.0     47.0"
      ]
     },
     "execution_count": 10,
     "metadata": {},
     "output_type": "execute_result"
    }
   ],
   "source": [
    "summary_table(coupon_list_train).pivot_table(index = ['dtype', 'name'])"
   ]
  },
  {
   "cell_type": "markdown",
   "metadata": {},
   "source": [
    "#### 2-3-1) 전처리 일관성을 유지를 위한 coupon_list merge(311~ train임)"
   ]
  },
  {
   "cell_type": "code",
   "execution_count": 11,
   "metadata": {},
   "outputs": [],
   "source": [
    "coupon_list = pd.merge(coupon_list_test, coupon_list_train, how='outer')"
   ]
  },
  {
   "cell_type": "code",
   "execution_count": 12,
   "metadata": {},
   "outputs": [
    {
     "data": {
      "text/plain": [
       "((310, 24), (19413, 24), (19723, 24))"
      ]
     },
     "execution_count": 12,
     "metadata": {},
     "output_type": "execute_result"
    }
   ],
   "source": [
    "coupon_list_test.shape, coupon_list_train.shape, coupon_list.shape"
   ]
  },
  {
   "cell_type": "markdown",
   "metadata": {},
   "source": [
    "#### 2-3-2) 신규 columns 생성"
   ]
  },
  {
   "cell_type": "code",
   "execution_count": 13,
   "metadata": {},
   "outputs": [
    {
     "data": {
      "text/html": [
       "<div>\n",
       "<style scoped>\n",
       "    .dataframe tbody tr th:only-of-type {\n",
       "        vertical-align: middle;\n",
       "    }\n",
       "\n",
       "    .dataframe tbody tr th {\n",
       "        vertical-align: top;\n",
       "    }\n",
       "\n",
       "    .dataframe thead tr th {\n",
       "        text-align: left;\n",
       "    }\n",
       "\n",
       "    .dataframe thead tr:last-of-type th {\n",
       "        text-align: right;\n",
       "    }\n",
       "</style>\n",
       "<table border=\"1\" class=\"dataframe\">\n",
       "  <thead>\n",
       "    <tr>\n",
       "      <th></th>\n",
       "      <th></th>\n",
       "      <th colspan=\"2\" halign=\"left\">mean</th>\n",
       "      <th colspan=\"2\" halign=\"left\">sum</th>\n",
       "    </tr>\n",
       "    <tr>\n",
       "      <th></th>\n",
       "      <th></th>\n",
       "      <th>A</th>\n",
       "      <th>CATALOG_PRICE</th>\n",
       "      <th>A</th>\n",
       "      <th>CATALOG_PRICE</th>\n",
       "    </tr>\n",
       "    <tr>\n",
       "      <th>GENRE_NAME</th>\n",
       "      <th>CAPSULE_TEXT</th>\n",
       "      <th></th>\n",
       "      <th></th>\n",
       "      <th></th>\n",
       "      <th></th>\n",
       "    </tr>\n",
       "  </thead>\n",
       "  <tbody>\n",
       "    <tr>\n",
       "      <th>Beauty</th>\n",
       "      <th>Beauty</th>\n",
       "      <td>1.0</td>\n",
       "      <td>10571.046512</td>\n",
       "      <td>43</td>\n",
       "      <td>454555</td>\n",
       "    </tr>\n",
       "    <tr>\n",
       "      <th>Delivery service</th>\n",
       "      <th>Delivery service</th>\n",
       "      <td>1.0</td>\n",
       "      <td>6452.507589</td>\n",
       "      <td>5930</td>\n",
       "      <td>38263370</td>\n",
       "    </tr>\n",
       "    <tr>\n",
       "      <th>Food</th>\n",
       "      <th>Food</th>\n",
       "      <td>1.0</td>\n",
       "      <td>5336.447616</td>\n",
       "      <td>3713</td>\n",
       "      <td>19814230</td>\n",
       "    </tr>\n",
       "    <tr>\n",
       "      <th>Gift card</th>\n",
       "      <th>Gift card</th>\n",
       "      <td>1.0</td>\n",
       "      <td>2401.666667</td>\n",
       "      <td>105</td>\n",
       "      <td>252175</td>\n",
       "    </tr>\n",
       "    <tr>\n",
       "      <th>Hair salon</th>\n",
       "      <th>Hair salon</th>\n",
       "      <td>1.0</td>\n",
       "      <td>13876.677618</td>\n",
       "      <td>1461</td>\n",
       "      <td>20273826</td>\n",
       "    </tr>\n",
       "    <tr>\n",
       "      <th>Health and medical</th>\n",
       "      <th>Health and medical</th>\n",
       "      <td>1.0</td>\n",
       "      <td>34309.830508</td>\n",
       "      <td>59</td>\n",
       "      <td>2024280</td>\n",
       "    </tr>\n",
       "    <tr>\n",
       "      <th rowspan=\"8\" valign=\"top\">Hotel and Japanese hotel</th>\n",
       "      <th>Guest house</th>\n",
       "      <td>1.0</td>\n",
       "      <td>21138.461538</td>\n",
       "      <td>13</td>\n",
       "      <td>274800</td>\n",
       "    </tr>\n",
       "    <tr>\n",
       "      <th>Hotel</th>\n",
       "      <td>1.0</td>\n",
       "      <td>18575.574393</td>\n",
       "      <td>1976</td>\n",
       "      <td>36705335</td>\n",
       "    </tr>\n",
       "    <tr>\n",
       "      <th>Japanese hotel</th>\n",
       "      <td>1.0</td>\n",
       "      <td>24232.636364</td>\n",
       "      <td>1375</td>\n",
       "      <td>33319875</td>\n",
       "    </tr>\n",
       "    <tr>\n",
       "      <th>Japanse guest house</th>\n",
       "      <td>1.0</td>\n",
       "      <td>19599.595960</td>\n",
       "      <td>99</td>\n",
       "      <td>1940360</td>\n",
       "    </tr>\n",
       "    <tr>\n",
       "      <th>Lodge</th>\n",
       "      <td>1.0</td>\n",
       "      <td>14663.000000</td>\n",
       "      <td>25</td>\n",
       "      <td>366575</td>\n",
       "    </tr>\n",
       "    <tr>\n",
       "      <th>Public hotel</th>\n",
       "      <td>1.0</td>\n",
       "      <td>11394.444444</td>\n",
       "      <td>9</td>\n",
       "      <td>102550</td>\n",
       "    </tr>\n",
       "    <tr>\n",
       "      <th>Resort inn</th>\n",
       "      <td>1.0</td>\n",
       "      <td>17180.922330</td>\n",
       "      <td>103</td>\n",
       "      <td>1769635</td>\n",
       "    </tr>\n",
       "    <tr>\n",
       "      <th>Vacation rental</th>\n",
       "      <td>1.0</td>\n",
       "      <td>16586.206897</td>\n",
       "      <td>29</td>\n",
       "      <td>481000</td>\n",
       "    </tr>\n",
       "    <tr>\n",
       "      <th>Leisure</th>\n",
       "      <th>Leisure</th>\n",
       "      <td>1.0</td>\n",
       "      <td>3576.755556</td>\n",
       "      <td>675</td>\n",
       "      <td>2414310</td>\n",
       "    </tr>\n",
       "    <tr>\n",
       "      <th rowspan=\"3\" valign=\"top\">Lesson</th>\n",
       "      <th>Class</th>\n",
       "      <td>1.0</td>\n",
       "      <td>46011.111111</td>\n",
       "      <td>18</td>\n",
       "      <td>828200</td>\n",
       "    </tr>\n",
       "    <tr>\n",
       "      <th>Correspondence course</th>\n",
       "      <td>1.0</td>\n",
       "      <td>58880.000000</td>\n",
       "      <td>18</td>\n",
       "      <td>1059840</td>\n",
       "    </tr>\n",
       "    <tr>\n",
       "      <th>Lesson</th>\n",
       "      <td>1.0</td>\n",
       "      <td>50325.460624</td>\n",
       "      <td>673</td>\n",
       "      <td>33869035</td>\n",
       "    </tr>\n",
       "    <tr>\n",
       "      <th>Nail and eye salon</th>\n",
       "      <th>Nail and eye salon</th>\n",
       "      <td>1.0</td>\n",
       "      <td>10415.516330</td>\n",
       "      <td>643</td>\n",
       "      <td>6697177</td>\n",
       "    </tr>\n",
       "    <tr>\n",
       "      <th rowspan=\"3\" valign=\"top\">Other coupon</th>\n",
       "      <th>Event</th>\n",
       "      <td>1.0</td>\n",
       "      <td>2000.250000</td>\n",
       "      <td>4</td>\n",
       "      <td>8001</td>\n",
       "    </tr>\n",
       "    <tr>\n",
       "      <th>Other</th>\n",
       "      <td>1.0</td>\n",
       "      <td>7468.938628</td>\n",
       "      <td>831</td>\n",
       "      <td>6206688</td>\n",
       "    </tr>\n",
       "    <tr>\n",
       "      <th>Web service</th>\n",
       "      <td>1.0</td>\n",
       "      <td>2515.909091</td>\n",
       "      <td>44</td>\n",
       "      <td>110700</td>\n",
       "    </tr>\n",
       "    <tr>\n",
       "      <th>Relaxation</th>\n",
       "      <th>Relaxation</th>\n",
       "      <td>1.0</td>\n",
       "      <td>8608.674775</td>\n",
       "      <td>1110</td>\n",
       "      <td>9555629</td>\n",
       "    </tr>\n",
       "    <tr>\n",
       "      <th>Spa</th>\n",
       "      <th>Spa</th>\n",
       "      <td>1.0</td>\n",
       "      <td>21994.594524</td>\n",
       "      <td>767</td>\n",
       "      <td>16869854</td>\n",
       "    </tr>\n",
       "  </tbody>\n",
       "</table>\n",
       "</div>"
      ],
      "text/plain": [
       "                                               mean                 sum  \\\n",
       "                                                  A CATALOG_PRICE     A   \n",
       "GENRE_NAME               CAPSULE_TEXT                                     \n",
       "Beauty                   Beauty                 1.0  10571.046512    43   \n",
       "Delivery service         Delivery service       1.0   6452.507589  5930   \n",
       "Food                     Food                   1.0   5336.447616  3713   \n",
       "Gift card                Gift card              1.0   2401.666667   105   \n",
       "Hair salon               Hair salon             1.0  13876.677618  1461   \n",
       "Health and medical       Health and medical     1.0  34309.830508    59   \n",
       "Hotel and Japanese hotel Guest house            1.0  21138.461538    13   \n",
       "                         Hotel                  1.0  18575.574393  1976   \n",
       "                         Japanese hotel         1.0  24232.636364  1375   \n",
       "                         Japanse guest house    1.0  19599.595960    99   \n",
       "                         Lodge                  1.0  14663.000000    25   \n",
       "                         Public hotel           1.0  11394.444444     9   \n",
       "                         Resort inn             1.0  17180.922330   103   \n",
       "                         Vacation rental        1.0  16586.206897    29   \n",
       "Leisure                  Leisure                1.0   3576.755556   675   \n",
       "Lesson                   Class                  1.0  46011.111111    18   \n",
       "                         Correspondence course  1.0  58880.000000    18   \n",
       "                         Lesson                 1.0  50325.460624   673   \n",
       "Nail and eye salon       Nail and eye salon     1.0  10415.516330   643   \n",
       "Other coupon             Event                  1.0   2000.250000     4   \n",
       "                         Other                  1.0   7468.938628   831   \n",
       "                         Web service            1.0   2515.909091    44   \n",
       "Relaxation               Relaxation             1.0   8608.674775  1110   \n",
       "Spa                      Spa                    1.0  21994.594524   767   \n",
       "\n",
       "                                                              \n",
       "                                               CATALOG_PRICE  \n",
       "GENRE_NAME               CAPSULE_TEXT                         \n",
       "Beauty                   Beauty                       454555  \n",
       "Delivery service         Delivery service           38263370  \n",
       "Food                     Food                       19814230  \n",
       "Gift card                Gift card                    252175  \n",
       "Hair salon               Hair salon                 20273826  \n",
       "Health and medical       Health and medical          2024280  \n",
       "Hotel and Japanese hotel Guest house                  274800  \n",
       "                         Hotel                      36705335  \n",
       "                         Japanese hotel             33319875  \n",
       "                         Japanse guest house         1940360  \n",
       "                         Lodge                        366575  \n",
       "                         Public hotel                 102550  \n",
       "                         Resort inn                  1769635  \n",
       "                         Vacation rental              481000  \n",
       "Leisure                  Leisure                     2414310  \n",
       "Lesson                   Class                        828200  \n",
       "                         Correspondence course       1059840  \n",
       "                         Lesson                     33869035  \n",
       "Nail and eye salon       Nail and eye salon          6697177  \n",
       "Other coupon             Event                          8001  \n",
       "                         Other                       6206688  \n",
       "                         Web service                  110700  \n",
       "Relaxation               Relaxation                  9555629  \n",
       "Spa                      Spa                        16869854  "
      ]
     },
     "execution_count": 13,
     "metadata": {},
     "output_type": "execute_result"
    }
   ],
   "source": [
    "df = coupon_list.copy()\n",
    "df['A'] = 1\n",
    "df.pivot_table(index=['GENRE_NAME', 'CAPSULE_TEXT'], values = ['CATALOG_PRICE', \"A\"], aggfunc=[np.mean, np.sum])"
   ]
  },
  {
   "cell_type": "code",
   "execution_count": 14,
   "metadata": {},
   "outputs": [],
   "source": [
    "# 캡슐과 장르 통합 및 명칭 변경\n",
    "coupon_list['Case'] = coupon_list['CAPSULE_TEXT'] + coupon_list['GENRE_NAME']\n",
    "coupon_list['Case'] = coupon_list['Case'].apply(lambda x: \"HOTEL\" if x == 'Guest houseHotel and Japanese hotel' \n",
    "                          or x == 'HotelHotel and Japanese hotel'\n",
    "                          or x == 'Japanese hotelHotel and Japanese hotel'\n",
    "                          or x == 'Japanse guest houseHotel and Japanese hotel'\n",
    "                          or x == 'LodgeHotel and Japanese hotel'\n",
    "                          or x == 'Public hotelHotel and Japanese hotel'\n",
    "                          or x == 'Resort innHotel and Japanese hotel'\n",
    "                          or x == 'Vacation rentalHotel and Japanese hotel'\n",
    "                          else \"NAIL\" if x == 'Nail and eye salonNail and eye salon'\n",
    "                          else \"HAIR\" if x == 'Hair salonHair salon'\n",
    "                          else \"FOOD\" if x == 'FoodFood'  # FOOD\n",
    "                          else \"SPA\" if x == 'SpaSpa'  # SPA\n",
    "                          else \"BEUATY\" if x == 'BeautyBeauty'  # BEUATY\n",
    "                          else \"CLASS\" if x == 'ClassLesson' # CLASS\n",
    "                          else \"CORRESPONDENCE\" if x == 'Correspondence courseLessonClassLesson'\n",
    "                          else \"DELIVERY\" if x == 'Delivery serviceDelivery service'\n",
    "                          else \"EVENT\" if x == 'EventOther coupon' # EVENT\n",
    "                          else \"GIFT\" if x == 'Gift cardGift card'\n",
    "                          else \"HEALTH\" if x == 'Health and medicalHealth and medical' #HEALTH\n",
    "                          else \"LEISURE\" if x == 'LeisureLeisure'  # LEISURE\n",
    "                          else \"LESSON\" if x == 'LessonLesson' # LESSON\n",
    "                          else \"OTHER\" if x == 'OtherOther coupon'\n",
    "                          else \"RELAXATION\" if x == 'RelaxationRelaxation'\n",
    "                          else \"WEB\" if x == 'Web serviceOther coupon'  # WEB\n",
    "                          else 'OTHER'\n",
    "                          )\n",
    "\n",
    "coupon_list = coupon_list.drop(labels = ['CAPSULE_TEXT', 'GENRE_NAME'], axis=1)"
   ]
  },
  {
   "cell_type": "code",
   "execution_count": 15,
   "metadata": {},
   "outputs": [],
   "source": [
    "# 실판매가 계산\n",
    "coupon_list['Price'] = coupon_list['CATALOG_PRICE'] + coupon_list['DISCOUNT_PRICE']"
   ]
  },
  {
   "cell_type": "markdown",
   "metadata": {},
   "source": [
    "#### 2-3-3) column명 변경"
   ]
  },
  {
   "cell_type": "code",
   "execution_count": 16,
   "metadata": {},
   "outputs": [],
   "source": [
    "# 지역명 변경\n",
    "coupon_list.rename(columns = {\"LARGE_AREA_NAME\": \"spot_large\", \n",
    "                              \"ken_name\": \"spot_pref\", \n",
    "                              \"SMALL_AREA_NAME\": \"spot_small\"}, inplace=True)"
   ]
  },
  {
   "cell_type": "markdown",
   "metadata": {},
   "source": [
    "#### 2-3-4) Null 값 및 오류 처리"
   ]
  },
  {
   "cell_type": "code",
   "execution_count": 17,
   "metadata": {},
   "outputs": [],
   "source": [
    "# usable: nan -> 1, 2 -> 0\n",
    "coupon_list['USABLE_DATE_MON'].replace([0,2,1,np.nan],[0,0,1,1], inplace=True)\n",
    "coupon_list['USABLE_DATE_TUE'].replace([0,2,1,np.nan],[0,0,1,1], inplace=True)\n",
    "coupon_list['USABLE_DATE_WED'].replace([0,2,1,np.nan],[0,0,1,1], inplace=True)\n",
    "coupon_list['USABLE_DATE_THU'].replace([0,2,1,np.nan],[0,0,1,1], inplace=True)\n",
    "coupon_list['USABLE_DATE_FRI'].replace([0,2,1,np.nan],[0,0,1,1], inplace=True)\n",
    "coupon_list['USABLE_DATE_SAT'].replace([0,2,1,np.nan],[0,0,1,1], inplace=True)\n",
    "coupon_list['USABLE_DATE_SUN'].replace([0,2,1,np.nan],[0,0,1,1], inplace=True)\n",
    "coupon_list['USABLE_DATE_HOLIDAY'].replace([0,2,1,np.nan],[0,0,1,1], inplace=True)\n",
    "coupon_list['USABLE_DATE_BEFORE_HOLIDAY'].replace([0,2,1,np.nan],[0,0,1,1], inplace=True)"
   ]
  },
  {
   "cell_type": "markdown",
   "metadata": {},
   "source": [
    "#### 2-3-5) train & test set 분리"
   ]
  },
  {
   "cell_type": "code",
   "execution_count": 18,
   "metadata": {},
   "outputs": [],
   "source": [
    "# train set과 test set을 다시 분리\n",
    "coupon_list_train = coupon_list[311:]\n",
    "coupon_list_test = coupon_list[:310]"
   ]
  },
  {
   "cell_type": "code",
   "execution_count": null,
   "metadata": {},
   "outputs": [],
   "source": []
  },
  {
   "cell_type": "markdown",
   "metadata": {},
   "source": [
    "### 2-4. User_list\n",
    "--------------------------------------------------------------------------------------------------------\n",
    "- REG_DATE: 가입한 날짜\n",
    "- WITHDRAW_DATE: 탈퇴한 날짜\n",
    "- AGE: 연령\n",
    "- PREF_NAME: 거주 지역\n",
    "- SEX_ID: 성별\n",
    "- USER_ID_hash: USER ID"
   ]
  },
  {
   "cell_type": "code",
   "execution_count": 19,
   "metadata": {},
   "outputs": [
    {
     "data": {
      "text/html": [
       "<div>\n",
       "<style scoped>\n",
       "    .dataframe tbody tr th:only-of-type {\n",
       "        vertical-align: middle;\n",
       "    }\n",
       "\n",
       "    .dataframe tbody tr th {\n",
       "        vertical-align: top;\n",
       "    }\n",
       "\n",
       "    .dataframe thead th {\n",
       "        text-align: right;\n",
       "    }\n",
       "</style>\n",
       "<table border=\"1\" class=\"dataframe\">\n",
       "  <thead>\n",
       "    <tr style=\"text-align: right;\">\n",
       "      <th></th>\n",
       "      <th></th>\n",
       "      <th>act</th>\n",
       "      <th>null</th>\n",
       "      <th>unique</th>\n",
       "    </tr>\n",
       "    <tr>\n",
       "      <th>dtype</th>\n",
       "      <th>name</th>\n",
       "      <th></th>\n",
       "      <th></th>\n",
       "      <th></th>\n",
       "    </tr>\n",
       "  </thead>\n",
       "  <tbody>\n",
       "    <tr>\n",
       "      <th rowspan=\"2\" valign=\"top\">datetime64[ns]</th>\n",
       "      <th>REG_DATE</th>\n",
       "      <td>22873.0</td>\n",
       "      <td>0.0</td>\n",
       "      <td>21924.0</td>\n",
       "    </tr>\n",
       "    <tr>\n",
       "      <th>WITHDRAW_DATE</th>\n",
       "      <td>922.0</td>\n",
       "      <td>21951.0</td>\n",
       "      <td>904.0</td>\n",
       "    </tr>\n",
       "    <tr>\n",
       "      <th>int64</th>\n",
       "      <th>AGE</th>\n",
       "      <td>22873.0</td>\n",
       "      <td>0.0</td>\n",
       "      <td>66.0</td>\n",
       "    </tr>\n",
       "    <tr>\n",
       "      <th rowspan=\"3\" valign=\"top\">object</th>\n",
       "      <th>PREF_NAME</th>\n",
       "      <td>15617.0</td>\n",
       "      <td>7256.0</td>\n",
       "      <td>48.0</td>\n",
       "    </tr>\n",
       "    <tr>\n",
       "      <th>SEX_ID</th>\n",
       "      <td>22873.0</td>\n",
       "      <td>0.0</td>\n",
       "      <td>2.0</td>\n",
       "    </tr>\n",
       "    <tr>\n",
       "      <th>USER_ID_hash</th>\n",
       "      <td>22873.0</td>\n",
       "      <td>0.0</td>\n",
       "      <td>22873.0</td>\n",
       "    </tr>\n",
       "  </tbody>\n",
       "</table>\n",
       "</div>"
      ],
      "text/plain": [
       "                                  act     null   unique\n",
       "dtype          name                                    \n",
       "datetime64[ns] REG_DATE       22873.0      0.0  21924.0\n",
       "               WITHDRAW_DATE    922.0  21951.0    904.0\n",
       "int64          AGE            22873.0      0.0     66.0\n",
       "object         PREF_NAME      15617.0   7256.0     48.0\n",
       "               SEX_ID         22873.0      0.0      2.0\n",
       "               USER_ID_hash   22873.0      0.0  22873.0"
      ]
     },
     "execution_count": 19,
     "metadata": {},
     "output_type": "execute_result"
    }
   ],
   "source": [
    "summary_table(user_list).pivot_table(index = ['dtype', 'name'])"
   ]
  },
  {
   "cell_type": "markdown",
   "metadata": {},
   "source": [
    "#### 2-4-1) column명 변경"
   ]
  },
  {
   "cell_type": "code",
   "execution_count": 20,
   "metadata": {},
   "outputs": [],
   "source": [
    "user_list.rename(columns = {'PREF_NAME': 'user_pref'}, inplace=True)"
   ]
  },
  {
   "cell_type": "markdown",
   "metadata": {},
   "source": [
    "#### 2-4-2) SEX_ID 0,1 로 변경(f: 0, m: 1)"
   ]
  },
  {
   "cell_type": "code",
   "execution_count": 21,
   "metadata": {},
   "outputs": [],
   "source": [
    "# SEX_ID: f는 0으로 M은 1로\n",
    "user_list['SEX_ID'] = user_list['SEX_ID'].apply(lambda x: 0 if x == 'f' else 1) "
   ]
  },
  {
   "cell_type": "code",
   "execution_count": null,
   "metadata": {},
   "outputs": [],
   "source": []
  },
  {
   "cell_type": "markdown",
   "metadata": {},
   "source": [
    "### 2-5. train set 구성\n",
    "--------------------------------------------------------------------------------------------------------"
   ]
  },
  {
   "cell_type": "markdown",
   "metadata": {},
   "source": [
    "#### 2-5-1) visit_train & detail_train -> train"
   ]
  },
  {
   "cell_type": "code",
   "execution_count": 22,
   "metadata": {},
   "outputs": [],
   "source": [
    "train= pd.merge(visit_train, detail_train, how='outer')"
   ]
  },
  {
   "cell_type": "code",
   "execution_count": 23,
   "metadata": {},
   "outputs": [
    {
     "data": {
      "text/plain": [
       "(2887402, 12)"
      ]
     },
     "execution_count": 23,
     "metadata": {},
     "output_type": "execute_result"
    }
   ],
   "source": [
    "train.shape"
   ]
  },
  {
   "cell_type": "markdown",
   "metadata": {},
   "source": [
    "#### 2-5-2) train & coupon_list"
   ]
  },
  {
   "cell_type": "code",
   "execution_count": 24,
   "metadata": {},
   "outputs": [],
   "source": [
    "train = pd.merge(train, coupon_list, how='left', on='COUPON_ID_hash')"
   ]
  },
  {
   "cell_type": "code",
   "execution_count": 25,
   "metadata": {},
   "outputs": [
    {
     "data": {
      "text/plain": [
       "(2887402, 35)"
      ]
     },
     "execution_count": 25,
     "metadata": {},
     "output_type": "execute_result"
    }
   ],
   "source": [
    "train.shape "
   ]
  },
  {
   "cell_type": "markdown",
   "metadata": {},
   "source": [
    "#### 2-5-3) train & user_list"
   ]
  },
  {
   "cell_type": "code",
   "execution_count": 26,
   "metadata": {},
   "outputs": [],
   "source": [
    "train = pd.merge(train, user_list, how='left', on='USER_ID_hash')"
   ]
  },
  {
   "cell_type": "code",
   "execution_count": 27,
   "metadata": {},
   "outputs": [
    {
     "data": {
      "text/plain": [
       "(2887402, 40)"
      ]
     },
     "execution_count": 27,
     "metadata": {},
     "output_type": "execute_result"
    }
   ],
   "source": [
    "train.shape"
   ]
  },
  {
   "cell_type": "code",
   "execution_count": null,
   "metadata": {},
   "outputs": [],
   "source": []
  },
  {
   "cell_type": "markdown",
   "metadata": {},
   "source": [
    "## 3. EDA & Feature selection"
   ]
  },
  {
   "cell_type": "markdown",
   "metadata": {},
   "source": [
    "### 3-1. 데이터 분포"
   ]
  },
  {
   "cell_type": "code",
   "execution_count": 28,
   "metadata": {},
   "outputs": [
    {
     "data": {
      "text/html": [
       "<div>\n",
       "<style scoped>\n",
       "    .dataframe tbody tr th:only-of-type {\n",
       "        vertical-align: middle;\n",
       "    }\n",
       "\n",
       "    .dataframe tbody tr th {\n",
       "        vertical-align: top;\n",
       "    }\n",
       "\n",
       "    .dataframe thead th {\n",
       "        text-align: right;\n",
       "    }\n",
       "</style>\n",
       "<table border=\"1\" class=\"dataframe\">\n",
       "  <thead>\n",
       "    <tr style=\"text-align: right;\">\n",
       "      <th></th>\n",
       "      <th></th>\n",
       "      <th>act</th>\n",
       "      <th>null</th>\n",
       "      <th>unique</th>\n",
       "    </tr>\n",
       "    <tr>\n",
       "      <th>dtype</th>\n",
       "      <th>name</th>\n",
       "      <th></th>\n",
       "      <th></th>\n",
       "      <th></th>\n",
       "    </tr>\n",
       "  </thead>\n",
       "  <tbody>\n",
       "    <tr>\n",
       "      <th rowspan=\"8\" valign=\"top\">datetime64[ns]</th>\n",
       "      <th>DISPEND</th>\n",
       "      <td>2572169.0</td>\n",
       "      <td>315233.0</td>\n",
       "      <td>376.0</td>\n",
       "    </tr>\n",
       "    <tr>\n",
       "      <th>DISPFROM</th>\n",
       "      <td>2572169.0</td>\n",
       "      <td>315233.0</td>\n",
       "      <td>381.0</td>\n",
       "    </tr>\n",
       "    <tr>\n",
       "      <th>REG_DATE</th>\n",
       "      <td>2887402.0</td>\n",
       "      <td>0.0</td>\n",
       "      <td>21895.0</td>\n",
       "    </tr>\n",
       "    <tr>\n",
       "      <th>VALIDEND</th>\n",
       "      <td>1779839.0</td>\n",
       "      <td>1107563.0</td>\n",
       "      <td>516.0</td>\n",
       "    </tr>\n",
       "    <tr>\n",
       "      <th>VALIDFROM</th>\n",
       "      <td>1779839.0</td>\n",
       "      <td>1107563.0</td>\n",
       "      <td>378.0</td>\n",
       "    </tr>\n",
       "    <tr>\n",
       "      <th>VIEW_DATE</th>\n",
       "      <td>2833180.0</td>\n",
       "      <td>54222.0</td>\n",
       "      <td>2638745.0</td>\n",
       "    </tr>\n",
       "    <tr>\n",
       "      <th>WITHDRAW_DATE</th>\n",
       "      <td>19369.0</td>\n",
       "      <td>2868033.0</td>\n",
       "      <td>904.0</td>\n",
       "    </tr>\n",
       "    <tr>\n",
       "      <th>purchase_date</th>\n",
       "      <td>176611.0</td>\n",
       "      <td>2710791.0</td>\n",
       "      <td>130310.0</td>\n",
       "    </tr>\n",
       "    <tr>\n",
       "      <th rowspan=\"18\" valign=\"top\">float64</th>\n",
       "      <th>CATALOG_PRICE</th>\n",
       "      <td>2572169.0</td>\n",
       "      <td>315233.0</td>\n",
       "      <td>2417.0</td>\n",
       "    </tr>\n",
       "    <tr>\n",
       "      <th>DISCOUNT_PRICE</th>\n",
       "      <td>2572169.0</td>\n",
       "      <td>315233.0</td>\n",
       "      <td>1116.0</td>\n",
       "    </tr>\n",
       "    <tr>\n",
       "      <th>DISPPERIOD</th>\n",
       "      <td>2572169.0</td>\n",
       "      <td>315233.0</td>\n",
       "      <td>19.0</td>\n",
       "    </tr>\n",
       "    <tr>\n",
       "      <th>ITEM_COUNT</th>\n",
       "      <td>176611.0</td>\n",
       "      <td>2710791.0</td>\n",
       "      <td>33.0</td>\n",
       "    </tr>\n",
       "    <tr>\n",
       "      <th>PAGE_SERIAL</th>\n",
       "      <td>2833180.0</td>\n",
       "      <td>54222.0</td>\n",
       "      <td>467.0</td>\n",
       "    </tr>\n",
       "    <tr>\n",
       "      <th>PRICE_RATE</th>\n",
       "      <td>2572169.0</td>\n",
       "      <td>315233.0</td>\n",
       "      <td>72.0</td>\n",
       "    </tr>\n",
       "    <tr>\n",
       "      <th>Price</th>\n",
       "      <td>2572169.0</td>\n",
       "      <td>315233.0</td>\n",
       "      <td>4087.0</td>\n",
       "    </tr>\n",
       "    <tr>\n",
       "      <th>USABLE_DATE_BEFORE_HOLIDAY</th>\n",
       "      <td>2572169.0</td>\n",
       "      <td>315233.0</td>\n",
       "      <td>3.0</td>\n",
       "    </tr>\n",
       "    <tr>\n",
       "      <th>USABLE_DATE_FRI</th>\n",
       "      <td>2572169.0</td>\n",
       "      <td>315233.0</td>\n",
       "      <td>3.0</td>\n",
       "    </tr>\n",
       "    <tr>\n",
       "      <th>USABLE_DATE_HOLIDAY</th>\n",
       "      <td>2572169.0</td>\n",
       "      <td>315233.0</td>\n",
       "      <td>3.0</td>\n",
       "    </tr>\n",
       "    <tr>\n",
       "      <th>USABLE_DATE_MON</th>\n",
       "      <td>2572169.0</td>\n",
       "      <td>315233.0</td>\n",
       "      <td>3.0</td>\n",
       "    </tr>\n",
       "    <tr>\n",
       "      <th>USABLE_DATE_SAT</th>\n",
       "      <td>2572169.0</td>\n",
       "      <td>315233.0</td>\n",
       "      <td>3.0</td>\n",
       "    </tr>\n",
       "    <tr>\n",
       "      <th>USABLE_DATE_SUN</th>\n",
       "      <td>2572169.0</td>\n",
       "      <td>315233.0</td>\n",
       "      <td>3.0</td>\n",
       "    </tr>\n",
       "    <tr>\n",
       "      <th>USABLE_DATE_THU</th>\n",
       "      <td>2572169.0</td>\n",
       "      <td>315233.0</td>\n",
       "      <td>3.0</td>\n",
       "    </tr>\n",
       "    <tr>\n",
       "      <th>USABLE_DATE_TUE</th>\n",
       "      <td>2572169.0</td>\n",
       "      <td>315233.0</td>\n",
       "      <td>3.0</td>\n",
       "    </tr>\n",
       "    <tr>\n",
       "      <th>USABLE_DATE_WED</th>\n",
       "      <td>2572169.0</td>\n",
       "      <td>315233.0</td>\n",
       "      <td>3.0</td>\n",
       "    </tr>\n",
       "    <tr>\n",
       "      <th>VALIDPERIOD</th>\n",
       "      <td>1779839.0</td>\n",
       "      <td>1107563.0</td>\n",
       "      <td>181.0</td>\n",
       "    </tr>\n",
       "    <tr>\n",
       "      <th>VIEW</th>\n",
       "      <td>2833180.0</td>\n",
       "      <td>54222.0</td>\n",
       "      <td>2.0</td>\n",
       "    </tr>\n",
       "    <tr>\n",
       "      <th rowspan=\"3\" valign=\"top\">int64</th>\n",
       "      <th>AGE</th>\n",
       "      <td>2887402.0</td>\n",
       "      <td>0.0</td>\n",
       "      <td>66.0</td>\n",
       "    </tr>\n",
       "    <tr>\n",
       "      <th>PURCHASE_FLG</th>\n",
       "      <td>2887402.0</td>\n",
       "      <td>0.0</td>\n",
       "      <td>2.0</td>\n",
       "    </tr>\n",
       "    <tr>\n",
       "      <th>SEX_ID</th>\n",
       "      <td>2887402.0</td>\n",
       "      <td>0.0</td>\n",
       "      <td>2.0</td>\n",
       "    </tr>\n",
       "    <tr>\n",
       "      <th rowspan=\"11\" valign=\"top\">object</th>\n",
       "      <th>COUPON_ID_hash</th>\n",
       "      <td>2887402.0</td>\n",
       "      <td>0.0</td>\n",
       "      <td>32629.0</td>\n",
       "    </tr>\n",
       "    <tr>\n",
       "      <th>Case</th>\n",
       "      <td>2572169.0</td>\n",
       "      <td>315233.0</td>\n",
       "      <td>17.0</td>\n",
       "    </tr>\n",
       "    <tr>\n",
       "      <th>PURCHASEID_hash</th>\n",
       "      <td>176611.0</td>\n",
       "      <td>2710791.0</td>\n",
       "      <td>168997.0</td>\n",
       "    </tr>\n",
       "    <tr>\n",
       "      <th>REFERRER_hash</th>\n",
       "      <td>2833180.0</td>\n",
       "      <td>54222.0</td>\n",
       "      <td>97320.0</td>\n",
       "    </tr>\n",
       "    <tr>\n",
       "      <th>SESSION_ID_hash</th>\n",
       "      <td>2833180.0</td>\n",
       "      <td>54222.0</td>\n",
       "      <td>1046180.0</td>\n",
       "    </tr>\n",
       "    <tr>\n",
       "      <th>USER_ID_hash</th>\n",
       "      <td>2887402.0</td>\n",
       "      <td>0.0</td>\n",
       "      <td>22833.0</td>\n",
       "    </tr>\n",
       "    <tr>\n",
       "      <th>spot_large</th>\n",
       "      <td>2572169.0</td>\n",
       "      <td>315233.0</td>\n",
       "      <td>10.0</td>\n",
       "    </tr>\n",
       "    <tr>\n",
       "      <th>spot_pref</th>\n",
       "      <td>2572169.0</td>\n",
       "      <td>315233.0</td>\n",
       "      <td>48.0</td>\n",
       "    </tr>\n",
       "    <tr>\n",
       "      <th>spot_small</th>\n",
       "      <td>2572169.0</td>\n",
       "      <td>315233.0</td>\n",
       "      <td>56.0</td>\n",
       "    </tr>\n",
       "    <tr>\n",
       "      <th>user_pref</th>\n",
       "      <td>2334838.0</td>\n",
       "      <td>552564.0</td>\n",
       "      <td>48.0</td>\n",
       "    </tr>\n",
       "    <tr>\n",
       "      <th>user_small</th>\n",
       "      <td>176611.0</td>\n",
       "      <td>2710791.0</td>\n",
       "      <td>56.0</td>\n",
       "    </tr>\n",
       "  </tbody>\n",
       "</table>\n",
       "</div>"
      ],
      "text/plain": [
       "                                                 act       null     unique\n",
       "dtype          name                                                       \n",
       "datetime64[ns] DISPEND                     2572169.0   315233.0      376.0\n",
       "               DISPFROM                    2572169.0   315233.0      381.0\n",
       "               REG_DATE                    2887402.0        0.0    21895.0\n",
       "               VALIDEND                    1779839.0  1107563.0      516.0\n",
       "               VALIDFROM                   1779839.0  1107563.0      378.0\n",
       "               VIEW_DATE                   2833180.0    54222.0  2638745.0\n",
       "               WITHDRAW_DATE                 19369.0  2868033.0      904.0\n",
       "               purchase_date                176611.0  2710791.0   130310.0\n",
       "float64        CATALOG_PRICE               2572169.0   315233.0     2417.0\n",
       "               DISCOUNT_PRICE              2572169.0   315233.0     1116.0\n",
       "               DISPPERIOD                  2572169.0   315233.0       19.0\n",
       "               ITEM_COUNT                   176611.0  2710791.0       33.0\n",
       "               PAGE_SERIAL                 2833180.0    54222.0      467.0\n",
       "               PRICE_RATE                  2572169.0   315233.0       72.0\n",
       "               Price                       2572169.0   315233.0     4087.0\n",
       "               USABLE_DATE_BEFORE_HOLIDAY  2572169.0   315233.0        3.0\n",
       "               USABLE_DATE_FRI             2572169.0   315233.0        3.0\n",
       "               USABLE_DATE_HOLIDAY         2572169.0   315233.0        3.0\n",
       "               USABLE_DATE_MON             2572169.0   315233.0        3.0\n",
       "               USABLE_DATE_SAT             2572169.0   315233.0        3.0\n",
       "               USABLE_DATE_SUN             2572169.0   315233.0        3.0\n",
       "               USABLE_DATE_THU             2572169.0   315233.0        3.0\n",
       "               USABLE_DATE_TUE             2572169.0   315233.0        3.0\n",
       "               USABLE_DATE_WED             2572169.0   315233.0        3.0\n",
       "               VALIDPERIOD                 1779839.0  1107563.0      181.0\n",
       "               VIEW                        2833180.0    54222.0        2.0\n",
       "int64          AGE                         2887402.0        0.0       66.0\n",
       "               PURCHASE_FLG                2887402.0        0.0        2.0\n",
       "               SEX_ID                      2887402.0        0.0        2.0\n",
       "object         COUPON_ID_hash              2887402.0        0.0    32629.0\n",
       "               Case                        2572169.0   315233.0       17.0\n",
       "               PURCHASEID_hash              176611.0  2710791.0   168997.0\n",
       "               REFERRER_hash               2833180.0    54222.0    97320.0\n",
       "               SESSION_ID_hash             2833180.0    54222.0  1046180.0\n",
       "               USER_ID_hash                2887402.0        0.0    22833.0\n",
       "               spot_large                  2572169.0   315233.0       10.0\n",
       "               spot_pref                   2572169.0   315233.0       48.0\n",
       "               spot_small                  2572169.0   315233.0       56.0\n",
       "               user_pref                   2334838.0   552564.0       48.0\n",
       "               user_small                   176611.0  2710791.0       56.0"
      ]
     },
     "execution_count": 28,
     "metadata": {},
     "output_type": "execute_result"
    }
   ],
   "source": [
    "summary_table(train).pivot_table(index = ['dtype', 'name'])"
   ]
  },
  {
   "cell_type": "markdown",
   "metadata": {},
   "source": [
    "#### 3-1-1) train set 요약: 2,913,043 행과 42개 columns로 구성 -> null 값처리 \n",
    "\n",
    "##### 기초 정보 & 구매정보로부터 확보한 데이터 \n",
    "    a) 기초정보(test & train coupon_list)에 속하지 않는 315,233 개의 열: 제거(DISPFROM 기준 notnull 적용)\n",
    "    b) VALIDPERIOD: 유효기간이 null이라는 건 구매에 제한이 없다는 것을 의미하므로 최대값으로 처리\n",
    "    c) VALIDEND, VALIDFROM: 유효기간의 시작과 끝은 의미가 없음, drop 처리\n",
    "------------------------------------------------------------------------------------------------    \n",
    "\n",
    "#### 방문 & 구매정보로부터 확보한 데이터 -> test set에 적용이 어려움 or 프로젝트 목적에 필요 없는 데이터들\n",
    "    d) REFERRER_hash, SESSION_ID_hash: 접속 log 값이므로 drop 처리\n",
    "    e) PURCHASEID_hash: PURCHASE_FLG 기준으로 집계가 가능하므로 drop 처리\n",
    "    f) user_small, user_pref: 유저정보가 없는 것이므로 NN처리\n",
    "    g) VIEW: 관심도라고 볼 수 있지만, test set에 적용 불가\n",
    "             null은 조회를 하지 않고 구매를 했다는 것을 의미하므로 0으로 처리\n",
    "    h) VIEW_DATE, WITHDRAW_DATE: test set에 적용할 수 없는 특징으로, drop 처리\n",
    "    i) ITEM_COUNT: detail 에만 존재하므로 310개의 새로운 쿠폰에는 적용 불가능\n",
    "                   null은 0처리\n",
    "    j) PAGE_SERIAL: test set 에 적용이 불가능하므로 drop 처리"
   ]
  },
  {
   "cell_type": "code",
   "execution_count": 29,
   "metadata": {},
   "outputs": [],
   "source": [
    "# a) 기초정보(test & train coupon_list)에 속하지 않는 315,233 개의 열: 제거(DISPFROM 기준 notnull 적용)\n",
    "train = train[train['DISPFROM'].notnull()]"
   ]
  },
  {
   "cell_type": "code",
   "execution_count": 30,
   "metadata": {},
   "outputs": [],
   "source": [
    "# b) VALIDPERIOD: 유효기간이 null이라는 건 구매에 제한이 없다는 것을 의미하므로 최대값(179)으로 처리\n",
    "train['VALIDPERIOD'] = train['VALIDPERIOD'].fillna(179)"
   ]
  },
  {
   "cell_type": "code",
   "execution_count": 31,
   "metadata": {},
   "outputs": [],
   "source": [
    "# c) VALIDEND, VALIDFROM: 유효기간의 시작과 끝은 의미가 없음, drop 처리\n",
    "train = train.drop(labels = ['VALIDEND', 'VALIDFROM'], axis=1)"
   ]
  },
  {
   "cell_type": "code",
   "execution_count": 32,
   "metadata": {},
   "outputs": [],
   "source": [
    "# d) REFERRER_hash, SESSION_ID_hash: 접속 log 값이므로 drop 처리\n",
    "train = train.drop(labels = ['REFERRER_hash', 'SESSION_ID_hash'], axis=1)"
   ]
  },
  {
   "cell_type": "code",
   "execution_count": 33,
   "metadata": {},
   "outputs": [],
   "source": [
    "# e) PURCHASEID_hash: PURCHASE_FLG 기준으로 집계가 가능하므로 drop 처리\n",
    "train = train.drop(labels = ['PURCHASEID_hash'], axis=1)"
   ]
  },
  {
   "cell_type": "code",
   "execution_count": 34,
   "metadata": {},
   "outputs": [],
   "source": [
    "# f) user_small, user_pref: 유저정보가 없는 것이므로 NN처리 -> detail에만 있던 정보이기 때문에 test set에 적용할 수 없음\n",
    "train['user_small'] = train['user_small'].fillna('NN')\n",
    "train['user_pref'] = train['user_pref'].fillna('NN')"
   ]
  },
  {
   "cell_type": "code",
   "execution_count": 35,
   "metadata": {},
   "outputs": [],
   "source": [
    "# g) VIEW: null은 조회를 하지 않고 구매를 했다는 것을 의미하므로 0으로 처리 - visit에만 있던 정보이기 때문에 test set에 적용 할 수 없음\n",
    "train['VIEW'] = train['VIEW'].fillna(0)"
   ]
  },
  {
   "cell_type": "code",
   "execution_count": 36,
   "metadata": {},
   "outputs": [],
   "source": [
    "# h) VIEW_DATE, WITHDRAW_DATE: test set에 적용할 수 없는 특징으로, drop 처리\n",
    "train = train.drop(labels = ['VIEW_DATE', 'WITHDRAW_DATE'], axis=1)"
   ]
  },
  {
   "cell_type": "code",
   "execution_count": 37,
   "metadata": {},
   "outputs": [],
   "source": [
    "# i) ITEM_COUNT: 0처리\n",
    "train = train.drop(labels = ['ITEM_COUNT'], axis=1)"
   ]
  },
  {
   "cell_type": "code",
   "execution_count": 38,
   "metadata": {},
   "outputs": [],
   "source": [
    "# j) PAGE_SERIAL: test set 에 적용이 불가능하므로 drop 처리\n",
    "train = train.drop(labels = ['PAGE_SERIAL'], axis=1)"
   ]
  },
  {
   "cell_type": "markdown",
   "metadata": {},
   "source": [
    "#### 3-1-2) 분석대상 요약(purchase data)\n",
    "\n",
    "- 전체 2,572,169 개 중 176,611(6.4%) 개의 구매 여부를 통해 예상 구매 쿠폰을 분석"
   ]
  },
  {
   "cell_type": "code",
   "execution_count": 39,
   "metadata": {},
   "outputs": [
    {
     "name": "stdout",
     "output_type": "stream",
     "text": [
      "구매 합계: 176611\n",
      "전체: 2572169\n"
     ]
    },
    {
     "data": {
      "text/plain": [
       "([<matplotlib.patches.Wedge at 0x11d5b3e80>,\n",
       "  <matplotlib.patches.Wedge at 0x11d5cf5c0>],\n",
       " [Text(0.523776,0.967295,'buy'), Text(-0.523776,-0.967295,'no')],\n",
       " [Text(0.285696,0.527615,'6.4%'), Text(-0.285696,-0.527615,'93.6%')])"
      ]
     },
     "execution_count": 39,
     "metadata": {},
     "output_type": "execute_result"
    },
    {
     "data": {
      "image/png": "[encoded data removed]",
      "text/plain": [
       "<matplotlib.figure.Figure at 0x10852dc50>"
      ]
     },
     "metadata": {},
     "output_type": "display_data"
    }
   ],
   "source": [
    "print('구매 합계: {}'.format(train.PURCHASE_FLG.sum(), ','))\n",
    "print('전체: {}'.format(len(train.PURCHASE_FLG)))\n",
    "plt.pie([train.PURCHASE_FLG.sum(), len(train.PURCHASE_FLG)], labels=[\"buy\", \"no\"],\n",
    "        autopct='%1.1f%%', \n",
    "        startangle=50)"
   ]
  },
  {
   "cell_type": "markdown",
   "metadata": {},
   "source": [
    "### 3-2. numeric values\n",
    "    3-2-1) PRICE_RATE: 50% 수준이 대다수 분포\n",
    "    3-2-2) CATALOG_PRICE / DISCOUNT_PRICE / Price는 분포 및 상관관계가 유사 -> Price 유지하며, 정규화 처리\n",
    "    3-2-3) DISPPERIOD: 기간이 긴 것들이 일부 존재(평균을 10이라고 했을때, 4만(구매는 9,300)) 하지만 OUTLIER라고 활 명확한 근거가 없음 \n",
    "    3-2-4) VALIDPERIOD: 유효기간의 제한이 없는 것들이 대다수를 차지함"
   ]
  },
  {
   "cell_type": "code",
   "execution_count": 40,
   "metadata": {},
   "outputs": [],
   "source": [
    "df = train.copy()"
   ]
  },
  {
   "cell_type": "code",
   "execution_count": 41,
   "metadata": {},
   "outputs": [
    {
     "data": {
      "image/png": "[encoded data removed]",
      "text/plain": [
       "<matplotlib.figure.Figure at 0x135c801d0>"
      ]
     },
     "metadata": {},
     "output_type": "display_data"
    },
    {
     "data": {
      "image/png": "[encoded data removed]",
      "text/plain": [
       "<matplotlib.figure.Figure at 0x1312b2ac8>"
      ]
     },
     "metadata": {},
     "output_type": "display_data"
    }
   ],
   "source": [
    "cols = ['PRICE_RATE', 'CATALOG_PRICE', 'DISCOUNT_PRICE', 'Price', 'DISPPERIOD', 'VALIDPERIOD']\n",
    "plt.figure(figsize=(20, 10))\n",
    "for idx, col in enumerate(cols):\n",
    "    plt.subplot(4, 2, idx+1)\n",
    "    sns.distplot(df[col])\n",
    "plt.tight_layout(pad=2, h_pad=1)\n",
    "plt.show()\n",
    "corr = df.filter(cols).corr()\n",
    "plt.figure(figsize = (10,5))\n",
    "mask = np.zeros_like(corr)\n",
    "mask[np.triu_indices_from(mask)] = True\n",
    "with sns.axes_style(\"white\"):\n",
    "    ax = sns.heatmap(corr, mask = mask, annot=True, fmt = \".2f\", cmap = \"YlGnBu\")"
   ]
  },
  {
   "cell_type": "code",
   "execution_count": 42,
   "metadata": {},
   "outputs": [],
   "source": [
    "# PRICE 정규화\n",
    "coupon_list[\"lnDPRICE\"] = np.log1p(coupon_list[\"Price\"])\n",
    "coupon_list[\"mDPRICE\"] = coupon_list.groupby(\"Case\")[\"lnDPRICE\"].transform(np.mean)\n",
    "coupon_list[\"sDPRICE\"] = coupon_list.groupby(\"Case\")[\"lnDPRICE\"].transform(np.std)\n",
    "coupon_list[\"zprice\"] = (coupon_list[\"lnDPRICE\"] - coupon_list[\"mDPRICE\"]) / coupon_list[\"sDPRICE\"]\n",
    "\n",
    "coupon_list = coupon_list.drop(labels = ['CATALOG_PRICE', 'DISCOUNT_PRICE', 'Price'], axis=1)\n",
    "coupon_list = coupon_list.drop(labels = ['lnDPRICE', 'mDPRICE', 'sDPRICE'], axis=1)"
   ]
  },
  {
   "cell_type": "markdown",
   "metadata": {},
   "source": [
    "### 3-3. cat values: CAPSULE , REGION(spot_large, spot_pref, spot_small), USABLE, SEX_ID, AGE)"
   ]
  },
  {
   "cell_type": "code",
   "execution_count": 43,
   "metadata": {},
   "outputs": [],
   "source": [
    "CAPSULE = ['Case']\n",
    "REGION = ['spot_large', 'spot_pref', 'splot_small']\n",
    "etc = ['SEX_ID', 'AGE']"
   ]
  },
  {
   "cell_type": "code",
   "execution_count": 44,
   "metadata": {},
   "outputs": [],
   "source": [
    "df = train.copy()"
   ]
  },
  {
   "cell_type": "markdown",
   "metadata": {},
   "source": [
    "#### 3-3-1) PURCHASE_FLG를 y 값으로 분포 파악\n",
    "- Case: DELIVERY, FOOD가 대다수를 차지 -> 연령 및 성별 등과 복합적으로 봐야할 것으로 보임\n",
    "- REGION: 9개의 large_area에서 55개의 small area로 나뉨, 대다수가 Tokyo, Osaka등 대도시임"
   ]
  },
  {
   "cell_type": "code",
   "execution_count": 45,
   "metadata": {},
   "outputs": [
    {
     "data": {
      "text/plain": [
       "<matplotlib.axes._subplots.AxesSubplot at 0x1259bb278>"
      ]
     },
     "execution_count": 45,
     "metadata": {},
     "output_type": "execute_result"
    },
    {
     "data": {
      "image/png": "[encoded data removed]",
      "text/plain": [
       "<matplotlib.figure.Figure at 0x112d18da0>"
      ]
     },
     "metadata": {},
     "output_type": "display_data"
    }
   ],
   "source": [
    "df = df.pivot_table(index = ['Case'], values = ['PURCHASE_FLG'], aggfunc=sum).reset_index()\n",
    "df = df.sort_values(by='PURCHASE_FLG', ascending=False)\n",
    "plt.figure(figsize = (30, 10))\n",
    "sns.barplot(x='Case', y='PURCHASE_FLG', data=df)"
   ]
  },
  {
   "cell_type": "markdown",
   "metadata": {},
   "source": [
    "#### 3-3-2) REGION\n",
    "- Kanto(large) 지방중에서도 Tokyo가 대다수를 차지"
   ]
  },
  {
   "cell_type": "code",
   "execution_count": 46,
   "metadata": {},
   "outputs": [
    {
     "name": "stdout",
     "output_type": "stream",
     "text": [
      "spot_large : 9개\n",
      "spot_pref : 47개\n",
      "spot_small : 55개\n"
     ]
    }
   ],
   "source": [
    "df = train.copy()\n",
    "print('spot_large : {}개'. format(len(df.spot_large.unique())))\n",
    "print('spot_pref : {}개'. format(len(df.spot_pref.unique())))\n",
    "print('spot_small : {}개'. format(len(df.spot_small.unique())))"
   ]
  },
  {
   "cell_type": "code",
   "execution_count": 47,
   "metadata": {},
   "outputs": [
    {
     "data": {
      "text/plain": [
       "<matplotlib.axes._subplots.AxesSubplot at 0x10daf6e48>"
      ]
     },
     "execution_count": 47,
     "metadata": {},
     "output_type": "execute_result"
    },
    {
     "data": {
      "image/png": "[encoded data removed]",
      "text/plain": [
       "<matplotlib.figure.Figure at 0x10b8d0ba8>"
      ]
     },
     "metadata": {},
     "output_type": "display_data"
    }
   ],
   "source": [
    "df = train.copy()\n",
    "df = df.pivot_table(index = ['spot_large'], values = ['PURCHASE_FLG'], aggfunc=sum).reset_index()\n",
    "df = df.sort_values(by='PURCHASE_FLG', ascending=False)\n",
    "plt.figure(figsize = (30, 10))\n",
    "sns.barplot(x='spot_large', y='PURCHASE_FLG', data=df)"
   ]
  },
  {
   "cell_type": "code",
   "execution_count": 48,
   "metadata": {},
   "outputs": [
    {
     "data": {
      "text/plain": [
       "<matplotlib.axes._subplots.AxesSubplot at 0x10daf6ac8>"
      ]
     },
     "execution_count": 48,
     "metadata": {},
     "output_type": "execute_result"
    },
    {
     "data": {
      "image/png": "[encoded data removed]",
      "text/plain": [
       "<matplotlib.figure.Figure at 0x10dad9e48>"
      ]
     },
     "metadata": {},
     "output_type": "display_data"
    }
   ],
   "source": [
    "df = train.copy()\n",
    "df = df.pivot_table(index = ['spot_pref'], values = ['PURCHASE_FLG'], aggfunc=sum).reset_index()\n",
    "df = df.sort_values(by='PURCHASE_FLG', ascending=False)\n",
    "plt.figure(figsize = (30, 10))\n",
    "sns.barplot(x='spot_pref', y='PURCHASE_FLG', data=df)"
   ]
  },
  {
   "cell_type": "markdown",
   "metadata": {},
   "source": [
    "#### 3-3-3) Case, REGION 등을 복합적으로 파악(POWER BI 활용)\n",
    "\n",
    "https://app.powerbi.com/groups/me/reports/03d844da-8e2c-4a5f-8f48-58e71339b111/ReportSection73c0d48d6b7954dea7bc"
   ]
  },
  {
   "cell_type": "markdown",
   "metadata": {},
   "source": [
    "- 30대~50대가 대부분의 소비를 차지하고 있으며, 이들이 delivery와 food를 주로 구매하고 있음\n",
    "- 전체로 봤을 때는 여성의 소비 비중이 높음\n",
    "- 여성과 남성의 구입 품목에서도 차이를 보이는데, 여성의 경우 delivery / 남성의 경우 Food 소비가 주를 이룸"
   ]
  },
  {
   "cell_type": "markdown",
   "metadata": {},
   "source": [
    "![image.png](./image/image2.png)"
   ]
  },
  {
   "cell_type": "markdown",
   "metadata": {},
   "source": [
    "- HOTLE과 LEISURE는 도쿄 중심이 아니라 다양한 지역으로 분포 되어 있음, 여행목적이기 때문인 것으로 보임\n",
    "- 남성의 비중이 크고, 연령대도 높음\n",
    "![image.png](./image/image3.png)"
   ]
  },
  {
   "cell_type": "markdown",
   "metadata": {},
   "source": [
    "#### 지역과 Case는 여러가지 의미를 지니는 중요한 변수로 보여짐"
   ]
  },
  {
   "cell_type": "markdown",
   "metadata": {},
   "source": [
    "### 3-4. usable_date"
   ]
  },
  {
   "cell_type": "code",
   "execution_count": 49,
   "metadata": {},
   "outputs": [],
   "source": [
    "df = train.copy()\n",
    "# 구매가 있는 것들만 필터링\n",
    "df = df[df['purchase_date'].notnull()]\n",
    "# 구매 요일 추가\n",
    "df['weekday'] = df[['purchase_date']].apply(lambda x: dt.datetime.strftime(x['purchase_date'], '%a'), axis=1)"
   ]
  },
  {
   "cell_type": "code",
   "execution_count": 50,
   "metadata": {},
   "outputs": [],
   "source": [
    "df_mon = df[df['USABLE_DATE_MON'] == 1]\n",
    "df_mon = df_mon.groupby(['weekday'])['PURCHASE_FLG'].sum().reset_index()\n",
    "\n",
    "df_Tue = df[df['USABLE_DATE_TUE'] == 1]\n",
    "df_Tue = df_Tue.groupby(['weekday'])['PURCHASE_FLG'].sum().reset_index()\n",
    "\n",
    "df_Wed = df[df['USABLE_DATE_WED'] == 1]\n",
    "df_Wed = df_mon.groupby(['weekday'])['PURCHASE_FLG'].sum().reset_index()\n",
    "\n",
    "df_Thu = df[df['USABLE_DATE_THU'] == 1]\n",
    "df_Thu = df_Thu.groupby(['weekday'])['PURCHASE_FLG'].sum().reset_index()\n",
    "\n",
    "df_Fri = df[df['USABLE_DATE_FRI'] == 1]\n",
    "df_Fri = df_Fri.groupby(['weekday'])['PURCHASE_FLG'].sum().reset_index()\n",
    "\n",
    "df_Sat = df[df['USABLE_DATE_SAT'] == 1]\n",
    "df_Sat = df_Sat.groupby(['weekday'])['PURCHASE_FLG'].sum().reset_index()\n",
    "\n",
    "df_Sun = df[df['USABLE_DATE_SUN'] == 1]\n",
    "df_Sun = df_Sun.groupby(['weekday'])['PURCHASE_FLG'].sum().reset_index()"
   ]
  },
  {
   "cell_type": "code",
   "execution_count": 51,
   "metadata": {},
   "outputs": [],
   "source": [
    "ls = [df_mon, df_Tue, df_Wed, df_Thu, df_Fri, df_Sat, df_Sun]\n",
    "title = ['df_mon', 'df_Tue', 'df_Wed', 'df_Thu', 'df_Fri', 'df_sat', 'df_Sun']"
   ]
  },
  {
   "cell_type": "code",
   "execution_count": 52,
   "metadata": {},
   "outputs": [
    {
     "data": {
      "image/png": "[encoded data removed]",
      "text/plain": [
       "<matplotlib.figure.Figure at 0x11c204a58>"
      ]
     },
     "metadata": {},
     "output_type": "display_data"
    }
   ],
   "source": [
    "\n",
    "plt.figure(figsize=(20, 5))\n",
    "for idx, col, title in zip(np.arange(1,7), ls, title):\n",
    "    plt.subplot(2, 8, idx + 1)\n",
    "    sns.barplot(x = col.weekday, y= col.PURCHASE_FLG)\n",
    "    plt.title(title)\n",
    "plt.tight_layout(pad=2, h_pad=1)\n",
    "plt.show()"
   ]
  },
  {
   "cell_type": "markdown",
   "metadata": {},
   "source": [
    "#### 해당 요일에만 사용가능한 쿠폰이 해당요일에 많이 팔렸을 것 같지만, 그렇지 않음\n",
    "\n",
    "- 사용 가능 요일을 나타내는 USABLE feature는 의미가 없음\n",
    "- 하지만 총 USABLE DAY에 따라 판매량을 재 검토해 볼 필요는 있음"
   ]
  },
  {
   "cell_type": "code",
   "execution_count": 53,
   "metadata": {},
   "outputs": [],
   "source": [
    "df['usable'] = df['USABLE_DATE_MON'] + df['USABLE_DATE_TUE'] + df['USABLE_DATE_WED'] + df['USABLE_DATE_THU'] \\\n",
    "            + df['USABLE_DATE_FRI'] + df['USABLE_DATE_SAT'] + df['USABLE_DATE_SUN'] + df['USABLE_DATE_HOLIDAY'] \\\n",
    "                + df['USABLE_DATE_BEFORE_HOLIDAY']"
   ]
  },
  {
   "cell_type": "code",
   "execution_count": 54,
   "metadata": {},
   "outputs": [
    {
     "data": {
      "text/plain": [
       "<matplotlib.axes._subplots.AxesSubplot at 0x123909748>"
      ]
     },
     "execution_count": 54,
     "metadata": {},
     "output_type": "execute_result"
    },
    {
     "data": {
      "image/png": "[encoded data removed]",
      "text/plain": [
       "<matplotlib.figure.Figure at 0x1232430b8>"
      ]
     },
     "metadata": {},
     "output_type": "display_data"
    }
   ],
   "source": [
    "df_usable = df.groupby(['usable'])['PURCHASE_FLG'].sum().reset_index()\n",
    "sns.barplot(x='usable', y='PURCHASE_FLG', data=df_usable)"
   ]
  },
  {
   "cell_type": "markdown",
   "metadata": {},
   "source": [
    "![image.png](./image/image4.png)"
   ]
  },
  {
   "cell_type": "markdown",
   "metadata": {},
   "source": [
    "- USABLE DAY가 많을 수록 판매량이 높음, DELIVERY는 모든 쿠폰의 USABLE DAY가 9였음\n",
    "- 특정 요일에 특정 제품이 팔리는 경우는 없는듯, 전체적으로 비슷하며 3(화)~5(목) 요일의 판매량이 다소 높음\n",
    "- 9개의 USABEL_DATE_() 를 모두 제거하고 USABLE 컬럼을 생성"
   ]
  },
  {
   "cell_type": "code",
   "execution_count": 55,
   "metadata": {},
   "outputs": [],
   "source": [
    "df_usable = df.groupby(['usable', 'Case'])['PURCHASE_FLG','VIEW'].sum().reset_index()"
   ]
  },
  {
   "cell_type": "code",
   "execution_count": 56,
   "metadata": {},
   "outputs": [],
   "source": [
    "# coupon_list\n",
    "coupon_list['usable'] = coupon_list['USABLE_DATE_MON'] + coupon_list['USABLE_DATE_TUE'] + coupon_list['USABLE_DATE_WED'] + coupon_list['USABLE_DATE_THU'] \\\n",
    "            + coupon_list['USABLE_DATE_FRI'] + coupon_list['USABLE_DATE_SAT'] + coupon_list['USABLE_DATE_SUN'] + coupon_list['USABLE_DATE_HOLIDAY'] \\\n",
    "                + coupon_list['USABLE_DATE_BEFORE_HOLIDAY']"
   ]
  },
  {
   "cell_type": "code",
   "execution_count": 57,
   "metadata": {},
   "outputs": [],
   "source": [
    "coupon_list.drop(labels = ['USABLE_DATE_MON', 'USABLE_DATE_TUE', 'USABLE_DATE_WED','USABLE_DATE_THU', \n",
    "                    'USABLE_DATE_FRI', 'USABLE_DATE_SAT', 'USABLE_DATE_SUN'], axis = 1, inplace=True)"
   ]
  },
  {
   "cell_type": "markdown",
   "metadata": {},
   "source": [
    "### 3-5. Feature 확정\n",
    "#### 선택 변수\n",
    "- PRICE_RATE\n",
    "- zprice\n",
    "- usable\n",
    "- Case - dummy\n",
    "- spot_large - dummy\n",
    "- spot_pref - dummy\n",
    "- spot_small - dummy\n",
    "- DISPPERIOD\n",
    "- VALIDPERIOD\n",
    "\n",
    "#### 제외 변수\n",
    "- 구매 정보: ITEM_COUNT\n",
    "- USER 정보: VIEW, user_small, user_pref, REG_DATE, SEX_ID, AGE, WITHDRAW_DATE\n",
    "- coupon 정보: DSIPFROM, DISPEND, VALIDEND, VALIDFROM"
   ]
  },
  {
   "cell_type": "code",
   "execution_count": 58,
   "metadata": {},
   "outputs": [
    {
     "data": {
      "text/plain": [
       "Index(['PURCHASE_FLG', 'COUPON_ID_hash', 'USER_ID_hash', 'VIEW',\n",
       "       'purchase_date', 'user_small', 'PRICE_RATE', 'CATALOG_PRICE',\n",
       "       'DISCOUNT_PRICE', 'DISPFROM', 'DISPEND', 'DISPPERIOD', 'VALIDPERIOD',\n",
       "       'USABLE_DATE_MON', 'USABLE_DATE_TUE', 'USABLE_DATE_WED',\n",
       "       'USABLE_DATE_THU', 'USABLE_DATE_FRI', 'USABLE_DATE_SAT',\n",
       "       'USABLE_DATE_SUN', 'USABLE_DATE_HOLIDAY', 'USABLE_DATE_BEFORE_HOLIDAY',\n",
       "       'spot_large', 'spot_pref', 'spot_small', 'Case', 'Price', 'REG_DATE',\n",
       "       'SEX_ID', 'AGE', 'user_pref'],\n",
       "      dtype='object')"
      ]
     },
     "execution_count": 58,
     "metadata": {},
     "output_type": "execute_result"
    }
   ],
   "source": [
    "train.columns"
   ]
  },
  {
   "cell_type": "code",
   "execution_count": 59,
   "metadata": {},
   "outputs": [],
   "source": [
    "ls_dummy = ['Case', 'spot_pref', 'spot_large', 'spot_small']"
   ]
  },
  {
   "cell_type": "code",
   "execution_count": 60,
   "metadata": {},
   "outputs": [],
   "source": [
    "coupon_list = pd.get_dummies(coupon_list, columns = ls_dummy)\n",
    "coupon_list_test = coupon_list[:310]"
   ]
  },
  {
   "cell_type": "code",
   "execution_count": 61,
   "metadata": {},
   "outputs": [],
   "source": [
    "detail_train = detail_train.filter(['USER_ID_hash', 'COUPON_ID_hash'])\n",
    "detail_train = pd.merge(detail_train, coupon_list, how='left', on='COUPON_ID_hash')\n",
    "detail_train = detail_train.merge(user_list, on = 'USER_ID_hash', how = 'outer')"
   ]
  },
  {
   "cell_type": "code",
   "execution_count": 62,
   "metadata": {},
   "outputs": [],
   "source": [
    "del_ls = ['DISPFROM', 'DISPEND', 'VALIDEND', 'REG_DATE', 'SEX_ID', 'AGE', 'WITHDRAW_DATE', 'user_pref',\n",
    "          'VALIDFROM']\n",
    "train_cos = detail_train.drop(del_ls, 1)"
   ]
  },
  {
   "cell_type": "code",
   "execution_count": 63,
   "metadata": {},
   "outputs": [
    {
     "data": {
      "text/plain": [
       "(169087, 136)"
      ]
     },
     "execution_count": 63,
     "metadata": {},
     "output_type": "execute_result"
    }
   ],
   "source": [
    "train_cos.shape"
   ]
  },
  {
   "cell_type": "markdown",
   "metadata": {},
   "source": [
    "--------------------------------------------------------------------------------------------------------\n",
    "--------------------------------------------------------------------------------------------------------\n",
    "## 4. 모델링\n",
    "--------------------------------------------------------------------------------------------------------\n",
    "--------------------------------------------------------------------------------------------------------"
   ]
  },
  {
   "cell_type": "markdown",
   "metadata": {},
   "source": [
    "## 4-1. 코사인 유사도 사용\n",
    ": 아래 모델보다 나은 결과를 보임"
   ]
  },
  {
   "cell_type": "markdown",
   "metadata": {},
   "source": [
    "### 4-1-1. 데이터 생성"
   ]
  },
  {
   "cell_type": "code",
   "execution_count": 64,
   "metadata": {},
   "outputs": [],
   "source": [
    "test_cos = coupon_list_test.filter(train_cos.columns)\n",
    "# test = test.drop(labels = ['spot_large', 'spot_small'] ,axis=1)\n",
    "train['usable'] = train['USABLE_DATE_MON'] + train['USABLE_DATE_TUE'] + train['USABLE_DATE_WED'] + train['USABLE_DATE_THU'] \\\n",
    "            + train['USABLE_DATE_FRI'] + train['USABLE_DATE_SAT'] + train['USABLE_DATE_SUN'] + train['USABLE_DATE_HOLIDAY'] \\\n",
    "                + train['USABLE_DATE_BEFORE_HOLIDAY']"
   ]
  },
  {
   "cell_type": "code",
   "execution_count": 65,
   "metadata": {},
   "outputs": [
    {
     "name": "stdout",
     "output_type": "stream",
     "text": [
      "only_train: ['USER_ID_hash']  \n",
      "\n",
      "only_test: []\n"
     ]
    }
   ],
   "source": [
    "compare_not_test = [i for i in train_cos.columns if i not in test_cos.columns]\n",
    "compare_not_train = [i for i in test_cos.columns if i not in train_cos.columns]\n",
    "print('only_train: {}  \\n'.format(compare_not_test))\n",
    "print('only_test: {}'.format(compare_not_train))"
   ]
  },
  {
   "cell_type": "markdown",
   "metadata": {},
   "source": [
    "### 4-1-2. 유사도 구하기"
   ]
  },
  {
   "cell_type": "code",
   "execution_count": 66,
   "metadata": {},
   "outputs": [],
   "source": [
    "train_drop_c = train_cos.drop('COUPON_ID_hash', axis=1)\n",
    "dfdf = train_drop_c.groupby(by='USER_ID_hash').apply(np.mean)"
   ]
  },
  {
   "cell_type": "code",
   "execution_count": 70,
   "metadata": {},
   "outputs": [
    {
     "data": {
      "text/plain": [
       "Index(['PRICE_RATE', 'DISPPERIOD', 'VALIDPERIOD', 'USABLE_DATE_HOLIDAY',\n",
       "       'USABLE_DATE_BEFORE_HOLIDAY', 'zprice', 'usable', 'Case_BEUATY',\n",
       "       'Case_CLASS', 'Case_DELIVERY',\n",
       "       ...\n",
       "       'spot_small_Tochigi', 'spot_small_Tokushima', 'spot_small_Tottori',\n",
       "       'spot_small_Toyama', 'spot_small_Triple', 'spot_small_Wakayama',\n",
       "       'spot_small_Yamagata', 'spot_small_Yamaguchi', 'spot_small_Yamanashi',\n",
       "       'spot_small_Yokohama'],\n",
       "      dtype='object', length=134)"
      ]
     },
     "execution_count": 70,
     "metadata": {},
     "output_type": "execute_result"
    }
   ],
   "source": [
    "test_df = test_cos.drop('COUPON_ID_hash', axis=1)\n",
    "test_df.columns"
   ]
  },
  {
   "cell_type": "code",
   "execution_count": 71,
   "metadata": {},
   "outputs": [],
   "source": [
    "dfdf = dfdf.fillna(0)"
   ]
  },
  {
   "cell_type": "code",
   "execution_count": 72,
   "metadata": {},
   "outputs": [],
   "source": [
    "test_df = test_df.fillna(179)"
   ]
  },
  {
   "cell_type": "code",
   "execution_count": 74,
   "metadata": {},
   "outputs": [],
   "source": [
    "vec1 = dfdf.copy()\n",
    "vec2 = test_df.copy()\n",
    "\n",
    "vec1 = scale(vec1)\n",
    "vec1 = pd.DataFrame(data = vec1, index = dfdf.index, columns = dfdf.columns )\n",
    "\n",
    "vec2 = scale(vec2)\n",
    "vec2 = pd.DataFrame(data = vec2, index = test_df.index, columns = test_df.columns )"
   ]
  },
  {
   "cell_type": "code",
   "execution_count": 76,
   "metadata": {},
   "outputs": [],
   "source": [
    "from numpy import dot\n",
    "from numpy.linalg import norm\n",
    "\n",
    "def cos_sim(vec1, vec2):\n",
    "    return (dot(vec1, vec2)/(norm(vec1)*norm(vec2)))"
   ]
  },
  {
   "cell_type": "code",
   "execution_count": 78,
   "metadata": {},
   "outputs": [
    {
     "name": "stderr",
     "output_type": "stream",
     "text": [
      "100%|██████████| 22873/22873 [23:58<00:00, 15.90it/s]\n"
     ]
    }
   ],
   "source": [
    "matrix = []\n",
    "for idx1 in tqdm(range(len(dfdf))):\n",
    "    \n",
    "    row = []\n",
    "    for idx2 in range(len(test_features)):\n",
    "        row.append(cos_sim(vec1.iloc[idx1], vec2.iloc[idx2]))\n",
    "    matrix.append(row)"
   ]
  },
  {
   "cell_type": "code",
   "execution_count": null,
   "metadata": {},
   "outputs": [],
   "source": []
  },
  {
   "cell_type": "markdown",
   "metadata": {},
   "source": [
    "## 4-2. xgboost 사용"
   ]
  },
  {
   "cell_type": "markdown",
   "metadata": {},
   "source": [
    "### 4-2-1. 데이터 스케일링"
   ]
  },
  {
   "cell_type": "code",
   "execution_count": 117,
   "metadata": {},
   "outputs": [],
   "source": [
    "scaler = StandardScaler()\n",
    "scaler.fit(X_train)\n",
    "X_train_scale = scaler.transform(X_train)\n",
    "X_train_scale = pd.DataFrame(X_train_scale, columns=X_train.columns)\n",
    "y_train = train.PURCHASE_FLG"
   ]
  },
  {
   "cell_type": "markdown",
   "metadata": {},
   "source": [
    "### 4-2-2. 데이터 오버샘플링"
   ]
  },
  {
   "cell_type": "code",
   "execution_count": 123,
   "metadata": {},
   "outputs": [
    {
     "data": {
      "text/plain": [
       "Index(['PRICE_RATE', 'DISPPERIOD', 'USABLE_DATE_MON', 'USABLE_DATE_TUE',\n",
       "       'USABLE_DATE_WED', 'USABLE_DATE_THU', 'USABLE_DATE_FRI',\n",
       "       'USABLE_DATE_SAT', 'USABLE_DATE_SUN', 'USABLE_DATE_HOLIDAY',\n",
       "       'USABLE_DATE_BEFORE_HOLIDAY', 'zprice', 'SEX_ID', 'AGE', 'VALID',\n",
       "       'Case_BEAUTY', 'Case_CLASS', 'Case_DELIVERY', 'Case_EVENT', 'Case_FOOD',\n",
       "       'Case_GIFT', 'Case_HAIR', 'Case_HEALTH', 'Case_HOTEL', 'Case_LEISURE',\n",
       "       'Case_LESSON', 'Case_NAIL', 'Case_OTHER', 'Case_RELAXATION', 'Case_SPA',\n",
       "       'Case_WEB'],\n",
       "      dtype='object')"
      ]
     },
     "execution_count": 123,
     "metadata": {},
     "output_type": "execute_result"
    }
   ],
   "source": [
    "from imblearn.over_sampling import *\n",
    "\n",
    "X1, y1 = SMOTE(random_state=0).fit_sample(X_train_scale,y_train)\n",
    "X1 = pd.DataFrame(X1, columns=X_train_scale.columns)\n",
    "X1.columns"
   ]
  },
  {
   "cell_type": "markdown",
   "metadata": {},
   "source": [
    "### 4-2-3. xgboost로 모델링"
   ]
  },
  {
   "cell_type": "code",
   "execution_count": 125,
   "metadata": {},
   "outputs": [],
   "source": [
    "model_xgb = xgboost.XGBClassifier(n_estimators=300, max_depth=4,\n",
    "                                 objective = 'reg:logistic',\n",
    "                                 subsample= 0.85,\n",
    "                                 colsample_bytree=0.8,\n",
    "                                 random_state=12345,\n",
    "                                 min_child_weight=1,\n",
    "                                 learning_rate=0.05)\n",
    "model_xgb = model_xgb.fit(X1, y1)"
   ]
  },
  {
   "cell_type": "code",
   "execution_count": 128,
   "metadata": {
    "scrolled": false
   },
   "outputs": [
    {
     "name": "stdout",
     "output_type": "stream",
     "text": [
      "[[1839042  556516]\n",
      " [  70910  131342]]\n",
      "             precision    recall  f1-score   support\n",
      "\n",
      "          0       0.96      0.77      0.85   2395558\n",
      "          1       0.19      0.65      0.30    202252\n",
      "\n",
      "avg / total       0.90      0.76      0.81   2597810\n",
      "\n"
     ]
    }
   ],
   "source": [
    "y_pred = model_xgb.predict(X_train_scale)\n",
    "print(confusion_matrix(y_train, y_pred))\n",
    "print(classification_report(y_train, y_pred))"
   ]
  },
  {
   "cell_type": "code",
   "execution_count": null,
   "metadata": {},
   "outputs": [],
   "source": []
  },
  {
   "cell_type": "markdown",
   "metadata": {},
   "source": [
    "## 5. 예측 및 제출\n",
    ": 최종 제출은 코사인 유사도를 사용한 예측 결과 사용"
   ]
  },
  {
   "cell_type": "code",
   "execution_count": 79,
   "metadata": {},
   "outputs": [],
   "source": [
    "coupons_ids = test_cos['COUPON_ID_hash']\n",
    "result_index = vec1.index\n",
    "result_columns = [coupons_ids[i] for i in range(0, 310)]\n",
    "result_df = pd.DataFrame(index= result_index, columns=result_columns,data=matrix)"
   ]
  },
  {
   "cell_type": "code",
   "execution_count": 80,
   "metadata": {},
   "outputs": [],
   "source": [
    "submission = pd.DataFrame(columns=['USER_ID_hash','PURCHASED_COUPONS'])\n",
    "submission['USER_ID_hash'] = result_df.index\n",
    "submission['PURCHASED_COUPONS'] = result_df.T.apply(lambda x: \" \".join(x.sort_values(ascending=False)[:21].index)).values"
   ]
  },
  {
   "cell_type": "code",
   "execution_count": 81,
   "metadata": {},
   "outputs": [],
   "source": [
    "submission.to_csv('cosine.csv',index = False,header=True)\n"
   ]
  },
  {
   "cell_type": "code",
   "execution_count": null,
   "metadata": {},
   "outputs": [],
   "source": []
  },
  {
   "cell_type": "markdown",
   "metadata": {},
   "source": [
    "![image.png](./image/image5.png)"
   ]
  },
  {
   "cell_type": "code",
   "execution_count": null,
   "metadata": {},
   "outputs": [],
   "source": []
  },
  {
   "cell_type": "code",
   "execution_count": null,
   "metadata": {},
   "outputs": [],
   "source": []
  },
  {
   "cell_type": "code",
   "execution_count": null,
   "metadata": {},
   "outputs": [],
   "source": []
  }
 ],
 "metadata": {
  "kernelspec": {
   "display_name": "Python 3",
   "language": "python",
   "name": "python3"
  },
  "language_info": {
   "codemirror_mode": {
    "name": "ipython",
    "version": 3
   },
   "file_extension": ".py",
   "mimetype": "text/x-python",
   "name": "python",
   "nbconvert_exporter": "python",
   "pygments_lexer": "ipython3",
   "version": "3.5.2"
  }
 },
 "nbformat": 4,
 "nbformat_minor": 2
}
