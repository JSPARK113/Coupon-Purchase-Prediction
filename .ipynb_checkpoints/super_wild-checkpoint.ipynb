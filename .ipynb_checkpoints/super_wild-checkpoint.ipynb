{
 "cells": [
  {
   "cell_type": "code",
   "execution_count": 3,
   "metadata": {},
   "outputs": [],
   "source": [
    "from imblearn.combine import *\n",
    "from imblearn.over_sampling import *\n",
    "from imblearn.under_sampling import *"
   ]
  },
  {
   "cell_type": "code",
   "execution_count": 4,
   "metadata": {},
   "outputs": [],
   "source": [
    "import numpy as np\n",
    "import scipy as sp\n",
    "import pandas as pd\n",
    "import statsmodels.api as sm\n",
    "import statsmodels.formula.api as smf\n",
    "import statsmodels.stats.api as sms\n",
    "import sklearn as sk\n",
    "import datetime as dt\n",
    "\n",
    "# import matplotlib as mpl\n",
    "# mpl.use('Agg')\n",
    "# import matplotlib.pylab as plt\n",
    "# from mpl_toolkits.mplot3d import Axes3D\n",
    "%matplotlib inline\n",
    "from sklearn.preprocessing import Imputer\n",
    "from sklearn.tree import DecisionTreeClassifier\n",
    "from sklearn.metrics import confusion_matrix\n",
    "from sklearn.metrics import classification_report\n",
    "from sklearn.ensemble import RandomForestClassifier, ExtraTreesClassifier\n",
    "from sklearn.tree import DecisionTreeClassifier\n",
    "import seaborn as sns\n",
    "sns.set()\n",
    "sns.set_style(\"whitegrid\")\n",
    "sns.set_color_codes()\n",
    "''\n",
    "import warnings\n",
    "\n",
    "warnings.filterwarnings('ignore')"
   ]
  },
  {
   "cell_type": "code",
   "execution_count": 5,
   "metadata": {},
   "outputs": [],
   "source": [
    "# train \n",
    "detail_train = pd.read_csv('./coupon_data_project2/coupon_detail_train_translated_en.csv', parse_dates=['I_DATE'])\n",
    "visit_train = pd.read_csv('./coupon_data_project2/coupon_visit_train.csv', parse_dates=['I_DATE'])\n",
    "\n",
    "area_train = pd.read_csv('./coupon_data_project2/coupon_area_train_translated_en.csv')\n",
    "coupon_list_train = pd.read_csv('./coupon_data_project2/coupon_list_train_translated_en.csv', parse_dates=['DISPFROM', 'DISPEND', 'VALIDFROM', 'VALIDEND'])\n",
    "\n",
    "# base data\n",
    "location = pd.read_csv('./coupon_data_project2/train_location.csv')\n",
    "user_list = pd.read_csv('./coupon_data_project2/user_list_translated_en.csv', parse_dates=['WITHDRAW_DATE', 'REG_DATE'])\n",
    "\n",
    "# test data\n",
    "area_test = pd.read_csv('./coupon_data_project2/test_location.csv')\n",
    "coupon_list_test = pd.read_csv('./coupon_data_project2/coupon_list_test_translated_en.csv', parse_dates=['DISPFROM', 'DISPEND', 'VALIDFROM', 'VALIDEND'])\n",
    "\n",
    "# submisiion\n",
    "submission = pd.read_csv('./coupon_data_project2/sample_submission.csv')"
   ]
  },
  {
   "cell_type": "code",
   "execution_count": 6,
   "metadata": {},
   "outputs": [],
   "source": [
    "# 테이블 현황 파악을 위한 함수 \n",
    "def summary_table(table):\n",
    "    df = pd.DataFrame()\n",
    "    for i in table.columns:\n",
    "        name = i\n",
    "        dtype = table[i].dtype.name\n",
    "        null = table[i].isnull().sum()\n",
    "        act = table.shape[0] - null\n",
    "        unique = len(table[i].unique())\n",
    "        data = {'name': name, 'dtype': dtype, 'null': null, 'act': act, 'unique': unique}\n",
    "        df = df.append(data, ignore_index=True)\n",
    "    return df"
   ]
  },
  {
   "cell_type": "code",
   "execution_count": 31,
   "metadata": {
    "collapsed": true
   },
   "outputs": [
    {
     "data": {
      "text/html": [
       "<div>\n",
       "<style>\n",
       "    .dataframe thead tr:only-child th {\n",
       "        text-align: right;\n",
       "    }\n",
       "\n",
       "    .dataframe thead th {\n",
       "        text-align: left;\n",
       "    }\n",
       "\n",
       "    .dataframe tbody tr th {\n",
       "        vertical-align: top;\n",
       "    }\n",
       "</style>\n",
       "<table border=\"1\" class=\"dataframe\">\n",
       "  <thead>\n",
       "    <tr style=\"text-align: right;\">\n",
       "      <th></th>\n",
       "      <th>USER_ID_hash</th>\n",
       "      <th>COUPON_ID_hash</th>\n",
       "    </tr>\n",
       "  </thead>\n",
       "  <tbody>\n",
       "    <tr>\n",
       "      <th>0</th>\n",
       "      <td>d9dca3cb44bab12ba313eaa681f663eb</td>\n",
       "      <td>34c48f84026e08355dc3bd19b427f09a</td>\n",
       "    </tr>\n",
       "    <tr>\n",
       "      <th>1</th>\n",
       "      <td>560574a339f1b25e57b0221e486907ed</td>\n",
       "      <td>767673b7a777854a92b73b0934ddfae7</td>\n",
       "    </tr>\n",
       "    <tr>\n",
       "      <th>2</th>\n",
       "      <td>560574a339f1b25e57b0221e486907ed</td>\n",
       "      <td>4f3b5b91d9831192557c056022fdc1f2</td>\n",
       "    </tr>\n",
       "    <tr>\n",
       "      <th>3</th>\n",
       "      <td>560574a339f1b25e57b0221e486907ed</td>\n",
       "      <td>4f3b5b91d9831192557c056022fdc1f2</td>\n",
       "    </tr>\n",
       "    <tr>\n",
       "      <th>4</th>\n",
       "      <td>560574a339f1b25e57b0221e486907ed</td>\n",
       "      <td>4f3b5b91d9831192557c056022fdc1f2</td>\n",
       "    </tr>\n",
       "    <tr>\n",
       "      <th>5</th>\n",
       "      <td>560574a339f1b25e57b0221e486907ed</td>\n",
       "      <td>4f3b5b91d9831192557c056022fdc1f2</td>\n",
       "    </tr>\n",
       "    <tr>\n",
       "      <th>6</th>\n",
       "      <td>560574a339f1b25e57b0221e486907ed</td>\n",
       "      <td>4f3b5b91d9831192557c056022fdc1f2</td>\n",
       "    </tr>\n",
       "    <tr>\n",
       "      <th>7</th>\n",
       "      <td>560574a339f1b25e57b0221e486907ed</td>\n",
       "      <td>259a22533cab381464c89f616a56d12d</td>\n",
       "    </tr>\n",
       "    <tr>\n",
       "      <th>8</th>\n",
       "      <td>560574a339f1b25e57b0221e486907ed</td>\n",
       "      <td>f4a6f861a266799b07cd99c26e80962b</td>\n",
       "    </tr>\n",
       "    <tr>\n",
       "      <th>9</th>\n",
       "      <td>560574a339f1b25e57b0221e486907ed</td>\n",
       "      <td>4257a8a169b40bbbcb002ec47ab3de13</td>\n",
       "    </tr>\n",
       "    <tr>\n",
       "      <th>10</th>\n",
       "      <td>560574a339f1b25e57b0221e486907ed</td>\n",
       "      <td>3e7d148d632f7ee123504e37d3ee9c66</td>\n",
       "    </tr>\n",
       "    <tr>\n",
       "      <th>11</th>\n",
       "      <td>560574a339f1b25e57b0221e486907ed</td>\n",
       "      <td>34ea3cc1cf4ec57f3547c5fcd4de3abe</td>\n",
       "    </tr>\n",
       "    <tr>\n",
       "      <th>12</th>\n",
       "      <td>560574a339f1b25e57b0221e486907ed</td>\n",
       "      <td>129a696dac8e7eb0903f02ae217c636e</td>\n",
       "    </tr>\n",
       "    <tr>\n",
       "      <th>13</th>\n",
       "      <td>560574a339f1b25e57b0221e486907ed</td>\n",
       "      <td>716abc8dcbfee15cf79e7c25c77a2456</td>\n",
       "    </tr>\n",
       "    <tr>\n",
       "      <th>14</th>\n",
       "      <td>560574a339f1b25e57b0221e486907ed</td>\n",
       "      <td>cea20b04d7bb26b521db4f3803737af4</td>\n",
       "    </tr>\n",
       "    <tr>\n",
       "      <th>15</th>\n",
       "      <td>560574a339f1b25e57b0221e486907ed</td>\n",
       "      <td>d0590f9b80fd6aa59a31808a41dfd00c</td>\n",
       "    </tr>\n",
       "    <tr>\n",
       "      <th>16</th>\n",
       "      <td>560574a339f1b25e57b0221e486907ed</td>\n",
       "      <td>4b4a03629482c17c3b83b46c2704a1d1</td>\n",
       "    </tr>\n",
       "    <tr>\n",
       "      <th>17</th>\n",
       "      <td>e66ae91b978b3229f8fd858c80615b73</td>\n",
       "      <td>bf1c42f4f879f879e941246d32a68eff</td>\n",
       "    </tr>\n",
       "    <tr>\n",
       "      <th>18</th>\n",
       "      <td>43fc18f32eafb05713ec02935e2c2825</td>\n",
       "      <td>e1d91d56d2a86d4cbe08e155497ad8f6</td>\n",
       "    </tr>\n",
       "    <tr>\n",
       "      <th>19</th>\n",
       "      <td>43fc18f32eafb05713ec02935e2c2825</td>\n",
       "      <td>89b72c8e0e8272e05524b11d08c8a6fe</td>\n",
       "    </tr>\n",
       "    <tr>\n",
       "      <th>20</th>\n",
       "      <td>43fc18f32eafb05713ec02935e2c2825</td>\n",
       "      <td>bf69bd9e0e26fa1f62243d1fcada38f1</td>\n",
       "    </tr>\n",
       "    <tr>\n",
       "      <th>21</th>\n",
       "      <td>43fc18f32eafb05713ec02935e2c2825</td>\n",
       "      <td>09411858ae07c0be91aeeddacf4556b4</td>\n",
       "    </tr>\n",
       "    <tr>\n",
       "      <th>22</th>\n",
       "      <td>dc6df8aa860f8db0d710ce9d4839840f</td>\n",
       "      <td>05f44676bd11c9f124c4a777c237d37f</td>\n",
       "    </tr>\n",
       "    <tr>\n",
       "      <th>23</th>\n",
       "      <td>dc6df8aa860f8db0d710ce9d4839840f</td>\n",
       "      <td>dba06f247ef3de4110017849d6e6535b</td>\n",
       "    </tr>\n",
       "    <tr>\n",
       "      <th>24</th>\n",
       "      <td>dc6df8aa860f8db0d710ce9d4839840f</td>\n",
       "      <td>85b51e105d6faba453d30cd1504e0488</td>\n",
       "    </tr>\n",
       "    <tr>\n",
       "      <th>25</th>\n",
       "      <td>dc6df8aa860f8db0d710ce9d4839840f</td>\n",
       "      <td>0bbe8c44a9209af9a3e0d80a31038c84</td>\n",
       "    </tr>\n",
       "    <tr>\n",
       "      <th>26</th>\n",
       "      <td>dc6df8aa860f8db0d710ce9d4839840f</td>\n",
       "      <td>07d2e4b28b30fa0273921db95f345b5e</td>\n",
       "    </tr>\n",
       "    <tr>\n",
       "      <th>27</th>\n",
       "      <td>dc6df8aa860f8db0d710ce9d4839840f</td>\n",
       "      <td>559f58ac5e68304f6d091021394dcc89</td>\n",
       "    </tr>\n",
       "    <tr>\n",
       "      <th>28</th>\n",
       "      <td>dc6df8aa860f8db0d710ce9d4839840f</td>\n",
       "      <td>559f58ac5e68304f6d091021394dcc89</td>\n",
       "    </tr>\n",
       "    <tr>\n",
       "      <th>29</th>\n",
       "      <td>dc6df8aa860f8db0d710ce9d4839840f</td>\n",
       "      <td>559f58ac5e68304f6d091021394dcc89</td>\n",
       "    </tr>\n",
       "    <tr>\n",
       "      <th>...</th>\n",
       "      <td>...</td>\n",
       "      <td>...</td>\n",
       "    </tr>\n",
       "    <tr>\n",
       "      <th>168966</th>\n",
       "      <td>280f0cedda5c4b171ee6245889659571</td>\n",
       "      <td>80fd752d93c1a6af504b871d9780f23f</td>\n",
       "    </tr>\n",
       "    <tr>\n",
       "      <th>168967</th>\n",
       "      <td>280f0cedda5c4b171ee6245889659571</td>\n",
       "      <td>60f272027db2cfa97d639b653e430d4f</td>\n",
       "    </tr>\n",
       "    <tr>\n",
       "      <th>168968</th>\n",
       "      <td>280f0cedda5c4b171ee6245889659571</td>\n",
       "      <td>4ef82e25c2740e4ab55affbe5a003f50</td>\n",
       "    </tr>\n",
       "    <tr>\n",
       "      <th>168969</th>\n",
       "      <td>280f0cedda5c4b171ee6245889659571</td>\n",
       "      <td>af89a59a1c3a2cd06fe81827f5452c13</td>\n",
       "    </tr>\n",
       "    <tr>\n",
       "      <th>168970</th>\n",
       "      <td>280f0cedda5c4b171ee6245889659571</td>\n",
       "      <td>c22dbbe09dc43050bf973b2207b5ae20</td>\n",
       "    </tr>\n",
       "    <tr>\n",
       "      <th>168971</th>\n",
       "      <td>280f0cedda5c4b171ee6245889659571</td>\n",
       "      <td>b033fa81a3bb98386c17392af03f555e</td>\n",
       "    </tr>\n",
       "    <tr>\n",
       "      <th>168972</th>\n",
       "      <td>280f0cedda5c4b171ee6245889659571</td>\n",
       "      <td>6e91af430c8d1af75e98ac33b79356f1</td>\n",
       "    </tr>\n",
       "    <tr>\n",
       "      <th>168973</th>\n",
       "      <td>280f0cedda5c4b171ee6245889659571</td>\n",
       "      <td>01b263b57d18b2ee12a8b8dc70789cf6</td>\n",
       "    </tr>\n",
       "    <tr>\n",
       "      <th>168974</th>\n",
       "      <td>280f0cedda5c4b171ee6245889659571</td>\n",
       "      <td>0182825104fd148b72003e770d8ed3c1</td>\n",
       "    </tr>\n",
       "    <tr>\n",
       "      <th>168975</th>\n",
       "      <td>280f0cedda5c4b171ee6245889659571</td>\n",
       "      <td>a9a4262369125e78f6c4186857acfb9d</td>\n",
       "    </tr>\n",
       "    <tr>\n",
       "      <th>168976</th>\n",
       "      <td>280f0cedda5c4b171ee6245889659571</td>\n",
       "      <td>3e6d617c55328b761d62510167c43c08</td>\n",
       "    </tr>\n",
       "    <tr>\n",
       "      <th>168977</th>\n",
       "      <td>280f0cedda5c4b171ee6245889659571</td>\n",
       "      <td>56f40b085cbba0131923cdc629dc72ef</td>\n",
       "    </tr>\n",
       "    <tr>\n",
       "      <th>168978</th>\n",
       "      <td>280f0cedda5c4b171ee6245889659571</td>\n",
       "      <td>e33273921b1488eadb9fc1e9e3f70889</td>\n",
       "    </tr>\n",
       "    <tr>\n",
       "      <th>168979</th>\n",
       "      <td>280f0cedda5c4b171ee6245889659571</td>\n",
       "      <td>a262c7ff56a5cd3de3c5c40443f3018c</td>\n",
       "    </tr>\n",
       "    <tr>\n",
       "      <th>168980</th>\n",
       "      <td>280f0cedda5c4b171ee6245889659571</td>\n",
       "      <td>d37126a25bf0239bd47482a9856683e4</td>\n",
       "    </tr>\n",
       "    <tr>\n",
       "      <th>168981</th>\n",
       "      <td>280f0cedda5c4b171ee6245889659571</td>\n",
       "      <td>04d621b67c7c577876e3e1936427534a</td>\n",
       "    </tr>\n",
       "    <tr>\n",
       "      <th>168982</th>\n",
       "      <td>280f0cedda5c4b171ee6245889659571</td>\n",
       "      <td>a0b403d8aded719841b783a21851852d</td>\n",
       "    </tr>\n",
       "    <tr>\n",
       "      <th>168983</th>\n",
       "      <td>280f0cedda5c4b171ee6245889659571</td>\n",
       "      <td>83ab8ba39d5e394ac7bc7fc1efa884c5</td>\n",
       "    </tr>\n",
       "    <tr>\n",
       "      <th>168984</th>\n",
       "      <td>280f0cedda5c4b171ee6245889659571</td>\n",
       "      <td>a36f8d174c9093ff9d00b908cca30fca</td>\n",
       "    </tr>\n",
       "    <tr>\n",
       "      <th>168985</th>\n",
       "      <td>280f0cedda5c4b171ee6245889659571</td>\n",
       "      <td>3b4e17aaddbc73b4cf0d05188c47cf55</td>\n",
       "    </tr>\n",
       "    <tr>\n",
       "      <th>168986</th>\n",
       "      <td>280f0cedda5c4b171ee6245889659571</td>\n",
       "      <td>c8554d76982486986ae49ab55b8d7829</td>\n",
       "    </tr>\n",
       "    <tr>\n",
       "      <th>168987</th>\n",
       "      <td>280f0cedda5c4b171ee6245889659571</td>\n",
       "      <td>c8554d76982486986ae49ab55b8d7829</td>\n",
       "    </tr>\n",
       "    <tr>\n",
       "      <th>168988</th>\n",
       "      <td>280f0cedda5c4b171ee6245889659571</td>\n",
       "      <td>45f6c71af4ca86f0469f830738191d47</td>\n",
       "    </tr>\n",
       "    <tr>\n",
       "      <th>168989</th>\n",
       "      <td>280f0cedda5c4b171ee6245889659571</td>\n",
       "      <td>45f6c71af4ca86f0469f830738191d47</td>\n",
       "    </tr>\n",
       "    <tr>\n",
       "      <th>168990</th>\n",
       "      <td>280f0cedda5c4b171ee6245889659571</td>\n",
       "      <td>5d82659985bbddffe940bd907a887d1e</td>\n",
       "    </tr>\n",
       "    <tr>\n",
       "      <th>168991</th>\n",
       "      <td>280f0cedda5c4b171ee6245889659571</td>\n",
       "      <td>6eac7a7e347c563e5e00086f5eb47903</td>\n",
       "    </tr>\n",
       "    <tr>\n",
       "      <th>168992</th>\n",
       "      <td>280f0cedda5c4b171ee6245889659571</td>\n",
       "      <td>a406e389e35e1140e4bc9b472d8258df</td>\n",
       "    </tr>\n",
       "    <tr>\n",
       "      <th>168993</th>\n",
       "      <td>280f0cedda5c4b171ee6245889659571</td>\n",
       "      <td>36addcc4b958135895c859d8783e3cd2</td>\n",
       "    </tr>\n",
       "    <tr>\n",
       "      <th>168994</th>\n",
       "      <td>280f0cedda5c4b171ee6245889659571</td>\n",
       "      <td>cb0244705306aafccc47bfe62ece39d3</td>\n",
       "    </tr>\n",
       "    <tr>\n",
       "      <th>168995</th>\n",
       "      <td>280f0cedda5c4b171ee6245889659571</td>\n",
       "      <td>31a605db6db5ad3fa3b2d4cf69ae3272</td>\n",
       "    </tr>\n",
       "  </tbody>\n",
       "</table>\n",
       "<p>168996 rows × 2 columns</p>\n",
       "</div>"
      ],
      "text/plain": [
       "                            USER_ID_hash                    COUPON_ID_hash\n",
       "0       d9dca3cb44bab12ba313eaa681f663eb  34c48f84026e08355dc3bd19b427f09a\n",
       "1       560574a339f1b25e57b0221e486907ed  767673b7a777854a92b73b0934ddfae7\n",
       "2       560574a339f1b25e57b0221e486907ed  4f3b5b91d9831192557c056022fdc1f2\n",
       "3       560574a339f1b25e57b0221e486907ed  4f3b5b91d9831192557c056022fdc1f2\n",
       "4       560574a339f1b25e57b0221e486907ed  4f3b5b91d9831192557c056022fdc1f2\n",
       "5       560574a339f1b25e57b0221e486907ed  4f3b5b91d9831192557c056022fdc1f2\n",
       "6       560574a339f1b25e57b0221e486907ed  4f3b5b91d9831192557c056022fdc1f2\n",
       "7       560574a339f1b25e57b0221e486907ed  259a22533cab381464c89f616a56d12d\n",
       "8       560574a339f1b25e57b0221e486907ed  f4a6f861a266799b07cd99c26e80962b\n",
       "9       560574a339f1b25e57b0221e486907ed  4257a8a169b40bbbcb002ec47ab3de13\n",
       "10      560574a339f1b25e57b0221e486907ed  3e7d148d632f7ee123504e37d3ee9c66\n",
       "11      560574a339f1b25e57b0221e486907ed  34ea3cc1cf4ec57f3547c5fcd4de3abe\n",
       "12      560574a339f1b25e57b0221e486907ed  129a696dac8e7eb0903f02ae217c636e\n",
       "13      560574a339f1b25e57b0221e486907ed  716abc8dcbfee15cf79e7c25c77a2456\n",
       "14      560574a339f1b25e57b0221e486907ed  cea20b04d7bb26b521db4f3803737af4\n",
       "15      560574a339f1b25e57b0221e486907ed  d0590f9b80fd6aa59a31808a41dfd00c\n",
       "16      560574a339f1b25e57b0221e486907ed  4b4a03629482c17c3b83b46c2704a1d1\n",
       "17      e66ae91b978b3229f8fd858c80615b73  bf1c42f4f879f879e941246d32a68eff\n",
       "18      43fc18f32eafb05713ec02935e2c2825  e1d91d56d2a86d4cbe08e155497ad8f6\n",
       "19      43fc18f32eafb05713ec02935e2c2825  89b72c8e0e8272e05524b11d08c8a6fe\n",
       "20      43fc18f32eafb05713ec02935e2c2825  bf69bd9e0e26fa1f62243d1fcada38f1\n",
       "21      43fc18f32eafb05713ec02935e2c2825  09411858ae07c0be91aeeddacf4556b4\n",
       "22      dc6df8aa860f8db0d710ce9d4839840f  05f44676bd11c9f124c4a777c237d37f\n",
       "23      dc6df8aa860f8db0d710ce9d4839840f  dba06f247ef3de4110017849d6e6535b\n",
       "24      dc6df8aa860f8db0d710ce9d4839840f  85b51e105d6faba453d30cd1504e0488\n",
       "25      dc6df8aa860f8db0d710ce9d4839840f  0bbe8c44a9209af9a3e0d80a31038c84\n",
       "26      dc6df8aa860f8db0d710ce9d4839840f  07d2e4b28b30fa0273921db95f345b5e\n",
       "27      dc6df8aa860f8db0d710ce9d4839840f  559f58ac5e68304f6d091021394dcc89\n",
       "28      dc6df8aa860f8db0d710ce9d4839840f  559f58ac5e68304f6d091021394dcc89\n",
       "29      dc6df8aa860f8db0d710ce9d4839840f  559f58ac5e68304f6d091021394dcc89\n",
       "...                                  ...                               ...\n",
       "168966  280f0cedda5c4b171ee6245889659571  80fd752d93c1a6af504b871d9780f23f\n",
       "168967  280f0cedda5c4b171ee6245889659571  60f272027db2cfa97d639b653e430d4f\n",
       "168968  280f0cedda5c4b171ee6245889659571  4ef82e25c2740e4ab55affbe5a003f50\n",
       "168969  280f0cedda5c4b171ee6245889659571  af89a59a1c3a2cd06fe81827f5452c13\n",
       "168970  280f0cedda5c4b171ee6245889659571  c22dbbe09dc43050bf973b2207b5ae20\n",
       "168971  280f0cedda5c4b171ee6245889659571  b033fa81a3bb98386c17392af03f555e\n",
       "168972  280f0cedda5c4b171ee6245889659571  6e91af430c8d1af75e98ac33b79356f1\n",
       "168973  280f0cedda5c4b171ee6245889659571  01b263b57d18b2ee12a8b8dc70789cf6\n",
       "168974  280f0cedda5c4b171ee6245889659571  0182825104fd148b72003e770d8ed3c1\n",
       "168975  280f0cedda5c4b171ee6245889659571  a9a4262369125e78f6c4186857acfb9d\n",
       "168976  280f0cedda5c4b171ee6245889659571  3e6d617c55328b761d62510167c43c08\n",
       "168977  280f0cedda5c4b171ee6245889659571  56f40b085cbba0131923cdc629dc72ef\n",
       "168978  280f0cedda5c4b171ee6245889659571  e33273921b1488eadb9fc1e9e3f70889\n",
       "168979  280f0cedda5c4b171ee6245889659571  a262c7ff56a5cd3de3c5c40443f3018c\n",
       "168980  280f0cedda5c4b171ee6245889659571  d37126a25bf0239bd47482a9856683e4\n",
       "168981  280f0cedda5c4b171ee6245889659571  04d621b67c7c577876e3e1936427534a\n",
       "168982  280f0cedda5c4b171ee6245889659571  a0b403d8aded719841b783a21851852d\n",
       "168983  280f0cedda5c4b171ee6245889659571  83ab8ba39d5e394ac7bc7fc1efa884c5\n",
       "168984  280f0cedda5c4b171ee6245889659571  a36f8d174c9093ff9d00b908cca30fca\n",
       "168985  280f0cedda5c4b171ee6245889659571  3b4e17aaddbc73b4cf0d05188c47cf55\n",
       "168986  280f0cedda5c4b171ee6245889659571  c8554d76982486986ae49ab55b8d7829\n",
       "168987  280f0cedda5c4b171ee6245889659571  c8554d76982486986ae49ab55b8d7829\n",
       "168988  280f0cedda5c4b171ee6245889659571  45f6c71af4ca86f0469f830738191d47\n",
       "168989  280f0cedda5c4b171ee6245889659571  45f6c71af4ca86f0469f830738191d47\n",
       "168990  280f0cedda5c4b171ee6245889659571  5d82659985bbddffe940bd907a887d1e\n",
       "168991  280f0cedda5c4b171ee6245889659571  6eac7a7e347c563e5e00086f5eb47903\n",
       "168992  280f0cedda5c4b171ee6245889659571  a406e389e35e1140e4bc9b472d8258df\n",
       "168993  280f0cedda5c4b171ee6245889659571  36addcc4b958135895c859d8783e3cd2\n",
       "168994  280f0cedda5c4b171ee6245889659571  cb0244705306aafccc47bfe62ece39d3\n",
       "168995  280f0cedda5c4b171ee6245889659571  31a605db6db5ad3fa3b2d4cf69ae3272\n",
       "\n",
       "[168996 rows x 2 columns]"
      ]
     },
     "execution_count": 31,
     "metadata": {},
     "output_type": "execute_result"
    }
   ],
   "source": [
    "detail_train"
   ]
  },
  {
   "cell_type": "code",
   "execution_count": 7,
   "metadata": {},
   "outputs": [],
   "source": [
    "detail_train.rename(columns = {'I_DATE': 'purchase_date'}, inplace=True)\n",
    "detail_train.rename(columns = {'SMALL_AREA_NAME': 'resid_small'}, inplace=True)"
   ]
  },
  {
   "cell_type": "code",
   "execution_count": 8,
   "metadata": {},
   "outputs": [],
   "source": [
    "detail_train.drop(labels = ['ITEM_COUNT'], axis=1, inplace=True)\n",
    "detail_train.drop(labels = ['PURCHASEID_hash'], axis=1, inplace=True)\n",
    "detail_train.drop(labels = ['resid_small'], axis=1, inplace=True)\n",
    "detail_train.drop(labels = ['purchase_date'], axis=1, inplace=True)"
   ]
  },
  {
   "cell_type": "code",
   "execution_count": 9,
   "metadata": {},
   "outputs": [],
   "source": [
    "coupon_list = pd.merge(coupon_list_test, coupon_list_train, how='outer')"
   ]
  },
  {
   "cell_type": "code",
   "execution_count": 10,
   "metadata": {},
   "outputs": [
    {
     "data": {
      "text/plain": [
       "((310, 24), (19413, 24), (19723, 24))"
      ]
     },
     "execution_count": 10,
     "metadata": {},
     "output_type": "execute_result"
    }
   ],
   "source": [
    "coupon_list_test.shape, coupon_list_train.shape, coupon_list.shape"
   ]
  },
  {
   "cell_type": "code",
   "execution_count": 11,
   "metadata": {},
   "outputs": [],
   "source": [
    "# 캡슐과 장르 통합 및 명칭 변경\n",
    "coupon_list['Case'] = coupon_list['CAPSULE_TEXT'] + coupon_list['GENRE_NAME']\n",
    "coupon_list['Case'] = coupon_list['Case'].apply(lambda x: \"HOTEL\" if x == 'Guest houseHotel and Japanese hotel' \n",
    "                          or x == 'HotelHotel and Japanese hotel'\n",
    "                          or x == 'Japanese hotelHotel and Japanese hotel'\n",
    "                          or x == 'Japanse guest houseHotel and Japanese hotel'\n",
    "                          or x == 'LodgeHotel and Japanese hotel'\n",
    "                          or x == 'Public hotelHotel and Japanese hotel'\n",
    "                          or x == 'Resort innHotel and Japanese hotel'\n",
    "                          or x == 'Vacation rentalHotel and Japanese hotel'\n",
    "                          else \"NAIL\" if x == 'Nail and eye salonNail and eye salon'\n",
    "                          else \"HAIR\" if x == 'Hair salonHair salon'\n",
    "                          else \"FOOD\" if x == 'FoodFood'\n",
    "                          else \"SPA\" if x == 'SpaSpa'\n",
    "                          else \"BEAUTY\" if x == 'BeautyBeauty'\n",
    "                          else \"CLASS\" if x == 'ClassLesson'\n",
    "                          else \"CORRESPONDENCE\" if x == 'Correspondence courseLessonClassLesson'\n",
    "                          else \"DELIVERY\" if x == 'Delivery serviceDelivery service'\n",
    "                          else \"EVENT\" if x == 'EventOther coupon'\n",
    "                          else \"GIFT\" if x == 'Gift cardGift card'\n",
    "                          else \"HEALTH\" if x == 'Health and medicalHealth and medical'\n",
    "                          else \"LEISURE\" if x == 'LeisureLeisure'\n",
    "                          else \"LESSON\" if x == 'LessonLesson'\n",
    "                          else \"OTHER\" if x == 'OtherOther coupon'\n",
    "                          else \"RELAXATION\" if x == 'RelaxationRelaxation'\n",
    "                          else \"WEB\" if x == 'Web serviceOther coupon'\n",
    "                          else 'OTHER'\n",
    "                          )"
   ]
  },
  {
   "cell_type": "code",
   "execution_count": 12,
   "metadata": {},
   "outputs": [],
   "source": [
    "# 실판매가 게산\n",
    "coupon_list['Price'] = coupon_list['CATALOG_PRICE'] - coupon_list['DISCOUNT_PRICE']"
   ]
  },
  {
   "cell_type": "code",
   "execution_count": 13,
   "metadata": {},
   "outputs": [],
   "source": [
    "# 실판매가 정규화\n",
    "coupon_list[\"lnDPRICE\"] = np.log1p(coupon_list[\"Price\"])\n",
    "coupon_list[\"mDPRICE\"] = coupon_list.groupby(\"Case\")[\"lnDPRICE\"].transform(np.mean)\n",
    "coupon_list[\"sDPRICE\"] = coupon_list.groupby(\"Case\")[\"lnDPRICE\"].transform(np.std)\n",
    "coupon_list[\"zprice\"] = (coupon_list[\"lnDPRICE\"] - coupon_list[\"mDPRICE\"]) / coupon_list[\"sDPRICE\"]"
   ]
  },
  {
   "cell_type": "code",
   "execution_count": 14,
   "metadata": {},
   "outputs": [],
   "source": [
    "# 지역명 변경\n",
    "coupon_list.rename(columns = {\"LARGE_AREA_NAME\": \"spot_large\", \n",
    "                              \"ken_name\": \"spot_pref\", \n",
    "                              \"SMALL_AREA_NAME\": \"spot_small\"}, inplace=True)"
   ]
  },
  {
   "cell_type": "code",
   "execution_count": 17,
   "metadata": {},
   "outputs": [],
   "source": [
    "coupon_list.drop(del_ls,1, inplace=True)"
   ]
  },
  {
   "cell_type": "code",
   "execution_count": null,
   "metadata": {},
   "outputs": [],
   "source": [
    "# usable: nan -> 1, 2 -> 0\n",
    "coupon_list['USABLE_DATE_MON'].replace([0,2,1,np.nan],[0,0,1,1], inplace=True)\n",
    "coupon_list['USABLE_DATE_TUE'].replace([0,2,1,np.nan],[0,0,1,1], inplace=True)\n",
    "coupon_list['USABLE_DATE_WED'].replace([0,2,1,np.nan],[0,0,1,1], inplace=True)\n",
    "coupon_list['USABLE_DATE_THU'].replace([0,2,1,np.nan],[0,0,1,1], inplace=True)\n",
    "coupon_list['USABLE_DATE_FRI'].replace([0,2,1,np.nan],[0,0,1,1], inplace=True)\n",
    "coupon_list['USABLE_DATE_SAT'].replace([0,2,1,np.nan],[0,0,1,1], inplace=True)\n",
    "coupon_list['USABLE_DATE_SUN'].replace([0,2,1,np.nan],[0,0,1,1], inplace=True)\n",
    "coupon_list['USABLE_DATE_HOLIDAY'].replace([0,2,1,np.nan],[0,0,1,1], inplace=True)\n",
    "coupon_list['USABLE_DATE_BEFORE_HOLIDAY'].replace([0,2,1,np.nan],[0,0,1,1], inplace=True)"
   ]
  },
  {
   "cell_type": "code",
   "execution_count": 23,
   "metadata": {
    "scrolled": true
   },
   "outputs": [
    {
     "data": {
      "text/plain": [
       "Index(['PRICE_RATE', 'DISPPERIOD', 'VALIDPERIOD', 'COUPON_ID_hash', 'Case',\n",
       "       'zprice'],\n",
       "      dtype='object')"
      ]
     },
     "execution_count": 23,
     "metadata": {},
     "output_type": "execute_result"
    }
   ],
   "source": [
    "coupon_list.columns"
   ]
  },
  {
   "cell_type": "code",
   "execution_count": 88,
   "metadata": {
    "scrolled": true
   },
   "outputs": [
    {
     "data": {
      "text/plain": [
       "PRICE_RATE           0\n",
       "DISPPERIOD           0\n",
       "VALIDPERIOD       6243\n",
       "COUPON_ID_hash       0\n",
       "Case                 0\n",
       "zprice               0\n",
       "dtype: int64"
      ]
     },
     "execution_count": 88,
     "metadata": {},
     "output_type": "execute_result"
    }
   ],
   "source": [
    "coupon_list.isnull().sum()"
   ]
  },
  {
   "cell_type": "code",
   "execution_count": 89,
   "metadata": {},
   "outputs": [],
   "source": [
    "coupon_list['VALIDPERIOD'] = coupon_list['VALIDPERIOD'].fillna(179)"
   ]
  },
  {
   "cell_type": "code",
   "execution_count": 22,
   "metadata": {},
   "outputs": [],
   "source": [
    "coupon_list.drop(labels = ['CAPSULE_TEXT'], axis=1, inplace=True )\n",
    "coupon_list.drop(labels = ['sDPRICE'], axis=1, inplace=True )\n"
   ]
  },
  {
   "cell_type": "code",
   "execution_count": 20,
   "metadata": {
    "collapsed": true
   },
   "outputs": [
    {
     "ename": "ValueError",
     "evalue": "labels ['GENRE_NAME'] not contained in axis",
     "output_type": "error",
     "traceback": [
      "\u001b[0;31m---------------------------------------------------------------------------\u001b[0m",
      "\u001b[0;31mValueError\u001b[0m                                Traceback (most recent call last)",
      "\u001b[0;32m<ipython-input-20-c531235df93a>\u001b[0m in \u001b[0;36m<module>\u001b[0;34m()\u001b[0m\n\u001b[1;32m      1\u001b[0m \u001b[0;31m# coupon_list.drop(labels = ['CAPSULE_TEXT'], axis=1, inplace=True )\u001b[0m\u001b[0;34m\u001b[0m\u001b[0;34m\u001b[0m\u001b[0m\n\u001b[0;32m----> 2\u001b[0;31m \u001b[0mcoupon_list\u001b[0m\u001b[0;34m.\u001b[0m\u001b[0mdrop\u001b[0m\u001b[0;34m(\u001b[0m\u001b[0mlabels\u001b[0m \u001b[0;34m=\u001b[0m \u001b[0;34m[\u001b[0m\u001b[0;34m'GENRE_NAME'\u001b[0m\u001b[0;34m]\u001b[0m\u001b[0;34m,\u001b[0m \u001b[0maxis\u001b[0m\u001b[0;34m=\u001b[0m\u001b[0;36m1\u001b[0m\u001b[0;34m,\u001b[0m \u001b[0minplace\u001b[0m\u001b[0;34m=\u001b[0m\u001b[0;32mTrue\u001b[0m \u001b[0;34m)\u001b[0m\u001b[0;34m\u001b[0m\u001b[0m\n\u001b[0m\u001b[1;32m      3\u001b[0m \u001b[0mcoupon_list\u001b[0m\u001b[0;34m.\u001b[0m\u001b[0mdrop\u001b[0m\u001b[0;34m(\u001b[0m\u001b[0mlabels\u001b[0m \u001b[0;34m=\u001b[0m \u001b[0;34m[\u001b[0m\u001b[0;34m'CATALOG_PRICE'\u001b[0m\u001b[0;34m]\u001b[0m\u001b[0;34m,\u001b[0m \u001b[0maxis\u001b[0m\u001b[0;34m=\u001b[0m\u001b[0;36m1\u001b[0m\u001b[0;34m,\u001b[0m \u001b[0minplace\u001b[0m\u001b[0;34m=\u001b[0m\u001b[0;32mTrue\u001b[0m \u001b[0;34m)\u001b[0m\u001b[0;34m\u001b[0m\u001b[0m\n\u001b[1;32m      4\u001b[0m \u001b[0mcoupon_list\u001b[0m\u001b[0;34m.\u001b[0m\u001b[0mdrop\u001b[0m\u001b[0;34m(\u001b[0m\u001b[0mlabels\u001b[0m \u001b[0;34m=\u001b[0m \u001b[0;34m[\u001b[0m\u001b[0;34m'DISCOUNT_PRICE'\u001b[0m\u001b[0;34m]\u001b[0m\u001b[0;34m,\u001b[0m \u001b[0maxis\u001b[0m\u001b[0;34m=\u001b[0m\u001b[0;36m1\u001b[0m\u001b[0;34m,\u001b[0m \u001b[0minplace\u001b[0m\u001b[0;34m=\u001b[0m\u001b[0;32mTrue\u001b[0m \u001b[0;34m)\u001b[0m\u001b[0;34m\u001b[0m\u001b[0m\n\u001b[1;32m      5\u001b[0m \u001b[0mcoupon_list\u001b[0m\u001b[0;34m.\u001b[0m\u001b[0mdrop\u001b[0m\u001b[0;34m(\u001b[0m\u001b[0mlabels\u001b[0m \u001b[0;34m=\u001b[0m \u001b[0;34m[\u001b[0m\u001b[0;34m'DISPFROM'\u001b[0m\u001b[0;34m]\u001b[0m\u001b[0;34m,\u001b[0m \u001b[0maxis\u001b[0m\u001b[0;34m=\u001b[0m\u001b[0;36m1\u001b[0m\u001b[0;34m,\u001b[0m \u001b[0minplace\u001b[0m\u001b[0;34m=\u001b[0m\u001b[0;32mTrue\u001b[0m \u001b[0;34m)\u001b[0m\u001b[0;34m\u001b[0m\u001b[0m\n",
      "\u001b[0;32m/Library/Frameworks/Python.framework/Versions/3.5/lib/python3.5/site-packages/pandas/core/generic.py\u001b[0m in \u001b[0;36mdrop\u001b[0;34m(self, labels, axis, level, inplace, errors)\u001b[0m\n\u001b[1;32m   2048\u001b[0m                 \u001b[0mnew_axis\u001b[0m \u001b[0;34m=\u001b[0m \u001b[0maxis\u001b[0m\u001b[0;34m.\u001b[0m\u001b[0mdrop\u001b[0m\u001b[0;34m(\u001b[0m\u001b[0mlabels\u001b[0m\u001b[0;34m,\u001b[0m \u001b[0mlevel\u001b[0m\u001b[0;34m=\u001b[0m\u001b[0mlevel\u001b[0m\u001b[0;34m,\u001b[0m \u001b[0merrors\u001b[0m\u001b[0;34m=\u001b[0m\u001b[0merrors\u001b[0m\u001b[0;34m)\u001b[0m\u001b[0;34m\u001b[0m\u001b[0m\n\u001b[1;32m   2049\u001b[0m             \u001b[0;32melse\u001b[0m\u001b[0;34m:\u001b[0m\u001b[0;34m\u001b[0m\u001b[0m\n\u001b[0;32m-> 2050\u001b[0;31m                 \u001b[0mnew_axis\u001b[0m \u001b[0;34m=\u001b[0m \u001b[0maxis\u001b[0m\u001b[0;34m.\u001b[0m\u001b[0mdrop\u001b[0m\u001b[0;34m(\u001b[0m\u001b[0mlabels\u001b[0m\u001b[0;34m,\u001b[0m \u001b[0merrors\u001b[0m\u001b[0;34m=\u001b[0m\u001b[0merrors\u001b[0m\u001b[0;34m)\u001b[0m\u001b[0;34m\u001b[0m\u001b[0m\n\u001b[0m\u001b[1;32m   2051\u001b[0m             \u001b[0mdropped\u001b[0m \u001b[0;34m=\u001b[0m \u001b[0mself\u001b[0m\u001b[0;34m.\u001b[0m\u001b[0mreindex\u001b[0m\u001b[0;34m(\u001b[0m\u001b[0;34m**\u001b[0m\u001b[0;34m{\u001b[0m\u001b[0maxis_name\u001b[0m\u001b[0;34m:\u001b[0m \u001b[0mnew_axis\u001b[0m\u001b[0;34m}\u001b[0m\u001b[0;34m)\u001b[0m\u001b[0;34m\u001b[0m\u001b[0m\n\u001b[1;32m   2052\u001b[0m             \u001b[0;32mtry\u001b[0m\u001b[0;34m:\u001b[0m\u001b[0;34m\u001b[0m\u001b[0m\n",
      "\u001b[0;32m/Library/Frameworks/Python.framework/Versions/3.5/lib/python3.5/site-packages/pandas/core/indexes/base.py\u001b[0m in \u001b[0;36mdrop\u001b[0;34m(self, labels, errors)\u001b[0m\n\u001b[1;32m   3573\u001b[0m             \u001b[0;32mif\u001b[0m \u001b[0merrors\u001b[0m \u001b[0;34m!=\u001b[0m \u001b[0;34m'ignore'\u001b[0m\u001b[0;34m:\u001b[0m\u001b[0;34m\u001b[0m\u001b[0m\n\u001b[1;32m   3574\u001b[0m                 raise ValueError('labels %s not contained in axis' %\n\u001b[0;32m-> 3575\u001b[0;31m                                  labels[mask])\n\u001b[0m\u001b[1;32m   3576\u001b[0m             \u001b[0mindexer\u001b[0m \u001b[0;34m=\u001b[0m \u001b[0mindexer\u001b[0m\u001b[0;34m[\u001b[0m\u001b[0;34m~\u001b[0m\u001b[0mmask\u001b[0m\u001b[0;34m]\u001b[0m\u001b[0;34m\u001b[0m\u001b[0m\n\u001b[1;32m   3577\u001b[0m         \u001b[0;32mreturn\u001b[0m \u001b[0mself\u001b[0m\u001b[0;34m.\u001b[0m\u001b[0mdelete\u001b[0m\u001b[0;34m(\u001b[0m\u001b[0mindexer\u001b[0m\u001b[0;34m)\u001b[0m\u001b[0;34m\u001b[0m\u001b[0m\n",
      "\u001b[0;31mValueError\u001b[0m: labels ['GENRE_NAME'] not contained in axis"
     ]
    }
   ],
   "source": [
    "# coupon_list.drop(labels = ['CAPSULE_TEXT'], axis=1, inplace=True )\n",
    "coupon_list.drop(labels = ['GENRE_NAME'], axis=1, inplace=True )\n",
    "coupon_list.drop(labels = ['CATALOG_PRICE'], axis=1, inplace=True )\n",
    "coupon_list.drop(labels = ['DISCOUNT_PRICE'], axis=1, inplace=True )\n",
    "coupon_list.drop(labels = ['DISPFROM'], axis=1, inplace=True )\n",
    "coupon_list.drop(labels = ['DISPEND'], axis=1, inplace=True )\n",
    "coupon_list.drop(labels = ['VALIDFROM'], axis=1, inplace=True )\n",
    "coupon_list.drop(labels = ['VALIDEND'], axis=1, inplace=True )\n",
    "coupon_list.drop(labels = ['lnDPRICE'], axis=1, inplace=True )\n",
    "coupon_list.drop(labels = ['mDPRICE'], axis=1, inplace=True )\n",
    "coupon_list.drop(labels = ['Price'], axis=1, inplace=True )\n",
    "coupon_list.drop(labels = ['spot_pref'], axis=1, inplace=True )  # 판단이슈 \n",
    "coupon_list.drop(labels = ['spot_small'], axis=1, inplace=True ) # 판단이슈 \n",
    "coupon_list.drop(labels = ['spot_large'], axis=1, inplace=True ) # 판단이슈 \n",
    "# coupon_list.drop(labels = ['large_area_name'], axis=1, inplace=True ) # 판단이슈 "
   ]
  },
  {
   "cell_type": "code",
   "execution_count": null,
   "metadata": {},
   "outputs": [],
   "source": [
    "coupon_list.columns"
   ]
  },
  {
   "cell_type": "code",
   "execution_count": 101,
   "metadata": {},
   "outputs": [],
   "source": [
    "ls_dummy = ['Case']"
   ]
  },
  {
   "cell_type": "code",
   "execution_count": 102,
   "metadata": {},
   "outputs": [],
   "source": [
    "coupon_list = pd.get_dummies(coupon_list, columns = ls_dummy)"
   ]
  },
  {
   "cell_type": "code",
   "execution_count": 90,
   "metadata": {},
   "outputs": [],
   "source": [
    "# train set과 test set을 다시 분리\n",
    "coupon_list_train = coupon_list[311:]\n",
    "coupon_list_test = coupon_list[:310]"
   ]
  },
  {
   "cell_type": "markdown",
   "metadata": {},
   "source": [
    "# detail"
   ]
  },
  {
   "cell_type": "code",
   "execution_count": 94,
   "metadata": {
    "collapsed": true
   },
   "outputs": [
    {
     "data": {
      "text/html": [
       "<div>\n",
       "<style>\n",
       "    .dataframe thead tr:only-child th {\n",
       "        text-align: right;\n",
       "    }\n",
       "\n",
       "    .dataframe thead th {\n",
       "        text-align: left;\n",
       "    }\n",
       "\n",
       "    .dataframe tbody tr th {\n",
       "        vertical-align: top;\n",
       "    }\n",
       "</style>\n",
       "<table border=\"1\" class=\"dataframe\">\n",
       "  <thead>\n",
       "    <tr style=\"text-align: right;\">\n",
       "      <th></th>\n",
       "      <th>ITEM_COUNT</th>\n",
       "      <th>I_DATE</th>\n",
       "      <th>SMALL_AREA_NAME</th>\n",
       "      <th>PURCHASEID_hash</th>\n",
       "      <th>USER_ID_hash</th>\n",
       "      <th>COUPON_ID_hash</th>\n",
       "    </tr>\n",
       "  </thead>\n",
       "  <tbody>\n",
       "    <tr>\n",
       "      <th>0</th>\n",
       "      <td>1</td>\n",
       "      <td>2012-03-28 15:06:00</td>\n",
       "      <td>Hyogo</td>\n",
       "      <td>c820a8882374a4e472f0984a8825893f</td>\n",
       "      <td>d9dca3cb44bab12ba313eaa681f663eb</td>\n",
       "      <td>34c48f84026e08355dc3bd19b427f09a</td>\n",
       "    </tr>\n",
       "    <tr>\n",
       "      <th>1</th>\n",
       "      <td>1</td>\n",
       "      <td>2011-07-04 23:52:00</td>\n",
       "      <td>GinzaShinbashi,Tokyo,Ueno</td>\n",
       "      <td>1b4eb2435421ede98c8931c42e8220ec</td>\n",
       "      <td>560574a339f1b25e57b0221e486907ed</td>\n",
       "      <td>767673b7a777854a92b73b0934ddfae7</td>\n",
       "    </tr>\n",
       "    <tr>\n",
       "      <th>2</th>\n",
       "      <td>1</td>\n",
       "      <td>2011-07-16 00:52:00</td>\n",
       "      <td>Ebisu,MeguroShinagawa</td>\n",
       "      <td>36b5f9ba46c44b65587d0b16f2e4c77f</td>\n",
       "      <td>560574a339f1b25e57b0221e486907ed</td>\n",
       "      <td>4f3b5b91d9831192557c056022fdc1f2</td>\n",
       "    </tr>\n",
       "    <tr>\n",
       "      <th>3</th>\n",
       "      <td>1</td>\n",
       "      <td>2011-07-16 00:54:00</td>\n",
       "      <td>Ebisu,MeguroShinagawa</td>\n",
       "      <td>2f30f46937cc9004774e576914b2aa1a</td>\n",
       "      <td>560574a339f1b25e57b0221e486907ed</td>\n",
       "      <td>4f3b5b91d9831192557c056022fdc1f2</td>\n",
       "    </tr>\n",
       "    <tr>\n",
       "      <th>4</th>\n",
       "      <td>1</td>\n",
       "      <td>2011-07-16 00:55:00</td>\n",
       "      <td>Ebisu,MeguroShinagawa</td>\n",
       "      <td>4d000c64a55ac573d0ae1a8f03677f50</td>\n",
       "      <td>560574a339f1b25e57b0221e486907ed</td>\n",
       "      <td>4f3b5b91d9831192557c056022fdc1f2</td>\n",
       "    </tr>\n",
       "  </tbody>\n",
       "</table>\n",
       "</div>"
      ],
      "text/plain": [
       "   ITEM_COUNT              I_DATE            SMALL_AREA_NAME  \\\n",
       "0           1 2012-03-28 15:06:00                      Hyogo   \n",
       "1           1 2011-07-04 23:52:00  GinzaShinbashi,Tokyo,Ueno   \n",
       "2           1 2011-07-16 00:52:00      Ebisu,MeguroShinagawa   \n",
       "3           1 2011-07-16 00:54:00      Ebisu,MeguroShinagawa   \n",
       "4           1 2011-07-16 00:55:00      Ebisu,MeguroShinagawa   \n",
       "\n",
       "                    PURCHASEID_hash                      USER_ID_hash  \\\n",
       "0  c820a8882374a4e472f0984a8825893f  d9dca3cb44bab12ba313eaa681f663eb   \n",
       "1  1b4eb2435421ede98c8931c42e8220ec  560574a339f1b25e57b0221e486907ed   \n",
       "2  36b5f9ba46c44b65587d0b16f2e4c77f  560574a339f1b25e57b0221e486907ed   \n",
       "3  2f30f46937cc9004774e576914b2aa1a  560574a339f1b25e57b0221e486907ed   \n",
       "4  4d000c64a55ac573d0ae1a8f03677f50  560574a339f1b25e57b0221e486907ed   \n",
       "\n",
       "                     COUPON_ID_hash  \n",
       "0  34c48f84026e08355dc3bd19b427f09a  \n",
       "1  767673b7a777854a92b73b0934ddfae7  \n",
       "2  4f3b5b91d9831192557c056022fdc1f2  \n",
       "3  4f3b5b91d9831192557c056022fdc1f2  \n",
       "4  4f3b5b91d9831192557c056022fdc1f2  "
      ]
     },
     "execution_count": 94,
     "metadata": {},
     "output_type": "execute_result"
    }
   ],
   "source": [
    "detail_train.head()"
   ]
  },
  {
   "cell_type": "code",
   "execution_count": 95,
   "metadata": {},
   "outputs": [],
   "source": [
    "detail_train = pd.merge(detail_train, coupon_list, how='left', on='COUPON_ID_hash')\n",
    "\n"
   ]
  },
  {
   "cell_type": "code",
   "execution_count": null,
   "metadata": {},
   "outputs": [],
   "source": []
  },
  {
   "cell_type": "code",
   "execution_count": 96,
   "metadata": {},
   "outputs": [],
   "source": [
    "# 2. replace hash string ---------------------------------\n",
    "user_ids = user_list.USER_ID_hash\n",
    "coupon_train_ids = coupon_list_train.COUPON_ID_hash\n",
    "\n",
    "# for test coupon, added 1000000 to IDs\n",
    "coupon_test_ids = coupon_list_test.COUPON_ID_hash\n",
    "coupon_test_ids.rename(lambda x : x + 1000000, inplace=True)\n",
    "coupon_ids = pd.concat([coupon_train_ids, coupon_test_ids])\n",
    "\n",
    "def replace_hash(hashes, hash_id_table):\n",
    "    replace_table = pd.Series(hash_id_table.index, index=hash_id_table.values)\n",
    "    return replace_table[hashes].values\n",
    "\n",
    "# replace hash and drop extra columns\n",
    "detail = detail_train.copy()\n",
    "detail[\"USER_ID\"] = replace_hash(detail.USER_ID_hash, user_ids)\n",
    "detail[\"COUPON_ID\"] = replace_hash(detail.COUPON_ID_hash, coupon_ids)\n",
    "detail = detail[[\"USER_ID\", \"COUPON_ID\"]]"
   ]
  },
  {
   "cell_type": "code",
   "execution_count": 97,
   "metadata": {
    "scrolled": true
   },
   "outputs": [
    {
     "data": {
      "text/html": [
       "<div>\n",
       "<style>\n",
       "    .dataframe thead tr:only-child th {\n",
       "        text-align: right;\n",
       "    }\n",
       "\n",
       "    .dataframe thead th {\n",
       "        text-align: left;\n",
       "    }\n",
       "\n",
       "    .dataframe tbody tr th {\n",
       "        vertical-align: top;\n",
       "    }\n",
       "</style>\n",
       "<table border=\"1\" class=\"dataframe\">\n",
       "  <thead>\n",
       "    <tr style=\"text-align: right;\">\n",
       "      <th></th>\n",
       "      <th>USER_ID</th>\n",
       "      <th>COUPON_ID</th>\n",
       "    </tr>\n",
       "  </thead>\n",
       "  <tbody>\n",
       "    <tr>\n",
       "      <th>0</th>\n",
       "      <td>0</td>\n",
       "      <td>15727.0</td>\n",
       "    </tr>\n",
       "    <tr>\n",
       "      <th>1</th>\n",
       "      <td>1</td>\n",
       "      <td>838.0</td>\n",
       "    </tr>\n",
       "    <tr>\n",
       "      <th>2</th>\n",
       "      <td>1</td>\n",
       "      <td>1222.0</td>\n",
       "    </tr>\n",
       "    <tr>\n",
       "      <th>3</th>\n",
       "      <td>1</td>\n",
       "      <td>1222.0</td>\n",
       "    </tr>\n",
       "    <tr>\n",
       "      <th>4</th>\n",
       "      <td>1</td>\n",
       "      <td>1222.0</td>\n",
       "    </tr>\n",
       "    <tr>\n",
       "      <th>5</th>\n",
       "      <td>1</td>\n",
       "      <td>1222.0</td>\n",
       "    </tr>\n",
       "    <tr>\n",
       "      <th>6</th>\n",
       "      <td>1</td>\n",
       "      <td>1222.0</td>\n",
       "    </tr>\n",
       "    <tr>\n",
       "      <th>7</th>\n",
       "      <td>1</td>\n",
       "      <td>4080.0</td>\n",
       "    </tr>\n",
       "    <tr>\n",
       "      <th>8</th>\n",
       "      <td>1</td>\n",
       "      <td>6696.0</td>\n",
       "    </tr>\n",
       "    <tr>\n",
       "      <th>9</th>\n",
       "      <td>1</td>\n",
       "      <td>8787.0</td>\n",
       "    </tr>\n",
       "    <tr>\n",
       "      <th>10</th>\n",
       "      <td>1</td>\n",
       "      <td>10680.0</td>\n",
       "    </tr>\n",
       "    <tr>\n",
       "      <th>11</th>\n",
       "      <td>1</td>\n",
       "      <td>14432.0</td>\n",
       "    </tr>\n",
       "    <tr>\n",
       "      <th>12</th>\n",
       "      <td>1</td>\n",
       "      <td>15861.0</td>\n",
       "    </tr>\n",
       "    <tr>\n",
       "      <th>13</th>\n",
       "      <td>1</td>\n",
       "      <td>15950.0</td>\n",
       "    </tr>\n",
       "    <tr>\n",
       "      <th>14</th>\n",
       "      <td>1</td>\n",
       "      <td>13566.0</td>\n",
       "    </tr>\n",
       "    <tr>\n",
       "      <th>15</th>\n",
       "      <td>1</td>\n",
       "      <td>15378.0</td>\n",
       "    </tr>\n",
       "    <tr>\n",
       "      <th>16</th>\n",
       "      <td>1</td>\n",
       "      <td>18935.0</td>\n",
       "    </tr>\n",
       "    <tr>\n",
       "      <th>17</th>\n",
       "      <td>2</td>\n",
       "      <td>2146.0</td>\n",
       "    </tr>\n",
       "    <tr>\n",
       "      <th>18</th>\n",
       "      <td>3</td>\n",
       "      <td>12896.0</td>\n",
       "    </tr>\n",
       "    <tr>\n",
       "      <th>19</th>\n",
       "      <td>3</td>\n",
       "      <td>15496.0</td>\n",
       "    </tr>\n",
       "    <tr>\n",
       "      <th>20</th>\n",
       "      <td>3</td>\n",
       "      <td>17941.0</td>\n",
       "    </tr>\n",
       "    <tr>\n",
       "      <th>21</th>\n",
       "      <td>3</td>\n",
       "      <td>18082.0</td>\n",
       "    </tr>\n",
       "    <tr>\n",
       "      <th>22</th>\n",
       "      <td>4</td>\n",
       "      <td>1065.0</td>\n",
       "    </tr>\n",
       "    <tr>\n",
       "      <th>23</th>\n",
       "      <td>4</td>\n",
       "      <td>2239.0</td>\n",
       "    </tr>\n",
       "    <tr>\n",
       "      <th>24</th>\n",
       "      <td>4</td>\n",
       "      <td>2712.0</td>\n",
       "    </tr>\n",
       "    <tr>\n",
       "      <th>25</th>\n",
       "      <td>4</td>\n",
       "      <td>3010.0</td>\n",
       "    </tr>\n",
       "    <tr>\n",
       "      <th>26</th>\n",
       "      <td>4</td>\n",
       "      <td>3323.0</td>\n",
       "    </tr>\n",
       "    <tr>\n",
       "      <th>27</th>\n",
       "      <td>4</td>\n",
       "      <td>7182.0</td>\n",
       "    </tr>\n",
       "    <tr>\n",
       "      <th>28</th>\n",
       "      <td>4</td>\n",
       "      <td>7182.0</td>\n",
       "    </tr>\n",
       "    <tr>\n",
       "      <th>29</th>\n",
       "      <td>4</td>\n",
       "      <td>7182.0</td>\n",
       "    </tr>\n",
       "    <tr>\n",
       "      <th>...</th>\n",
       "      <td>...</td>\n",
       "      <td>...</td>\n",
       "    </tr>\n",
       "    <tr>\n",
       "      <th>168966</th>\n",
       "      <td>22872</td>\n",
       "      <td>1027.0</td>\n",
       "    </tr>\n",
       "    <tr>\n",
       "      <th>168967</th>\n",
       "      <td>22872</td>\n",
       "      <td>1655.0</td>\n",
       "    </tr>\n",
       "    <tr>\n",
       "      <th>168968</th>\n",
       "      <td>22872</td>\n",
       "      <td>1545.0</td>\n",
       "    </tr>\n",
       "    <tr>\n",
       "      <th>168969</th>\n",
       "      <td>22872</td>\n",
       "      <td>1369.0</td>\n",
       "    </tr>\n",
       "    <tr>\n",
       "      <th>168970</th>\n",
       "      <td>22872</td>\n",
       "      <td>2161.0</td>\n",
       "    </tr>\n",
       "    <tr>\n",
       "      <th>168971</th>\n",
       "      <td>22872</td>\n",
       "      <td>1982.0</td>\n",
       "    </tr>\n",
       "    <tr>\n",
       "      <th>168972</th>\n",
       "      <td>22872</td>\n",
       "      <td>2618.0</td>\n",
       "    </tr>\n",
       "    <tr>\n",
       "      <th>168973</th>\n",
       "      <td>22872</td>\n",
       "      <td>2534.0</td>\n",
       "    </tr>\n",
       "    <tr>\n",
       "      <th>168974</th>\n",
       "      <td>22872</td>\n",
       "      <td>1270.0</td>\n",
       "    </tr>\n",
       "    <tr>\n",
       "      <th>168975</th>\n",
       "      <td>22872</td>\n",
       "      <td>2563.0</td>\n",
       "    </tr>\n",
       "    <tr>\n",
       "      <th>168976</th>\n",
       "      <td>22872</td>\n",
       "      <td>6445.0</td>\n",
       "    </tr>\n",
       "    <tr>\n",
       "      <th>168977</th>\n",
       "      <td>22872</td>\n",
       "      <td>5489.0</td>\n",
       "    </tr>\n",
       "    <tr>\n",
       "      <th>168978</th>\n",
       "      <td>22872</td>\n",
       "      <td>6446.0</td>\n",
       "    </tr>\n",
       "    <tr>\n",
       "      <th>168979</th>\n",
       "      <td>22872</td>\n",
       "      <td>6022.0</td>\n",
       "    </tr>\n",
       "    <tr>\n",
       "      <th>168980</th>\n",
       "      <td>22872</td>\n",
       "      <td>8287.0</td>\n",
       "    </tr>\n",
       "    <tr>\n",
       "      <th>168981</th>\n",
       "      <td>22872</td>\n",
       "      <td>8290.0</td>\n",
       "    </tr>\n",
       "    <tr>\n",
       "      <th>168982</th>\n",
       "      <td>22872</td>\n",
       "      <td>8567.0</td>\n",
       "    </tr>\n",
       "    <tr>\n",
       "      <th>168983</th>\n",
       "      <td>22872</td>\n",
       "      <td>10240.0</td>\n",
       "    </tr>\n",
       "    <tr>\n",
       "      <th>168984</th>\n",
       "      <td>22872</td>\n",
       "      <td>10315.0</td>\n",
       "    </tr>\n",
       "    <tr>\n",
       "      <th>168985</th>\n",
       "      <td>22872</td>\n",
       "      <td>11368.0</td>\n",
       "    </tr>\n",
       "    <tr>\n",
       "      <th>168986</th>\n",
       "      <td>22872</td>\n",
       "      <td>12373.0</td>\n",
       "    </tr>\n",
       "    <tr>\n",
       "      <th>168987</th>\n",
       "      <td>22872</td>\n",
       "      <td>12373.0</td>\n",
       "    </tr>\n",
       "    <tr>\n",
       "      <th>168988</th>\n",
       "      <td>22872</td>\n",
       "      <td>5573.0</td>\n",
       "    </tr>\n",
       "    <tr>\n",
       "      <th>168989</th>\n",
       "      <td>22872</td>\n",
       "      <td>5573.0</td>\n",
       "    </tr>\n",
       "    <tr>\n",
       "      <th>168990</th>\n",
       "      <td>22872</td>\n",
       "      <td>12312.0</td>\n",
       "    </tr>\n",
       "    <tr>\n",
       "      <th>168991</th>\n",
       "      <td>22872</td>\n",
       "      <td>13105.0</td>\n",
       "    </tr>\n",
       "    <tr>\n",
       "      <th>168992</th>\n",
       "      <td>22872</td>\n",
       "      <td>13138.0</td>\n",
       "    </tr>\n",
       "    <tr>\n",
       "      <th>168993</th>\n",
       "      <td>22872</td>\n",
       "      <td>14859.0</td>\n",
       "    </tr>\n",
       "    <tr>\n",
       "      <th>168994</th>\n",
       "      <td>22872</td>\n",
       "      <td>14172.0</td>\n",
       "    </tr>\n",
       "    <tr>\n",
       "      <th>168995</th>\n",
       "      <td>22872</td>\n",
       "      <td>17660.0</td>\n",
       "    </tr>\n",
       "  </tbody>\n",
       "</table>\n",
       "<p>168996 rows × 2 columns</p>\n",
       "</div>"
      ],
      "text/plain": [
       "        USER_ID  COUPON_ID\n",
       "0             0    15727.0\n",
       "1             1      838.0\n",
       "2             1     1222.0\n",
       "3             1     1222.0\n",
       "4             1     1222.0\n",
       "5             1     1222.0\n",
       "6             1     1222.0\n",
       "7             1     4080.0\n",
       "8             1     6696.0\n",
       "9             1     8787.0\n",
       "10            1    10680.0\n",
       "11            1    14432.0\n",
       "12            1    15861.0\n",
       "13            1    15950.0\n",
       "14            1    13566.0\n",
       "15            1    15378.0\n",
       "16            1    18935.0\n",
       "17            2     2146.0\n",
       "18            3    12896.0\n",
       "19            3    15496.0\n",
       "20            3    17941.0\n",
       "21            3    18082.0\n",
       "22            4     1065.0\n",
       "23            4     2239.0\n",
       "24            4     2712.0\n",
       "25            4     3010.0\n",
       "26            4     3323.0\n",
       "27            4     7182.0\n",
       "28            4     7182.0\n",
       "29            4     7182.0\n",
       "...         ...        ...\n",
       "168966    22872     1027.0\n",
       "168967    22872     1655.0\n",
       "168968    22872     1545.0\n",
       "168969    22872     1369.0\n",
       "168970    22872     2161.0\n",
       "168971    22872     1982.0\n",
       "168972    22872     2618.0\n",
       "168973    22872     2534.0\n",
       "168974    22872     1270.0\n",
       "168975    22872     2563.0\n",
       "168976    22872     6445.0\n",
       "168977    22872     5489.0\n",
       "168978    22872     6446.0\n",
       "168979    22872     6022.0\n",
       "168980    22872     8287.0\n",
       "168981    22872     8290.0\n",
       "168982    22872     8567.0\n",
       "168983    22872    10240.0\n",
       "168984    22872    10315.0\n",
       "168985    22872    11368.0\n",
       "168986    22872    12373.0\n",
       "168987    22872    12373.0\n",
       "168988    22872     5573.0\n",
       "168989    22872     5573.0\n",
       "168990    22872    12312.0\n",
       "168991    22872    13105.0\n",
       "168992    22872    13138.0\n",
       "168993    22872    14859.0\n",
       "168994    22872    14172.0\n",
       "168995    22872    17660.0\n",
       "\n",
       "[168996 rows x 2 columns]"
      ]
     },
     "execution_count": 97,
     "metadata": {},
     "output_type": "execute_result"
    }
   ],
   "source": [
    "detail"
   ]
  },
  {
   "cell_type": "code",
   "execution_count": 98,
   "metadata": {
    "scrolled": false
   },
   "outputs": [
    {
     "data": {
      "text/plain": [
       "19412"
      ]
     },
     "execution_count": 98,
     "metadata": {},
     "output_type": "execute_result"
    }
   ],
   "source": [
    "len(np.unique(coupon_list_train.COUPON_ID_hash.values))"
   ]
  },
  {
   "cell_type": "code",
   "execution_count": 100,
   "metadata": {},
   "outputs": [
    {
     "data": {
      "text/plain": [
       "Index(['ITEM_COUNT', 'I_DATE', 'SMALL_AREA_NAME', 'PURCHASEID_hash',\n",
       "       'USER_ID_hash', 'COUPON_ID_hash', 'PRICE_RATE', 'DISPPERIOD',\n",
       "       'VALIDPERIOD', 'Case', 'zprice', 'SEX_ID', 'AGE', 'A'],\n",
       "      dtype='object')"
      ]
     },
     "execution_count": 100,
     "metadata": {},
     "output_type": "execute_result"
    }
   ],
   "source": [
    "detail_train.columns"
   ]
  },
  {
   "cell_type": "code",
   "execution_count": 103,
   "metadata": {},
   "outputs": [],
   "source": [
    "# test 데이터 생성\n",
    "coupon_list_test['A'] = 1\n",
    "user_list['A'] = 1\n",
    "test = pd.merge(coupon_list_test, user_list, how='outer')"
   ]
  },
  {
   "cell_type": "code",
   "execution_count": 107,
   "metadata": {},
   "outputs": [],
   "source": [
    "test = pd.get_dummies(test, columns = ls_dummy)\n",
    "test.drop(labels = ['A'], axis=1, inplace=True)"
   ]
  },
  {
   "cell_type": "code",
   "execution_count": 111,
   "metadata": {
    "scrolled": true
   },
   "outputs": [
    {
     "name": "stdout",
     "output_type": "stream",
     "text": [
      "only_train: ['Case_BEAUTY', 'Case_EVENT', 'Case_LESSON']  \n",
      "\n",
      "only_test: []\n"
     ]
    }
   ],
   "source": [
    "compare_not_test = [i for i in detail_train.columns if i not in test.columns]\n",
    "compare_not_train = [i for i in test.columns if i not in detail_train.columns]\n",
    "print('only_train: {}  \\n'.format(compare_not_test))\n",
    "print('only_test: {}'.format(compare_not_train))"
   ]
  },
  {
   "cell_type": "markdown",
   "metadata": {},
   "source": [
    "### test 생성"
   ]
  },
  {
   "cell_type": "code",
   "execution_count": 58,
   "metadata": {},
   "outputs": [],
   "source": [
    "test = coupon_list.filter(detail_train.columns)"
   ]
  },
  {
   "cell_type": "code",
   "execution_count": 114,
   "metadata": {},
   "outputs": [],
   "source": [
    "train = detail_train.copy()"
   ]
  },
  {
   "cell_type": "markdown",
   "metadata": {},
   "source": [
    "### B2. train data set \n",
    "이후부터 "
   ]
  },
  {
   "cell_type": "code",
   "execution_count": 115,
   "metadata": {},
   "outputs": [],
   "source": [
    "numerical_features = train.select_dtypes(exclude = [\"object\"]).columns\n",
    "categorical_features = train.select_dtypes(include = [\"object\"]).columns"
   ]
  },
  {
   "cell_type": "code",
   "execution_count": 116,
   "metadata": {},
   "outputs": [],
   "source": [
    "continuous = list(set(numerical_features) - set(categorical_features))"
   ]
  },
  {
   "cell_type": "code",
   "execution_count": 117,
   "metadata": {},
   "outputs": [
    {
     "data": {
      "text/plain": [
       "Index(['USER_ID_hash', 'COUPON_ID_hash'], dtype='object')"
      ]
     },
     "execution_count": 117,
     "metadata": {},
     "output_type": "execute_result"
    }
   ],
   "source": [
    "categorical_features"
   ]
  },
  {
   "cell_type": "code",
   "execution_count": 118,
   "metadata": {},
   "outputs": [
    {
     "data": {
      "text/plain": [
       "Index(['PRICE_RATE', 'DISPPERIOD', 'VALIDPERIOD', 'COUPON_ID_hash', 'zprice',\n",
       "       'SEX_ID', 'AGE', 'USER_ID_hash', 'Case_CLASS', 'Case_DELIVERY',\n",
       "       'Case_FOOD', 'Case_GIFT', 'Case_HAIR', 'Case_HEALTH', 'Case_HOTEL',\n",
       "       'Case_LEISURE', 'Case_NAIL', 'Case_OTHER', 'Case_RELAXATION',\n",
       "       'Case_SPA', 'Case_WEB', 'Case_BEAUTY', 'Case_EVENT', 'Case_LESSON'],\n",
       "      dtype='object')"
      ]
     },
     "execution_count": 118,
     "metadata": {},
     "output_type": "execute_result"
    }
   ],
   "source": [
    "test.columns"
   ]
  },
  {
   "cell_type": "code",
   "execution_count": 119,
   "metadata": {},
   "outputs": [],
   "source": [
    "test2 = test.copy()"
   ]
  },
  {
   "cell_type": "code",
   "execution_count": 120,
   "metadata": {},
   "outputs": [],
   "source": [
    "test2.drop('USER_ID_hash', inplace=True, axis=1)"
   ]
  },
  {
   "cell_type": "code",
   "execution_count": 121,
   "metadata": {},
   "outputs": [],
   "source": [
    "test_features = test2"
   ]
  },
  {
   "cell_type": "code",
   "execution_count": 125,
   "metadata": {
    "scrolled": true
   },
   "outputs": [
    {
     "data": {
      "text/plain": [
       "(7090630, 23)"
      ]
     },
     "execution_count": 125,
     "metadata": {},
     "output_type": "execute_result"
    }
   ],
   "source": [
    "test_features.shape"
   ]
  },
  {
   "cell_type": "code",
   "execution_count": 146,
   "metadata": {
    "collapsed": true
   },
   "outputs": [
    {
     "ename": "KeyboardInterrupt",
     "evalue": "",
     "output_type": "error",
     "traceback": [
      "\u001b[0;31m---------------------------------------------------------------------------\u001b[0m",
      "\u001b[0;31mTypeError\u001b[0m                                 Traceback (most recent call last)",
      "\u001b[0;32m/Library/Frameworks/Python.framework/Versions/3.5/lib/python3.5/site-packages/pandas/core/nanops.py\u001b[0m in \u001b[0;36m_ensure_numeric\u001b[0;34m(x)\u001b[0m\n\u001b[1;32m    759\u001b[0m             \u001b[0;32mtry\u001b[0m\u001b[0;34m:\u001b[0m\u001b[0;34m\u001b[0m\u001b[0m\n\u001b[0;32m--> 760\u001b[0;31m                 \u001b[0mx\u001b[0m \u001b[0;34m=\u001b[0m \u001b[0mx\u001b[0m\u001b[0;34m.\u001b[0m\u001b[0mastype\u001b[0m\u001b[0;34m(\u001b[0m\u001b[0mnp\u001b[0m\u001b[0;34m.\u001b[0m\u001b[0mcomplex128\u001b[0m\u001b[0;34m)\u001b[0m\u001b[0;34m\u001b[0m\u001b[0m\n\u001b[0m\u001b[1;32m    761\u001b[0m             \u001b[0;32mexcept\u001b[0m\u001b[0;34m:\u001b[0m\u001b[0;34m\u001b[0m\u001b[0m\n",
      "\u001b[0;31mTypeError\u001b[0m: a float is required",
      "\nDuring handling of the above exception, another exception occurred:\n",
      "\u001b[0;31mValueError\u001b[0m                                Traceback (most recent call last)",
      "\u001b[0;32m/Library/Frameworks/Python.framework/Versions/3.5/lib/python3.5/site-packages/pandas/core/nanops.py\u001b[0m in \u001b[0;36mf\u001b[0;34m(values, axis, skipna, **kwds)\u001b[0m\n\u001b[1;32m    118\u001b[0m                 \u001b[0;32melse\u001b[0m\u001b[0;34m:\u001b[0m\u001b[0;34m\u001b[0m\u001b[0m\n\u001b[0;32m--> 119\u001b[0;31m                     \u001b[0mresult\u001b[0m \u001b[0;34m=\u001b[0m \u001b[0malt\u001b[0m\u001b[0;34m(\u001b[0m\u001b[0mvalues\u001b[0m\u001b[0;34m,\u001b[0m \u001b[0maxis\u001b[0m\u001b[0;34m=\u001b[0m\u001b[0maxis\u001b[0m\u001b[0;34m,\u001b[0m \u001b[0mskipna\u001b[0m\u001b[0;34m=\u001b[0m\u001b[0mskipna\u001b[0m\u001b[0;34m,\u001b[0m \u001b[0;34m**\u001b[0m\u001b[0mkwds\u001b[0m\u001b[0;34m)\u001b[0m\u001b[0;34m\u001b[0m\u001b[0m\n\u001b[0m\u001b[1;32m    120\u001b[0m             \u001b[0;32mexcept\u001b[0m \u001b[0mException\u001b[0m\u001b[0;34m:\u001b[0m\u001b[0;34m\u001b[0m\u001b[0m\n",
      "\u001b[0;32m/Library/Frameworks/Python.framework/Versions/3.5/lib/python3.5/site-packages/pandas/core/nanops.py\u001b[0m in \u001b[0;36mnanmean\u001b[0;34m(values, axis, skipna)\u001b[0m\n\u001b[1;32m    311\u001b[0m     \u001b[0mcount\u001b[0m \u001b[0;34m=\u001b[0m \u001b[0m_get_counts\u001b[0m\u001b[0;34m(\u001b[0m\u001b[0mmask\u001b[0m\u001b[0;34m,\u001b[0m \u001b[0maxis\u001b[0m\u001b[0;34m,\u001b[0m \u001b[0mdtype\u001b[0m\u001b[0;34m=\u001b[0m\u001b[0mdtype_count\u001b[0m\u001b[0;34m)\u001b[0m\u001b[0;34m\u001b[0m\u001b[0m\n\u001b[0;32m--> 312\u001b[0;31m     \u001b[0mthe_sum\u001b[0m \u001b[0;34m=\u001b[0m \u001b[0m_ensure_numeric\u001b[0m\u001b[0;34m(\u001b[0m\u001b[0mvalues\u001b[0m\u001b[0;34m.\u001b[0m\u001b[0msum\u001b[0m\u001b[0;34m(\u001b[0m\u001b[0maxis\u001b[0m\u001b[0;34m,\u001b[0m \u001b[0mdtype\u001b[0m\u001b[0;34m=\u001b[0m\u001b[0mdtype_sum\u001b[0m\u001b[0;34m)\u001b[0m\u001b[0;34m)\u001b[0m\u001b[0;34m\u001b[0m\u001b[0m\n\u001b[0m\u001b[1;32m    313\u001b[0m \u001b[0;34m\u001b[0m\u001b[0m\n",
      "\u001b[0;32m/Library/Frameworks/Python.framework/Versions/3.5/lib/python3.5/site-packages/pandas/core/nanops.py\u001b[0m in \u001b[0;36m_ensure_numeric\u001b[0;34m(x)\u001b[0m\n\u001b[1;32m    761\u001b[0m             \u001b[0;32mexcept\u001b[0m\u001b[0;34m:\u001b[0m\u001b[0;34m\u001b[0m\u001b[0m\n\u001b[0;32m--> 762\u001b[0;31m                 \u001b[0mx\u001b[0m \u001b[0;34m=\u001b[0m \u001b[0mx\u001b[0m\u001b[0;34m.\u001b[0m\u001b[0mastype\u001b[0m\u001b[0;34m(\u001b[0m\u001b[0mnp\u001b[0m\u001b[0;34m.\u001b[0m\u001b[0mfloat64\u001b[0m\u001b[0;34m)\u001b[0m\u001b[0;34m\u001b[0m\u001b[0m\n\u001b[0m\u001b[1;32m    763\u001b[0m             \u001b[0;32melse\u001b[0m\u001b[0;34m:\u001b[0m\u001b[0;34m\u001b[0m\u001b[0m\n",
      "\u001b[0;31mValueError\u001b[0m: could not convert string to float: '1d3c4a65457e7ff2b064a6e8675339501d3c4a65457e7ff2b064a6e8675339501d3c4a65457e7ff2b064a6e8675339501d3c4a65457e7ff2b064a6e8675339501d3c4a65457e7ff2b064a6e8675339501d3c4a65457e7ff2b064a6e8675339501d3c4a65457e7ff2b064a6e8675339501d3c4a65457e7ff2b064a6e867533950'",
      "\nDuring handling of the above exception, another exception occurred:\n",
      "\u001b[0;31mTypeError\u001b[0m                                 Traceback (most recent call last)",
      "\u001b[0;32m/Library/Frameworks/Python.framework/Versions/3.5/lib/python3.5/site-packages/pandas/core/nanops.py\u001b[0m in \u001b[0;36m_ensure_numeric\u001b[0;34m(x)\u001b[0m\n\u001b[1;32m    759\u001b[0m             \u001b[0;32mtry\u001b[0m\u001b[0;34m:\u001b[0m\u001b[0;34m\u001b[0m\u001b[0m\n\u001b[0;32m--> 760\u001b[0;31m                 \u001b[0mx\u001b[0m \u001b[0;34m=\u001b[0m \u001b[0mx\u001b[0m\u001b[0;34m.\u001b[0m\u001b[0mastype\u001b[0m\u001b[0;34m(\u001b[0m\u001b[0mnp\u001b[0m\u001b[0;34m.\u001b[0m\u001b[0mcomplex128\u001b[0m\u001b[0;34m)\u001b[0m\u001b[0;34m\u001b[0m\u001b[0m\n\u001b[0m\u001b[1;32m    761\u001b[0m             \u001b[0;32mexcept\u001b[0m\u001b[0;34m:\u001b[0m\u001b[0;34m\u001b[0m\u001b[0m\n",
      "\u001b[0;31mTypeError\u001b[0m: a float is required",
      "\nDuring handling of the above exception, another exception occurred:\n",
      "\u001b[0;31mValueError\u001b[0m                                Traceback (most recent call last)",
      "\u001b[0;32m/Library/Frameworks/Python.framework/Versions/3.5/lib/python3.5/site-packages/pandas/core/nanops.py\u001b[0m in \u001b[0;36mf\u001b[0;34m(values, axis, skipna, **kwds)\u001b[0m\n\u001b[1;32m    121\u001b[0m                 \u001b[0;32mtry\u001b[0m\u001b[0;34m:\u001b[0m\u001b[0;34m\u001b[0m\u001b[0m\n\u001b[0;32m--> 122\u001b[0;31m                     \u001b[0mresult\u001b[0m \u001b[0;34m=\u001b[0m \u001b[0malt\u001b[0m\u001b[0;34m(\u001b[0m\u001b[0mvalues\u001b[0m\u001b[0;34m,\u001b[0m \u001b[0maxis\u001b[0m\u001b[0;34m=\u001b[0m\u001b[0maxis\u001b[0m\u001b[0;34m,\u001b[0m \u001b[0mskipna\u001b[0m\u001b[0;34m=\u001b[0m\u001b[0mskipna\u001b[0m\u001b[0;34m,\u001b[0m \u001b[0;34m**\u001b[0m\u001b[0mkwds\u001b[0m\u001b[0;34m)\u001b[0m\u001b[0;34m\u001b[0m\u001b[0m\n\u001b[0m\u001b[1;32m    123\u001b[0m                 \u001b[0;32mexcept\u001b[0m \u001b[0mValueError\u001b[0m \u001b[0;32mas\u001b[0m \u001b[0me\u001b[0m\u001b[0;34m:\u001b[0m\u001b[0;34m\u001b[0m\u001b[0m\n",
      "\u001b[0;32m/Library/Frameworks/Python.framework/Versions/3.5/lib/python3.5/site-packages/pandas/core/nanops.py\u001b[0m in \u001b[0;36mnanmean\u001b[0;34m(values, axis, skipna)\u001b[0m\n\u001b[1;32m    311\u001b[0m     \u001b[0mcount\u001b[0m \u001b[0;34m=\u001b[0m \u001b[0m_get_counts\u001b[0m\u001b[0;34m(\u001b[0m\u001b[0mmask\u001b[0m\u001b[0;34m,\u001b[0m \u001b[0maxis\u001b[0m\u001b[0;34m,\u001b[0m \u001b[0mdtype\u001b[0m\u001b[0;34m=\u001b[0m\u001b[0mdtype_count\u001b[0m\u001b[0;34m)\u001b[0m\u001b[0;34m\u001b[0m\u001b[0m\n\u001b[0;32m--> 312\u001b[0;31m     \u001b[0mthe_sum\u001b[0m \u001b[0;34m=\u001b[0m \u001b[0m_ensure_numeric\u001b[0m\u001b[0;34m(\u001b[0m\u001b[0mvalues\u001b[0m\u001b[0;34m.\u001b[0m\u001b[0msum\u001b[0m\u001b[0;34m(\u001b[0m\u001b[0maxis\u001b[0m\u001b[0;34m,\u001b[0m \u001b[0mdtype\u001b[0m\u001b[0;34m=\u001b[0m\u001b[0mdtype_sum\u001b[0m\u001b[0;34m)\u001b[0m\u001b[0;34m)\u001b[0m\u001b[0;34m\u001b[0m\u001b[0m\n\u001b[0m\u001b[1;32m    313\u001b[0m \u001b[0;34m\u001b[0m\u001b[0m\n",
      "\u001b[0;32m/Library/Frameworks/Python.framework/Versions/3.5/lib/python3.5/site-packages/pandas/core/nanops.py\u001b[0m in \u001b[0;36m_ensure_numeric\u001b[0;34m(x)\u001b[0m\n\u001b[1;32m    761\u001b[0m             \u001b[0;32mexcept\u001b[0m\u001b[0;34m:\u001b[0m\u001b[0;34m\u001b[0m\u001b[0m\n\u001b[0;32m--> 762\u001b[0;31m                 \u001b[0mx\u001b[0m \u001b[0;34m=\u001b[0m \u001b[0mx\u001b[0m\u001b[0;34m.\u001b[0m\u001b[0mastype\u001b[0m\u001b[0;34m(\u001b[0m\u001b[0mnp\u001b[0m\u001b[0;34m.\u001b[0m\u001b[0mfloat64\u001b[0m\u001b[0;34m)\u001b[0m\u001b[0;34m\u001b[0m\u001b[0m\n\u001b[0m\u001b[1;32m    763\u001b[0m             \u001b[0;32melse\u001b[0m\u001b[0;34m:\u001b[0m\u001b[0;34m\u001b[0m\u001b[0m\n",
      "\u001b[0;31mValueError\u001b[0m: could not convert string to float: '1d3c4a65457e7ff2b064a6e8675339501d3c4a65457e7ff2b064a6e8675339501d3c4a65457e7ff2b064a6e8675339501d3c4a65457e7ff2b064a6e8675339501d3c4a65457e7ff2b064a6e8675339501d3c4a65457e7ff2b064a6e8675339501d3c4a65457e7ff2b064a6e8675339501d3c4a65457e7ff2b064a6e867533950'",
      "\nDuring handling of the above exception, another exception occurred:\n",
      "\u001b[0;31mTypeError\u001b[0m                                 Traceback (most recent call last)",
      "\u001b[0;32m/Library/Frameworks/Python.framework/Versions/3.5/lib/python3.5/site-packages/pandas/core/frame.py\u001b[0m in \u001b[0;36m_reduce\u001b[0;34m(self, op, name, axis, skipna, numeric_only, filter_type, **kwds)\u001b[0m\n\u001b[1;32m   5158\u001b[0m                 \u001b[0mvalues\u001b[0m \u001b[0;34m=\u001b[0m \u001b[0mself\u001b[0m\u001b[0;34m.\u001b[0m\u001b[0mvalues\u001b[0m\u001b[0;34m\u001b[0m\u001b[0m\n\u001b[0;32m-> 5159\u001b[0;31m                 \u001b[0mresult\u001b[0m \u001b[0;34m=\u001b[0m \u001b[0mf\u001b[0m\u001b[0;34m(\u001b[0m\u001b[0mvalues\u001b[0m\u001b[0;34m)\u001b[0m\u001b[0;34m\u001b[0m\u001b[0m\n\u001b[0m\u001b[1;32m   5160\u001b[0m             \u001b[0;32mexcept\u001b[0m \u001b[0mException\u001b[0m \u001b[0;32mas\u001b[0m \u001b[0me\u001b[0m\u001b[0;34m:\u001b[0m\u001b[0;34m\u001b[0m\u001b[0m\n",
      "\u001b[0;32m/Library/Frameworks/Python.framework/Versions/3.5/lib/python3.5/site-packages/pandas/core/frame.py\u001b[0m in \u001b[0;36mf\u001b[0;34m(x)\u001b[0m\n\u001b[1;32m   5147\u001b[0m         \u001b[0;32mdef\u001b[0m \u001b[0mf\u001b[0m\u001b[0;34m(\u001b[0m\u001b[0mx\u001b[0m\u001b[0;34m)\u001b[0m\u001b[0;34m:\u001b[0m\u001b[0;34m\u001b[0m\u001b[0m\n\u001b[0;32m-> 5148\u001b[0;31m             \u001b[0;32mreturn\u001b[0m \u001b[0mop\u001b[0m\u001b[0;34m(\u001b[0m\u001b[0mx\u001b[0m\u001b[0;34m,\u001b[0m \u001b[0maxis\u001b[0m\u001b[0;34m=\u001b[0m\u001b[0maxis\u001b[0m\u001b[0;34m,\u001b[0m \u001b[0mskipna\u001b[0m\u001b[0;34m=\u001b[0m\u001b[0mskipna\u001b[0m\u001b[0;34m,\u001b[0m \u001b[0;34m**\u001b[0m\u001b[0mkwds\u001b[0m\u001b[0;34m)\u001b[0m\u001b[0;34m\u001b[0m\u001b[0m\n\u001b[0m\u001b[1;32m   5149\u001b[0m \u001b[0;34m\u001b[0m\u001b[0m\n",
      "\u001b[0;32m/Library/Frameworks/Python.framework/Versions/3.5/lib/python3.5/site-packages/pandas/core/nanops.py\u001b[0m in \u001b[0;36m_f\u001b[0;34m(*args, **kwargs)\u001b[0m\n\u001b[1;32m     61\u001b[0m                 \u001b[0;32mwith\u001b[0m \u001b[0mnp\u001b[0m\u001b[0;34m.\u001b[0m\u001b[0merrstate\u001b[0m\u001b[0;34m(\u001b[0m\u001b[0minvalid\u001b[0m\u001b[0;34m=\u001b[0m\u001b[0;34m'ignore'\u001b[0m\u001b[0;34m)\u001b[0m\u001b[0;34m:\u001b[0m\u001b[0;34m\u001b[0m\u001b[0m\n\u001b[0;32m---> 62\u001b[0;31m                     \u001b[0;32mreturn\u001b[0m \u001b[0mf\u001b[0m\u001b[0;34m(\u001b[0m\u001b[0;34m*\u001b[0m\u001b[0margs\u001b[0m\u001b[0;34m,\u001b[0m \u001b[0;34m**\u001b[0m\u001b[0mkwargs\u001b[0m\u001b[0;34m)\u001b[0m\u001b[0;34m\u001b[0m\u001b[0m\n\u001b[0m\u001b[1;32m     63\u001b[0m             \u001b[0;32mexcept\u001b[0m \u001b[0mValueError\u001b[0m \u001b[0;32mas\u001b[0m \u001b[0me\u001b[0m\u001b[0;34m:\u001b[0m\u001b[0;34m\u001b[0m\u001b[0m\n",
      "\u001b[0;32m/Library/Frameworks/Python.framework/Versions/3.5/lib/python3.5/site-packages/pandas/core/nanops.py\u001b[0m in \u001b[0;36mf\u001b[0;34m(values, axis, skipna, **kwds)\u001b[0m\n\u001b[1;32m    129\u001b[0m                     \u001b[0;32mif\u001b[0m \u001b[0mis_object_dtype\u001b[0m\u001b[0;34m(\u001b[0m\u001b[0mvalues\u001b[0m\u001b[0;34m)\u001b[0m\u001b[0;34m:\u001b[0m\u001b[0;34m\u001b[0m\u001b[0m\n\u001b[0;32m--> 130\u001b[0;31m                         \u001b[0;32mraise\u001b[0m \u001b[0mTypeError\u001b[0m\u001b[0;34m(\u001b[0m\u001b[0me\u001b[0m\u001b[0;34m)\u001b[0m\u001b[0;34m\u001b[0m\u001b[0m\n\u001b[0m\u001b[1;32m    131\u001b[0m                     \u001b[0;32mraise\u001b[0m\u001b[0;34m\u001b[0m\u001b[0m\n",
      "\u001b[0;31mTypeError\u001b[0m: could not convert string to float: '1d3c4a65457e7ff2b064a6e8675339501d3c4a65457e7ff2b064a6e8675339501d3c4a65457e7ff2b064a6e8675339501d3c4a65457e7ff2b064a6e8675339501d3c4a65457e7ff2b064a6e8675339501d3c4a65457e7ff2b064a6e8675339501d3c4a65457e7ff2b064a6e8675339501d3c4a65457e7ff2b064a6e867533950'",
      "\nDuring handling of the above exception, another exception occurred:\n",
      "\u001b[0;31mKeyboardInterrupt\u001b[0m                         Traceback (most recent call last)",
      "\u001b[0;32m<ipython-input-146-c2cd531d8070>\u001b[0m in \u001b[0;36m<module>\u001b[0;34m()\u001b[0m\n\u001b[1;32m      1\u001b[0m \u001b[0mtrain_drop_c\u001b[0m \u001b[0;34m=\u001b[0m \u001b[0mtrain\u001b[0m\u001b[0;34m.\u001b[0m\u001b[0mdrop\u001b[0m\u001b[0;34m(\u001b[0m\u001b[0;34m'COUPON_ID_hash'\u001b[0m\u001b[0;34m,\u001b[0m \u001b[0maxis\u001b[0m\u001b[0;34m=\u001b[0m\u001b[0;36m1\u001b[0m\u001b[0;34m)\u001b[0m\u001b[0;34m\u001b[0m\u001b[0m\n\u001b[0;32m----> 2\u001b[0;31m \u001b[0muser\u001b[0m \u001b[0;34m=\u001b[0m \u001b[0mtrain_drop_c\u001b[0m\u001b[0;34m.\u001b[0m\u001b[0mgroupby\u001b[0m\u001b[0;34m(\u001b[0m\u001b[0mby\u001b[0m\u001b[0;34m=\u001b[0m\u001b[0;34m'USER_ID_hash'\u001b[0m\u001b[0;34m)\u001b[0m\u001b[0;34m.\u001b[0m\u001b[0mapply\u001b[0m\u001b[0;34m(\u001b[0m\u001b[0mnp\u001b[0m\u001b[0;34m.\u001b[0m\u001b[0mmean\u001b[0m\u001b[0;34m)\u001b[0m\u001b[0;34m\u001b[0m\u001b[0m\n\u001b[0m",
      "\u001b[0;32m/Library/Frameworks/Python.framework/Versions/3.5/lib/python3.5/site-packages/pandas/core/groupby.py\u001b[0m in \u001b[0;36mapply\u001b[0;34m(self, func, *args, **kwargs)\u001b[0m\n\u001b[1;32m    714\u001b[0m         \u001b[0;31m# ignore SettingWithCopy here in case the user mutates\u001b[0m\u001b[0;34m\u001b[0m\u001b[0;34m\u001b[0m\u001b[0m\n\u001b[1;32m    715\u001b[0m         \u001b[0;32mwith\u001b[0m \u001b[0moption_context\u001b[0m\u001b[0;34m(\u001b[0m\u001b[0;34m'mode.chained_assignment'\u001b[0m\u001b[0;34m,\u001b[0m \u001b[0;32mNone\u001b[0m\u001b[0;34m)\u001b[0m\u001b[0;34m:\u001b[0m\u001b[0;34m\u001b[0m\u001b[0m\n\u001b[0;32m--> 716\u001b[0;31m             \u001b[0;32mreturn\u001b[0m \u001b[0mself\u001b[0m\u001b[0;34m.\u001b[0m\u001b[0m_python_apply_general\u001b[0m\u001b[0;34m(\u001b[0m\u001b[0mf\u001b[0m\u001b[0;34m)\u001b[0m\u001b[0;34m\u001b[0m\u001b[0m\n\u001b[0m\u001b[1;32m    717\u001b[0m \u001b[0;34m\u001b[0m\u001b[0m\n\u001b[1;32m    718\u001b[0m     \u001b[0;32mdef\u001b[0m \u001b[0m_python_apply_general\u001b[0m\u001b[0;34m(\u001b[0m\u001b[0mself\u001b[0m\u001b[0;34m,\u001b[0m \u001b[0mf\u001b[0m\u001b[0;34m)\u001b[0m\u001b[0;34m:\u001b[0m\u001b[0;34m\u001b[0m\u001b[0m\n",
      "\u001b[0;32m/Library/Frameworks/Python.framework/Versions/3.5/lib/python3.5/site-packages/pandas/core/groupby.py\u001b[0m in \u001b[0;36m_python_apply_general\u001b[0;34m(self, f)\u001b[0m\n\u001b[1;32m    718\u001b[0m     \u001b[0;32mdef\u001b[0m \u001b[0m_python_apply_general\u001b[0m\u001b[0;34m(\u001b[0m\u001b[0mself\u001b[0m\u001b[0;34m,\u001b[0m \u001b[0mf\u001b[0m\u001b[0;34m)\u001b[0m\u001b[0;34m:\u001b[0m\u001b[0;34m\u001b[0m\u001b[0m\n\u001b[1;32m    719\u001b[0m         keys, values, mutated = self.grouper.apply(f, self._selected_obj,\n\u001b[0;32m--> 720\u001b[0;31m                                                    self.axis)\n\u001b[0m\u001b[1;32m    721\u001b[0m \u001b[0;34m\u001b[0m\u001b[0m\n\u001b[1;32m    722\u001b[0m         return self._wrap_applied_output(\n",
      "\u001b[0;32m/Library/Frameworks/Python.framework/Versions/3.5/lib/python3.5/site-packages/pandas/core/groupby.py\u001b[0m in \u001b[0;36mapply\u001b[0;34m(self, f, data, axis)\u001b[0m\n\u001b[1;32m   1711\u001b[0m                 hasattr(splitter, 'fast_apply') and axis == 0):\n\u001b[1;32m   1712\u001b[0m             \u001b[0;32mtry\u001b[0m\u001b[0;34m:\u001b[0m\u001b[0;34m\u001b[0m\u001b[0m\n\u001b[0;32m-> 1713\u001b[0;31m                 \u001b[0mvalues\u001b[0m\u001b[0;34m,\u001b[0m \u001b[0mmutated\u001b[0m \u001b[0;34m=\u001b[0m \u001b[0msplitter\u001b[0m\u001b[0;34m.\u001b[0m\u001b[0mfast_apply\u001b[0m\u001b[0;34m(\u001b[0m\u001b[0mf\u001b[0m\u001b[0;34m,\u001b[0m \u001b[0mgroup_keys\u001b[0m\u001b[0;34m)\u001b[0m\u001b[0;34m\u001b[0m\u001b[0m\n\u001b[0m\u001b[1;32m   1714\u001b[0m                 \u001b[0;32mreturn\u001b[0m \u001b[0mgroup_keys\u001b[0m\u001b[0;34m,\u001b[0m \u001b[0mvalues\u001b[0m\u001b[0;34m,\u001b[0m \u001b[0mmutated\u001b[0m\u001b[0;34m\u001b[0m\u001b[0m\n\u001b[1;32m   1715\u001b[0m             \u001b[0;32mexcept\u001b[0m \u001b[0;34m(\u001b[0m\u001b[0mlib\u001b[0m\u001b[0;34m.\u001b[0m\u001b[0mInvalidApply\u001b[0m\u001b[0;34m)\u001b[0m\u001b[0;34m:\u001b[0m\u001b[0;34m\u001b[0m\u001b[0m\n",
      "\u001b[0;32m/Library/Frameworks/Python.framework/Versions/3.5/lib/python3.5/site-packages/pandas/core/groupby.py\u001b[0m in \u001b[0;36mfast_apply\u001b[0;34m(self, f, names)\u001b[0m\n\u001b[1;32m   4381\u001b[0m \u001b[0;34m\u001b[0m\u001b[0m\n\u001b[1;32m   4382\u001b[0m         \u001b[0msdata\u001b[0m \u001b[0;34m=\u001b[0m \u001b[0mself\u001b[0m\u001b[0;34m.\u001b[0m\u001b[0m_get_sorted_data\u001b[0m\u001b[0;34m(\u001b[0m\u001b[0;34m)\u001b[0m\u001b[0;34m\u001b[0m\u001b[0m\n\u001b[0;32m-> 4383\u001b[0;31m         \u001b[0mresults\u001b[0m\u001b[0;34m,\u001b[0m \u001b[0mmutated\u001b[0m \u001b[0;34m=\u001b[0m \u001b[0mlib\u001b[0m\u001b[0;34m.\u001b[0m\u001b[0mapply_frame_axis0\u001b[0m\u001b[0;34m(\u001b[0m\u001b[0msdata\u001b[0m\u001b[0;34m,\u001b[0m \u001b[0mf\u001b[0m\u001b[0;34m,\u001b[0m \u001b[0mnames\u001b[0m\u001b[0;34m,\u001b[0m \u001b[0mstarts\u001b[0m\u001b[0;34m,\u001b[0m \u001b[0mends\u001b[0m\u001b[0;34m)\u001b[0m\u001b[0;34m\u001b[0m\u001b[0m\n\u001b[0m\u001b[1;32m   4384\u001b[0m \u001b[0;34m\u001b[0m\u001b[0m\n\u001b[1;32m   4385\u001b[0m         \u001b[0;32mreturn\u001b[0m \u001b[0mresults\u001b[0m\u001b[0;34m,\u001b[0m \u001b[0mmutated\u001b[0m\u001b[0;34m\u001b[0m\u001b[0m\n",
      "\u001b[0;32mpandas/_libs/src/reduce.pyx\u001b[0m in \u001b[0;36mpandas._libs.lib.apply_frame_axis0 (pandas/_libs/lib.c:41912)\u001b[0;34m()\u001b[0m\n",
      "\u001b[0;32m/Library/Frameworks/Python.framework/Versions/3.5/lib/python3.5/site-packages/numpy/core/fromnumeric.py\u001b[0m in \u001b[0;36mmean\u001b[0;34m(a, axis, dtype, out, keepdims)\u001b[0m\n\u001b[1;32m   2952\u001b[0m             \u001b[0;32mpass\u001b[0m\u001b[0;34m\u001b[0m\u001b[0m\n\u001b[1;32m   2953\u001b[0m         \u001b[0;32melse\u001b[0m\u001b[0;34m:\u001b[0m\u001b[0;34m\u001b[0m\u001b[0m\n\u001b[0;32m-> 2954\u001b[0;31m             \u001b[0;32mreturn\u001b[0m \u001b[0mmean\u001b[0m\u001b[0;34m(\u001b[0m\u001b[0maxis\u001b[0m\u001b[0;34m=\u001b[0m\u001b[0maxis\u001b[0m\u001b[0;34m,\u001b[0m \u001b[0mdtype\u001b[0m\u001b[0;34m=\u001b[0m\u001b[0mdtype\u001b[0m\u001b[0;34m,\u001b[0m \u001b[0mout\u001b[0m\u001b[0;34m=\u001b[0m\u001b[0mout\u001b[0m\u001b[0;34m,\u001b[0m \u001b[0;34m**\u001b[0m\u001b[0mkwargs\u001b[0m\u001b[0;34m)\u001b[0m\u001b[0;34m\u001b[0m\u001b[0m\n\u001b[0m\u001b[1;32m   2955\u001b[0m \u001b[0;34m\u001b[0m\u001b[0m\n\u001b[1;32m   2956\u001b[0m     return _methods._mean(a, axis=axis, dtype=dtype,\n",
      "\u001b[0;32m/Library/Frameworks/Python.framework/Versions/3.5/lib/python3.5/site-packages/pandas/core/generic.py\u001b[0m in \u001b[0;36mstat_func\u001b[0;34m(self, axis, skipna, level, numeric_only, **kwargs)\u001b[0m\n\u001b[1;32m   6195\u001b[0m                                       skipna=skipna)\n\u001b[1;32m   6196\u001b[0m         return self._reduce(f, name, axis=axis, skipna=skipna,\n\u001b[0;32m-> 6197\u001b[0;31m                             numeric_only=numeric_only)\n\u001b[0m\u001b[1;32m   6198\u001b[0m \u001b[0;34m\u001b[0m\u001b[0m\n\u001b[1;32m   6199\u001b[0m     \u001b[0;32mreturn\u001b[0m \u001b[0mset_function_name\u001b[0m\u001b[0;34m(\u001b[0m\u001b[0mstat_func\u001b[0m\u001b[0;34m,\u001b[0m \u001b[0mname\u001b[0m\u001b[0;34m,\u001b[0m \u001b[0mcls\u001b[0m\u001b[0;34m)\u001b[0m\u001b[0;34m\u001b[0m\u001b[0m\n",
      "\u001b[0;32m/Library/Frameworks/Python.framework/Versions/3.5/lib/python3.5/site-packages/pandas/core/frame.py\u001b[0m in \u001b[0;36m_reduce\u001b[0;34m(self, op, name, axis, skipna, numeric_only, filter_type, **kwds)\u001b[0m\n\u001b[1;32m   5190\u001b[0m                     \u001b[0mraise_with_traceback\u001b[0m\u001b[0;34m(\u001b[0m\u001b[0me\u001b[0m\u001b[0;34m)\u001b[0m\u001b[0;34m\u001b[0m\u001b[0m\n\u001b[1;32m   5191\u001b[0m                 \u001b[0;32mwith\u001b[0m \u001b[0mnp\u001b[0m\u001b[0;34m.\u001b[0m\u001b[0merrstate\u001b[0m\u001b[0;34m(\u001b[0m\u001b[0mall\u001b[0m\u001b[0;34m=\u001b[0m\u001b[0;34m'ignore'\u001b[0m\u001b[0;34m)\u001b[0m\u001b[0;34m:\u001b[0m\u001b[0;34m\u001b[0m\u001b[0m\n\u001b[0;32m-> 5192\u001b[0;31m                     \u001b[0mresult\u001b[0m \u001b[0;34m=\u001b[0m \u001b[0mf\u001b[0m\u001b[0;34m(\u001b[0m\u001b[0mdata\u001b[0m\u001b[0;34m.\u001b[0m\u001b[0mvalues\u001b[0m\u001b[0;34m)\u001b[0m\u001b[0;34m\u001b[0m\u001b[0m\n\u001b[0m\u001b[1;32m   5193\u001b[0m                 \u001b[0mlabels\u001b[0m \u001b[0;34m=\u001b[0m \u001b[0mdata\u001b[0m\u001b[0;34m.\u001b[0m\u001b[0m_get_agg_axis\u001b[0m\u001b[0;34m(\u001b[0m\u001b[0maxis\u001b[0m\u001b[0;34m)\u001b[0m\u001b[0;34m\u001b[0m\u001b[0m\n\u001b[1;32m   5194\u001b[0m         \u001b[0;32melse\u001b[0m\u001b[0;34m:\u001b[0m\u001b[0;34m\u001b[0m\u001b[0m\n",
      "\u001b[0;32m/Library/Frameworks/Python.framework/Versions/3.5/lib/python3.5/site-packages/pandas/core/generic.py\u001b[0m in \u001b[0;36mvalues\u001b[0;34m(self)\u001b[0m\n\u001b[1;32m   3159\u001b[0m         \u001b[0mwill\u001b[0m \u001b[0mresult\u001b[0m \u001b[0;32min\u001b[0m \u001b[0ma\u001b[0m \u001b[0mflot64\u001b[0m \u001b[0mdtype\u001b[0m\u001b[0;34m.\u001b[0m\u001b[0;34m\u001b[0m\u001b[0m\n\u001b[1;32m   3160\u001b[0m         \"\"\"\n\u001b[0;32m-> 3161\u001b[0;31m         \u001b[0;32mreturn\u001b[0m \u001b[0mself\u001b[0m\u001b[0;34m.\u001b[0m\u001b[0mas_matrix\u001b[0m\u001b[0;34m(\u001b[0m\u001b[0;34m)\u001b[0m\u001b[0;34m\u001b[0m\u001b[0m\n\u001b[0m\u001b[1;32m   3162\u001b[0m \u001b[0;34m\u001b[0m\u001b[0m\n\u001b[1;32m   3163\u001b[0m     \u001b[0;34m@\u001b[0m\u001b[0mproperty\u001b[0m\u001b[0;34m\u001b[0m\u001b[0m\n",
      "\u001b[0;32m/Library/Frameworks/Python.framework/Versions/3.5/lib/python3.5/site-packages/pandas/core/generic.py\u001b[0m in \u001b[0;36mas_matrix\u001b[0;34m(self, columns)\u001b[0m\n\u001b[1;32m   3140\u001b[0m         \u001b[0mself\u001b[0m\u001b[0;34m.\u001b[0m\u001b[0m_consolidate_inplace\u001b[0m\u001b[0;34m(\u001b[0m\u001b[0;34m)\u001b[0m\u001b[0;34m\u001b[0m\u001b[0m\n\u001b[1;32m   3141\u001b[0m         \u001b[0;32mif\u001b[0m \u001b[0mself\u001b[0m\u001b[0;34m.\u001b[0m\u001b[0m_AXIS_REVERSED\u001b[0m\u001b[0;34m:\u001b[0m\u001b[0;34m\u001b[0m\u001b[0m\n\u001b[0;32m-> 3142\u001b[0;31m             \u001b[0;32mreturn\u001b[0m \u001b[0mself\u001b[0m\u001b[0;34m.\u001b[0m\u001b[0m_data\u001b[0m\u001b[0;34m.\u001b[0m\u001b[0mas_matrix\u001b[0m\u001b[0;34m(\u001b[0m\u001b[0mcolumns\u001b[0m\u001b[0;34m)\u001b[0m\u001b[0;34m.\u001b[0m\u001b[0mT\u001b[0m\u001b[0;34m\u001b[0m\u001b[0m\n\u001b[0m\u001b[1;32m   3143\u001b[0m         \u001b[0;32mreturn\u001b[0m \u001b[0mself\u001b[0m\u001b[0;34m.\u001b[0m\u001b[0m_data\u001b[0m\u001b[0;34m.\u001b[0m\u001b[0mas_matrix\u001b[0m\u001b[0;34m(\u001b[0m\u001b[0mcolumns\u001b[0m\u001b[0;34m)\u001b[0m\u001b[0;34m\u001b[0m\u001b[0m\n\u001b[1;32m   3144\u001b[0m \u001b[0;34m\u001b[0m\u001b[0m\n",
      "\u001b[0;32m/Library/Frameworks/Python.framework/Versions/3.5/lib/python3.5/site-packages/pandas/core/internals.py\u001b[0m in \u001b[0;36mas_matrix\u001b[0;34m(self, items)\u001b[0m\n\u001b[1;32m   3448\u001b[0m             \u001b[0;32mreturn\u001b[0m \u001b[0mmgr\u001b[0m\u001b[0;34m.\u001b[0m\u001b[0mblocks\u001b[0m\u001b[0;34m[\u001b[0m\u001b[0;36m0\u001b[0m\u001b[0;34m]\u001b[0m\u001b[0;34m.\u001b[0m\u001b[0mget_values\u001b[0m\u001b[0;34m(\u001b[0m\u001b[0;34m)\u001b[0m\u001b[0;34m\u001b[0m\u001b[0m\n\u001b[1;32m   3449\u001b[0m         \u001b[0;32melse\u001b[0m\u001b[0;34m:\u001b[0m\u001b[0;34m\u001b[0m\u001b[0m\n\u001b[0;32m-> 3450\u001b[0;31m             \u001b[0;32mreturn\u001b[0m \u001b[0mmgr\u001b[0m\u001b[0;34m.\u001b[0m\u001b[0m_interleave\u001b[0m\u001b[0;34m(\u001b[0m\u001b[0;34m)\u001b[0m\u001b[0;34m\u001b[0m\u001b[0m\n\u001b[0m\u001b[1;32m   3451\u001b[0m \u001b[0;34m\u001b[0m\u001b[0m\n\u001b[1;32m   3452\u001b[0m     \u001b[0;32mdef\u001b[0m \u001b[0m_interleave\u001b[0m\u001b[0;34m(\u001b[0m\u001b[0mself\u001b[0m\u001b[0;34m)\u001b[0m\u001b[0;34m:\u001b[0m\u001b[0;34m\u001b[0m\u001b[0m\n",
      "\u001b[0;32m/Library/Frameworks/Python.framework/Versions/3.5/lib/python3.5/site-packages/pandas/core/internals.py\u001b[0m in \u001b[0;36m_interleave\u001b[0;34m(self)\u001b[0m\n\u001b[1;32m   3455\u001b[0m         \u001b[0mItems\u001b[0m \u001b[0mmust\u001b[0m \u001b[0mbe\u001b[0m \u001b[0mcontained\u001b[0m \u001b[0;32min\u001b[0m \u001b[0mthe\u001b[0m \u001b[0mblocks\u001b[0m\u001b[0;34m\u001b[0m\u001b[0m\n\u001b[1;32m   3456\u001b[0m         \"\"\"\n\u001b[0;32m-> 3457\u001b[0;31m         \u001b[0mdtype\u001b[0m \u001b[0;34m=\u001b[0m \u001b[0m_interleaved_dtype\u001b[0m\u001b[0;34m(\u001b[0m\u001b[0mself\u001b[0m\u001b[0;34m.\u001b[0m\u001b[0mblocks\u001b[0m\u001b[0;34m)\u001b[0m\u001b[0;34m\u001b[0m\u001b[0m\n\u001b[0m\u001b[1;32m   3458\u001b[0m \u001b[0;34m\u001b[0m\u001b[0m\n\u001b[1;32m   3459\u001b[0m         \u001b[0mresult\u001b[0m \u001b[0;34m=\u001b[0m \u001b[0mnp\u001b[0m\u001b[0;34m.\u001b[0m\u001b[0mempty\u001b[0m\u001b[0;34m(\u001b[0m\u001b[0mself\u001b[0m\u001b[0;34m.\u001b[0m\u001b[0mshape\u001b[0m\u001b[0;34m,\u001b[0m \u001b[0mdtype\u001b[0m\u001b[0;34m=\u001b[0m\u001b[0mdtype\u001b[0m\u001b[0;34m)\u001b[0m\u001b[0;34m\u001b[0m\u001b[0m\n",
      "\u001b[0;32m/Library/Frameworks/Python.framework/Versions/3.5/lib/python3.5/site-packages/pandas/core/internals.py\u001b[0m in \u001b[0;36m_interleaved_dtype\u001b[0;34m(blocks)\u001b[0m\n\u001b[1;32m   4502\u001b[0m         \u001b[0;32mreturn\u001b[0m \u001b[0;32mNone\u001b[0m\u001b[0;34m\u001b[0m\u001b[0m\n\u001b[1;32m   4503\u001b[0m \u001b[0;34m\u001b[0m\u001b[0m\n\u001b[0;32m-> 4504\u001b[0;31m     \u001b[0mdtype\u001b[0m \u001b[0;34m=\u001b[0m \u001b[0mfind_common_type\u001b[0m\u001b[0;34m(\u001b[0m\u001b[0;34m[\u001b[0m\u001b[0mb\u001b[0m\u001b[0;34m.\u001b[0m\u001b[0mdtype\u001b[0m \u001b[0;32mfor\u001b[0m \u001b[0mb\u001b[0m \u001b[0;32min\u001b[0m \u001b[0mblocks\u001b[0m\u001b[0;34m]\u001b[0m\u001b[0;34m)\u001b[0m\u001b[0;34m\u001b[0m\u001b[0m\n\u001b[0m\u001b[1;32m   4505\u001b[0m \u001b[0;34m\u001b[0m\u001b[0m\n\u001b[1;32m   4506\u001b[0m     \u001b[0;31m# only numpy compat\u001b[0m\u001b[0;34m\u001b[0m\u001b[0;34m\u001b[0m\u001b[0m\n",
      "\u001b[0;32m/Library/Frameworks/Python.framework/Versions/3.5/lib/python3.5/site-packages/pandas/core/dtypes/cast.py\u001b[0m in \u001b[0;36mfind_common_type\u001b[0;34m(types)\u001b[0m\n\u001b[1;32m   1026\u001b[0m             \u001b[0;32mreturn\u001b[0m \u001b[0mnp\u001b[0m\u001b[0;34m.\u001b[0m\u001b[0mobject\u001b[0m\u001b[0;34m\u001b[0m\u001b[0m\n\u001b[1;32m   1027\u001b[0m \u001b[0;34m\u001b[0m\u001b[0m\n\u001b[0;32m-> 1028\u001b[0;31m     \u001b[0;32mreturn\u001b[0m \u001b[0mnp\u001b[0m\u001b[0;34m.\u001b[0m\u001b[0mfind_common_type\u001b[0m\u001b[0;34m(\u001b[0m\u001b[0mtypes\u001b[0m\u001b[0;34m,\u001b[0m \u001b[0;34m[\u001b[0m\u001b[0;34m]\u001b[0m\u001b[0;34m)\u001b[0m\u001b[0;34m\u001b[0m\u001b[0m\n\u001b[0m",
      "\u001b[0;32m/Library/Frameworks/Python.framework/Versions/3.5/lib/python3.5/site-packages/numpy/core/numerictypes.py\u001b[0m in \u001b[0;36mfind_common_type\u001b[0;34m(array_types, scalar_types)\u001b[0m\n\u001b[1;32m   1014\u001b[0m     \u001b[0mscalar_types\u001b[0m \u001b[0;34m=\u001b[0m \u001b[0;34m[\u001b[0m\u001b[0mdtype\u001b[0m\u001b[0;34m(\u001b[0m\u001b[0mx\u001b[0m\u001b[0;34m)\u001b[0m \u001b[0;32mfor\u001b[0m \u001b[0mx\u001b[0m \u001b[0;32min\u001b[0m \u001b[0mscalar_types\u001b[0m\u001b[0;34m]\u001b[0m\u001b[0;34m\u001b[0m\u001b[0m\n\u001b[1;32m   1015\u001b[0m \u001b[0;34m\u001b[0m\u001b[0m\n\u001b[0;32m-> 1016\u001b[0;31m     \u001b[0mmaxa\u001b[0m \u001b[0;34m=\u001b[0m \u001b[0m_can_coerce_all\u001b[0m\u001b[0;34m(\u001b[0m\u001b[0marray_types\u001b[0m\u001b[0;34m)\u001b[0m\u001b[0;34m\u001b[0m\u001b[0m\n\u001b[0m\u001b[1;32m   1017\u001b[0m     \u001b[0mmaxsc\u001b[0m \u001b[0;34m=\u001b[0m \u001b[0m_can_coerce_all\u001b[0m\u001b[0;34m(\u001b[0m\u001b[0mscalar_types\u001b[0m\u001b[0;34m)\u001b[0m\u001b[0;34m\u001b[0m\u001b[0m\n\u001b[1;32m   1018\u001b[0m \u001b[0;34m\u001b[0m\u001b[0m\n",
      "\u001b[0;32m/Library/Frameworks/Python.framework/Versions/3.5/lib/python3.5/site-packages/numpy/core/numerictypes.py\u001b[0m in \u001b[0;36m_can_coerce_all\u001b[0;34m(dtypelist, start)\u001b[0m\n\u001b[1;32m    946\u001b[0m     \u001b[0;32mwhile\u001b[0m \u001b[0mthisind\u001b[0m \u001b[0;34m<\u001b[0m \u001b[0m__len_test_types\u001b[0m\u001b[0;34m:\u001b[0m\u001b[0;34m\u001b[0m\u001b[0m\n\u001b[1;32m    947\u001b[0m         \u001b[0mnewdtype\u001b[0m \u001b[0;34m=\u001b[0m \u001b[0mdtype\u001b[0m\u001b[0;34m(\u001b[0m\u001b[0m__test_types\u001b[0m\u001b[0;34m[\u001b[0m\u001b[0mthisind\u001b[0m\u001b[0;34m]\u001b[0m\u001b[0;34m)\u001b[0m\u001b[0;34m\u001b[0m\u001b[0m\n\u001b[0;32m--> 948\u001b[0;31m         \u001b[0mnumcoerce\u001b[0m \u001b[0;34m=\u001b[0m \u001b[0mlen\u001b[0m\u001b[0;34m(\u001b[0m\u001b[0;34m[\u001b[0m\u001b[0mx\u001b[0m \u001b[0;32mfor\u001b[0m \u001b[0mx\u001b[0m \u001b[0;32min\u001b[0m \u001b[0mdtypelist\u001b[0m \u001b[0;32mif\u001b[0m \u001b[0mnewdtype\u001b[0m \u001b[0;34m>=\u001b[0m \u001b[0mx\u001b[0m\u001b[0;34m]\u001b[0m\u001b[0;34m)\u001b[0m\u001b[0;34m\u001b[0m\u001b[0m\n\u001b[0m\u001b[1;32m    949\u001b[0m         \u001b[0;32mif\u001b[0m \u001b[0mnumcoerce\u001b[0m \u001b[0;34m==\u001b[0m \u001b[0mN\u001b[0m\u001b[0;34m:\u001b[0m\u001b[0;34m\u001b[0m\u001b[0m\n\u001b[1;32m    950\u001b[0m             \u001b[0;32mreturn\u001b[0m \u001b[0mnewdtype\u001b[0m\u001b[0;34m\u001b[0m\u001b[0m\n",
      "\u001b[0;31mKeyboardInterrupt\u001b[0m: "
     ]
    }
   ],
   "source": [
    "train_drop_c = train.drop('COUPON_ID_hash', axis=1)\n",
    "user = train_drop_c.groupby(by='USER_ID_hash').apply(np.mean)"
   ]
  },
  {
   "cell_type": "code",
   "execution_count": 149,
   "metadata": {
    "scrolled": true
   },
   "outputs": [],
   "source": [
    "del_ls = ['COUPON_ID_hash','SEX_ID', 'AGE']\n",
    "train_drop_c = train.drop(del_ls, axis=1)"
   ]
  },
  {
   "cell_type": "code",
   "execution_count": 166,
   "metadata": {},
   "outputs": [
    {
     "data": {
      "text/plain": [
       "Index(['PRICE_RATE', 'DISPPERIOD', 'VALIDPERIOD', 'zprice', 'Case_BEAUTY',\n",
       "       'Case_CLASS', 'Case_DELIVERY', 'Case_EVENT', 'Case_FOOD', 'Case_GIFT',\n",
       "       'Case_HAIR', 'Case_HEALTH', 'Case_HOTEL', 'Case_LEISURE', 'Case_LESSON',\n",
       "       'Case_NAIL', 'Case_OTHER', 'Case_RELAXATION', 'Case_SPA', 'Case_WEB'],\n",
       "      dtype='object')"
      ]
     },
     "execution_count": 166,
     "metadata": {},
     "output_type": "execute_result"
    }
   ],
   "source": [
    "user.columns"
   ]
  },
  {
   "cell_type": "code",
   "execution_count": 161,
   "metadata": {},
   "outputs": [],
   "source": [
    "user.drop(['SEX_ID', 'AGE'],1, inplace=True)"
   ]
  },
  {
   "cell_type": "code",
   "execution_count": 164,
   "metadata": {
    "scrolled": true
   },
   "outputs": [
    {
     "data": {
      "text/plain": [
       "Index(['PRICE_RATE', 'DISPPERIOD', 'VALIDPERIOD', 'COUPON_ID_hash', 'zprice',\n",
       "       'Case_CLASS', 'Case_DELIVERY', 'Case_FOOD', 'Case_GIFT', 'Case_HAIR',\n",
       "       'Case_HEALTH', 'Case_HOTEL', 'Case_LEISURE', 'Case_NAIL', 'Case_OTHER',\n",
       "       'Case_RELAXATION', 'Case_SPA', 'Case_WEB', 'Case_BEAUTY', 'Case_EVENT',\n",
       "       'Case_LESSON'],\n",
       "      dtype='object')"
      ]
     },
     "execution_count": 164,
     "metadata": {},
     "output_type": "execute_result"
    }
   ],
   "source": [
    "coupon_list_test.columns"
   ]
  },
  {
   "cell_type": "code",
   "execution_count": 156,
   "metadata": {},
   "outputs": [],
   "source": [
    "coupon_list_test = pd.get_dummies(coupon_list_test, columns = ls_dummy)\n",
    "coupon_list_test.drop(labels = ['A'], axis=1, inplace=True)"
   ]
  },
  {
   "cell_type": "code",
   "execution_count": 159,
   "metadata": {},
   "outputs": [],
   "source": [
    "coupon_list_test['Case_BEAUTY'] = 0\n",
    "coupon_list_test['Case_EVENT'] = 0 \n",
    "coupon_list_test['Case_LESSON'] = 0 "
   ]
  },
  {
   "cell_type": "code",
   "execution_count": 163,
   "metadata": {
    "scrolled": true
   },
   "outputs": [
    {
     "name": "stdout",
     "output_type": "stream",
     "text": [
      "only_train: []  \n",
      "\n",
      "only_test: ['COUPON_ID_hash']\n"
     ]
    }
   ],
   "source": [
    "compare_not_test = [i for i in user.columns if i not in coupon_list_test.columns]\n",
    "compare_not_train = [i for i in coupon_list_test.columns if i not in user.columns]\n",
    "print('only_train: {}  \\n'.format(compare_not_test))\n",
    "print('only_test: {}'.format(compare_not_train))"
   ]
  },
  {
   "cell_type": "code",
   "execution_count": 130,
   "metadata": {},
   "outputs": [],
   "source": [
    "from sklearn.preprocessing import scale, robust_scale, minmax_scale, maxabs_scale\n"
   ]
  },
  {
   "cell_type": "code",
   "execution_count": 131,
   "metadata": {},
   "outputs": [],
   "source": [
    "from sklearn.preprocessing import *\n"
   ]
  },
  {
   "cell_type": "code",
   "execution_count": null,
   "metadata": {},
   "outputs": [],
   "source": [
    "imp = Imputer(missing_values='NaN', strategy='most_frequent', axis=0)"
   ]
  },
  {
   "cell_type": "code",
   "execution_count": 167,
   "metadata": {},
   "outputs": [
    {
     "data": {
      "text/plain": [
       "Index(['PRICE_RATE', 'DISPPERIOD', 'VALIDPERIOD', 'zprice', 'Case_CLASS',\n",
       "       'Case_DELIVERY', 'Case_FOOD', 'Case_GIFT', 'Case_HAIR', 'Case_HEALTH',\n",
       "       'Case_HOTEL', 'Case_LEISURE', 'Case_NAIL', 'Case_OTHER',\n",
       "       'Case_RELAXATION', 'Case_SPA', 'Case_WEB', 'Case_BEAUTY', 'Case_EVENT',\n",
       "       'Case_LESSON'],\n",
       "      dtype='object')"
      ]
     },
     "execution_count": 167,
     "metadata": {},
     "output_type": "execute_result"
    }
   ],
   "source": [
    "test_features = coupon_list_test\n",
    "test_features = test_features.drop('COUPON_ID_hash', axis=1)\n",
    "test_features.columns"
   ]
  },
  {
   "cell_type": "code",
   "execution_count": 168,
   "metadata": {
    "scrolled": false
   },
   "outputs": [
    {
     "data": {
      "text/plain": [
       "((22782, 20), (310, 20))"
      ]
     },
     "execution_count": 168,
     "metadata": {},
     "output_type": "execute_result"
    }
   ],
   "source": [
    "user.shape, test_features.shape"
   ]
  },
  {
   "cell_type": "code",
   "execution_count": 169,
   "metadata": {},
   "outputs": [
    {
     "data": {
      "text/plain": [
       "(PRICE_RATE         0\n",
       " DISPPERIOD         0\n",
       " VALIDPERIOD        0\n",
       " zprice             0\n",
       " Case_BEAUTY        0\n",
       " Case_CLASS         0\n",
       " Case_DELIVERY      0\n",
       " Case_EVENT         0\n",
       " Case_FOOD          0\n",
       " Case_GIFT          0\n",
       " Case_HAIR          0\n",
       " Case_HEALTH        0\n",
       " Case_HOTEL         0\n",
       " Case_LEISURE       0\n",
       " Case_LESSON        0\n",
       " Case_NAIL          0\n",
       " Case_OTHER         0\n",
       " Case_RELAXATION    0\n",
       " Case_SPA           0\n",
       " Case_WEB           0\n",
       " dtype: int64, PRICE_RATE         0\n",
       " DISPPERIOD         0\n",
       " VALIDPERIOD        0\n",
       " zprice             0\n",
       " Case_CLASS         0\n",
       " Case_DELIVERY      0\n",
       " Case_FOOD          0\n",
       " Case_GIFT          0\n",
       " Case_HAIR          0\n",
       " Case_HEALTH        0\n",
       " Case_HOTEL         0\n",
       " Case_LEISURE       0\n",
       " Case_NAIL          0\n",
       " Case_OTHER         0\n",
       " Case_RELAXATION    0\n",
       " Case_SPA           0\n",
       " Case_WEB           0\n",
       " Case_BEAUTY        0\n",
       " Case_EVENT         0\n",
       " Case_LESSON        0\n",
       " dtype: int64)"
      ]
     },
     "execution_count": 169,
     "metadata": {},
     "output_type": "execute_result"
    }
   ],
   "source": [
    "user.isnull().sum() , \\\n",
    "test_features.isnull().sum()"
   ]
  },
  {
   "cell_type": "code",
   "execution_count": null,
   "metadata": {},
   "outputs": [],
   "source": [
    "# vector_1.drop(labels = ['distance'], axis=1, inplace=True)\n",
    "# vector_1.drop(labels = ['VALIDPERIOD'], axis=1, inplace=True)\n",
    "# vector_2.drop(labels = ['distance'], axis=1, inplace=True)\n",
    "# vector_2.drop(labels = ['VALIDPERIOD'], axis=1, inplace=True)\n",
    "vector_1.drop(labels=['Case_EVENT', 'Case_BEAUTY', 'Case_LESSON'],axis=1, inplace=True )"
   ]
  },
  {
   "cell_type": "code",
   "execution_count": 170,
   "metadata": {},
   "outputs": [],
   "source": [
    "vector_1 = user.copy()\n",
    "vector_2 = test_features.copy()\n",
    "\n",
    "vector_1 = scale(vector_1)\n",
    "vector_1 = pd.DataFrame(data = vector_1, index = user.index, columns = user.columns )\n",
    "\n",
    "vector_2 = scale(vector_2)\n",
    "vector_2 = pd.DataFrame(data = vector_2, index = test_features.index, columns = test_features.columns )"
   ]
  },
  {
   "cell_type": "code",
   "execution_count": 136,
   "metadata": {},
   "outputs": [
    {
     "name": "stdout",
     "output_type": "stream",
     "text": [
      "2.23606797749979\n",
      "0.9999999999999998\n",
      "1.5153662265423102\n"
     ]
    }
   ],
   "source": [
    "import math\n",
    "\n",
    "def Cosine(vec1, vec2) :\n",
    "    result = InnerProduct(vec1,vec2) / (VectorSize(vec1) * VectorSize(vec2))\n",
    "    return result\n",
    "\n",
    "def VectorSize(vec) :\n",
    "    return math.sqrt(sum(math.pow(v,2) for v in vec))\n",
    "\n",
    "def InnerProduct(vec1, vec2) :\n",
    "    return sum(v1*v2 for v1,v2 in zip(vec1,vec2))\n",
    "\n",
    "def Euclidean(vec1, vec2) :\n",
    "    return math.sqrt(sum(math.pow((v1-v2),2) for v1,v2 in zip(vec1, vec2)))\n",
    "\n",
    "def Theta(vec1, vec2) :\n",
    "    return math.acos(Cosine(vec1,vec2)) + 10\n",
    "\n",
    "def Triangle(vec1, vec2) :\n",
    "    theta = math.radians(Theta(vec1,vec2))\n",
    "    return (VectorSize(vec1) * VectorSize(vec2) * math.sin(theta)) / 2\n",
    "\n",
    "def Magnitude_Difference(vec1, vec2) :\n",
    "    return abs(VectorSize(vec1) - VectorSize(vec2))\n",
    "\n",
    "def Sector(vec1, vec2) :\n",
    "    ED = Euclidean(vec1, vec2)\n",
    "    MD = Magnitude_Difference(vec1, vec2)\n",
    "    theta = Theta(vec1, vec2)\n",
    "    return math.pi * math.pow((ED+MD),2) * theta/360\n",
    "\n",
    "def TS_SS(vec1, vec2) :\n",
    "    return Triangle(vec1, vec2) * Sector(vec1, vec2)\n",
    "\n",
    "vec1 = [1,2]\n",
    "vec2 = [2,4]\n",
    "\n",
    "print(Euclidean(vec1,vec2))\n",
    "print(Cosine(vec1,vec2))\n",
    "print(TS_SS(vec1,vec2))"
   ]
  },
  {
   "cell_type": "code",
   "execution_count": 173,
   "metadata": {},
   "outputs": [
    {
     "data": {
      "text/plain": [
       "(310, 20)"
      ]
     },
     "execution_count": 173,
     "metadata": {},
     "output_type": "execute_result"
    }
   ],
   "source": [
    "vector_2.shape"
   ]
  },
  {
   "cell_type": "code",
   "execution_count": 174,
   "metadata": {},
   "outputs": [],
   "source": [
    "from scipy import spatial\n",
    "def cosine_similarity(vector_1, vector_2):\n",
    "\n",
    "    return 1 - spatial.distance.cosine(vector_1, vector_2)"
   ]
  },
  {
   "cell_type": "code",
   "execution_count": 171,
   "metadata": {},
   "outputs": [
    {
     "name": "stdout",
     "output_type": "stream",
     "text": [
      "Requirement already satisfied: tqdm in /Library/Frameworks/Python.framework/Versions/3.5/lib/python3.5/site-packages\r\n"
     ]
    }
   ],
   "source": [
    "!pip install tqdm"
   ]
  },
  {
   "cell_type": "code",
   "execution_count": 180,
   "metadata": {},
   "outputs": [],
   "source": [
    "from tqdm import tqdm"
   ]
  },
  {
   "cell_type": "code",
   "execution_count": 181,
   "metadata": {},
   "outputs": [
    {
     "name": "stderr",
     "output_type": "stream",
     "text": [
      "100%|██████████| 22782/22782 [41:42<00:00,  9.11it/s]\n"
     ]
    }
   ],
   "source": [
    "matrix = []\n",
    "for idx1 in tqdm(range(len(user))):\n",
    "    \n",
    "    row = []\n",
    "    for idx2 in range(len(test_features)):\n",
    "        row.append(cosine_similarity(vector_1.iloc[idx1], vector_2.iloc[idx2]))\n",
    "    matrix.append(row)"
   ]
  },
  {
   "cell_type": "code",
   "execution_count": null,
   "metadata": {},
   "outputs": [],
   "source": [
    "continuous = list(set(vector_1) - set(vector_2))\n",
    "continuous"
   ]
  },
  {
   "cell_type": "code",
   "execution_count": null,
   "metadata": {},
   "outputs": [],
   "source": [
    "coupons_ids = test['COUPON_ID_hash']\n",
    "result_index = vector_1.index\n",
    "result_columns = [coupons_ids[i] for i in range(0, 310)]\n",
    "result_df = pd.DataFrame(index= result_index, columns=result_columns,\n",
    "                      data=matrix)"
   ]
  },
  {
   "cell_type": "code",
   "execution_count": null,
   "metadata": {},
   "outputs": [],
   "source": [
    "submission = pd.DataFrame(columns=['USER_ID_hash','PURCHASED_COUPONS'])\n",
    "submission['USER_ID_hash'] = result_df.index\n",
    "submission['PURCHASED_COUPONS'] = result_df.T.apply(lambda x: \" \".join(x.sort_values(ascending=False)[:21].index)).values"
   ]
  },
  {
   "cell_type": "code",
   "execution_count": null,
   "metadata": {},
   "outputs": [],
   "source": [
    "submission.to_csv('submission/cosine.csv',index = False,header=True)\n"
   ]
  }
 ],
 "metadata": {
  "kernelspec": {
   "display_name": "Python 3",
   "language": "python",
   "name": "python3"
  },
  "language_info": {
   "codemirror_mode": {
    "name": "ipython",
    "version": 3
   },
   "file_extension": ".py",
   "mimetype": "text/x-python",
   "name": "python",
   "nbconvert_exporter": "python",
   "pygments_lexer": "ipython3",
   "version": "3.5.2"
  }
 },
 "nbformat": 4,
 "nbformat_minor": 2
}
